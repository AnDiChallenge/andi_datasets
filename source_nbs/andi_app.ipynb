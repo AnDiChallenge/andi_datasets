{
 "cells": [
  {
   "cell_type": "markdown",
   "id": "45a3576c-eef0-45a7-a78a-f6f309ba24ab",
   "metadata": {},
   "source": [
    "The old interactive tool has been disabled due to some external issues. We have temporaly set it again [here](https://andi-app.onrender.com/andi_app). However, the app is currently very slow. We are working to solve this issue."
   ]
  }
 ],
 "metadata": {
  "kernelspec": {
   "display_name": "Python 3 (ipykernel)",
   "language": "python",
   "name": "python3"
  }
 },
 "nbformat": 4,
 "nbformat_minor": 5
}
