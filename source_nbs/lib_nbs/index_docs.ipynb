{
 "cells": [
  {
   "cell_type": "markdown",
   "id": "c11a4dd3-5db7-4d03-b99b-475573ed4ef6",
   "metadata": {},
   "source": [
    "# Documentation "
   ]
  },
  {
   "cell_type": "markdown",
   "id": "1dd63876-d9a3-44d8-9f65-f10310d08703",
   "metadata": {},
   "source": [
    "`andi_datasets` is a modular library that allows you to create diffusion trajectories in a variety of experimentally revelant conditions. It is organized in four main blocks:\n",
    "\n",
    "- [Theory datasets](lib_nbs/datasets_theory.html): motivated by our first AnDi Challenge, we gather here different theoretical anomalous diffusion models, as e.g. fractional Brownian motion or continuous time random walk.\n",
    "\n",
    "- [Phenomenological datasets](lib_nbs/datasets_phenom.html): to closer simulate experimental trajectories, we consider also diffusion when interactions between particles and the environmnet are present. For instance, the appearance of comparments, trapping, dimerization but also changes in diffusion properties.\n",
    "\n",
    "- [AnDi Challenge datasets](lib_nbs/datasets_phenom.html): this blocks manages the generation of datasets for the various AnDi Challenges. It allows to replicate the same datasets that will be given in the different editions of the challenge.\n",
    "\n",
    "- [Trajectory analysis](lib_nbs/analysis.html): here we offer different statistical approaches to anomalous diffusion characterization. This will be a growing set of tools that will help the user to correctly characterize their trajectories with minimal coding.\n",
    "\n",
    "Here is a schematic representation of the library contents:\n",
    "\n",
    "<p align=\"center\">\n",
    "<img src=\"../figures/scheme_v1.svg\" alt=\"drawing\" width=\"700\"/>\n",
    "</p>\n",
    "\n",
    "A smooth introduction to each component of this library is done in the [Tutorials sections](tutorials/"
   ]
  },
  {
   "cell_type": "code",
   "execution_count": null,
   "id": "a3c9415b-cc72-4c9a-a838-8e9dd4e2750e",
   "metadata": {},
   "outputs": [],
   "source": []
  }
 ],
 "metadata": {
  "kernelspec": {
   "display_name": "Python 3 (ipykernel)",
   "language": "python",
   "name": "python3"
  }
 },
 "nbformat": 4,
 "nbformat_minor": 5
}
