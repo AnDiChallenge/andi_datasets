{
 "cells": [
  {
   "cell_type": "markdown",
   "id": "c6d0c50c-e725-4438-8871-268008c11eb7",
   "metadata": {},
   "source": [
    "# Help functions"
   ]
  },
  {
   "cell_type": "code",
   "execution_count": null,
   "id": "ultimate-bangkok",
   "metadata": {},
   "outputs": [],
   "source": [
    "#| default_exp utils_challenge"
   ]
  },
  {
   "cell_type": "code",
   "execution_count": null,
   "id": "distributed-arkansas",
   "metadata": {},
   "outputs": [],
   "source": [
    "#| export\n",
    "import numpy as np\n",
    "from scipy.optimize import linear_sum_assignment\n",
    "import pandas\n",
    "from tqdm.auto import tqdm\n",
    "import warnings"
   ]
  },
  {
   "cell_type": "code",
   "execution_count": null,
   "id": "artistic-object",
   "metadata": {},
   "outputs": [],
   "source": [
    "#| hide\n",
    "import matplotlib.pyplot as plt\n",
    "from nbdev import show_doc\n",
    "%load_ext autoreload\n",
    "%autoreload 2"
   ]
  },
  {
   "cell_type": "markdown",
   "id": "79d8058b-60ff-45d3-bc1e-46f289cf4dbd",
   "metadata": {},
   "source": [
    "# Managing data"
   ]
  },
  {
   "cell_type": "markdown",
   "id": "civilian-narrow",
   "metadata": {},
   "source": [
    "## Smoothing labels\n",
    "\n",
    "These functions are used to smooth a given vector of labels of heterogeneous processes by means of majority filter. It allows to define a minimum segment length."
   ]
  },
  {
   "cell_type": "code",
   "execution_count": null,
   "id": "private-toner",
   "metadata": {},
   "outputs": [],
   "source": [
    "#| export\n",
    "def majority_filter(seq, width):\n",
    "    '''\n",
    "    Given a vector, applies a majority filter of given width.\n",
    "    \n",
    "    Parameters\n",
    "    ----------\n",
    "    seq : list\n",
    "        Vector to filter.\n",
    "    width : int\n",
    "        Size of the window in which the filter is applied.\n",
    "    \n",
    "    Returns\n",
    "    -------\n",
    "    list\n",
    "        Filtered vector\n",
    "    '''\n",
    "    offset = width // 2\n",
    "    seq = [0] * offset + seq\n",
    "    return [max(set(a), key=a.count) \n",
    "        for a in (seq[i:i+width] for i in range(len(seq) - offset))]\n",
    "\n",
    "def label_filter(label, \n",
    "                 window_size = 5, \n",
    "                 min_seg = 3):\n",
    "    '''\n",
    "    Given a vector of changing labels, applies a majority filter such that the minimum segment of a particular label is\n",
    "    bigger than the minimum set segment.\n",
    "    \n",
    "    Parameters\n",
    "    ----------\n",
    "    label : list\n",
    "        label vector to filter.\n",
    "    window_size : int\n",
    "        Size of the window in which the majority filter is applied.\n",
    "    min_seg : int\n",
    "        Minimum segment size after filtering.\n",
    "    \n",
    "    Returns\n",
    "    -------\n",
    "    np.array\n",
    "        Filtered label vector\n",
    "    '''\n",
    "    \n",
    "    if np.min(label) < 0:\n",
    "        raise ValueError('This function only works with positive labels')\n",
    "        \n",
    "    # if there are no changes:\n",
    "    if np.sum(label[1:] != label[:-1]) == 0:\n",
    "        return label\n",
    "    \n",
    "    # define dummy vector with all zeros and ones\n",
    "    values, dummy = np.unique(label, return_inverse = True)\n",
    "    \n",
    "    # check if there are segment smaller than minimal segment (min_seg)\n",
    "    cp = np.argwhere(dummy[1:] != dummy[:-1])\n",
    "    cp = np.append(0, cp)\n",
    "    current_min = (cp[1:]-cp[:-1]).flatten().min()\n",
    "\n",
    "    while (current_min < min_seg):\n",
    "\n",
    "        filt = majority_filter(dummy.tolist(), width = window_size)\n",
    "        filt = np.array(filt)\n",
    "        \n",
    "        # check if there are segment smaller than minimal segment (min_seg)\n",
    "        cp = np.argwhere(filt[1:] != filt[:-1])\n",
    "        \n",
    "        # If all changepoints were eliminated\n",
    "        if cp.size == 0:\n",
    "            break\n",
    "            \n",
    "        cp = np.append(0, cp)\n",
    "        current_min = (cp[1:]-cp[:-1]).flatten().min()\n",
    "        \n",
    "        if (dummy == filt).all():  \n",
    "            # If all failed and still have segments smaller than min_seg\n",
    "            seg_lengths = (cp[1:]-cp[:-1]).flatten().astype(int)\n",
    "            seg_smaller = np.argwhere(seg_lengths < min_seg).flatten()\n",
    "            \n",
    "            # We go over each segment and we asign the values 'by hand'\n",
    "            for idxsegs in seg_smaller:     \n",
    "                if seg_lengths[idxsegs] == 1:\n",
    "                    filt[(cp[idxsegs]+1)] = filt[cp[idxsegs]]     \n",
    "                elif seg_lengths[idxsegs] == 2:      \n",
    "                    filt[(cp[idxsegs]+1)] = filt[cp[idxsegs]]     \n",
    "                    filt[(cp[idxsegs]+2)] = filt[cp[idxsegs]+3]                     \n",
    "            \n",
    "            dummy = filt\n",
    "            break         \n",
    "        dummy = filt\n",
    "        \n",
    "        \n",
    "    # Check boundaries\n",
    "    if dummy[0] != dummy[1] or dummy[1] != dummy[2]:\n",
    "        dummy[:2] = dummy[2]\n",
    "    if dummy[-2] != dummy[-3] or dummy[-1] != dummy[-2]:\n",
    "        dummy[-3:] = dummy[-3]\n",
    "        \n",
    "    # reset to label values\n",
    "    dummy_ret = np.zeros_like(dummy).astype(float)\n",
    "    \n",
    "    for idx, v in enumerate(values):\n",
    "        dummy_ret[dummy == idx] = v\n",
    "\n",
    "    return dummy_ret"
   ]
  },
  {
   "cell_type": "code",
   "execution_count": null,
   "id": "ee8b1fc4-74af-4841-9599-e20db2f085c1",
   "metadata": {},
   "outputs": [],
   "source": [
    "#| hide\n",
    "from andi_datasets.models_phenom import models_phenom"
   ]
  },
  {
   "cell_type": "code",
   "execution_count": null,
   "id": "1904bd6c-c97f-4028-b21d-53f4135b670f",
   "metadata": {},
   "outputs": [
    {
     "data": {
      "image/png": "[encoded data removed]",
      "text/plain": [
       "<Figure size 900x500 with 9 Axes>"
      ]
     },
     "metadata": {},
     "output_type": "display_data"
    }
   ],
   "source": [
    "fig, axs = plt.subplots(3, 3, figsize = (9, 5), tight_layout = True)\n",
    "\n",
    "for ax in axs.flatten():    \n",
    "    traj, labs = models_phenom()._multiple_state_traj(alphas = [0.7, 0.8], Ds = [0.01, 0.1])\n",
    "    filtered_d = label_filter(labs[:,1])\n",
    "    \n",
    "    ax.plot(labs[:, 1], '.', label = 'True label')\n",
    "    ax.plot(filtered_d, label = r'Filtered label')\n",
    "    \n",
    "axs[0,0].set_title(f'Majority filter with window size = {window_size}')\n",
    "axs[0,0].legend()\n",
    "plt.setp(axs, xticklabels = [], yticklabels = []);"
   ]
  },
  {
   "cell_type": "markdown",
   "id": "senior-hurricane",
   "metadata": {},
   "source": [
    "### New population percentages after filtering\n",
    "Note that smoothing the signal will have an effect on the actual proportion of time a particle spends in each state. This will be taken into account in the challenge. Here we showcase this effect:"
   ]
  },
  {
   "cell_type": "code",
   "execution_count": null,
   "id": "552c586a-64a1-48ca-9026-7b85ae84d4ff",
   "metadata": {},
   "outputs": [],
   "source": [
    "#| hide\n",
    "from andi_datasets.models_phenom import models_phenom\n",
    "from tqdm.notebook import tqdm"
   ]
  },
  {
   "cell_type": "code",
   "execution_count": null,
   "id": "7bee7c18-d04f-4950-ab5a-af0135bfafd9",
   "metadata": {},
   "outputs": [],
   "source": [
    "T = 100\n",
    "traj, labs = models_phenom().multi_state(N = 500, alphas = [[0.7, 1],[0.4,2]], Ds = [[0, 1], [1, 0]], T = T)"
   ]
  },
  {
   "cell_type": "code",
   "execution_count": null,
   "id": "public-individual",
   "metadata": {},
   "outputs": [
    {
     "data": {
      "application/vnd.jupyter.widget-view+json": {
       "model_id": "496e152990ff4498b3cfcfb87078c5d7",
       "version_major": 2,
       "version_minor": 0
      },
      "text/plain": [
       "  0%|          | 0/500 [00:00<?, ?it/s]"
      ]
     },
     "metadata": {},
     "output_type": "display_data"
    }
   ],
   "source": [
    "res_t = np.array([])\n",
    "res_ft = np.array([])\n",
    "for label in tqdm(labs.transpose(1,0,2)[:,:,0]):\n",
    "    \n",
    "    # raw labels\n",
    "    CP = np.argwhere(label[1:] != label[:-1]).flatten()\n",
    "    if CP[-1] != 199: CP = np.append(CP, T-1)\n",
    "    CP = np.append(0, CP)\n",
    "\n",
    "    res_t = np.append(res_t, CP[1:] - CP[:-1])\n",
    "    \n",
    "    \n",
    "    # filtered labels\n",
    "    filt = label_filter(label)\n",
    "    \n",
    "    CP_f = np.argwhere(filt[1:] != filt[:-1]).flatten()\n",
    "    if CP_f[-1] != 199: CP_f = np.append(CP_f, T-1)\n",
    "    CP_f = np.append(0, CP_f)\n",
    "\n",
    "    res_ft = np.append(res_ft, CP_f[1:] - CP_f[:-1])"
   ]
  },
  {
   "cell_type": "markdown",
   "id": "28cb3c92-e63c-4376-92d9-8158fcbe4238",
   "metadata": {},
   "source": [
    "We show now the new transition rates (e.g. 1 over the residence time of a given state). Because we are minimum segment length of 3, we can actually approximate the filtered transition rate as the original times 2/3:"
   ]
  },
  {
   "cell_type": "code",
   "execution_count": null,
   "id": "handy-looking",
   "metadata": {},
   "outputs": [
    {
     "name": "stdout",
     "output_type": "stream",
     "text": [
      " True transition rate: 0.10947474747474747\n",
      " Filtered transition rate: 0.07402020202020201\n",
      " True rate x 2/3: 0.07298316498316498\n"
     ]
    }
   ],
   "source": [
    "print(f' True transition rate: {1/np.mean(res_t)}\\n',\n",
    "      f'Filtered transition rate: {1/np.mean(res_ft)}\\n',\n",
    "      f'True rate x 2/3: {1/np.mean(res_t)*(2/3)}')"
   ]
  },
  {
   "cell_type": "markdown",
   "id": "aca9ca1a-4157-4116-bd98-f726fab0b1eb",
   "metadata": {},
   "source": [
    "## Continuous labels to list of features\n",
    "\n",
    "The labels in the challenge will be the list of $n$ changepoints as well as the $n+1$ diffusion properties ($D$ and $\\alpha$) for each segment. This function transforms the stepwise labels into three lists: CPs, $\\alpha$s and $D$s."
   ]
  },
  {
   "cell_type": "code",
   "execution_count": null,
   "id": "44e8b559-2a62-4bb1-a27e-5fcd823428aa",
   "metadata": {},
   "outputs": [],
   "source": [
    "#| export\n",
    "def label_continuous_to_list(labs):\n",
    "    ''' \n",
    "    Given an array of T x 2 labels containing the anomalous exponent and diffusion \n",
    "    coefficient at each timestep, returns 3 arrays, each containing the changepoints, \n",
    "    exponents and coefficient, respectively. \n",
    "    If labs is size T x 3, then we consider that diffusive states are given and also\n",
    "    return those.\n",
    "    \n",
    "    Parameters\n",
    "    ----------\n",
    "    labs : array\n",
    "        T x 2  or T x 3 labels containing the anomalous exponent, diffusion \n",
    "        and diffusive state.\n",
    "        \n",
    "    Returns\n",
    "    -------\n",
    "    tuple\n",
    "        - First element is the list of change points\n",
    "        - The rest are corresponding segment properties (order: alpha, Ds and states)        \n",
    "        '''\n",
    "    \n",
    "    # Check if states were given\n",
    "    are_states = False\n",
    "    if labs.shape[1] == 3:\n",
    "        are_states = True\n",
    "        \n",
    "    # Check in which variable there is changes\n",
    "    CP = np.argwhere((labs[:-1, :] != labs[1:, :]).sum(1) != 0).flatten()+1 \n",
    "    T = labs.shape[0] \n",
    "\n",
    "    alphas = np.zeros(len(CP)+1)\n",
    "    Ds = np.zeros(len(CP)+1)\n",
    "    if are_states: states = np.zeros(len(CP)+1)\n",
    "        \n",
    "    for idx, cp in enumerate(np.append(CP, T)):\n",
    "        alphas[idx] = labs[cp-1, 0]\n",
    "        Ds[idx] = labs[cp-1, 1]\n",
    "        if are_states: states[idx] = labs[cp-1, 2]\n",
    "    \n",
    "    CP = np.append(CP, T)\n",
    "    \n",
    "    if are_states:\n",
    "        return CP, alphas, Ds, states\n",
    "    else:\n",
    "        return CP, alphas, Ds    "
   ]
  },
  {
   "cell_type": "code",
   "execution_count": null,
   "id": "6aa7850e-6025-45f7-9de2-457e51beb28d",
   "metadata": {},
   "outputs": [],
   "source": [
    "#| hide\n",
    "from andi_datasets.models_phenom import models_phenom"
   ]
  },
  {
   "cell_type": "code",
   "execution_count": null,
   "id": "8a7d6671-9bbd-4af9-9de9-07fc53ed4671",
   "metadata": {},
   "outputs": [
    {
     "data": {
      "text/plain": [
       "Text(0, 0.5, '$\\\\alpha$')"
      ]
     },
     "execution_count": null,
     "metadata": {},
     "output_type": "execute_result"
    },
    {
     "data": {
      "image/png": "[encoded data removed]",
      "text/plain": [
       "<Figure size 500x300 with 1 Axes>"
      ]
     },
     "metadata": {},
     "output_type": "display_data"
    }
   ],
   "source": [
    "# Generate the trajectory\n",
    "trajs, labels = models_phenom().multi_state(N = 1, T = 50)\n",
    "\n",
    "# Transform the labels:\n",
    "CP, alphas, Ds, _ = label_continuous _to_list(labels[:,-1,:])\n",
    "\n",
    "plt.figure(figsize=(5, 3))\n",
    "plt.plot(labels[:, -1, 1], 'o', alpha = 0.4, label = 'Continuous label')\n",
    "plt.scatter(CP-1, Ds, c = 'C1', label = 'CP-1 and value of previous segment')\n",
    "plt.legend(); plt.xlabel('T'); plt.ylabel(r'$\\alpha$')"
   ]
  },
  {
   "cell_type": "markdown",
   "id": "37aa5335-1268-4a4e-8944-e6cda49fbae1",
   "metadata": {},
   "source": [
    "## List of features to continuous labels\n",
    "This function does the opposite from than `label_continuous _to_list`. From a list of properties as the one used in ANDI 2022, creates continuous labels"
   ]
  },
  {
   "cell_type": "code",
   "execution_count": null,
   "id": "ce848342-e1c1-41b8-b9a3-9ea084710feb",
   "metadata": {},
   "outputs": [],
   "source": [
    "#| export\n",
    "def label_list_to_continuous(CP, label):\n",
    "    '''\n",
    "    Given a list of change points and the labels of the diffusion properties of the\n",
    "    resulting segments, generates and array of continuous labels. The last change point\n",
    "    indicates the array length.\n",
    "    \n",
    "    Parameters\n",
    "    ----------\n",
    "    CP : array, list\n",
    "        list of change points. Last change point indicates label length.\n",
    "    label : array, list\n",
    "        list of segment properties\n",
    "        \n",
    "    Returns\n",
    "    -------\n",
    "    array\n",
    "        Continuous label created from the given change points and segment properties\n",
    "    '''    \n",
    "    \n",
    "    if isinstance(label, list):\n",
    "        label = np.array(label)\n",
    "    segs = create_binary_segment(CP[:-1], CP[-1])\n",
    "    return (segs.transpose()*label).sum(1)"
   ]
  },
  {
   "cell_type": "code",
   "execution_count": null,
   "id": "3bc17a20-8106-40fa-a1da-465530842cb9",
   "metadata": {},
   "outputs": [],
   "source": [
    "#| hide\n",
    "from andi_datasets.utils_challenge import create_binary_segment"
   ]
  },
  {
   "cell_type": "code",
   "execution_count": null,
   "id": "a5e0d8c3-0db5-4f4a-9188-8ea61aaaa3e5",
   "metadata": {},
   "outputs": [
    {
     "data": {
      "image/png": "[encoded data removed]",
      "text/plain": [
       "<Figure size 300x100 with 1 Axes>"
      ]
     },
     "metadata": {},
     "output_type": "display_data"
    }
   ],
   "source": [
    "CP = [3,24,34]\n",
    "label = [0.5, 0.4, 1]\n",
    "cont = label_list_to_continuous(CP, label)\n",
    "plt.figure(figsize = (3,1))\n",
    "plt.plot(cont, c = 'C1')\n",
    "[plt.axvline(c, c = 'k', ls = '--') for c in CP[:-1]];"
   ]
  },
  {
   "cell_type": "markdown",
   "id": "f57d22c4-7743-458c-9c93-408686cb988f",
   "metadata": {},
   "source": [
    "## Storing array data in dataframe"
   ]
  },
  {
   "cell_type": "code",
   "execution_count": null,
   "id": "5450d8c9-78ff-4c30-a424-6ba4e48bffcb",
   "metadata": {},
   "outputs": [],
   "source": [
    "#| export\n",
    "from andi_datasets.utils_trajectories import segs_inside_fov\n",
    "\n",
    "\n",
    "def array_to_df(trajs, \n",
    "               labels,\n",
    "               min_length = 10,\n",
    "               fov_origin = [0,0], fov_length= 100.0, cutoff_length = 10):\n",
    "    '''\n",
    "    Given arrays for the position and labels of trajectories, creates a dataframe with that\n",
    "    data. The function also applies the demanded FOV. If you don't want a field of view, chose a \n",
    "    FOV length bigger (smaller) that your maximum (minimum) trajectory position.\n",
    "   \n",
    "    Parameters\n",
    "    ----------\n",
    "    trajs : array \n",
    "        Trajectories to store in the df (dimension: T x N x 3)\n",
    "    labels : array\n",
    "        Labels to store in the df (dimension: T x N x 3)        \n",
    "    fov_origin : tuple\n",
    "        Bottom left point of the square defining the FOV.\n",
    "    fov_length : float\n",
    "        Size of the box defining the FOV.\n",
    "    cutoff_length : int\n",
    "        Minimum length of a trajectory inside the FOV to be considered in the output dataset.\n",
    "    \n",
    "    \n",
    "    Returns\n",
    "    -------\n",
    "    tuple\n",
    "        - df_in (dataframe): dataframe with trajectories\n",
    "        - df_out (datafram): dataframe with labels \n",
    "    '''\n",
    "    \n",
    "    xs = []\n",
    "    ys = []\n",
    "    idxs = []   \n",
    "    \n",
    "    df_out = pandas.DataFrame(columns = ['traj_idx', 'Ds', 'alphas', 'states', 'changepoints']) \n",
    "    \n",
    "    idx_t = 0\n",
    "    for traj, l_alpha, l_D, l_s in zip(tqdm(trajs), labels[:, :, 0], labels[:, :, 1], labels[:, :, 2]):\n",
    "\n",
    "        # Check FOV and \n",
    "        idx_inside_segments = segs_inside_fov(traj, fov_origin, fov_length, cutoff_length)\n",
    "\n",
    "        if idx_inside_segments is not None:\n",
    "\n",
    "            for idx_in in idx_inside_segments:            \n",
    "                seg_x = traj[idx_in[0]:idx_in[1], 0]\n",
    "                seg_y = traj[idx_in[0]:idx_in[1], 1]\n",
    "                seg_alpha = l_alpha[idx_in[0]:idx_in[1]]\n",
    "                seg_D = l_D[idx_in[0]:idx_in[1]]\n",
    "                seg_state = l_s[idx_in[0]:idx_in[1]]\n",
    "\n",
    "                # Filtering\n",
    "                seg_alpha = label_filter(seg_alpha)\n",
    "                seg_D = label_filter(seg_D)\n",
    "                seg_state = label_filter(seg_state)\n",
    "                \n",
    "                \n",
    "                # Stacking data of input dataframe\n",
    "                xs += seg_x.tolist()\n",
    "                ys += seg_y.tolist()\n",
    "                idxs += (np.ones(len(seg_x))*idx_t).tolist()\n",
    "                \n",
    "                # Transforming to list of changepoints and physical properties\n",
    "                merge = np.hstack((seg_alpha.reshape(seg_alpha.shape[0], 1),\n",
    "                                   seg_D.reshape(seg_D.shape[0], 1),\n",
    "                                   seg_state.reshape(seg_state.shape[0], 1)))\n",
    "                \n",
    "                CP, alphas, Ds, states = label_continuous_to_list(merge)\n",
    "                \n",
    "                # Saving each segment info in output dataframe\n",
    "                df_out.loc[df_out.shape[0]] = [idx_t, Ds, alphas, states, CP]\n",
    "                \n",
    "                # Updating segment index\n",
    "                idx_t += 1\n",
    "\n",
    "    \n",
    "    # Saving trajectories in Dataframe\n",
    "    tr_to_df = np.vstack((idxs,\n",
    "                          xs,\n",
    "                          ys)).transpose()\n",
    "    df_in = pandas.DataFrame(tr_to_df, columns = ['traj_idx', 'x', 'y'])  \n",
    "    \n",
    "    return df_in, df_out"
   ]
  },
  {
   "cell_type": "code",
   "execution_count": null,
   "id": "ac76fb15-5892-47df-80b5-51e9df0191aa",
   "metadata": {},
   "outputs": [],
   "source": [
    "#| hide\n",
    "from andi_datasets.models_phenom import models_phenom\n",
    "from andi_datasets.utils_challenge import label_filter, label_continuous_to_list"
   ]
  },
  {
   "cell_type": "code",
   "execution_count": null,
   "id": "37aa2b87-0e03-446e-9162-d143276c463c",
   "metadata": {},
   "outputs": [],
   "source": [
    "#trajs, labels = models_phenom().multi_state(T = 200, N = 10, alphas=[0.5, 1], Ds = [1,1], L = 100)\n",
    "trajs, labels = models_phenom().single_state(T = 200, N = 10)\n",
    "\n",
    "# Changing dimensions\n",
    "trajs = trajs.transpose((1, 0, 2)).copy()\n",
    "labels = labels.transpose(1, 0, 2)\n",
    "\n",
    "df_in, df_out = array_to_df(trajs, labels)"
   ]
  },
  {
   "cell_type": "code",
   "execution_count": null,
   "id": "61c4334b-0c3a-4518-9c65-4a95160e9881",
   "metadata": {},
   "outputs": [
    {
     "data": {
      "text/html": [
       "<div>\n",
       "<style scoped>\n",
       "    .dataframe tbody tr th:only-of-type {\n",
       "        vertical-align: middle;\n",
       "    }\n",
       "\n",
       "    .dataframe tbody tr th {\n",
       "        vertical-align: top;\n",
       "    }\n",
       "\n",
       "    .dataframe thead th {\n",
       "        text-align: right;\n",
       "    }\n",
       "</style>\n",
       "<table border=\"1\" class=\"dataframe\">\n",
       "  <thead>\n",
       "    <tr style=\"text-align: right;\">\n",
       "      <th></th>\n",
       "      <th>traj_idx</th>\n",
       "      <th>Ds</th>\n",
       "      <th>alphas</th>\n",
       "      <th>states</th>\n",
       "      <th>changepoints</th>\n",
       "    </tr>\n",
       "  </thead>\n",
       "  <tbody>\n",
       "    <tr>\n",
       "      <th>0</th>\n",
       "      <td>0</td>\n",
       "      <td>[1.0]</td>\n",
       "      <td>[1.0]</td>\n",
       "      <td>[2.0]</td>\n",
       "      <td>[115]</td>\n",
       "    </tr>\n",
       "    <tr>\n",
       "      <th>1</th>\n",
       "      <td>1</td>\n",
       "      <td>[1.0]</td>\n",
       "      <td>[1.0]</td>\n",
       "      <td>[2.0]</td>\n",
       "      <td>[22]</td>\n",
       "    </tr>\n",
       "    <tr>\n",
       "      <th>2</th>\n",
       "      <td>2</td>\n",
       "      <td>[1.0]</td>\n",
       "      <td>[1.0]</td>\n",
       "      <td>[2.0]</td>\n",
       "      <td>[10]</td>\n",
       "    </tr>\n",
       "    <tr>\n",
       "      <th>3</th>\n",
       "      <td>3</td>\n",
       "      <td>[1.0]</td>\n",
       "      <td>[1.0]</td>\n",
       "      <td>[2.0]</td>\n",
       "      <td>[39]</td>\n",
       "    </tr>\n",
       "    <tr>\n",
       "      <th>4</th>\n",
       "      <td>4</td>\n",
       "      <td>[1.0]</td>\n",
       "      <td>[1.0]</td>\n",
       "      <td>[2.0]</td>\n",
       "      <td>[28]</td>\n",
       "    </tr>\n",
       "  </tbody>\n",
       "</table>\n",
       "</div>"
      ],
      "text/plain": [
       "   traj_idx     Ds alphas states changepoints\n",
       "0         0  [1.0]  [1.0]  [2.0]        [115]\n",
       "1         1  [1.0]  [1.0]  [2.0]         [22]\n",
       "2         2  [1.0]  [1.0]  [2.0]         [10]\n",
       "3         3  [1.0]  [1.0]  [2.0]         [39]\n",
       "4         4  [1.0]  [1.0]  [2.0]         [28]"
      ]
     },
     "execution_count": null,
     "metadata": {},
     "output_type": "execute_result"
    }
   ],
   "source": [
    "df_out.head()"
   ]
  },
  {
   "cell_type": "markdown",
   "id": "ee88e52d-836f-41ed-8efb-5c9cef0e4b94",
   "metadata": {},
   "source": [
    "## Transform ANDI dataframe to array with padding"
   ]
  },
  {
   "cell_type": "code",
   "execution_count": null,
   "id": "ac88a439-fe3a-4d85-816e-e6dc967c2a24",
   "metadata": {},
   "outputs": [],
   "source": [
    "#| export\n",
    "def df_to_array(df, pad = -1):\n",
    "    '''\n",
    "    Transform a dataframe as the ones given in the ANDI challenge 2 (i.e. 4 columns:\n",
    "    traj_idx, frame, x, y) into a numpy array. To deal with irregular temporal supports,\n",
    "    we pad the array whenever the trajectory is not present.\n",
    "    The output array has the typical shape of ANDI datasets: TxNx2\n",
    "    \n",
    "    Parameters\n",
    "    ----------\n",
    "    df : dataframe\n",
    "        Dataframe with four columns 'traj_idx': the trajectory index, 'frame' the time frame and \n",
    "        'x' and 'y' the positions of the particle.\n",
    "    pad : int\n",
    "        Number to use as padding.\n",
    "    \n",
    "    Returns\n",
    "    -------\n",
    "    array\n",
    "        Array containing the trajectories from the dataframe, with usual ANDI shape (TxNx2).\n",
    "    \n",
    "    \n",
    "    '''\n",
    "\n",
    "    max_T = int(df.frame.max()+1)\n",
    "    num_part = int(df.iloc[-1].traj_idx)\n",
    "    array_trajs = np.ones((max_T, num_part+1, 2))*pad\n",
    "\n",
    "    for idx in np.unique(df.traj_idx).astype(int):\n",
    "\n",
    "        df_part = df.loc[df.traj_idx == idx]\n",
    "\n",
    "        array_trajs[df_part.frame.values.astype(int), idx, 0] = df_part.x.values\n",
    "        array_trajs[df_part.frame.values.astype(int), idx, 1] = df_part.y.values\n",
    "        \n",
    "    return array_trajs"
   ]
  },
  {
   "cell_type": "markdown",
   "id": "105fbe24-7010-4108-b521-04b3da4bf9ce",
   "metadata": {},
   "source": [
    "# Isolate VIP particles"
   ]
  },
  {
   "cell_type": "code",
   "execution_count": null,
   "id": "63314499-59e4-48fd-b1b8-9723e184ca9d",
   "metadata": {},
   "outputs": [],
   "source": [
    "#| export\n",
    "from scipy.spatial import distance\n",
    "\n",
    "\n",
    "def get_VIP(array_trajs, num_vip = 5, min_distance = 2, pad = -1):\n",
    "    '''\n",
    "    Given an array of trajectories, finds the particles VIP particles that participants will\n",
    "    need to characterize in the video trakcl.\n",
    "    \n",
    "    The function first finds the particles that exist at frame 0 (i.e. that their first value \n",
    "    is different from pad). Then, iterates over this particles to find num_vip that are at \n",
    "    distance > than min_distance in the first frame.\n",
    "    \n",
    "    Parameters\n",
    "    ----------\n",
    "    array_trajs : array\n",
    "        Position of the trajectories that will be considered for the VIP search.\n",
    "    num_vip : int\n",
    "        Number of VIP particles to flag.\n",
    "    min_distance : float\n",
    "        Minimum distance between two VIP particles.\n",
    "    pad : int\n",
    "        Number used to indicate in the temporal support that the particle is outside of the FOV.\n",
    "        \n",
    "    Returns\n",
    "    -------\n",
    "    list\n",
    "        List of indices of the chosen VIP particles\n",
    "    \n",
    "    '''\n",
    "    \n",
    "    candidates_vip = np.argwhere(array_trajs[0,:,0] != pad).flatten()\n",
    "    if len(candidates_vip) < num_vip:\n",
    "        raise ValueError('Number of VIP demanded is bigger than available particles.')\n",
    "\n",
    "    elected = []\n",
    "    count_while = 0\n",
    "    while len(elected) < num_vip:\n",
    "\n",
    "        elected = [np.random.choice(candidates_vip)]\n",
    "\n",
    "        for c_idx in candidates_vip:\n",
    "            if c_idx == elected[0]:\n",
    "                continue\n",
    "            if len(array_trajs[0, elected,:].shape) < 2:\n",
    "                all_rest = np.expand_dims(array_trajs[0, elected,:], 0)\n",
    "            else:\n",
    "                all_rest = array_trajs[0, elected,:]\n",
    "\n",
    "            dist = distance.cdist(np.expand_dims(array_trajs[0,c_idx,:], 0), all_rest, metric='euclidean').transpose()\n",
    "\n",
    "            if dist.min() > 2:\n",
    "                elected.append(c_idx)\n",
    "\n",
    "            if len(elected) == num_vip:\n",
    "                break\n",
    "\n",
    "\n",
    "        count_while += 1\n",
    "        if count_while > 100: \n",
    "            raise ValueError('Could not find suitable VIP particles. This is due to either having to few particles or them being too close')\n",
    "            \n",
    "    return elected\n"
   ]
  },
  {
   "cell_type": "markdown",
   "id": "unavailable-brazil",
   "metadata": {},
   "source": [
    "# Challenge 2022 metrics"
   ]
  },
  {
   "cell_type": "markdown",
   "id": "stopped-prototype",
   "metadata": {},
   "source": [
    "## Changepoint pairing\n",
    "We use an assignment algorithm to pair predicted and groundtruth changepoints. From there, we will calculate the various metrics of the challenge."
   ]
  },
  {
   "cell_type": "code",
   "execution_count": null,
   "id": "amber-interest",
   "metadata": {},
   "outputs": [],
   "source": [
    "#| export\n",
    "def changepoint_assignment(GT, preds):\n",
    "    ''' \n",
    "    Given a list of groundtruth and predicted changepoints, solves the assignment problem via\n",
    "    the Munkres algorithm (aka Hungarian algorithm) and returns two arrays containing the index of the\n",
    "    paired groundtruth and predicted changepoints, respectively.\n",
    "    \n",
    "    The distance between change point is the Euclidean distance.\n",
    "    \n",
    "    Parameters\n",
    "    ----------\n",
    "    GT : list\n",
    "        List of groundtruth change points.\n",
    "    preds : list\n",
    "        List of predicted change points.\n",
    "    \n",
    "    Returns\n",
    "    -------\n",
    "    tuple\n",
    "        - tuple of two arrays, each corresponding to the assigned GT and pred changepoints\n",
    "        - Cost matrix\n",
    "    \n",
    "    '''\n",
    "    \n",
    "    cost_matrix = np.zeros((len(GT), len(preds)))\n",
    "\n",
    "    for idxg, gt in enumerate(GT):\n",
    "        for idxp, pred in enumerate(preds):\n",
    "            cost_matrix[idxg, idxp] = np.abs(gt-pred)\n",
    "            \n",
    "    return linear_sum_assignment(cost_matrix), cost_matrix"
   ]
  },
  {
   "cell_type": "code",
   "execution_count": null,
   "id": "8d8ecf33-f9d2-49d9-a3f1-b510561e66ea",
   "metadata": {},
   "outputs": [
    {
     "name": "stdout",
     "output_type": "stream",
     "text": [
      "GT: [ 2  8 24 33 34 54 55 64 73 85]\n",
      "Pred: [ 8 11 16 30 36 47]\n"
     ]
    },
    {
     "data": {
      "text/plain": [
       "(array([0, 1, 2, 3, 4, 5], dtype=int64),\n",
       " array([1, 0, 2, 3, 4, 5], dtype=int64))"
      ]
     },
     "execution_count": null,
     "metadata": {},
     "output_type": "execute_result"
    }
   ],
   "source": [
    "ngts = 10; npreds = 6; T = 100\n",
    "GT = np.sort(np.random.choice(np.arange(1,T), ngts, replace = False))\n",
    "preds = np.sort(np.random.choice(np.arange(1,T)*0.5, npreds, replace = False)).astype(int)\n",
    "print('GT:', GT)\n",
    "print('Pred:', preds)\n",
    "changepoint_assignment(GT, preds)[0]"
   ]
  },
  {
   "cell_type": "code",
   "execution_count": null,
   "id": "ede6760b-d685-4318-a534-ebae92607df2",
   "metadata": {},
   "outputs": [],
   "source": [
    "#| export\n",
    "def changepoint_alpha_beta(GT, preds, threshold = 10):\n",
    "    '''\n",
    "    Calculate the alpha and beta measure of paired changepoints.\n",
    "    Inspired from Supplemantary Note 3 in https://www.nature.com/articles/nmeth.2808\n",
    "    \n",
    "    Parameters\n",
    "    ----------\n",
    "    GT : list\n",
    "        List of groundtruth change points.\n",
    "    preds : list\n",
    "        List of predicted change points.\n",
    "    threshold : float\n",
    "        Distance from which predictions are considered to have failed. They are then assigned this number.\n",
    "    \n",
    "    Returns\n",
    "    -------\n",
    "    tuple\n",
    "        alpha, beta\n",
    "        \n",
    "    '''\n",
    "\n",
    "    assignment, _ = changepoint_assignment(GT, preds)\n",
    "    assignment = np.array(assignment)\n",
    "\n",
    "    threshold = 10\n",
    "    distance = np.abs(GT[assignment[0]] - preds[assignment[1]])\n",
    "    distance[distance > threshold] = threshold\n",
    "    distance = np.sum(distance)\n",
    "\n",
    "    d_x_phi = threshold*len(GT)\n",
    "    d_ybar_phi = max([0, (len(preds)-len(GT))*threshold])\n",
    "\n",
    "    alpha = 1-distance/d_x_phi\n",
    "    beta = (d_x_phi-distance)/(d_x_phi+d_ybar_phi)\n",
    "\n",
    "    return alpha, beta"
   ]
  },
  {
   "cell_type": "code",
   "execution_count": null,
   "id": "2c3ed0f7-2ceb-404a-8c79-86815d9c9c9b",
   "metadata": {},
   "outputs": [
    {
     "data": {
      "text/plain": [
       "<matplotlib.legend.Legend>"
      ]
     },
     "execution_count": null,
     "metadata": {},
     "output_type": "execute_result"
    },
    {
     "data": {
      "image/png": "[encoded data removed]",
      "text/plain": [
       "<Figure size 400x300 with 1 Axes>"
      ]
     },
     "metadata": {},
     "output_type": "display_data"
    }
   ],
   "source": [
    "labels = [r'Random Guess + $N_p>N_{gt}$',\n",
    "          r'Random Guess + $N_p<N_{gt}$',\n",
    "          r'GT + rand $\\in [-3, 3]$',\n",
    "          r'GT + rand $\\in [-1, 1]$']\n",
    "\n",
    "fig, ax = plt.subplots(figsize = (4,3))\n",
    "alpha = 0.2\n",
    "\n",
    "T = 200; ngts = 15; \n",
    "\n",
    "for case, (label, color) in enumerate(zip(labels, ['C0', 'C1', 'C2', 'C3'])):\n",
    "\n",
    "    alphas, betas = [], []\n",
    "    for _ in range(100):\n",
    "        \n",
    "        GT = np.sort(np.random.choice(np.arange(1,T), ngts, replace = False))\n",
    "        if case == 0:\n",
    "            npreds = np.random.randint(low = ngts, high = ngts*2)\n",
    "            preds = np.sort(np.random.choice(np.arange(1,T), npreds, replace = False)) \n",
    "        elif case == 1:\n",
    "            npreds = np.random.randint(low = 1, high = ngts)\n",
    "            preds = np.sort(np.random.choice(np.arange(1,T), npreds, replace = False))     \n",
    "        elif case == 2:\n",
    "            preds = GT + np.random.randint(-3, 3, ngts)\n",
    "        elif case == 3:\n",
    "            preds = GT + np.random.randint(-1, 1, ngts)\n",
    "            \n",
    "        alpha, beta = changepoint_alpha_beta(GT, preds)\n",
    "        \n",
    "        alphas.append(alpha)\n",
    "        betas.append(beta)\n",
    "     \n",
    "    \n",
    "    ax.scatter(alphas, betas, c = color, alpha = alpha)\n",
    "    ax.scatter(np.mean(alphas), np.mean(betas), c = color, label = label, s = 50, marker = 's', edgecolors = 'k')\n",
    "plt.setp(ax, xlabel = r'$\\alpha$', ylabel = r'$\\beta$')\n",
    "ax.legend(loc = (1.01,0.4))"
   ]
  },
  {
   "cell_type": "code",
   "execution_count": null,
   "id": "fifty-laundry",
   "metadata": {},
   "outputs": [],
   "source": [
    "#| export\n",
    "def jaccard_index(TP: int, # true positive\n",
    "                  FP: int, # false positive\n",
    "                  FN: int # false negative\n",
    "                 )-> float: # Jaccard Index\n",
    "    '''\n",
    "    Given the true positive, false positive and false negative rates, calculates the Jaccard Index\n",
    "    '''\n",
    "    return TP/(TP+FP+FN)"
   ]
  },
  {
   "cell_type": "code",
   "execution_count": null,
   "id": "supreme-digest",
   "metadata": {},
   "outputs": [],
   "source": [
    "#| export\n",
    "def single_changepoint_error(GT, preds, threshold = 5):\n",
    "    '''\n",
    "    Given the groundtruth and predicted changepoints for a single trajectory, first solves the assignment problem between changepoints,\n",
    "    then calculates the RMSE of the true positive pairs and the Jaccard index.\n",
    "    \n",
    "    Parameters\n",
    "    ----------\n",
    "    GT : list\n",
    "        List of groundtruth change points.\n",
    "    preds : list\n",
    "        List of predicted change points.\n",
    "    threshold : float\n",
    "        Distance from which predictions are considered to have failed. They are then assigned this number.\n",
    "    \n",
    "    Returns\n",
    "    -------\n",
    "    tuple\n",
    "        - TP_rmse: root mean square error of the true positive change points.\n",
    "        - Jaccard Index of the ensemble predictions        \n",
    "        \n",
    "    '''\n",
    "    \n",
    "    assignment, _ = changepoint_assignment(GT, preds)\n",
    "    assignment = np.array(assignment)\n",
    "    \n",
    "    TP, FP, FN = 0, 0, 0\n",
    "    TP_rmse = []\n",
    "    for p in assignment.transpose():\n",
    "        \n",
    "        if np.abs(GT[p[0]] - preds[p[1]]) < threshold:\n",
    "            TP += 1\n",
    "            TP_rmse.append((GT[p[0]] - preds[p[1]])**2)\n",
    "        else:\n",
    "            FP += 1\n",
    "            FN += 1\n",
    "    # Calculating RMSE\n",
    "    TP_rmse = np.sqrt(np.mean(TP_rmse))\n",
    "\n",
    "    # Checking false positive and missed events\n",
    "    if len(preds) > len(GT):\n",
    "        FP += len(preds) - len(GT)\n",
    "    elif len(preds) < len(GT):\n",
    "        FN += len(GT) - len(preds)\n",
    "    \n",
    "    return TP_rmse, jaccard_index(TP, FP, FN)"
   ]
  },
  {
   "cell_type": "code",
   "execution_count": null,
   "id": "ideal-chuck",
   "metadata": {},
   "outputs": [],
   "source": [
    "#| export\n",
    "def ensemble_changepoint_error(GT_ensemble, pred_ensemble, threshold = 5):    \n",
    "    ''' \n",
    "    Given an ensemble of groundtruth and predicted change points, iterates\n",
    "    over each trajectory's changepoints. For each, it solves the assignment problem \n",
    "    between changepoints. Then, calculates the RMSE of the true positive pairs and\n",
    "    the Jaccard index over the ensemble of changepoints (i.e. not the mean of them \n",
    "    w.r.t. to the trajectories)\n",
    "    \n",
    "    Parameters\n",
    "    ----------\n",
    "    GT_ensemble : list, array\n",
    "        Ensemble of groutruth change points.\n",
    "    pred_ensemble : list\n",
    "        Ensemble of predicted change points.\n",
    "    threshold : float\n",
    "        Distance from which predictions are considered to have failed. They are then assigned this number.\n",
    "    \n",
    "    Returns\n",
    "    -------\n",
    "    tuple\n",
    "        - TP_rmse: root mean square error of the true positive change points.\n",
    "        - Jaccard Index of the ensemble predictions\n",
    "    \n",
    "    '''\n",
    "    \n",
    "    TP, FP, FN = 0, 0, 0\n",
    "    TP_rmse = []\n",
    "    \n",
    "    for gt_traj, pred_traj in zip(GT_ensemble, pred_ensemble):\n",
    "        \n",
    "        assignment, _ = changepoint_assignment(gt_traj, pred_traj)\n",
    "        assignment = np.array(assignment)\n",
    "        \n",
    "        for p in assignment.transpose():\n",
    "            \n",
    "            if np.abs(gt_traj[p[0]] - pred_traj[p[1]]) < threshold:\n",
    "                TP += 1\n",
    "                TP_rmse.append((gt_traj[p[0]] - pred_traj[p[1]])**2)\n",
    "            else:\n",
    "                FP += 1\n",
    "                FN += 1    \n",
    "                \n",
    "        # Checking false positive and missed events\n",
    "        if len(pred_traj) > len(gt_traj):\n",
    "            FP += len(pred_traj) - len(gt_traj)\n",
    "        elif len(pred_traj) < len(gt_traj):\n",
    "            FN += len(gt_traj) - len(pred_traj)\n",
    "                \n",
    "    if TP+FP+FN == 0:\n",
    "        wrn_str = f'No segments found in this dataset.'\n",
    "        warnings.warn(wrn_str)\n",
    "        return threshold, 0\n",
    "        \n",
    "    # Calculating RMSE\n",
    "    TP_rmse = np.sqrt(np.mean(TP_rmse))\n",
    "\n",
    "    \n",
    "        \n",
    "    return TP_rmse, jaccard_index(TP, FP, FN)"
   ]
  },
  {
   "cell_type": "code",
   "execution_count": null,
   "id": "valuable-jefferson",
   "metadata": {},
   "outputs": [
    {
     "data": {
      "text/plain": [
       "<matplotlib.legend.Legend>"
      ]
     },
     "execution_count": null,
     "metadata": {},
     "output_type": "execute_result"
    },
    {
     "data": {
      "image/png": "[encoded data removed]",
      "text/plain": [
       "<Figure size 300x300 with 1 Axes>"
      ]
     },
     "metadata": {},
     "output_type": "display_data"
    }
   ],
   "source": [
    "labels = ['Random Guess + Incorrect number',\n",
    "          r'GT + rand $\\in [-3, 3]$',\n",
    "          r'GT + rand $\\in [-1, 1]$']\n",
    "\n",
    "fig, ax = plt.subplots(figsize = (3,3))\n",
    "alpha = 0.2\n",
    "\n",
    "T = 200; ngts = 10; npreds = 8\n",
    "\n",
    "for case, (label, color) in enumerate(zip(labels, ['C0', 'C1', 'C2'])):\n",
    "    \n",
    "    rmse, ji = [], []\n",
    "    GT, preds = [], []\n",
    "    for _ in range(100):\n",
    "\n",
    "        GT.append(np.sort(np.random.choice(np.arange(1,T), ngts, replace = False)))\n",
    "        if case == 0:\n",
    "            preds.append(np.sort(np.random.choice(np.arange(1,T), npreds, replace = False)))                  \n",
    "        elif case == 1:\n",
    "            preds.append(GT[-1] + np.random.randint(-3, 3, ngts))\n",
    "        elif case == 2:\n",
    "            preds.append(GT[-1] + np.random.randint(-1, 1, ngts))\n",
    "\n",
    "        assignment, _ = changepoint_assignment(GT[-1], preds[-1])\n",
    "        assignment = np.array(assignment)\n",
    "\n",
    "        RMSE, JI = single_changepoint_error(GT[-1], preds[-1], threshold = 5)     \n",
    "        \n",
    "        rmse.append(RMSE)\n",
    "        ji.append(JI)\n",
    "\n",
    "    rmse_e, ji_e = ensemble_changepoint_error(GT, preds, threshold = 5)\n",
    "    \n",
    "    ax.scatter(rmse, ji, c = color, alpha = alpha)\n",
    "    ax.scatter(rmse_e, ji_e, c = color, label = label, s = 50, marker = 's', edgecolors = 'k')\n",
    "plt.setp(ax, xlabel = 'TP RMSE', ylabel = 'Jaccard')\n",
    "ax.legend(loc = (0.91,0.4))"
   ]
  },
  {
   "cell_type": "markdown",
   "id": "selective-official",
   "metadata": {},
   "source": [
    "## Segments pairing \n",
    "Here we focus on pairing the segments arising from a list of changepoints. We will use this to latter compare the predicted physical properties for each segment"
   ]
  },
  {
   "cell_type": "code",
   "execution_count": null,
   "id": "inclusive-combination",
   "metadata": {},
   "outputs": [],
   "source": [
    "#| export\n",
    "def create_binary_segment(CP: list, # list of changepoints\n",
    "                          T: int # length of the trajectory\n",
    "                         )-> list: # list of arrays with value 1 in the temporal support of the current segment.\n",
    "    '''\n",
    "    Given a set of changepoints and the lenght of the trajectory, create segments which are equal to one\n",
    "    if the segment takes place at that position and zero otherwise.\n",
    "    '''\n",
    "    segments = np.zeros((len(CP)+1, T))\n",
    "    CP = np.append(0, CP)\n",
    "    for idx, (cp1, cp2) in enumerate(zip(CP[:-1], CP[1:])):\n",
    "        segments[idx, cp1+1:cp2+1] = 1\n",
    "    segments[-1, CP[-1]+1:] = 1\n",
    "    segments[0, 0] = 1\n",
    "    return segments"
   ]
  },
  {
   "cell_type": "code",
   "execution_count": null,
   "id": "5890ea50-f0f5-4913-9e31-171ca614062b",
   "metadata": {},
   "outputs": [
    {
     "data": {
      "image/png": "[encoded data removed]",
      "text/plain": [
       "<Figure size 400x300 with 1 Axes>"
      ]
     },
     "metadata": {},
     "output_type": "display_data"
    }
   ],
   "source": [
    "T= 50\n",
    "GT = np.sort(np.random.choice(np.arange(1,T), 10, replace = False))\n",
    "plt.figure(figsize = (4,3))\n",
    "for idx, x in enumerate(create_binary_segment(GT, T)):\n",
    "    plt.plot(x*idx, 'o')"
   ]
  },
  {
   "cell_type": "code",
   "execution_count": null,
   "id": "executed-pearl",
   "metadata": {},
   "outputs": [],
   "source": [
    "#| export\n",
    "def jaccard_between_segments(gt, pred):\n",
    "    '''\n",
    "    Given two segments, calculates the Jaccard index between them by considering TP as correct labeling,\n",
    "    FN as missed events and FP leftover predictions.\n",
    "    \n",
    "    Parameters\n",
    "    ----------\n",
    "    gt : array\n",
    "        groundtruth segment, equal to one in the temporal support of the given segment, zero otherwise.\n",
    "    pred : array\n",
    "        predicted segment, equal to one in the temporal support of the given segment, zero otherwise.\n",
    "    \n",
    "    Returns\n",
    "    -------\n",
    "    float\n",
    "        Jaccard index between the given segments.\n",
    "    '''\n",
    "    \n",
    "    if len(gt) > len(pred):\n",
    "        pred = np.append(pred, np.zeros(len(gt) - len(pred)))\n",
    "    elif len(pred) > len(gt):                        \n",
    "        gt = np.append(gt, np.zeros(len(pred) - len(gt)))\n",
    "    \n",
    "    \n",
    "    tp = np.sum(np.logical_and(pred == 1, gt == 1))\n",
    "    fp = np.sum(np.logical_and(pred == 1, gt == 0))\n",
    "    fn = np.sum(np.logical_and(pred == 0, gt == 1))\n",
    "    \n",
    "    # special case for absence of changepoint\n",
    "    if tp+fp+fn == 0: return 0    \n",
    "    else: return jaccard_index(tp, fp, fn)"
   ]
  },
  {
   "cell_type": "code",
   "execution_count": null,
   "id": "administrative-portable",
   "metadata": {},
   "outputs": [],
   "source": [
    "#| export\n",
    "def segment_assignment(GT, preds, T:int = None):\n",
    "    ''' \n",
    "    Given a list of groundtruth and predicted changepoints, generates a set of segments. Then constructs \n",
    "    a cost matrix by calculting the Jaccard Index between segments. From this cost matrix, we solve the \n",
    "    assignment  problem via the Munkres algorithm (aka Hungarian algorithm) and returns two arrays \n",
    "    containing the index of the groundtruth and predicted segments, respectively.\n",
    "    \n",
    "    If T = None, then we consider that GT and preds may have different lenghts. In that case, the end\n",
    "    of the segments is the the last CP of each set of CPs.\n",
    "    \n",
    "    Parameters\n",
    "    ----------\n",
    "    GT : list\n",
    "        List of groundtruth change points.\n",
    "    preds : list\n",
    "        List of predicted change points.\n",
    "    T : int, None\n",
    "        Length of the trajectory. If None, considers different GT and preds length.\n",
    "    \n",
    "    Returns\n",
    "    -------\n",
    "    tuple\n",
    "        - tuple of two arrays, each corresponding to the assigned GT and pred changepoints\n",
    "        - Cost matrix calculated via JI of segments   \n",
    "    \n",
    "    '''\n",
    "   \n",
    "    if T is not None:\n",
    "        T_gt = T_pred = T\n",
    "        # Check if the GT or predictions are a single integer or an empty array\n",
    "        if isinstance(GT, int): GT = [GT]\n",
    "        elif len(GT) == 0: GT = [T-1]\n",
    "\n",
    "        if isinstance(preds, int): preds = [preds]\n",
    "        elif len(preds) == 0: preds = [T-1]\n",
    "    else:\n",
    "        T_gt = GT[-1]\n",
    "        if len(GT) > 1:\n",
    "            GT = GT[:-1]            \n",
    "            \n",
    "        T_pred = preds[-1]\n",
    "        if len(preds) > 1:\n",
    "            preds = preds[:-1]\n",
    "        \n",
    "    \n",
    "    \n",
    "    seg_GT = create_binary_segment(GT, T_gt)\n",
    "    seg_preds = create_binary_segment(preds, T_pred)\n",
    "    \n",
    "    cost_matrix = np.zeros((seg_GT.shape[0], seg_preds.shape[0]))\n",
    "\n",
    "    for idxg, gt in enumerate(seg_GT):\n",
    "        for idxp, pred in enumerate(seg_preds):\n",
    "            cost_matrix[idxg, idxp] = 1-jaccard_between_segments(gt, pred)\n",
    "\n",
    "    return linear_sum_assignment(cost_matrix), cost_matrix"
   ]
  },
  {
   "cell_type": "markdown",
   "id": "occasional-knight",
   "metadata": {},
   "source": [
    "#### Examples"
   ]
  },
  {
   "cell_type": "markdown",
   "id": "40260f11-2cbd-4865-8459-c48c9701bc75",
   "metadata": {},
   "source": [
    "**Predictions close to groundtruth**"
   ]
  },
  {
   "cell_type": "code",
   "execution_count": null,
   "id": "automotive-admission",
   "metadata": {},
   "outputs": [
    {
     "data": {
      "text/plain": [
       "<matplotlib.legend.Legend>"
      ]
     },
     "execution_count": null,
     "metadata": {},
     "output_type": "execute_result"
    },
    {
     "data": {
      "image/png": "[encoded data removed]",
      "text/plain": [
       "<Figure size 1500x600 with 10 Axes>"
      ]
     },
     "metadata": {},
     "output_type": "display_data"
    }
   ],
   "source": [
    "T = 200; \n",
    "ngts = 10; \n",
    "GT = np.sort(np.random.choice(np.arange(1,T), ngts, replace = False))\n",
    "preds = np.sort(GT + np.random.randint(-5, 5, 1) )\n",
    "\n",
    "seg_GT = create_binary_segment(GT, T)\n",
    "seg_preds = create_binary_segment(preds, T)   \n",
    "\n",
    "[row_ind, col_ind], cost_matrix = segment_assignment(GT, preds, T)\n",
    "\n",
    "fig, axs = plt.subplots(2, 5, figsize = (15, 6))\n",
    "for r, c, ax in zip(row_ind, col_ind, axs.flatten()):\n",
    "    ax.set_title(f'1 - JI = {np.round(cost_matrix[r, c], 2)}')\n",
    "    ax.plot(seg_GT[r], label = 'Groundtruth')\n",
    "    ax.plot(seg_preds[c], label = 'Prediction')\n",
    "axs[0,0].legend()"
   ]
  },
  {
   "cell_type": "markdown",
   "id": "d3211306-638b-454b-8e85-71f28d4daed3",
   "metadata": {},
   "source": [
    "**Different size between predictions and trues**"
   ]
  },
  {
   "cell_type": "code",
   "execution_count": null,
   "id": "e9f965a0-10e7-405e-af8d-0ef275e5ab6a",
   "metadata": {},
   "outputs": [
    {
     "data": {
      "text/plain": [
       "<matplotlib.legend.Legend>"
      ]
     },
     "execution_count": null,
     "metadata": {},
     "output_type": "execute_result"
    },
    {
     "data": {
      "image/png": "[encoded data removed]",
      "text/plain": [
       "<Figure size 1500x300 with 5 Axes>"
      ]
     },
     "metadata": {},
     "output_type": "display_data"
    }
   ],
   "source": [
    "T1 = 200; T2 = 100\n",
    "ngts = 10; \n",
    "GT = np.sort(np.random.choice(np.arange(1,T1), ngts, replace = False))\n",
    "preds = np.sort(np.random.choice(np.arange(1,T2), 5, replace = False))\n",
    "\n",
    "seg_GT = create_binary_segment(GT, T1)\n",
    "seg_preds = create_binary_segment(preds, T2)   \n",
    "\n",
    "[row_ind, col_ind], cost_matrix = segment_assignment(GT, preds)\n",
    "\n",
    "fig, axs = plt.subplots(1, 5, figsize = (15, 3))\n",
    "for r, c, ax in zip(row_ind, col_ind, axs.flatten()):\n",
    "    ax.set_title(f'1 - JI = {np.round(cost_matrix[r, c], 2)}')\n",
    "    ax.plot(seg_GT[r], label = 'Groundtruth')\n",
    "    ax.plot(seg_preds[c], label = 'Prediction')\n",
    "axs[0].legend()"
   ]
  },
  {
   "cell_type": "markdown",
   "id": "stuffed-damage",
   "metadata": {},
   "source": [
    "**Predictions very different to groundtruth**"
   ]
  },
  {
   "cell_type": "code",
   "execution_count": null,
   "id": "consecutive-islam",
   "metadata": {},
   "outputs": [
    {
     "data": {
      "text/plain": [
       "<matplotlib.legend.Legend>"
      ]
     },
     "execution_count": null,
     "metadata": {},
     "output_type": "execute_result"
    },
    {
     "data": {
      "image/png": "[encoded data removed]",
      "text/plain": [
       "<Figure size 1500x300 with 5 Axes>"
      ]
     },
     "metadata": {},
     "output_type": "display_data"
    }
   ],
   "source": [
    "T = 200;\n",
    "ngts = 5; npreds = 5;\n",
    "GT = np.sort(np.random.choice(np.arange(1,T), ngts, replace = False))\n",
    "preds = np.sort(np.random.choice(np.arange(1,T), npreds, replace = False))  \n",
    "\n",
    "seg_GT = create_binary_segment(GT, T)\n",
    "seg_preds = create_binary_segment(preds, T)\n",
    "\n",
    "[row_ind, col_ind], cost_matrix = segment_assignment(GT, preds, T)\n",
    "\n",
    "fig, axs = plt.subplots(1, 5, figsize = (15, 3))\n",
    "for r, c, ax in zip(row_ind, col_ind, axs.flatten()):\n",
    "    ax.set_title(f'1 - JI = {np.round(cost_matrix[r, c], 2)}')\n",
    "    ax.plot(seg_GT[r], label = 'Groundtruth')\n",
    "    ax.plot(seg_preds[c], label = 'Prediction')\n",
    "axs[0].legend()"
   ]
  },
  {
   "cell_type": "markdown",
   "id": "electric-quebec",
   "metadata": {},
   "source": [
    "## Segment properties comparison\n",
    "\n",
    "We use the segment pairing functions that we have defined above to compute various metrics between the properties of predicted and groundtruth segments.\n"
   ]
  },
  {
   "cell_type": "markdown",
   "id": "50630c45-1a2c-4de4-b426-94e906ce4e7f",
   "metadata": {},
   "source": [
    "### Metrics of segment properties"
   ]
  },
  {
   "cell_type": "code",
   "execution_count": null,
   "id": "structured-pharmacology",
   "metadata": {},
   "outputs": [],
   "source": [
    "#| export\n",
    "from sklearn.metrics import mean_squared_log_error as msle, f1_score\n",
    "from andi_datasets.models_phenom import models_phenom\n",
    "\n",
    "def metric_anomalous_exponent(gt = None,\n",
    "                              pred = None,\n",
    "                              max_error = np.abs(models_phenom().bound_alpha[0]-models_phenom().bound_alpha[1])):\n",
    "    ''' \n",
    "    Compute the mean absolute error (mae) between anomalous exponents.\n",
    "    Checks the current bounds of anomalous exponents from models_phenom to calculate the maximum error.\n",
    "    ''' \n",
    "    error = np.mean(np.abs(gt-pred))\n",
    "    if error > max_error:\n",
    "        return max_error\n",
    "    else: \n",
    "        return error\n",
    "\n",
    "def metric_diffusion_coefficient(gt = None, pred = None, \n",
    "                                 threshold_min = models_phenom().bound_D[0],                               \n",
    "                                 max_error = msle([models_phenom().bound_D[0]],\n",
    "                                                  [models_phenom().bound_D[1]])):\n",
    "    ''' \n",
    "    Compute the mean squared log error (msle) between diffusion coefficients.\n",
    "    Checks the current bounds of diffusion from models_phenom to calculate the maximum error. \n",
    "    ''' \n",
    "    \n",
    "     # considering the presence of zeros and negatives\n",
    "    pred = np.array(pred).copy(); gt = np.array(gt).copy()\n",
    "    pred[pred <= threshold_min] = threshold_min\n",
    "    gt[gt <= threshold_min] = threshold_min    \n",
    "    # mean squared log error\n",
    "    error = msle(gt, pred)\n",
    "    \n",
    "    if error > max_error:\n",
    "        return max_error\n",
    "    else: \n",
    "        return error\n",
    "\n",
    "def metric_diffusive_state(gt = None, pred = None, max_error = False):\n",
    "    ''' \n",
    "    Compute the F1 score between diffusive states. \n",
    "    ''' \n",
    "    return f1_score(gt.astype(int), pred.astype(int), average = 'micro')"
   ]
  },
  {
   "cell_type": "code",
   "execution_count": null,
   "id": "e261398c-e7e3-49ef-b479-ab18c9afe849",
   "metadata": {},
   "outputs": [],
   "source": [
    "x = np.random.rand(100)\n",
    "y = np.random.rand(100)"
   ]
  },
  {
   "cell_type": "code",
   "execution_count": null,
   "id": "b859045c-4144-43bc-baf8-73487610c656",
   "metadata": {},
   "outputs": [
    {
     "data": {
      "text/plain": [
       "0.014261449910975834"
      ]
     },
     "execution_count": null,
     "metadata": {},
     "output_type": "execute_result"
    }
   ],
   "source": [
    "metric_diffusion_coefficient(x+2,y+2, threshold_min=-2)"
   ]
  },
  {
   "cell_type": "markdown",
   "id": "93484dec-61e2-43b9-8317-3011a9a5527b",
   "metadata": {},
   "source": [
    "### Pairing and metrics calculation"
   ]
  },
  {
   "cell_type": "code",
   "execution_count": null,
   "id": "239014b9-4db6-4742-a988-7d583e700899",
   "metadata": {},
   "outputs": [],
   "source": [
    "#| export\n",
    "def check_no_changepoints(GT_cp, GT_alpha, GT_D, GT_s,\n",
    "                          preds_cp, preds_alpha, preds_D, preds_s,\n",
    "                          T:bool|int = None):\n",
    "    '''\n",
    "    Given predicionts over changepoints and variables, checks if in both GT and preds there is an \n",
    "    absence of change point. If so, takes that into account to pair variables.\n",
    "    \n",
    "    Parameters\n",
    "    ----------\n",
    "    GT_cp : list, int, float\n",
    "        Groundtruth change points\n",
    "    GT_alpha : list, float\n",
    "        Groundtruth anomalous exponent\n",
    "    GT_D : list, float\n",
    "        Groundtruth diffusion coefficient\n",
    "    GT_s : list, float\n",
    "        Groundtruth diffusive state\n",
    "    preds_cp : list, int, float\n",
    "        Predicted change points\n",
    "    preds_alpha : list, float\n",
    "        Predicted anomalous exponent\n",
    "    preds_D : list, float\n",
    "        Predicted diffusion coefficient\n",
    "    preds_s : list, float\n",
    "        Predicted diffusive state\n",
    "    T : bool,int\n",
    "        (optional) Length of the trajectories. If none, last change point is length.\n",
    "    \n",
    "    Returns\n",
    "    -------\n",
    "    tuple\n",
    "        - False if there are change points. True if there were missing change points.\n",
    "        - Next three are either all Nones if change points were detected, or paired exponents, \n",
    "        coefficient and states if some change points were missing.\n",
    "    \n",
    "    '''\n",
    "\n",
    "\n",
    "    if isinstance(GT_cp, int) or isinstance(GT_cp, float):\n",
    "        GT_cp = [GT_cp]\n",
    "    if isinstance(preds_cp, int) or isinstance(preds_cp, float):\n",
    "        preds_cp = [preds_cp]\n",
    "        \n",
    "    no_GT_cp = False; no_preds_cp = False\n",
    "    # CP always contain the final point of the trajectory, hence minimal length is one\n",
    "    if len(GT_cp) == 1: no_GT_cp = True\n",
    "    if len(preds_cp) == 1: no_preds_cp = True       \n",
    "        \n",
    "\n",
    "    if no_GT_cp + no_preds_cp == 0:\n",
    "        return False, None, None, None\n",
    "    \n",
    "    else:\n",
    "\n",
    "        [row_ind, col_ind], _ = segment_assignment(GT_cp, preds_cp, T)   \n",
    "\n",
    "        if no_GT_cp and not no_preds_cp:\n",
    "            paired_alpha = np.array([[GT_alpha[0], preds_alpha[col_ind[0]]]])\n",
    "            paired_D = np.array([[GT_D[0], preds_D[col_ind[0]]]])\n",
    "            paired_s = np.array([[GT_s[0], preds_s[col_ind[0]]]])\n",
    "\n",
    "        if no_preds_cp and not no_GT_cp:\n",
    "            row_position = np.argwhere(col_ind == 0).flatten()[0]            \n",
    "            paired_alpha = np.array([[GT_alpha[row_position], preds_alpha[col_ind[row_position]]]])\n",
    "            paired_D = np.array([[GT_D[row_position], preds_D[col_ind[row_position]]]])\n",
    "            paired_s = np.array([[GT_s[row_position], preds_s[col_ind[row_position]]]])\n",
    "            \n",
    "        if no_preds_cp and no_GT_cp: \n",
    "            paired_alpha = np.array([[GT_alpha[0], preds_alpha[0]]])\n",
    "            paired_D = np.array([[GT_D[0], preds_D[0]]])\n",
    "            paired_s = np.array([[GT_s[0], preds_s[0]]])\n",
    "            \n",
    "\n",
    "        return True, paired_alpha, paired_D, paired_s"
   ]
  },
  {
   "cell_type": "code",
   "execution_count": null,
   "id": "connected-lithuania",
   "metadata": {},
   "outputs": [],
   "source": [
    "#| export\n",
    "def segment_property_errors(GT_cp, GT_alpha, GT_D, GT_s,\n",
    "                            preds_cp, preds_alpha, preds_D, preds_s,\n",
    "                            return_pairs = False,\n",
    "                            T = None):\n",
    "    '''\n",
    "    Given predicionts over change points and the value of diffusion parameters in the generated\n",
    "    segments, computes the defined metrics.\n",
    "    \n",
    "    Parameters\n",
    "    ----------\n",
    "    GT_cp : list, int, float\n",
    "        Groundtruth change points\n",
    "    GT_alpha : list, float\n",
    "        Groundtruth anomalous exponent\n",
    "    GT_D : list, float\n",
    "        Groundtruth diffusion coefficient\n",
    "    GT_s : list, float\n",
    "        Groundtruth diffusive state\n",
    "    preds_cp : list, int, float\n",
    "        Predicted change points\n",
    "    preds_alpha : list, float\n",
    "        Predicted anomalous exponent\n",
    "    preds_D : list, float\n",
    "        Predicted diffusion coefficient\n",
    "    preds_s : list, float\n",
    "        Predicted diffusive state\n",
    "    return_pairs : bool\n",
    "        If True, returns the assigment pairs for each diffusive property.\n",
    "    T : bool,int\n",
    "        (optional) Length of the trajectories. If none, last change point is length.\n",
    "    \n",
    "    Returns\n",
    "    -------\n",
    "    tuple\n",
    "        - if return_pairs = True, returns the assigned pairs of diffusive properties\n",
    "        - if return_pairs = False, returns the errors for each diffusive property\n",
    "    '''\n",
    "    \n",
    "    # Check cases in which changepoint where not detected or there were none in groundtruth\n",
    "    no_change_point_case, paired_alpha, paired_D, paired_s = check_no_changepoints(GT_cp, GT_alpha, GT_D, GT_s,\n",
    "                                                                                   preds_cp, preds_alpha, preds_D, preds_s, T)\n",
    "   \n",
    "    if not no_change_point_case:\n",
    "        # Solve the assignment problem\n",
    "        [row_ind, col_ind], _ = segment_assignment(GT_cp, preds_cp, T)\n",
    "   \n",
    "        # iterate over the groundtruth segments\n",
    "        paired_alpha, paired_D, paired_s = [], [], []\n",
    "        for idx_seg, (gt_alpha, gt_D) in enumerate(zip(GT_alpha, GT_D)):\n",
    "\n",
    "            row_position = np.argwhere(row_ind == idx_seg).flatten()\n",
    "\n",
    "            # if the GT segment was associated to a prediction\n",
    "            if len(row_position) > 0:\n",
    "                row_position = int(row_position)\n",
    "                # alpha                \n",
    "                gt_a_seg = GT_alpha[idx_seg]                \n",
    "                pred_a_seg = preds_alpha[col_ind[row_position]]\n",
    "                # d\n",
    "                gt_d_seg = GT_D[idx_seg]\n",
    "                pred_d_seg = preds_D[col_ind[row_position]]\n",
    "                # state\n",
    "                gt_s_seg = GT_s[idx_seg]\n",
    "                pred_s_seg = preds_s[col_ind[row_position]]\n",
    "\n",
    "                paired_alpha.append([gt_a_seg, pred_a_seg])\n",
    "                paired_D.append([gt_d_seg, pred_d_seg])\n",
    "                paired_s.append([gt_s_seg, pred_s_seg])\n",
    "\n",
    "        paired_alpha, paired_D, paired_s = np.array(paired_alpha), np.array(paired_D), np.array(paired_s) \n",
    "    \n",
    "    if return_pairs:\n",
    "        return paired_alpha, paired_D, paired_s \n",
    "    else:\n",
    "        error_alpha = metric_anomalous_exponent(paired_alpha[:,0], paired_alpha[:,1])\n",
    "        error_D = metric_diffusion_coefficient(paired_D[:,0], paired_D[:,1])\n",
    "        error_s = metric_diffusive_state(paired_s[:,0], paired_s[:,1])\n",
    "        return error_alpha, error_D, error_s"
   ]
  },
  {
   "cell_type": "markdown",
   "id": "de922805-cc70-4fa9-94cb-87da64659053",
   "metadata": {},
   "source": [
    "We generate some random predictions to check how the metrics behave. We consider errors also in the change point predictions, hence there will be some segment mismatchings, which will affect the diffusive properties predictions:"
   ]
  },
  {
   "cell_type": "code",
   "execution_count": null,
   "id": "matched-commonwealth",
   "metadata": {},
   "outputs": [],
   "source": [
    "T = 200; \n",
    "ngts = 10; \n",
    "errors_alpha = np.linspace(0, 1, ngts)\n",
    "errors_d = np.linspace(0, 10, ngts)\n",
    "errors_s = np.linspace(0, 1, ngts)\n",
    "\n",
    "metric_a, metric_d, metric_s = [], [], []\n",
    "for error_a, error_d, error_s in zip(errors_alpha, errors_d, errors_s):\n",
    "    la, ld, ls = [], [], []\n",
    "    for _ in range(100):\n",
    "\n",
    "        GT_cp = np.sort(np.random.choice(np.arange(1,T-1), ngts, replace = False))\n",
    "        preds_cp = np.sort(np.random.choice(np.arange(1,T-1), ngts, replace = False)) \n",
    "\n",
    "        GT_alpha = np.random.rand(GT_cp.shape[0]+1)\n",
    "        preds_alpha = GT_alpha + np.random.randn(preds_cp.shape[0]+1)*error_a\n",
    "\n",
    "        GT_D = np.abs(np.random.randn(GT_cp.shape[0]+1)*10)\n",
    "        preds_D = GT_D + np.abs(np.random.randn(preds_cp.shape[0]+1))*error_d\n",
    "        \n",
    "        GT_s = np.random.randint(0, 5, GT_cp.shape[0]+1)\n",
    "        coin = np.random.rand(len(GT_s))\n",
    "        preds_s = GT_s.copy()\n",
    "        preds_s[coin < error_s] = np.random.randint(0, 5, len(coin[coin < error_s]))\n",
    "\n",
    "        m_a, m_d, m_s = segment_property_errors(GT_cp, GT_alpha, GT_D, GT_s, preds_cp, preds_alpha, preds_D, preds_s, T = T)\n",
    "        \n",
    "        la.append(m_a); ld.append(m_d); ls.append(m_s)\n",
    "    \n",
    "    metric_a.append(np.mean(la))\n",
    "    metric_d.append(np.mean(ld))    \n",
    "    metric_s.append(np.mean(ls))"
   ]
  },
  {
   "cell_type": "markdown",
   "id": "f03a222d-264e-46d1-98ec-206f8fc8d00f",
   "metadata": {},
   "source": [
    "With no error in the changepoint predicitions:"
   ]
  },
  {
   "cell_type": "code",
   "execution_count": null,
   "id": "historical-marathon",
   "metadata": {},
   "outputs": [
    {
     "data": {
      "text/plain": [
       "[Text(0.5, 0, 'Error magnitude'),\n",
       " Text(0.5, 0, 'Error magnitude'),\n",
       " Text(0.5, 0, 'Error magnitude')]"
      ]
     },
     "execution_count": null,
     "metadata": {},
     "output_type": "execute_result"
    },
    {
     "data": {
      "image/png": "[encoded data removed]",
      "text/plain": [
       "<Figure size 900x300 with 3 Axes>"
      ]
     },
     "metadata": {},
     "output_type": "display_data"
    }
   ],
   "source": [
    "fig, ax = plt.subplots(1, 3, figsize = (9, 3), tight_layout = True)\n",
    "\n",
    "ax[0].plot(np.arange(ngts), errors_alpha, c = 'C0', ls = '--', label = 'Expected with no assigment error')\n",
    "ax[0].plot(np.arange(ngts), metric_a, c = 'C0')\n",
    "ax[0].set_title(r'Error in $\\alpha$ (MAE)')\n",
    "\n",
    "#ax[1].plot(np.arange(ngts), errors_d, c = 'C1', ls = '--')\n",
    "ax[1].plot(np.arange(ngts), metric_d, c = 'C1')\n",
    "ax[1].set_title(r'Error in $D$ (MSLE)')\n",
    "\n",
    "ax[2].plot(np.arange(ngts), metric_s, c = 'C1')\n",
    "ax[2].set_title(r'Error in states (JI)')\n",
    "\n",
    "plt.setp(ax, xlabel = 'Error magnitude')"
   ]
  },
  {
   "cell_type": "markdown",
   "id": "4bfa0af4-45ff-4ca5-9dc4-bec9a0cf9969",
   "metadata": {},
   "source": [
    "With error in the changepoint predicitions:"
   ]
  },
  {
   "cell_type": "code",
   "execution_count": null,
   "id": "dac8324f-6bc4-4a44-9115-ad0facf46de4",
   "metadata": {},
   "outputs": [
    {
     "data": {
      "text/plain": [
       "[Text(0.5, 0, 'Error magnitude'),\n",
       " Text(0.5, 0, 'Error magnitude'),\n",
       " Text(0.5, 0, 'Error magnitude')]"
      ]
     },
     "execution_count": null,
     "metadata": {},
     "output_type": "execute_result"
    },
    {
     "data": {
      "image/png": "[encoded data removed]",
      "text/plain": [
       "<Figure size 900x300 with 3 Axes>"
      ]
     },
     "metadata": {},
     "output_type": "display_data"
    }
   ],
   "source": [
    "fig, ax = plt.subplots(1, 3, figsize = (9, 3), tight_layout = True)\n",
    "\n",
    "ax[0].plot(np.arange(ngts), errors_alpha, c = 'C0', ls = '--', label = 'Expected with no assigment error')\n",
    "ax[0].plot(np.arange(ngts), metric_a, c = 'C0')\n",
    "ax[0].set_title(r'Error in $\\alpha$ (MAE)')\n",
    "\n",
    "#ax[1].plot(np.arange(ngts), errors_d, c = 'C1', ls = '--')\n",
    "ax[1].plot(np.arange(ngts), metric_d, c = 'C1')\n",
    "ax[1].set_title(r'Error in $D$ (MSLE)')\n",
    "\n",
    "ax[2].plot(np.arange(ngts), metric_s, c = 'C1')\n",
    "ax[2].set_title(r'Error in states (JI)')\n",
    "\n",
    "plt.setp(ax, xlabel = 'Error magnitude')"
   ]
  },
  {
   "cell_type": "markdown",
   "id": "073b1403-1a29-44ac-b738-cb087e0083cd",
   "metadata": {},
   "source": [
    "## Ensemble metrics"
   ]
  },
  {
   "cell_type": "code",
   "execution_count": null,
   "id": "88bf6184-f786-46fc-89b6-afe2c9b8d412",
   "metadata": {},
   "outputs": [],
   "source": [
    "#| export\n",
    "from andi_datasets.models_phenom import models_phenom\n",
    "def extract_ensemble(state_label, dic):\n",
    "        ''' \n",
    "        Given an array of the diffusive state and a dictionary with the diffusion information,\n",
    "        returns a summary of the ensemble properties for the current dataset.\n",
    "\n",
    "        Parameters\n",
    "        ----------\n",
    "        state_label : array\n",
    "            Array containing the diffusive state of the particles in the dataset.\n",
    "            For multi-state and dimerization, this must be the number associated to the\n",
    "            state (for dimerization, 0 is free, 1 is dimerized). For the rest, we follow\n",
    "            the numeration of models_phenom().lab_state.\n",
    "        dic : dict \n",
    "            Dictionary containing the information of the input dataset.\n",
    "       \n",
    "       Returns\n",
    "       -------\n",
    "       array\n",
    "           Matrix containing the ensemble information of the input dataset. It has the following shape:\n",
    "            |mu_alpha1      mu_alpha2     ... |\n",
    "            |sigma_alpha1   sigma_alpha2  ... |\n",
    "            |mu_D1          mu_D1         ... | \n",
    "            |sigma_D1       sigma_D2      ... |\n",
    "            |counts_state1  counts_state2 ... |\n",
    "        '''\n",
    "\n",
    "        # Single state\n",
    "        if dic['model'] == 'single_state': \n",
    "            ensemble = np.vstack((dic['alphas'][0],\n",
    "                                   dic['alphas'][1],\n",
    "                                   dic['Ds'][0],\n",
    "                                   dic['Ds'][1],\n",
    "                                   len(state_label)\n",
    "                                   ))\n",
    "        # Multi-state\n",
    "        if dic['model'] == 'multi_state':\n",
    "            states, counts = np.unique(state_label, return_counts=True)    \n",
    "            # If the number of visited stated is not equal to the expected number of states\n",
    "            if len(states) != dic['alphas'].shape[0]:\n",
    "                states_corrected = np.ones(dic['alphas'].shape[0])\n",
    "                counts_corrected = np.ones(dic['alphas'].shape[0])\n",
    "                for s, c in zip(states, counts):\n",
    "                    counts_corrected[int(s)] = c\n",
    "            else: \n",
    "                counts_corrected = counts\n",
    "\n",
    "            ensemble = np.vstack((dic['alphas'][:, 0],\n",
    "                                   dic['alphas'][:, 1],\n",
    "                                   dic['Ds'][:, 0],\n",
    "                                   dic['Ds'][:, 1],\n",
    "                                   counts_corrected\n",
    "                                   ))\n",
    "\n",
    "        # Immobile\n",
    "        if dic['model'] == 'immobile_traps':\n",
    "            counts = [len(state_label[state_label == models_phenom().lab_state.index('i')]),\n",
    "                      len(state_label[state_label == models_phenom().lab_state.index('f')])]  \n",
    "            ensemble = np.vstack(([0, dic['alphas'][0]],\n",
    "                                   [0, dic['alphas'][1]],\n",
    "                                   [0, dic['Ds'][0]],\n",
    "                                   [0, dic['Ds'][1]],\n",
    "                                   counts\n",
    "                                   ))\n",
    "        # dimerization    \n",
    "        if dic['model'] == 'dimerization':\n",
    "            counts = [len(state_label[state_label == 0]),\n",
    "                      len(state_label[state_label == 1])]           \n",
    "            ensemble = np.vstack((dic['alphas'][:, 0],\n",
    "                                   dic['alphas'][:, 1],\n",
    "                                   dic['Ds'][:, 0],\n",
    "                                   dic['Ds'][:, 1],\n",
    "                                   counts\n",
    "                                   ))\n",
    "\n",
    "        if dic['model'] == 'confinement':\n",
    "            counts = [len(state_label[state_label == models_phenom().lab_state.index('f')]),\n",
    "                      len(state_label[state_label == models_phenom().lab_state.index('c')])]   \n",
    "            ensemble = np.vstack((dic['alphas'][:, 0],\n",
    "                                   dic['alphas'][:, 1],\n",
    "                                   dic['Ds'][:, 0],\n",
    "                                   dic['Ds'][:, 1],\n",
    "                                   counts\n",
    "                                   ))\n",
    "        return ensemble"
   ]
  },
  {
   "cell_type": "code",
   "execution_count": null,
   "id": "25c8c5d4-ff56-4b44-b454-5cfa92158ffd",
   "metadata": {},
   "outputs": [],
   "source": [
    "#| export\n",
    "import scipy.stats\n",
    "def multimode_dist(params, weights, bound, x, normalized = False):\n",
    "    '''\n",
    "    Generates a multimodal distribution with given parameters.\n",
    "    Also accounts for single mode if weight is float or int.\n",
    "    \n",
    "    Parameters\n",
    "    ----------\n",
    "    params : list\n",
    "        Mean and variances of every mode.\n",
    "    weights : list, float\n",
    "        Weight of every mode. If float, we consider a single mode.\n",
    "    bound : tuple\n",
    "        Bounds (min, max) of the functions support.\n",
    "    x : array\n",
    "        Support upon which the distribution is created.\n",
    "    normalize : bool\n",
    "        If True, returns the normalized distribution.\n",
    "    \n",
    "    Returns\n",
    "    -------\n",
    "    array\n",
    "        Value of the distribution in each point of the given support\n",
    "        \n",
    "    '''\n",
    "    func = scipy.stats.truncnorm\n",
    "    dist = np.zeros_like(x)\n",
    "    lower, upper = bound \n",
    "   \n",
    "    # If we have single state, change values to list to still\n",
    "    # have a loop:\n",
    "    if isinstance(weights, float) or isinstance(weights, int):\n",
    "        params = [params]\n",
    "        weights = [weights]\n",
    "        \n",
    "    for param, w in zip(params, weights):\n",
    "        mean, var  = param  \n",
    "        # introduce a cutoff to avoid nan when var = 0\n",
    "        if var == 0: var = 1e-9\n",
    "        unimodal = func.pdf(x,\n",
    "                            (lower-mean)/np.sqrt(var),\n",
    "                            (upper-mean)/np.sqrt(var),\n",
    "                            loc = mean,\n",
    "                            scale = np.sqrt(var))\n",
    "        dist += w*unimodal\n",
    "    if normalized:\n",
    "        dist /= np.sum(dist)\n",
    "    return dist"
   ]
  },
  {
   "cell_type": "code",
   "execution_count": null,
   "id": "daab0e62-f909-455b-8023-eb1607f28832",
   "metadata": {},
   "outputs": [],
   "source": [
    "#| export\n",
    "def distribution_distance(p:np.array, # distribution 1\n",
    "                          q:np.array # distribution 2\n",
    "                         )-> float:  # distance between distributions\n",
    "    ''' Calculates mean absolute error between two distributions. '''\n",
    "#     return np.sum(np.where(p != 0, p * np.log(p / q), 0))\n",
    "    return np.abs(p-q).mean()"
   ]
  },
  {
   "cell_type": "code",
   "execution_count": null,
   "id": "06daac47-901f-4a28-9902-4b9cbe8d581e",
   "metadata": {},
   "outputs": [
    {
     "data": {
      "image/png": "[encoded data removed]",
      "text/plain": [
       "<Figure size 2000x500 with 11 Axes>"
      ]
     },
     "metadata": {},
     "output_type": "display_data"
    }
   ],
   "source": [
    "means = np.linspace(0, 2, 30)\n",
    "normalize = False\n",
    "fig = plt.figure(figsize=(20, 5))\n",
    "gs = fig.add_gridspec(2, 10)\n",
    "\n",
    "# True distribution\n",
    "x = np.arange(0, 3, 0.01)\n",
    "params = [[1.7,0.01]]\n",
    "weights = [1]\n",
    "true = multimode_dist(params, weights, bound = [0, 3], x = x, normalized = normalize)\n",
    "\n",
    "\n",
    "\n",
    "KL = []\n",
    "for idx, mean in enumerate(means):\n",
    "    params = [[mean, 0.01]]\n",
    "    weights = [1]\n",
    "    pred = multimode_dist(params, weights, bound = [0, 3], x = x, normalized = normalize)  \n",
    "    KL.append(distribution_distance(true, pred))  \n",
    "    \n",
    "    if idx % 3 == 0:\n",
    "        \n",
    "        ax = fig.add_subplot(gs[0, int(idx/3)])\n",
    "        ax.plot(x, true, label = 'True')\n",
    "        ax.plot(x, pred, label = 'Predicted')        \n",
    "        plt.setp(ax, yticks = []);\n",
    "        \n",
    "      \n",
    "    if idx == 0:\n",
    "        ax.legend()\n",
    "    \n",
    "ax_kl = fig.add_subplot(gs[1, :])\n",
    "ax_kl.plot(KL, '-o')\n",
    "plt.setp(ax_kl, ylabel = 'MAE')\n",
    "ax_kl.grid()"
   ]
  },
  {
   "cell_type": "markdown",
   "id": "3f93ba93-70ea-41e6-aee2-222719f5160d",
   "metadata": {},
   "source": [
    "### Calculate ensemble metric\n"
   ]
  },
  {
   "cell_type": "code",
   "execution_count": null,
   "id": "b50cd496-98a5-4dd9-b4c2-59f79ebb252c",
   "metadata": {},
   "outputs": [],
   "source": [
    "#| export\n",
    "from andi_datasets.models_phenom import models_phenom\n",
    "\n",
    "def error_Ensemble_dataset(true_data, pred_data, return_distributions = False):\n",
    "    ''' \n",
    "    Calculates the ensemble metrics for the ANDI 2022 challenge. The input are matrices of shape:\n",
    "    \n",
    "    | col1 (state 1) | col2 (state 2) | col3 (state 3) | ... |\n",
    "    |:--------------:|:--------------:|:--------------:|:---:|\n",
    "    | $\\mu_a^1$      | $\\mu_a^2$      | $\\mu_a^3$      | ... |\n",
    "    | $\\sigma_a^1$   | $\\sigma_a^2$   | $\\sigma_a^3$   | ... |\n",
    "    | $\\mu_D^1$      | $\\mu_D^2$      | $\\mu_D^3$      | ... |        \n",
    "    | $\\sigma_D^1$   | $\\sigma_D^2$   | $\\sigma_D^3$   | ... |\n",
    "    | $N_1$          | $N_2$          | $N_3$          | ... |\n",
    "    \n",
    "    Parameters\n",
    "    ----------\n",
    "    true_data : array\n",
    "        Matrix containing the groundtruth data.\n",
    "    pred_data : array\n",
    "        Matrix containing the predicted data.\n",
    "    return_distributions : bool\n",
    "        If True, the function also outputs the generated distributions.\n",
    "    \n",
    "    Returns\n",
    "    -------\n",
    "    tuple\n",
    "        - distance_alpha: distance between anomalous exponents\n",
    "        - distance_D: distance between diffusion coefficients\n",
    "        - dists (if asked): distributions of both groundtruth and predicted data.        \n",
    "    \n",
    "    '''\n",
    "    \n",
    "    dists = []\n",
    "    for data in [true_data, pred_data]:\n",
    "        \n",
    "        if len(data.shape) > 1: # If we have more than one state\n",
    "            alpha_info = np.delete(data, [2,3, -1], 0)\n",
    "            d_info = data[2:-1,:]\n",
    "            weights = data[-1,:]\n",
    "            if weights.sum() > 1: weights /= weights.sum()\n",
    "        else: # If single state\n",
    "            alpha_info = data[:2]\n",
    "            d_info = data[2:-1]\n",
    "            weights = 1\n",
    "            \n",
    "        for idx, (var, bound) in enumerate(zip([alpha_info, d_info], \n",
    "                                               [models_phenom().bound_alpha, models_phenom().bound_D])):\n",
    "            if idx == 0: x = np.linspace(bound[0], bound[1], 1000)\n",
    "            else: x = np.logspace(np.log10(bound[0]), np.log10(bound[1]), 1000)\n",
    "            dists.append(multimode_dist(var.T, weights, bound, x))\n",
    "            \n",
    "    # Distance between alpha dists\n",
    "    distance_alpha = distribution_distance(dists[0], dists[2])\n",
    "    distance_D = distribution_distance(dists[1], dists[3])\n",
    "    \n",
    "    if return_distributions:\n",
    "        return distance_alpha, distance_D, dists\n",
    "    else:\n",
    "        return distance_alpha, distance_D"
   ]
  },
  {
   "cell_type": "markdown",
   "id": "sticky-parking",
   "metadata": {},
   "source": [
    "## Single trajectory metrics\n",
    "\n",
    "The participants will have to output predictions in a .txt file were each line corresponds to the predictions of a trajectory. The latter have to be ordered as:\n",
    "\n",
    "0, d$_0$, a$_0$, s$_0$, t$_1$, d$_1$, a$_1$, s$_1$, t$_2$, d$_2$, a$_2$, s$_2$, .... t$_n$, d$_n$, a$_n$, s$_n$,$T$\n",
    "\n",
    "where the first number corresponds to the trajectory index, then d$_i$, a$_i$, s$_i$ correspond to the diffusion coefficient, anomalous exponent and diffusive state of the $i$-th segment. For the latter, we have the following code:\n",
    " - 0: immobile\n",
    " - 1: confined\n",
    " - 2: brownian\n",
    " - 3: anomalous\n",
    " \n",
    "Last, t$_j$ corresponds to the $j$-th changepoints. The last changepoint $T$ corresponds to the length of the trajectory. Each prediction **must** contain $C$ changepoints and $C$ segments property values. If this is not fulfilled, the whole trajectory is considered as mispredicted.\n",
    "\n",
    "The .txt file will be first inspected. The data will then be collected into a dataframe"
   ]
  },
  {
   "cell_type": "code",
   "execution_count": null,
   "id": "incredible-spray",
   "metadata": {},
   "outputs": [],
   "source": [
    "#| export\n",
    "def check_prediction_length(pred):\n",
    "    '''\n",
    "    Given a trajectory segments prediction, checks whether it has C changepoints and C+1 segments properties values.\n",
    "    As it must also contain the index of the trajectory, this is summarized by being multiple of 4. \n",
    "    In some cases, the user needs to also predict the final point of the trajectory. In this case, \n",
    "    we will have a residu of 1.\n",
    "    '''\n",
    "    if len(pred) % 4 == 0 or len(pred) % 4 == 1 :\n",
    "        return True\n",
    "    else: \n",
    "        return False"
   ]
  },
  {
   "cell_type": "code",
   "execution_count": null,
   "id": "challenging-placement",
   "metadata": {},
   "outputs": [],
   "source": [
    "#| export\n",
    "def separate_prediction_values(pred):\n",
    "    '''\n",
    "    Given a prediction over trjaectory segments, extracts the predictions for each segment property\n",
    "    as well as the changepoint values.\n",
    "    '''        \n",
    "    Ds = pred[1::4]\n",
    "    alphas = pred[2::4]\n",
    "    states = pred[3::4]\n",
    "    cp = pred[4::4]    \n",
    "    return Ds, alphas, states, cp"
   ]
  },
  {
   "cell_type": "code",
   "execution_count": null,
   "id": "national-thread",
   "metadata": {},
   "outputs": [],
   "source": [
    "#| export\n",
    "def load_file_to_df(path_file, \n",
    "                    columns = ['traj_idx', 'Ds', 'alphas', 'states', 'changepoints']):\n",
    "    '''\n",
    "    Given the path of a .txt file, extract the segmentation predictions based on \n",
    "    the rules of the ANDI Challenge 2022\n",
    "    '''\n",
    "\n",
    "    with open(path_file) as f:\n",
    "        lines_pred = f.read().splitlines()\n",
    "\n",
    "    df = pandas.DataFrame(columns = columns)\n",
    "\n",
    "    for line in lines_pred:\n",
    "        # Extract values with comma separator and transform to float\n",
    "        pred_traj = line.split(',')\n",
    "        pred = [float(i) for i in pred_traj]\n",
    "        \n",
    "        # Check that prediction has the correct shape\n",
    "        pred_correct = check_prediction_length(pred)\n",
    "        \n",
    "        # If correct size, then extract parameters and add it to dataframe\n",
    "        if pred_correct:\n",
    "            preds_D, preds_a, preds_s, preds_cp = separate_prediction_values(pred)\n",
    "\n",
    "            current_row = df.shape[0]\n",
    "            for param, pred_param in zip(columns, [pred[0], preds_D, preds_a, preds_s, preds_cp]):\n",
    "                df.loc[current_row, param] = pred_param\n",
    "                \n",
    "    return df"
   ]
  },
  {
   "cell_type": "markdown",
   "id": "economic-memory",
   "metadata": {},
   "source": [
    "Saving fake data for test"
   ]
  },
  {
   "cell_type": "code",
   "execution_count": null,
   "id": "respiratory-potter",
   "metadata": {},
   "outputs": [],
   "source": [
    "file_gt, file_p = [], []\n",
    "T = 200; ngts = 10;\n",
    "for traj in range(100):\n",
    "    GT_cp = np.sort(np.random.choice(np.arange(1,T), ngts, replace = False))\n",
    "    preds_cp = np.sort(np.random.choice(np.arange(1,T+50), ngts, replace = False)) \n",
    "\n",
    "    GT_alpha = np.random.rand(GT_cp.shape[0]+1)\n",
    "    preds_alpha = GT_alpha# + 0.1 #np.random.randn(preds_cp.shape[0]+1)*0.1\n",
    "\n",
    "    GT_D = np.abs(np.random.randn(GT_cp.shape[0]+1)*10)\n",
    "    preds_D = GT_D + 1.5 #np.abs(np.random.randn(preds_cp.shape[0]+1))*1.6\n",
    "    \n",
    "    GT_state = np.random.randint(0, high = 5, size = GT_cp.shape[0]+1)\n",
    "    preds_state = np.random.randint(0, high = 5, size = preds_cp.shape[0]+1)\n",
    "    \n",
    "    list_gt, list_p = [traj, GT_D[0], GT_alpha[0], GT_state[0]], [traj, preds_D[0], preds_alpha[0], preds_state[0]]\n",
    "    for gtc, gta, gtd, gts, pc, pa, pd, ps in zip(GT_cp, GT_alpha[1:], GT_D[1:], GT_state[1:], preds_cp, preds_alpha[1:], preds_D[1:], preds_state[1:]):\n",
    "        list_gt += [gtc, gtd, gta, gts]\n",
    "        list_p += [pc, pd, pa, ps]\n",
    "        \n",
    "    file_gt.append(list_gt)\n",
    "    if traj != 6:\n",
    "        file_p.append(list_p)\n",
    "        \n",
    "pred_path, true_path = 'pred_test.txt', 'true_test.txt'\n",
    "np.savetxt(true_path, file_gt, delimiter=',')\n",
    "np.savetxt(pred_path, file_p, delimiter=',')"
   ]
  },
  {
   "cell_type": "markdown",
   "id": "prescribed-electricity",
   "metadata": {},
   "source": [
    "Recovering the data"
   ]
  },
  {
   "cell_type": "code",
   "execution_count": null,
   "id": "d97c23a0-713d-4033-97d3-d7e0e3e44369",
   "metadata": {},
   "outputs": [],
   "source": [
    "pred_path, true_path = 'pred_test.txt', 'true_test.txt'\n",
    "\n",
    "df_pred = load_file_to_df(pred_path)\n",
    "df_true = load_file_to_df(true_path)"
   ]
  },
  {
   "cell_type": "code",
   "execution_count": null,
   "id": "6205b6fd-1068-4d6a-96d0-31aa66537a02",
   "metadata": {},
   "outputs": [],
   "source": [
    "#| export\n",
    "def _get_error_bounds():\n",
    "    '''\n",
    "    Sets the current maximum errors we can do in the different diffusive properties.\n",
    "    '''\n",
    "    \n",
    "    threshold_error_alpha = 2\n",
    "    threshold_error_D = 1e5\n",
    "    threshold_error_s = -1\n",
    "    threshold_cp = 10\n",
    "    return threshold_error_alpha, threshold_error_D, threshold_error_s, threshold_cp"
   ]
  },
  {
   "cell_type": "code",
   "execution_count": null,
   "id": "floppy-creation",
   "metadata": {},
   "outputs": [],
   "source": [
    "#| export\n",
    "def error_SingleTraj_dataset(df_pred, df_true, \n",
    "                              threshold_error_alpha = 2, max_val_alpha = 2, min_val_alpha = 0, \n",
    "                              threshold_error_D = 1e5, max_val_D = 1e6, min_val_D = 1e-6, \n",
    "                              threshold_error_s = -1,\n",
    "                              threshold_cp = 10,\n",
    "                              prints = True, disable_tqdm = False\n",
    "                             ):\n",
    "    '''\n",
    "    Given two dataframes, corresponding to the predictions and true labels of a set\n",
    "    of trajectories from the ANDI challenge 2022, calculates the corresponding metrics\n",
    "    Columns must be for both (no order needed):\n",
    "    traj_idx | alphas | Ds | changepoints | states\n",
    "    df_true must also contain a column 'T'.\n",
    "    \n",
    "    Parameters\n",
    "    ----------\n",
    "    df_pred : dataframe\n",
    "        Predictions\n",
    "    df_true : dataframe\n",
    "        Groundtruth\n",
    "    threshold_error_alpha : float\n",
    "        (same for D, s, cp) Maximum possible error allowed. If bigger, it is substituted by this error.\n",
    "    max_val_alpha : float\n",
    "        (same for D, s, cp) Maximum value of the parameter.\n",
    "    min_val_alpha : float\n",
    "        (same for D, s, cp) Minimum value of the parameter.\n",
    "    print : bool\n",
    "        If True, prints the results.\n",
    "    disable_tqdm : bool\n",
    "        If True, disables the progress bar.\n",
    "    \n",
    "    Returns\n",
    "    -------\n",
    "    tuple\n",
    "        - rmse_CP: root mean squared error change points\n",
    "        - JI: Jaccard index change points\n",
    "        - error_alpha: mean absolute error anomalous exponents\n",
    "        - error_D: mean square log error diffusion coefficients\n",
    "        - error_s: Jaccar index diffusive states\n",
    "    \n",
    "    '''\n",
    "    # Initiate counting missing trajectories\n",
    "    missing_traj = False\n",
    "    \n",
    "    # Deleter saving variables, just in case...\n",
    "    try: del paired_alpha, paired_D, paired_s\n",
    "    except: pass\n",
    "\n",
    "    # for every trajectory, we stack paired segment properties. We also store changepoints info\n",
    "    ensemble_pred_cp, ensemble_true_cp = [], []\n",
    "    for t_idx in tqdm(df_true['traj_idx'].values, disable = disable_tqdm):\n",
    "        \n",
    "        traj_trues = df_true.loc[df_true.traj_idx == t_idx]\n",
    "\n",
    "        traj_preds = df_pred.loc[df_pred.traj_idx == t_idx]    \n",
    "        if traj_preds.shape[0] == 0:\n",
    "            # If there is no trajectory, we give maximum error. To do so, we redefine predictions\n",
    "            # and trues so that they give maximum error\n",
    "            missing_traj += 1                       \n",
    "            \n",
    "            preds_cp, preds_alpha, preds_D, preds_s = [[10],\n",
    "                                                       [0],\n",
    "                                                       [1],\n",
    "                                                       [0]]\n",
    "\n",
    "            trues_cp, trues_alpha, trues_D, trues_s = [[10+threshold_cp],\n",
    "                                                       [threshold_error_alpha],\n",
    "                                                       [1+threshold_error_D],\n",
    "                                                       [10]]\n",
    "        \n",
    "        else:      \n",
    "\n",
    "            preds_cp, preds_alpha, preds_D, preds_s = [np.array(traj_preds.changepoints.values[0]).astype(int),\n",
    "                                                       traj_preds.alphas.values[0],\n",
    "                                                       traj_preds.Ds.values[0],\n",
    "                                                       traj_preds.states.values[0]]\n",
    "\n",
    "            trues_cp, trues_alpha, trues_D, trues_s = [np.array(traj_trues.changepoints.values[0]).astype(int),\n",
    "                                                       traj_trues.alphas.values[0],\n",
    "                                                       traj_trues.Ds.values[0],\n",
    "                                                       traj_trues.states.values[0]]\n",
    "\n",
    "\n",
    "        # Collecting changepoints for metric\n",
    "        # In this metric, we don't want to enter the final point of the trajectory\n",
    "        ensemble_pred_cp.append(preds_cp[:-1])\n",
    "        ensemble_true_cp.append(trues_cp[:-1])        \n",
    "        \n",
    "        # collecting segment properties error after segment assignment\n",
    "        pair_a, pair_d, pair_s = segment_property_errors(trues_cp, trues_alpha, trues_D, trues_s, \n",
    "                                                         preds_cp, preds_alpha, preds_D, preds_s,\n",
    "                                                         return_pairs = True)\n",
    "        \n",
    "\n",
    "        \n",
    "        try:\n",
    "            paired_alpha = np.vstack((paired_alpha, pair_a))\n",
    "            paired_D = np.vstack((paired_D, pair_d))\n",
    "            paired_s = np.vstack((paired_s, pair_s))        \n",
    "        except:\n",
    "            paired_alpha = pair_a\n",
    "            paired_D = pair_d\n",
    "            paired_s = pair_s\n",
    "               \n",
    "    #### Calculate metrics from assembled properties   \n",
    "\n",
    "    # checking for nans and problems in predictions\n",
    "    wrong_alphas = np.argwhere(np.isnan(paired_alpha[:, 1]) | (paired_alpha[:, 1] > 2) | (paired_alpha[:, 1] < 0)).flatten()\n",
    "    paired_alpha[wrong_alphas, 1] = paired_alpha[wrong_alphas, 0] + threshold_error_alpha\n",
    "\n",
    "    wrong_ds = np.argwhere(np.isnan(paired_D[:, 1])).flatten()\n",
    "    paired_D = np.abs(paired_D)\n",
    "    paired_D[wrong_ds, 1] = paired_D[wrong_ds, 0] + threshold_error_D\n",
    "    \n",
    "    wrong_s = np.argwhere((paired_s[:, 1] > 4) | (paired_s[:, 1]<0))\n",
    "    paired_s[wrong_s, 1] = threshold_error_s    \n",
    "    \n",
    "    # Changepoints\n",
    "    rmse_CP, JI = ensemble_changepoint_error(ensemble_true_cp, ensemble_pred_cp, threshold = threshold_cp)\n",
    "\n",
    "    # Segment properties\n",
    "    error_alpha = metric_anomalous_exponent(paired_alpha[:,0], paired_alpha[:,1])\n",
    "    error_D = metric_diffusion_coefficient(paired_D[:,0], paired_D[:,1])\n",
    "    error_s = metric_diffusive_state(paired_s[:,0], paired_s[:,1])\n",
    "    \n",
    "    if prints:        \n",
    "        print(f'Summary of metrics assesments:')\n",
    "        if missing_traj is not False:            \n",
    "            print(f'\\n{missing_traj} missing trajectory/ies. ')           \n",
    "        if rmse_CP == threshold_cp:\n",
    "            print(f'No change points found. RMSE set to max ({threshold_cp})')\n",
    "        print(f'\\nChangepoint Metrics \\nRMSE: {round(rmse_CP, 3)} \\nJaccard Index: {round(JI, 3)}',\n",
    "              f'\\n\\nDiffusion property metrics \\nMetric anomalous exponent: {error_alpha} \\nMetric diffusion coefficient: {error_D} \\nMetric diffusive state: {error_s}')\n",
    "              \n",
    "              \n",
    "\n",
    "    return rmse_CP, JI, error_alpha, error_D, error_s"
   ]
  },
  {
   "cell_type": "markdown",
   "id": "85c19334-439c-4d35-be1e-6df19d72e136",
   "metadata": {},
   "source": [
    "####  Test"
   ]
  },
  {
   "cell_type": "code",
   "execution_count": null,
   "id": "72402101-cae8-4bd3-a441-03ea54d3dae2",
   "metadata": {},
   "outputs": [],
   "source": [
    "#| hide\n",
    "from andi_datasets.models_phenom import models_phenom\n",
    "from andi_datasets.utils_challenge import array_to_df, error_SingleTraj_dataset"
   ]
  },
  {
   "cell_type": "markdown",
   "id": "20262d20-d452-49b4-8252-a9a0fd4019e6",
   "metadata": {},
   "source": [
    "**Two datasets with same number of trajs**"
   ]
  },
  {
   "cell_type": "code",
   "execution_count": null,
   "id": "5a5440d9-3290-4ed5-b016-bdf8f1748034",
   "metadata": {},
   "outputs": [
    {
     "data": {
      "application/vnd.jupyter.widget-view+json": {
       "model_id": "8ef46efe5638454c870655fc1a8cb419",
       "version_major": 2,
       "version_minor": 0
      },
      "text/plain": [
       "  0%|          | 0/250 [00:00<?, ?it/s]"
      ]
     },
     "metadata": {},
     "output_type": "display_data"
    },
    {
     "data": {
      "application/vnd.jupyter.widget-view+json": {
       "model_id": "8dfca3309a874824a204bfaf2f22f667",
       "version_major": 2,
       "version_minor": 0
      },
      "text/plain": [
       "  0%|          | 0/250 [00:00<?, ?it/s]"
      ]
     },
     "metadata": {},
     "output_type": "display_data"
    }
   ],
   "source": [
    "trajs, labels = models_phenom().immobile_traps(T = 200, N = 250, alphas=0.5, Ds = 1, L = 20, Nt = 100, Pb = 1, Pu = 0.5)\n",
    "\n",
    "trajs = trajs.transpose((1, 0, 2)).copy()\n",
    "labels = labels.transpose(1, 0, 2)\n",
    "\n",
    "df_in, df_trues = array_to_df(trajs, labels)\n",
    "\n",
    "trajs, labels = models_phenom().immobile_traps(T = 200, N = 250, alphas=[0.5, 0.1], Ds = 1, L = 20, Nt = 100, Pb = 1, Pu = 0.5)\n",
    "\n",
    "trajs = trajs.transpose((1, 0, 2)).copy()\n",
    "labels = labels.transpose(1, 0, 2)\n",
    "\n",
    "df_in, df_preds = array_to_df(trajs, labels)"
   ]
  },
  {
   "cell_type": "code",
   "execution_count": null,
   "id": "01e6a43b-51da-47df-81d1-0e3761df24f1",
   "metadata": {},
   "outputs": [
    {
     "name": "stdout",
     "output_type": "stream",
     "text": [
      "Summary of metrics assesments:\n",
      "\n",
      "Changepoint Metrics \n",
      "RMSE: 4.222 \n",
      "Jaccard Index: 0.402 \n",
      "\n",
      "Diffusion property metrics \n",
      "Metric anomalous exponent: 0.3187475166785641 \n",
      "Metric diffusion coefficient: 0.2407373554580533 \n",
      "Metric diffusive state: 0.49893673577884107\n"
     ]
    }
   ],
   "source": [
    "error_SingleTraj_dataset(df_preds, df_trues, prints = True, disable_tqdm=True);"
   ]
  },
  {
   "cell_type": "markdown",
   "id": "a2fa37b7-8736-489b-8bf3-119a2253c3d5",
   "metadata": {},
   "source": [
    "**Two datasets with different number of trajectories**"
   ]
  },
  {
   "cell_type": "code",
   "execution_count": null,
   "id": "db883eb0-eda2-4085-af49-b7482dfc3ab5",
   "metadata": {},
   "outputs": [
    {
     "data": {
      "application/vnd.jupyter.widget-view+json": {
       "model_id": "722f2ef9f7d54fd3a6f961ac438180cb",
       "version_major": 2,
       "version_minor": 0
      },
      "text/plain": [
       "  0%|          | 0/350 [00:00<?, ?it/s]"
      ]
     },
     "metadata": {},
     "output_type": "display_data"
    },
    {
     "data": {
      "application/vnd.jupyter.widget-view+json": {
       "model_id": "382ad7f1f9404a3b8280ad939e0971eb",
       "version_major": 2,
       "version_minor": 0
      },
      "text/plain": [
       "  0%|          | 0/250 [00:00<?, ?it/s]"
      ]
     },
     "metadata": {},
     "output_type": "display_data"
    }
   ],
   "source": [
    "trajs, labels = models_phenom().immobile_traps(T = 200, N = 350, alphas=[0.5,0.01], Ds = [1., 0.1], L = 20, Nt = 100, Pb = 1, Pu = 0.5)\n",
    "\n",
    "trajs = trajs.transpose((1, 0, 2)).copy()\n",
    "labels = labels.transpose(1, 0, 2)\n",
    "\n",
    "df_in, df_trues = array_to_df(trajs, labels, label_values=[0.5, 1], diff_states=[3, 2])\n",
    "\n",
    "trajs, labels = models_phenom().immobile_traps(T = 200, N = 250, alphas=[0.5, 0.1], Ds = 1, L = 20, Nt = 100, Pb = 1, Pu = 0.5)\n",
    "\n",
    "trajs = trajs.transpose((1, 0, 2)).copy()\n",
    "labels = labels.transpose(1, 0, 2)\n",
    "\n",
    "df_in, df_preds = array_to_df(trajs, labels, label_values=[0.5, 1], diff_states=[3, 2])"
   ]
  },
  {
   "cell_type": "code",
   "execution_count": null,
   "id": "26ae9345-a69e-4d9b-b3f4-8833b7686cb3",
   "metadata": {},
   "outputs": [
    {
     "data": {
      "application/vnd.jupyter.widget-view+json": {
       "model_id": "32b2c930add14fe0a78d340fc2095149",
       "version_major": 2,
       "version_minor": 0
      },
      "text/plain": [
       "  0%|          | 0/350 [00:00<?, ?it/s]"
      ]
     },
     "metadata": {},
     "output_type": "display_data"
    },
    {
     "name": "stdout",
     "output_type": "stream",
     "text": [
      "Summary of metrics assesments:\n",
      "\n",
      "100 missing trajectory/ies. \n",
      "\n",
      "Changepoint Metrics \n",
      "RMSE: 4.051 \n",
      "Jaccard Index: 0.441 \n",
      "\n",
      "Diffusion property metrics \n",
      "Metric anomalous exponent: 0.35483874584715985 \n",
      "Metric diffusion coefficient: 3.1690909054732668 \n",
      "Metric diffusive state: 0.4913685263947961\n"
     ]
    },
    {
     "data": {
      "text/plain": [
       "(4.050708208970335,\n",
       " 0.4407643312101911,\n",
       " 0.35483874584715985,\n",
       " 3.1690909054732668,\n",
       " 0.4913685263947961)"
      ]
     },
     "execution_count": null,
     "metadata": {},
     "output_type": "execute_result"
    }
   ],
   "source": [
    "error_SingleTraj_dataset(df_preds, df_trues, prints = True)"
   ]
  },
  {
   "cell_type": "code",
   "execution_count": null,
   "id": "35142132-e862-42ff-81ef-b472431c30bd",
   "metadata": {},
   "outputs": [
    {
     "data": {
      "application/vnd.jupyter.widget-view+json": {
       "model_id": "e7158e67f9d74360a3dca327fbaf70ad",
       "version_major": 2,
       "version_minor": 0
      },
      "text/plain": [
       "  0%|          | 0/5 [00:00<?, ?it/s]"
      ]
     },
     "metadata": {},
     "output_type": "display_data"
    },
    {
     "data": {
      "application/vnd.jupyter.widget-view+json": {
       "model_id": "047e0943b55341579c3ecbab3bd6aad5",
       "version_major": 2,
       "version_minor": 0
      },
      "text/plain": [
       "  0%|          | 0/7 [00:00<?, ?it/s]"
      ]
     },
     "metadata": {},
     "output_type": "display_data"
    }
   ],
   "source": [
    "trajs, labels = models_phenom().immobile_traps(T = 200, N = 5, alphas=[0.5,0.01], Ds = [1., 0.1], L = 20, Nt = 100, Pb = 1, Pu = 0.5)\n",
    "\n",
    "trajs = trajs.transpose((1, 0, 2)).copy()\n",
    "labels = labels.transpose(1, 0, 2)\n",
    "\n",
    "df_in, df_preds  = array_to_df(trajs, labels, label_values=[0.5, 1], diff_states=[3, 2])\n",
    "\n",
    "trajs, labels = models_phenom().multi_state(T = 200, N = 7, L = 20, M = np.array([[0.9,0.1],[0.9,0.1]]))\n",
    "\n",
    "trajs = trajs.transpose((1, 0, 2)).copy()\n",
    "labels = labels.transpose(1, 0, 2)\n",
    "\n",
    "df_in, df_trues  = array_to_df(trajs, labels, label_values=[0.5, 1], diff_states=[3, 2])\n"
   ]
  },
  {
   "cell_type": "code",
   "execution_count": null,
   "id": "d0da1d1a-504c-4f9d-9e48-45966773ba36",
   "metadata": {},
   "outputs": [
    {
     "data": {
      "application/vnd.jupyter.widget-view+json": {
       "model_id": "00329cc314f149939b4c5971fbfb2ae9",
       "version_major": 2,
       "version_minor": 0
      },
      "text/plain": [
       "  0%|          | 0/7 [00:00<?, ?it/s]"
      ]
     },
     "metadata": {},
     "output_type": "display_data"
    },
    {
     "name": "stdout",
     "output_type": "stream",
     "text": [
      "Summary of metrics assesments:\n",
      "\n",
      "2 missing trajectory/ies. \n",
      "\n",
      "Changepoint Metrics \n",
      "RMSE: 2.903 \n",
      "Jaccard Index: 0.188 \n",
      "\n",
      "Diffusion property metrics \n",
      "Metric anomalous exponent: 0.8269399281523714 \n",
      "Metric diffusion coefficient: 8.262443034681892 \n",
      "Metric diffusive state: 0.41379310344827586\n"
     ]
    }
   ],
   "source": [
    "error_SingleTraj_dataset(df_preds, df_trues, prints = True);"
   ]
  },
  {
   "cell_type": "markdown",
   "id": "fd8ecb25-91f0-4805-b8ab-81a454862c16",
   "metadata": {},
   "source": [
    "# Codalab scoring program\n",
    "\n",
    "Here we prepare the program that will be uploaded to codalab in order to do the assesment of the participants predictions.\n",
    "\n",
    "**File organization**\n",
    "\n",
    "The files must have names: `Ti_ens_exp_XXX_fov_yyy.txt`  and  `Ti_st_exp_XXX_fov_yyy.txt`, where `i` refers to the track and can be 1 (video track) or 2 (trajectory track. `ens` refers to ensemble informations and `st` to single trajectory.\n",
    "\n",
    "**Extra information**\n",
    "\n",
    "We will have an extra reference file which gives the model of each experiment. This is also needed to avoid considering Single state in the averages of change point metrics.\n"
   ]
  },
  {
   "cell_type": "code",
   "execution_count": null,
   "id": "12816c49-330a-478f-aa6f-8c876413d138",
   "metadata": {},
   "outputs": [],
   "source": [
    "#| export\n",
    "import re\n",
    "import sys\n",
    "import os"
   ]
  },
  {
   "cell_type": "code",
   "execution_count": null,
   "id": "9df3c707-51dd-4fa8-a86d-5c64f35d1d36",
   "metadata": {},
   "outputs": [],
   "source": [
    "#| export\n",
    "#| hide\n",
    "def listdir_nohidden(path):\n",
    "    for f in os.listdir(path):\n",
    "        if not f.startswith(('.','_')):\n",
    "            yield f"
   ]
  },
  {
   "cell_type": "code",
   "execution_count": null,
   "id": "c114d704-eabd-4313-b67f-9a1c62619c60",
   "metadata": {},
   "outputs": [],
   "source": [
    "#| export\n",
    "def codalab_scoring(input_dir , output_dir):\n",
    "    '''\n",
    "    Given an input directoy where predictions and groundtruths for the ANDI 2 challenge can be found,\n",
    "    calculates metrics and outputs the results in a file in the given output directory.\n",
    "    This code is prepared to be run in Codalab.\n",
    "    '''\n",
    "    \n",
    "    # Error bounds\n",
    "    threshold_error_alpha, threshold_error_D, threshold_error_s, threshold_cp = _get_error_bounds()\n",
    "    \n",
    "    ### Saving variables\n",
    "    # Track 1 - Videos\n",
    "    t1_ens = {'alpha': [],\n",
    "              'D': []}\n",
    "\n",
    "    t1_st = {'RMSE': [],\n",
    "             'JI': [],\n",
    "             'alpha': [],\n",
    "             'D': [],\n",
    "             'state': [],\n",
    "             'num_traj': [],\n",
    "             'num_traj_CP': []} # this last one takes into account no changepoint from single state\n",
    "\n",
    "    # Track 2 - Trajectories\n",
    "    t2_ens = {'alpha': [],\n",
    "              'D': []}\n",
    "\n",
    "    t2_st = {'RMSE': [],\n",
    "             'JI': [],\n",
    "             'alpha': [],\n",
    "             'D': [],\n",
    "             'state': [],\n",
    "             'num_traj': [],\n",
    "             'num_traj_CP': []} # this last one takes into account no changepoint from single state\n",
    "    \n",
    "    # Handling paths of input files\n",
    "    submit_dir = os.path.join(input_dir, 'pred')\n",
    "    truth_dir = os.path.join(input_dir, 'true')\n",
    "    if not os.path.isdir(submit_dir):\n",
    "        print( \"%s doesn't exist\", truth_dir)\n",
    "        \n",
    "    # Calculate metrics if directories exist\n",
    "    if os.path.isdir(submit_dir) and os.path.isdir(truth_dir):\n",
    "        if not os.path.exists(output_dir):\n",
    "            os.makedirs(output_dir)\n",
    "\n",
    "        # Extracts all files in reference directory\n",
    "        true_files_list = sorted(list(listdir_nohidden(truth_dir)))#os.listdir(truth_dir)\n",
    "\n",
    "        # Run over all files        \n",
    "        missing_tracks = []\n",
    "        for filename in tqdm(true_files_list):\n",
    "            task = re.search('_(.+?)_labs', filename).group(1)\n",
    "            exp = re.search('exp_(.+?)_', filename).group(1)\n",
    "            fov = re.search('fov_(.+?).', filename).group(1)\n",
    "            # check track and save found tracks\n",
    "            track = int(filename[1]) \n",
    "            \n",
    "\n",
    "            true_file = os.path.join(truth_dir, filename)\n",
    "            corresponding_submission_file = os.path.join(submit_dir, filename)\n",
    "            \n",
    "            if not os.path.isfile(corresponding_submission_file):\n",
    "                if track not in missing_tracks:\n",
    "                    missing_tracks.append(track)\n",
    "                if len(missing_tracks) == 2:\n",
    "                    raise FileNotFoundError(f'Failed to find prediction files.')\n",
    "                else:\n",
    "                    continue\n",
    "            \n",
    "            # if not os.path.isfile(corresponding_submission_file) and missing_tracks == 1:\n",
    "            #     raise FileNotFoundError(f'Failed to find prediction files.')\n",
    "                # raise FileNotFoundError(f'Prediction file for: track {track}, task {task}, experiment {exp} and FOV {fov} not found.')\n",
    "            \n",
    "            # extract model\n",
    "            if task == 'ens':\n",
    "                model = np.genfromtxt(true_file, dtype='str', skip_footer=5)[1][:-1]\n",
    "            else:\n",
    "                file_ens = os.path.join(truth_dir, f't{track}_ens_labs_exp_{exp}_fov_{fov}.txt')\n",
    "                model = np.genfromtxt(file_ens, dtype='str', skip_footer=5)[1][:-1]\n",
    "            \n",
    "            # Ensemble\n",
    "            if task == 'ens':\n",
    "\n",
    "                true = np.loadtxt(true_file, skiprows=1, delimiter = ';')\n",
    "                pred = np.loadtxt(corresponding_submission_file, skiprows=1, delimiter = ';')\n",
    "\n",
    "                mae_alpha, mae_D, = error_Ensemble_dataset(true_data = true,\n",
    "                                                           pred_data = pred)\n",
    "\n",
    "                if track == 1:\n",
    "                    t1_ens['alpha'].append(mae_alpha)\n",
    "                    t1_ens['D'].append(mae_D)\n",
    "                if track == 2:                \n",
    "                    t2_ens['alpha'].append(mae_alpha)\n",
    "                    t2_ens['D'].append(mae_D)\n",
    "\n",
    "            # Single trajectory\n",
    "            if task == 'traj':    \n",
    "                df_true = load_file_to_df(true_file)\n",
    "                df_pred = load_file_to_df(corresponding_submission_file)\n",
    "\n",
    "                rmse_CP, JI, error_alpha, error_D, error_s = error_SingleTraj_dataset(df_true = df_true, df_pred = df_pred, \n",
    "                                                                                      threshold_error_alpha = threshold_error_alpha,\n",
    "                                                                                      threshold_error_D = threshold_error_D, \n",
    "                                                                                      threshold_error_s = threshold_error_s,\n",
    "                                                                                      threshold_cp = threshold_cp,\n",
    "                                                                                      prints = False, disable_tqdm = True)\n",
    "\n",
    "                if track == 1:\n",
    "                    # to avoid single state entering in CP metrics\n",
    "                    if model != 'single_state': \n",
    "                        t1_st['RMSE'].append(rmse_CP)\n",
    "                        t1_st['JI'].append(JI)\n",
    "                        t1_st['num_traj_CP'].append(df_true.shape[0])\n",
    "                        \n",
    "                    t1_st['alpha'].append(error_alpha)\n",
    "                    t1_st['D'].append(error_D)\n",
    "                    t1_st['state'].append(error_s)                    \n",
    "                    t1_st['num_traj'].append(df_true.shape[0])\n",
    "                if track == 2:\n",
    "                    # to avoid single state entering in CP metrics\n",
    "                    if model != 'single_state': \n",
    "                        t2_st['RMSE'].append(rmse_CP)\n",
    "                        t2_st['JI'].append(JI)\n",
    "                        t2_st['num_traj_CP'].append(df_true.shape[0])\n",
    "                    \n",
    "                    t2_st['alpha'].append(error_alpha)\n",
    "                    t2_st['D'].append(error_D)\n",
    "                    t2_st['state'].append(error_s)        \n",
    "                    t2_st['num_traj'].append(df_true.shape[0])\n",
    "\n",
    "            # print(f'Track {track}, Task {task}, Exp {exp}, FOV {fov}: OK!')\n",
    "       \n",
    "    ### Saving data\n",
    "    '''CHECK HOW TO DO THE MEAN!'''    \n",
    "    # Define output file\n",
    "    output_filename = os.path.join(output_dir, 'scores.txt')\n",
    "    output_file = open(output_filename, 'w')\n",
    "\n",
    "    # Single trajectory data\n",
    "    # We define a variable that gives the worst values for each metric. This is applied\n",
    "    # separetedly for every FOV\n",
    "    worst_value_st = {'RMSE': threshold_cp,\n",
    "                      'JI': 0,\n",
    "                      'alpha': threshold_error_alpha,\n",
    "                      'D': threshold_error_D,\n",
    "                      'state': 0}\n",
    "    # Run over all keys\n",
    "    for key in t1_st: \n",
    "        \n",
    "        # Compare results with \n",
    "        if key in ['RMSE', 'alpha', 'D']:            \n",
    "            if key == 'RMSE': avg_against = 'num_traj_CP'\n",
    "            else: avg_against = 'num_traj'\n",
    "            \n",
    "            if 1 not in missing_tracks:\n",
    "                \n",
    "                save_t1 = np.nanmin(np.vstack([t1_st[key],\n",
    "                                               np.ones_like(t1_st[key])*worst_value_st[key]]),\n",
    "                                    axis = 0)\n",
    "                save_t1 = np.average(save_t1, axis = 0, weights = t1_st[avg_against])\n",
    "                \n",
    "            if 2 not in missing_tracks:                     \n",
    "                save_t2 = np.nanmin(np.vstack([t2_st[key],\n",
    "                                               np.ones_like(t2_st[key])*worst_value_st[key]]),\n",
    "                                    axis = 0)            \n",
    "                save_t2 = np.average(save_t2, axis = 0, weights = t2_st[avg_against])\n",
    "            \n",
    "        elif key in ['JI', 'state']:                        \n",
    "            if key == 'JI': avg_against = 'num_traj_CP'\n",
    "            else: avg_against = 'num_traj'\n",
    "            \n",
    "            if 1 not in missing_tracks:\n",
    "                save_t1 = np.nanmax(np.vstack([t1_st[key],\n",
    "                                               np.ones_like(t1_st[key])*worst_value_st[key]]),\n",
    "                                    axis = 0)\n",
    "                save_t1 = np.average(save_t1, axis = 0, weights = t1_st[avg_against])\n",
    "                    \n",
    "            if 2 not in missing_tracks: \n",
    "                save_t2 = np.nanmax(np.vstack([t2_st[key],\n",
    "                                               np.ones_like(t2_st[key])*worst_value_st[key]]),\n",
    "                                    axis = 0)           \n",
    "                save_t2 = np.average(save_t2, axis = 0, weights = t2_st[avg_against])\n",
    "\n",
    "        if 1 not in missing_tracks: \n",
    "            output_file.write('T1_st_'+ key +f' : {save_t1}\\n')    \n",
    "        if 2 not in missing_tracks: \n",
    "            output_file.write('T2_st_'+ key +f' : {save_t2}\\n')\n",
    "\n",
    "    ### Saving ensemble data\n",
    "    '''WHAT ARE THE THRESHOLDS FOR THIS?'''\n",
    "    worst_value_ens = {'alpha': 100,\n",
    "                       'D': 100}\n",
    "\n",
    "    for key in t1_ens: \n",
    "        if key == 'num_traj': continue\n",
    "        \n",
    "        if 1 not in missing_tracks: \n",
    "            save_t1 = np.nanmin(np.vstack([t1_ens[key],\n",
    "                                               np.ones_like(t1_ens[key])*worst_value_ens[key]]),\n",
    "                                    axis = 0).mean()\n",
    "        if 2 not in missing_tracks: \n",
    "            save_t2 = np.nanmin(np.vstack([t2_ens[key],\n",
    "                                               np.ones_like(t2_ens[key])*worst_value_ens[key]]),\n",
    "                                    axis = 0).mean()\n",
    "\n",
    "        if 1 not in missing_tracks: \n",
    "            output_file.write('T1_ens_'+ key +f' : {save_t1}\\n')    \n",
    "        if 2 not in missing_tracks: \n",
    "            output_file.write('T2_ens_'+ key +f' : {save_t2}\\n')\n",
    "\n",
    "    output_file.close()"
   ]
  },
  {
   "cell_type": "code",
   "execution_count": null,
   "id": "0100bea8-5597-4cb7-995c-c7661eb1522c",
   "metadata": {},
   "outputs": [],
   "source": [
    "#| hide\n",
    "from andi_datasets.utils_challenge import error_Ensemble_dataset, _get_error_bounds, load_file_to_df, error_SingleTraj_dataset, codalab_scoring"
   ]
  },
  {
   "cell_type": "code",
   "execution_count": null,
   "id": "134e3802-a82c-4972-ae0e-770dbe7f7526",
   "metadata": {},
   "outputs": [
    {
     "data": {
      "application/vnd.jupyter.widget-view+json": {
       "model_id": "e980f849bcdf4c45b745663d6ddb0ebf",
       "version_major": 2,
       "version_minor": 0
      },
      "text/plain": [
       "  0%|          | 0/36 [00:00<?, ?it/s]"
      ]
     },
     "metadata": {},
     "output_type": "display_data"
    }
   ],
   "source": [
    "input_dir = 'C:/Users/Gorka/github/ANDI_datasets/testing/codalab_data'\n",
    "output_dir = 'C:/Users/Gorka/github/ANDI_datasets/testing/codalab_data'\n",
    "\n",
    "codalab_scoring(input_dir=input_dir, output_dir=output_dir)"
   ]
  },
  {
   "cell_type": "markdown",
   "id": "0f12002b-f036-45ba-9079-9f603c0baed0",
   "metadata": {},
   "source": [
    "#| hide\n",
    "# NBDEV Export"
   ]
  },
  {
   "cell_type": "code",
   "execution_count": null,
   "id": "e8dda32c-4e77-4daa-b7b8-eba71888d64e",
   "metadata": {},
   "outputs": [],
   "source": [
    "#| hide\n",
    "import nbdev; nbdev.nbdev_export()"
   ]
  },
  {
   "cell_type": "code",
   "execution_count": null,
   "id": "a8355f3b-0f15-4077-af0f-c4d6c797a3cb",
   "metadata": {},
   "outputs": [],
   "source": []
  }
 ],
 "metadata": {
  "kernelspec": {
   "display_name": "andi_dataset",
   "language": "python",
   "name": "andi_dataset"
  }
 },
 "nbformat": 4,
 "nbformat_minor": 5
}
