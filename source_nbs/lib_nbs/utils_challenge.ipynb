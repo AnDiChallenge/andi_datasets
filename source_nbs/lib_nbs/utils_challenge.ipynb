{
 "cells": [
  {
   "cell_type": "markdown",
   "id": "c6d0c50c-e725-4438-8871-268008c11eb7",
   "metadata": {},
   "source": [
    "# `utils_challenge`"
   ]
  },
  {
   "cell_type": "code",
   "execution_count": null,
   "id": "ultimate-bangkok",
   "metadata": {},
   "outputs": [],
   "source": [
    "#| default_exp utils_challenge"
   ]
  },
  {
   "cell_type": "code",
   "execution_count": null,
   "id": "distributed-arkansas",
   "metadata": {},
   "outputs": [],
   "source": [
    "#| export\n",
    "import numpy as np\n",
    "from scipy.optimize import linear_sum_assignment\n",
    "from scipy.stats import mode\n",
    "import pandas\n",
    "from tqdm.auto import tqdm\n",
    "import warnings\n",
    "from andi_datasets.models_phenom import models_phenom"
   ]
  },
  {
   "cell_type": "code",
   "execution_count": null,
   "id": "artistic-object",
   "metadata": {},
   "outputs": [],
   "source": [
    "#| hide\n",
    "import matplotlib.pyplot as plt\n",
    "from nbdev import show_doc\n",
    "%load_ext autoreload\n",
    "%autoreload 2"
   ]
  },
  {
   "cell_type": "markdown",
   "id": "79d8058b-60ff-45d3-bc1e-46f289cf4dbd",
   "metadata": {},
   "source": [
    "# Managing data"
   ]
  },
  {
   "cell_type": "markdown",
   "id": "civilian-narrow",
   "metadata": {},
   "source": [
    "## Smoothing labels\n",
    "\n",
    "These functions are used to smooth a given vector of labels of heterogeneous processes by means of majority filter. It allows to define a minimum segment length."
   ]
  },
  {
   "cell_type": "code",
   "execution_count": null,
   "id": "34c2bd63-9049-4c69-9f2d-24c21c656dad",
   "metadata": {},
   "outputs": [],
   "source": [
    "#| export\n",
    "#| hide\n",
    "def majority_filter(seq, width):\n",
    "    '''\n",
    "    Given a vector, applies a majority filter of given width.\n",
    "    \n",
    "    Parameters\n",
    "    ----------\n",
    "    seq : list\n",
    "        Vector to filter.\n",
    "    width : int\n",
    "        Size of the window in which the filter is applied.\n",
    "    \n",
    "    Returns\n",
    "    -------\n",
    "    list\n",
    "        Filtered vector\n",
    "    '''\n",
    "    \n",
    "    offset = width // 2\n",
    "    seq = [0] * offset + seq\n",
    "    \n",
    "    seq_filtered = []\n",
    "    for i in range(len(seq) - offset):\n",
    "        a = seq[i:i+width]\n",
    "        seq_filtered.append(mode(a, keepdims = False)[0])        \n",
    "    return seq_filtered"
   ]
  },
  {
   "cell_type": "code",
   "execution_count": null,
   "id": "a230bfa1-2cd5-4a46-a132-51168bb6fafa",
   "metadata": {},
   "outputs": [
    {
     "data": {
      "text/plain": [
       "[0, 0, 0, 0, 4, 4]"
      ]
     },
     "execution_count": null,
     "metadata": {},
     "output_type": "execute_result"
    }
   ],
   "source": [
    "#| hide\n",
    "majority_filter([0,0,0,1,4,4], width = 5)"
   ]
  },
  {
   "cell_type": "code",
   "execution_count": null,
   "id": "28dd7984-e7cd-4196-80ec-bda235996c30",
   "metadata": {},
   "outputs": [],
   "source": [
    "#| export\n",
    "#| hide\n",
    "def unique_labelled(arr : list # List or array from which to create \n",
    "                   )-> list : # List with new values as labels from unique\n",
    "    ''' \n",
    "    Transforms the values of an input array to their corresponding label given by the uniques in the array.\n",
    "    '''\n",
    "    # Dictionary to store the first occurrence of each element\n",
    "    unique_dict = {}\n",
    "    uniques = np.array([])\n",
    "    inverse_indices = np.array([])\n",
    "\n",
    "    # Iterate through the array and populate the dictionary and uniques list\n",
    "    for index, value in enumerate(arr):\n",
    "        if value not in unique_dict:\n",
    "            unique_dict[value] = len(uniques)\n",
    "            uniques = np.append(uniques, value)\n",
    "        inverse_indices = np.append(inverse_indices, unique_dict[value])\n",
    "    \n",
    "    return uniques, inverse_indices"
   ]
  },
  {
   "cell_type": "code",
   "execution_count": null,
   "id": "75464f57-02ae-48e3-b381-a44231e03501",
   "metadata": {},
   "outputs": [
    {
     "data": {
      "text/plain": [
       "(array([0.5, 0.3, 1. , 2. ]), array([0., 0., 1., 1., 0., 2., 2., 3.]))"
      ]
     },
     "execution_count": null,
     "metadata": {},
     "output_type": "execute_result"
    }
   ],
   "source": [
    "#| hide\n",
    "unique_labelled([0.5,0.5,0.3,0.3,0.5,1,1,2])"
   ]
  },
  {
   "cell_type": "code",
   "execution_count": null,
   "id": "5c25b5a6-814f-4f3c-b711-2fce7fa3f2ca",
   "metadata": {},
   "outputs": [],
   "source": [
    "#| export\n",
    "def label_filter(label, \n",
    "                 window_size = 5, \n",
    "                 min_seg = 3):\n",
    "    '''\n",
    "    Given a vector of changing labels, applies a majority filter such that the minimum segment of a particular label is\n",
    "    bigger than the minimum set segment.\n",
    "    \n",
    "    Parameters\n",
    "    ----------\n",
    "    label : list\n",
    "        label vector to filter.\n",
    "    window_size : int\n",
    "        Size of the window in which the majority filter is applied.\n",
    "    min_seg : int\n",
    "        Minimum segment size after filtering.\n",
    "    \n",
    "    Returns\n",
    "    -------\n",
    "    np.array\n",
    "        Filtered label vector\n",
    "    '''\n",
    "    \n",
    "    if np.min(label) < 0:\n",
    "        raise ValueError('This function only works with positive labels')\n",
    "        \n",
    "    # if there are no changes:\n",
    "    if np.sum(label[1:] != label[:-1]) == 0:\n",
    "        return label\n",
    "    \n",
    "    # define dummy vector of same value distribution as\n",
    "    # label but which values are given by their unique tag/label\n",
    "    values, dummy = unique_labelled(label)\n",
    "    \n",
    "    # check if there are segment smaller than minimal segment (min_seg)\n",
    "    cp = np.argwhere(dummy[1:] != dummy[:-1])+1\n",
    "    cp = np.append(0, cp)\n",
    "    \n",
    "    current_min = (cp[1:]-cp[:-1]).flatten().min()\n",
    "    while (current_min < min_seg):\n",
    "\n",
    "        filt = majority_filter(dummy.tolist(), width = window_size)\n",
    "        filt = np.array(filt)\n",
    "        \n",
    "        # check if there are segment smaller than minimal segment (min_seg)\n",
    "        cp = np.argwhere(filt[1:] != filt[:-1])+1\n",
    "        \n",
    "        # If all changepoints were eliminated\n",
    "        if cp.size == 0:\n",
    "            dummy = filt\n",
    "            break\n",
    "            \n",
    "        cp = np.append(0, cp)\n",
    "        current_min = (cp[1:]-cp[:-1]).flatten().min()\n",
    "        \n",
    "        if (dummy == filt).all():  \n",
    "            # If all failed and still have segments smaller than min_seg\n",
    "            seg_lengths = (cp[1:]-cp[:-1]).flatten().astype(int)\n",
    "            seg_smaller = np.argwhere(seg_lengths < min_seg).flatten()\n",
    "            \n",
    "            # We go over each segment and we asign the values 'by hand'\n",
    "            for idxsegs in seg_smaller:     \n",
    "                if seg_lengths[idxsegs] == 1:\n",
    "                    filt[(cp[idxsegs]+1)] = filt[cp[idxsegs]]     \n",
    "                elif seg_lengths[idxsegs] == 2:      \n",
    "                    filt[(cp[idxsegs]+1)] = filt[cp[idxsegs]]     \n",
    "                    filt[(cp[idxsegs]+2)] = filt[cp[idxsegs]+3]                     \n",
    "            \n",
    "            dummy = filt\n",
    "            break         \n",
    "        dummy = filt    \n",
    "         \n",
    "    # Check boundaries\n",
    "    if dummy[0] != dummy[1] or dummy[1] != dummy[2]:\n",
    "        dummy[:2] = dummy[2]\n",
    "    if dummy[-2] != dummy[-3] or dummy[-1] != dummy[-2]:\n",
    "        dummy[-3:] = dummy[-3]\n",
    "        \n",
    "    # reset to label values\n",
    "    dummy_ret = np.zeros_like(dummy).astype(float)\n",
    "    \n",
    "    for idx, v in enumerate(values):\n",
    "        dummy_ret[dummy == idx] = v\n",
    "\n",
    "    return dummy_ret"
   ]
  },
  {
   "cell_type": "code",
   "execution_count": null,
   "id": "ee8b1fc4-74af-4841-9599-e20db2f085c1",
   "metadata": {},
   "outputs": [],
   "source": [
    "#| hide\n",
    "from andi_datasets.models_phenom import models_phenom"
   ]
  },
  {
   "cell_type": "code",
   "execution_count": null,
   "id": "1904bd6c-c97f-4028-b21d-53f4135b670f",
   "metadata": {},
   "outputs": [
    {
     "data": {
      "image/png": "[encoded data removed]",
      "text/plain": [
       "<Figure size 900x500 with 9 Axes>"
      ]
     },
     "metadata": {},
     "output_type": "display_data"
    }
   ],
   "source": [
    "fig, axs = plt.subplots(3, 3, figsize = (9, 5), tight_layout = True)\n",
    "window_size = 5\n",
    "\n",
    "for ax in axs.flatten():    \n",
    "    traj, labs = models_phenom()._multiple_state_traj(alphas = [0.7, 0.8], Ds = [0.01, 0.1])\n",
    "    filtered_d = label_filter(labs[:,1],\n",
    "                              window_size = window_size)\n",
    "    \n",
    "    ax.plot(labs[:, 1], '.', label = 'True label')\n",
    "    ax.plot(filtered_d, label = r'Filtered label')\n",
    "    \n",
    "axs[0,0].set_title(f'Majority filter with window size = {window_size}')\n",
    "axs[0,0].legend()\n",
    "plt.setp(axs, xticklabels = [], yticklabels = []);"
   ]
  },
  {
   "cell_type": "markdown",
   "id": "senior-hurricane",
   "metadata": {},
   "source": [
    "### New population percentages after filtering\n",
    "Note that smoothing the signal will have an effect on the actual proportion of time a particle spends in each state. This will be taken into account in the challenge. Here we showcase this effect:"
   ]
  },
  {
   "cell_type": "code",
   "execution_count": null,
   "id": "552c586a-64a1-48ca-9026-7b85ae84d4ff",
   "metadata": {},
   "outputs": [],
   "source": [
    "#| hide\n",
    "#| eval: false\n",
    "from andi_datasets.models_phenom import models_phenom\n",
    "from tqdm.notebook import tqdm"
   ]
  },
  {
   "cell_type": "code",
   "execution_count": null,
   "id": "7bee7c18-d04f-4950-ab5a-af0135bfafd9",
   "metadata": {},
   "outputs": [],
   "source": [
    "#| eval: false\n",
    "T = 100\n",
    "traj, labs = models_phenom().multi_state(N = 500, alphas = [[0.7, 1],[0.4,2]], Ds = [[0, 1], [1, 0]], T = T)"
   ]
  },
  {
   "cell_type": "code",
   "execution_count": null,
   "id": "public-individual",
   "metadata": {},
   "outputs": [
    {
     "data": {
      "application/vnd.jupyter.widget-view+json": {
       "model_id": "496e152990ff4498b3cfcfb87078c5d7",
       "version_major": 2,
       "version_minor": 0
      },
      "text/plain": [
       "  0%|          | 0/500 [00:00<?, ?it/s]"
      ]
     },
     "metadata": {},
     "output_type": "display_data"
    }
   ],
   "source": [
    "#| eval: false\n",
    "res_t = np.array([])\n",
    "res_ft = np.array([])\n",
    "for label in tqdm(labs.transpose(1,0,2)[:,:,0]):\n",
    "    \n",
    "    # raw labels\n",
    "    CP = np.argwhere(label[1:] != label[:-1]).flatten()\n",
    "    if CP[-1] != 199: CP = np.append(CP, T-1)\n",
    "    CP = np.append(0, CP)\n",
    "\n",
    "    res_t = np.append(res_t, CP[1:] - CP[:-1])\n",
    "    \n",
    "    \n",
    "    # filtered labels\n",
    "    filt = label_filter(label)\n",
    "    \n",
    "    CP_f = np.argwhere(filt[1:] != filt[:-1]).flatten()\n",
    "    if CP_f[-1] != 199: CP_f = np.append(CP_f, T-1)\n",
    "    CP_f = np.append(0, CP_f)\n",
    "\n",
    "    res_ft = np.append(res_ft, CP_f[1:] - CP_f[:-1])"
   ]
  },
  {
   "cell_type": "markdown",
   "id": "28cb3c92-e63c-4376-92d9-8158fcbe4238",
   "metadata": {},
   "source": [
    "We show now the new transition rates (e.g. 1 over the residence time of a given state). Because we are minimum segment length of 3, we can actually approximate the filtered transition rate as the original times 2/3:"
   ]
  },
  {
   "cell_type": "code",
   "execution_count": null,
   "id": "handy-looking",
   "metadata": {},
   "outputs": [
    {
     "name": "stdout",
     "output_type": "stream",
     "text": [
      " True transition rate: 0.10947474747474747\n",
      " Filtered transition rate: 0.07402020202020201\n",
      " True rate x 2/3: 0.07298316498316498\n"
     ]
    }
   ],
   "source": [
    "#| eval: false\n",
    "print(f' True transition rate: {1/np.mean(res_t)}\\n',\n",
    "      f'Filtered transition rate: {1/np.mean(res_ft)}\\n',\n",
    "      f'True rate x 2/3: {1/np.mean(res_t)*(2/3)}')"
   ]
  },
  {
   "cell_type": "markdown",
   "id": "aca9ca1a-4157-4116-bd98-f726fab0b1eb",
   "metadata": {},
   "source": [
    "## Continuous labels to list of features\n",
    "\n",
    "The labels in the challenge will be the list of $n$ changepoints as well as the $n+1$ diffusion properties ($D$ and $\\alpha$) for each segment. This function transforms the stepwise labels into three lists: CPs, $\\alpha$s and $D$s."
   ]
  },
  {
   "cell_type": "code",
   "execution_count": null,
   "id": "44e8b559-2a62-4bb1-a27e-5fcd823428aa",
   "metadata": {},
   "outputs": [],
   "source": [
    "#| export\n",
    "def label_continuous_to_list(labs):\n",
    "    ''' \n",
    "    Given an array of T x 2 labels containing the anomalous exponent and diffusion \n",
    "    coefficient at each timestep, returns 3 arrays, each containing the changepoints, \n",
    "    exponents and coefficient, respectively. \n",
    "    If labs is size T x 3, then we consider that diffusive states are given and also\n",
    "    return those.\n",
    "    \n",
    "    Parameters\n",
    "    ----------\n",
    "    labs : array\n",
    "        T x 2  or T x 3 labels containing the anomalous exponent, diffusion \n",
    "        and diffusive state.\n",
    "        \n",
    "    Returns\n",
    "    -------\n",
    "    tuple\n",
    "        - First element is the list of change points\n",
    "        - The rest are corresponding segment properties (order: alpha, Ds and states)        \n",
    "        '''\n",
    "    \n",
    "    # Check if states were given\n",
    "    are_states = False\n",
    "    if labs.shape[1] == 3:\n",
    "        are_states = True\n",
    "        \n",
    "    # Check in which variable there is changes\n",
    "    CP = np.argwhere((labs[:-1, :] != labs[1:, :]).sum(1) != 0).flatten()+1 \n",
    "    T = labs.shape[0] \n",
    "\n",
    "    alphas = np.zeros(len(CP)+1)\n",
    "    Ds = np.zeros(len(CP)+1)\n",
    "    if are_states: states = np.zeros(len(CP)+1)\n",
    "        \n",
    "    for idx, cp in enumerate(np.append(CP, T)):\n",
    "        alphas[idx] = labs[cp-1, 0]\n",
    "        Ds[idx] = labs[cp-1, 1]\n",
    "        if are_states: states[idx] = labs[cp-1, 2]\n",
    "    \n",
    "    CP = np.append(CP, T)\n",
    "    \n",
    "    if are_states:\n",
    "        return CP, alphas, Ds, states\n",
    "    else:\n",
    "        return CP, alphas, Ds    "
   ]
  },
  {
   "cell_type": "code",
   "execution_count": null,
   "id": "6aa7850e-6025-45f7-9de2-457e51beb28d",
   "metadata": {},
   "outputs": [],
   "source": [
    "#| hide\n",
    "from andi_datasets.models_phenom import models_phenom"
   ]
  },
  {
   "cell_type": "code",
   "execution_count": null,
   "id": "8a7d6671-9bbd-4af9-9de9-07fc53ed4671",
   "metadata": {},
   "outputs": [
    {
     "data": {
      "text/plain": [
       "Text(0, 0.5, '$\\\\alpha$')"
      ]
     },
     "execution_count": null,
     "metadata": {},
     "output_type": "execute_result"
    },
    {
     "data": {
      "image/png": "[encoded data removed]",
      "text/plain": [
       "<Figure size 500x300 with 1 Axes>"
      ]
     },
     "metadata": {},
     "output_type": "display_data"
    }
   ],
   "source": [
    "# Generate the trajectory\n",
    "trajs, labels = models_phenom().multi_state(N = 1, T = 50)\n",
    "\n",
    "# Transform the labels:\n",
    "CP, alphas, Ds, _ = label_continuous_to_list(labels[:,-1,:])\n",
    "\n",
    "plt.figure(figsize=(5, 3))\n",
    "plt.plot(labels[:, -1, 1], 'o', alpha = 0.4, label = 'Continuous label')\n",
    "plt.scatter(CP-1, Ds, c = 'C1', label = 'CP-1 and value of previous segment')\n",
    "plt.legend(); plt.xlabel('T'); plt.ylabel(r'$\\alpha$')"
   ]
  },
  {
   "cell_type": "markdown",
   "id": "37aa5335-1268-4a4e-8944-e6cda49fbae1",
   "metadata": {},
   "source": [
    "## List of features to continuous labels\n",
    "This function does the opposite from than `label_continuous_to_list`. From a list of properties as the one used in ANDI 2 challenge, creates continuous labels."
   ]
  },
  {
   "cell_type": "code",
   "execution_count": null,
   "id": "ce848342-e1c1-41b8-b9a3-9ea084710feb",
   "metadata": {},
   "outputs": [],
   "source": [
    "#| export\n",
    "def label_list_to_continuous(CP, label):\n",
    "    '''\n",
    "    Given a list of change points and the labels of the diffusion properties of the\n",
    "    resulting segments, generates and array of continuous labels. The last change point\n",
    "    indicates the array length.\n",
    "    \n",
    "    Parameters\n",
    "    ----------\n",
    "    CP : array, list\n",
    "        list of change points. Last change point indicates label length.\n",
    "    label : array, list\n",
    "        list of segment properties\n",
    "        \n",
    "    Returns\n",
    "    -------\n",
    "    array\n",
    "        Continuous label created from the given change points and segment properties\n",
    "    '''    \n",
    "    \n",
    "    if isinstance(label, list):\n",
    "        label = np.array(label)\n",
    "    segs = create_binary_segment(CP[:-1], CP[-1])\n",
    "    return (segs.transpose()*label).sum(1)"
   ]
  },
  {
   "cell_type": "code",
   "execution_count": null,
   "id": "3bc17a20-8106-40fa-a1da-465530842cb9",
   "metadata": {},
   "outputs": [],
   "source": [
    "#| hide\n",
    "from andi_datasets.utils_challenge import create_binary_segment"
   ]
  },
  {
   "cell_type": "code",
   "execution_count": null,
   "id": "a5e0d8c3-0db5-4f4a-9188-8ea61aaaa3e5",
   "metadata": {},
   "outputs": [
    {
     "data": {
      "image/png": "[encoded data removed]",
      "text/plain": [
       "<Figure size 300x100 with 1 Axes>"
      ]
     },
     "metadata": {},
     "output_type": "display_data"
    }
   ],
   "source": [
    "CP = [3,24,34]\n",
    "label = [0.5, 0.4, 1]\n",
    "cont = label_list_to_continuous(CP, label)\n",
    "plt.figure(figsize = (3,1))\n",
    "plt.plot(cont, c = 'C1')\n",
    "[plt.axvline(c, c = 'k', ls = '--') for c in CP[:-1]];"
   ]
  },
  {
   "cell_type": "markdown",
   "id": "f57d22c4-7743-458c-9c93-408686cb988f",
   "metadata": {},
   "source": [
    "## Storing array data in dataframe"
   ]
  },
  {
   "cell_type": "code",
   "execution_count": null,
   "id": "5450d8c9-78ff-4c30-a424-6ba4e48bffcb",
   "metadata": {},
   "outputs": [],
   "source": [
    "#| export\n",
    "from andi_datasets.utils_trajectories import segs_inside_fov\n",
    "\n",
    "\n",
    "def array_to_df(trajs, \n",
    "               labels,\n",
    "               min_length = 10,\n",
    "               fov_origin = [0,0], fov_length= 100.0, cutoff_length = 10):\n",
    "    '''\n",
    "    Given arrays for the position and labels of trajectories, creates a dataframe with that\n",
    "    data. The function also applies the demanded FOV. If you don't want a field of view, chose a \n",
    "    FOV length bigger (smaller) that your maximum (minimum) trajectory position.\n",
    "   \n",
    "    Parameters\n",
    "    ----------\n",
    "    trajs : array \n",
    "        Trajectories to store in the df (dimension: T x N x 3)\n",
    "    labels : array\n",
    "        Labels to store in the df (dimension: T x N x 3)        \n",
    "    fov_origin : tuple\n",
    "        Bottom left point of the square defining the FOV.\n",
    "    fov_length : float\n",
    "        Size of the box defining the FOV.\n",
    "    cutoff_length : int\n",
    "        Minimum length of a trajectory inside the FOV to be considered in the output dataset.\n",
    "    \n",
    "    \n",
    "    Returns\n",
    "    -------\n",
    "    tuple\n",
    "        - df_in (dataframe): dataframe with trajectories\n",
    "        - df_out (datafram): dataframe with labels \n",
    "    '''\n",
    "    \n",
    "    xs = []\n",
    "    ys = []\n",
    "    idxs = []   \n",
    "    \n",
    "    df_out = pandas.DataFrame(columns = ['traj_idx', 'Ds', 'alphas', 'states', 'changepoints']) \n",
    "    \n",
    "    idx_t = 0\n",
    "    for traj, l_alpha, l_D, l_s in zip(tqdm(trajs), labels[:, :, 0], labels[:, :, 1], labels[:, :, 2]):\n",
    "\n",
    "        # Check FOV and \n",
    "        idx_inside_segments = segs_inside_fov(traj, fov_origin, fov_length, cutoff_length)\n",
    "\n",
    "        if idx_inside_segments is not None:\n",
    "\n",
    "            for idx_in in idx_inside_segments:            \n",
    "                seg_x = traj[idx_in[0]:idx_in[1], 0]\n",
    "                seg_y = traj[idx_in[0]:idx_in[1], 1]\n",
    "                seg_alpha = l_alpha[idx_in[0]:idx_in[1]]\n",
    "                seg_D = l_D[idx_in[0]:idx_in[1]]\n",
    "                seg_state = l_s[idx_in[0]:idx_in[1]]\n",
    "\n",
    "                # Filtering\n",
    "                seg_alpha = label_filter(seg_alpha)\n",
    "                seg_D = label_filter(seg_D)\n",
    "                seg_state = label_filter(seg_state)\n",
    "                \n",
    "                \n",
    "                # Stacking data of input dataframe\n",
    "                xs += seg_x.tolist()\n",
    "                ys += seg_y.tolist()\n",
    "                idxs += (np.ones(len(seg_x))*idx_t).tolist()\n",
    "                \n",
    "                # Transforming to list of changepoints and physical properties\n",
    "                merge = np.hstack((seg_alpha.reshape(seg_alpha.shape[0], 1),\n",
    "                                   seg_D.reshape(seg_D.shape[0], 1),\n",
    "                                   seg_state.reshape(seg_state.shape[0], 1)))\n",
    "                \n",
    "                CP, alphas, Ds, states = label_continuous_to_list(merge)\n",
    "                \n",
    "                # Saving each segment info in output dataframe\n",
    "                df_out.loc[df_out.shape[0]] = [idx_t, Ds, alphas, states, CP]\n",
    "                \n",
    "                # Updating segment index\n",
    "                idx_t += 1\n",
    "\n",
    "    \n",
    "    # Saving trajectories in Dataframe\n",
    "    tr_to_df = np.vstack((idxs,\n",
    "                          xs,\n",
    "                          ys)).transpose()\n",
    "    df_in = pandas.DataFrame(tr_to_df, columns = ['traj_idx', 'x', 'y'])  \n",
    "    \n",
    "    return df_in, df_out"
   ]
  },
  {
   "cell_type": "code",
   "execution_count": null,
   "id": "ac76fb15-5892-47df-80b5-51e9df0191aa",
   "metadata": {},
   "outputs": [],
   "source": [
    "#| hide\n",
    "from andi_datasets.models_phenom import models_phenom\n",
    "from andi_datasets.utils_challenge import label_filter, label_continuous_to_list"
   ]
  },
  {
   "cell_type": "code",
   "execution_count": null,
   "id": "37aa2b87-0e03-446e-9162-d143276c463c",
   "metadata": {},
   "outputs": [],
   "source": [
    "#trajs, labels = models_phenom().multi_state(T = 200, N = 10, alphas=[0.5, 1], Ds = [1,1], L = 100)\n",
    "trajs, labels = models_phenom().single_state(T = 200, N = 10)\n",
    "\n",
    "# Changing dimensions\n",
    "trajs = trajs.transpose((1, 0, 2)).copy()\n",
    "labels = labels.transpose(1, 0, 2)\n",
    "\n",
    "df_in, df_out = array_to_df(trajs, labels)"
   ]
  },
  {
   "cell_type": "code",
   "execution_count": null,
   "id": "61c4334b-0c3a-4518-9c65-4a95160e9881",
   "metadata": {},
   "outputs": [
    {
     "data": {
      "text/html": [
       "<div>\n",
       "<style scoped>\n",
       "    .dataframe tbody tr th:only-of-type {\n",
       "        vertical-align: middle;\n",
       "    }\n",
       "\n",
       "    .dataframe tbody tr th {\n",
       "        vertical-align: top;\n",
       "    }\n",
       "\n",
       "    .dataframe thead th {\n",
       "        text-align: right;\n",
       "    }\n",
       "</style>\n",
       "<table border=\"1\" class=\"dataframe\">\n",
       "  <thead>\n",
       "    <tr style=\"text-align: right;\">\n",
       "      <th></th>\n",
       "      <th>traj_idx</th>\n",
       "      <th>Ds</th>\n",
       "      <th>alphas</th>\n",
       "      <th>states</th>\n",
       "      <th>changepoints</th>\n",
       "    </tr>\n",
       "  </thead>\n",
       "  <tbody>\n",
       "    <tr>\n",
       "      <th>0</th>\n",
       "      <td>0</td>\n",
       "      <td>[1.0]</td>\n",
       "      <td>[1.0]</td>\n",
       "      <td>[2.0]</td>\n",
       "      <td>[115]</td>\n",
       "    </tr>\n",
       "    <tr>\n",
       "      <th>1</th>\n",
       "      <td>1</td>\n",
       "      <td>[1.0]</td>\n",
       "      <td>[1.0]</td>\n",
       "      <td>[2.0]</td>\n",
       "      <td>[22]</td>\n",
       "    </tr>\n",
       "    <tr>\n",
       "      <th>2</th>\n",
       "      <td>2</td>\n",
       "      <td>[1.0]</td>\n",
       "      <td>[1.0]</td>\n",
       "      <td>[2.0]</td>\n",
       "      <td>[10]</td>\n",
       "    </tr>\n",
       "    <tr>\n",
       "      <th>3</th>\n",
       "      <td>3</td>\n",
       "      <td>[1.0]</td>\n",
       "      <td>[1.0]</td>\n",
       "      <td>[2.0]</td>\n",
       "      <td>[39]</td>\n",
       "    </tr>\n",
       "    <tr>\n",
       "      <th>4</th>\n",
       "      <td>4</td>\n",
       "      <td>[1.0]</td>\n",
       "      <td>[1.0]</td>\n",
       "      <td>[2.0]</td>\n",
       "      <td>[28]</td>\n",
       "    </tr>\n",
       "  </tbody>\n",
       "</table>\n",
       "</div>"
      ],
      "text/plain": [
       "   traj_idx     Ds alphas states changepoints\n",
       "0         0  [1.0]  [1.0]  [2.0]        [115]\n",
       "1         1  [1.0]  [1.0]  [2.0]         [22]\n",
       "2         2  [1.0]  [1.0]  [2.0]         [10]\n",
       "3         3  [1.0]  [1.0]  [2.0]         [39]\n",
       "4         4  [1.0]  [1.0]  [2.0]         [28]"
      ]
     },
     "execution_count": null,
     "metadata": {},
     "output_type": "execute_result"
    }
   ],
   "source": [
    "df_out.head()"
   ]
  },
  {
   "cell_type": "markdown",
   "id": "ee88e52d-836f-41ed-8efb-5c9cef0e4b94",
   "metadata": {},
   "source": [
    "## Transform ANDI dataframe to array with padding"
   ]
  },
  {
   "cell_type": "code",
   "execution_count": null,
   "id": "ac88a439-fe3a-4d85-816e-e6dc967c2a24",
   "metadata": {},
   "outputs": [],
   "source": [
    "#| export\n",
    "def df_to_array(df, pad = -1):\n",
    "    '''\n",
    "    Transform a dataframe as the ones given in the ANDI 2 challenge (i.e. 4 columns:\n",
    "    traj_idx, frame, x, y) into a numpy array. To deal with irregular temporal supports,\n",
    "    we pad the array whenever the trajectory is not present.\n",
    "    The output array has the typical shape of ANDI datasets: TxNx2\n",
    "    \n",
    "    Parameters\n",
    "    ----------\n",
    "    df : dataframe\n",
    "        Dataframe with four columns 'traj_idx': the trajectory index, 'frame' the time frame and \n",
    "        'x' and 'y' the positions of the particle.\n",
    "    pad : int\n",
    "        Number to use as padding.\n",
    "    \n",
    "    Returns\n",
    "    -------\n",
    "    array\n",
    "        Array containing the trajectories from the dataframe, with usual ANDI shape (TxNx2).\n",
    "    \n",
    "    \n",
    "    '''\n",
    "\n",
    "    max_T = int(df.frame.max()+1)\n",
    "    num_part = int(df.iloc[-1].traj_idx)\n",
    "    array_trajs = np.ones((max_T, num_part+1, 2))*pad\n",
    "\n",
    "    for idx in np.unique(df.traj_idx).astype(int):\n",
    "\n",
    "        df_part = df.loc[df.traj_idx == idx]\n",
    "\n",
    "        array_trajs[df_part.frame.values.astype(int), idx, 0] = df_part.x.values\n",
    "        array_trajs[df_part.frame.values.astype(int), idx, 1] = df_part.y.values\n",
    "        \n",
    "    return array_trajs"
   ]
  },
  {
   "cell_type": "markdown",
   "id": "a7f7381f-d6df-49a7-bb10-2ed8c1e527be",
   "metadata": {},
   "source": [
    "## Reorganize folder for challenge if non-overlapping FOVS\n",
    "The outputs of `datasets_challenge.challenge_phenom_dataset` are not in the appropriate form if one considers the case of non-overlapping FOVS. The latter means that instead of taking `n_fovs` from the same experiment, we repeat the same experiment `n_fovs` times. This functions rearranges the folders to get the proper structure proposed in the paper."
   ]
  },
  {
   "cell_type": "code",
   "execution_count": null,
   "id": "1b252a8b-2ca6-4065-9752-0be3fb5bafc5",
   "metadata": {},
   "outputs": [],
   "source": [
    "#| export\n",
    "from pathlib import Path\n",
    "import shutil\n",
    "\n",
    "def file_nonOverlap_reOrg(# Original folder with data produced by datasets_challenge.challenge_phenom_dataset\n",
    "                          raw_folder: str, \n",
    "                          # Folder where to put reorganized files\n",
    "                          target_folder: str, \n",
    "                          # Number of experiments\n",
    "                          experiments: int, \n",
    "                          # Number of FOVS\n",
    "                          num_fovs: int,                          \n",
    "                          # Track to consider\n",
    "                          tracks = [1,2],\n",
    "                          # If True, moves all data (also labels,.. etc). Do True only if saving reference / groundtruth data.\n",
    "                          # Moreover, if True also save the trajectories for the video track\n",
    "                          save_labels = False, \n",
    "                          # Which task to consider\n",
    "                          task = ['single', 'ensemble'],\n",
    "                          # If True prints, the percentage of states for each experiment\n",
    "                          print_percentage = True):\n",
    "    ''' \n",
    "    This considers that you have n_fovs*n_experiments 'fake' experiments \n",
    "    and organize them based on the challenge instructions\n",
    "    \n",
    "    '''\n",
    "    \n",
    "    if save_labels:\n",
    "        names_files = ['traj_labs_', 'trajs_', 'videos_', 'ens_labs_', 'vip_idx_']\n",
    "        extensions = ['.txt', '.csv', '.tiff', '.txt', '.txt']\n",
    "    else:\n",
    "        names_files = ['trajs_', 'videos_']\n",
    "        extensions = ['.csv', '.tiff']\n",
    "\n",
    "    exp = 0\n",
    "    ensemble_info = []\n",
    "    # Get model and num_states\n",
    "    info_exp = np.loadtxt(raw_folder + f'ens_labs_exp_0_fov_0.txt', max_rows=1, dtype = str)\n",
    "    model_exp, num_states = info_exp[1][:-1], info_exp[-1].astype(int)\n",
    "    percentage_exp = np.zeros((num_fovs, num_states))\n",
    "\n",
    "    for k in range(num_fovs*len(experiments)):        \n",
    "        \n",
    "        # ----- Check when we are done with one experiment and go to next -----\n",
    "        if (k % num_fovs == 0 and k != 0):\n",
    "            \n",
    "            # First save the ensemble information of the current experiment\n",
    "            if num_states > 1:\n",
    "                percentage_exp = np.sum(percentage_exp, axis = 0)\n",
    "                percentage_exp /= percentage_exp.sum()                                  \n",
    "                ensemble_fov[-1,:] =  percentage_exp                  \n",
    "            if num_states == 1:\n",
    "                ensemble_fov[-1] = 1\n",
    "            if print_percentage:\n",
    "                    print(f'Experiment {exp}: {np.round(ensemble_fov[-1], 2)}')\n",
    "            \n",
    "            if save_labels:\n",
    "                for track in tracks:\n",
    "                    with open(target_folder + f'track_{track}/exp_{exp}/ensemble_labels.txt', 'w') as f:\n",
    "                        f.truncate(0)\n",
    "                        f.write(f'model: {model_exp}; num_state: {num_states} \\n')\n",
    "                        np.savetxt(f, ensemble_fov, delimiter = ';')\n",
    "\n",
    "            # Then restart for next experiment\n",
    "            exp += 1\n",
    "            ensemble_info = []\n",
    "            info_exp = np.loadtxt(raw_folder + f'ens_labs_exp_{k}_fov_0.txt', max_rows=1, dtype = str)\n",
    "            model_exp, num_states = info_exp[1][:-1], info_exp[-1].astype(int)\n",
    "            percentage_exp = np.zeros((num_fovs, num_states))   \n",
    "            \n",
    "        \n",
    "        # ----- Move the folders -----\n",
    "        for track in tracks:\n",
    "            Path(target_folder+f'track_{track}/'+f'exp_{exp}').mkdir(parents=True, exist_ok=True)\n",
    "\n",
    "            # Move single trajectory information\n",
    "            for name, ext in zip(names_files, extensions):            \n",
    "                if track == 1 and name == 'trajs_' and save_labels == False: continue\n",
    "                if track == 2 and (name == 'videos_' or name == 'vip_idx_'): continue\n",
    "\n",
    "                shutil.copyfile(src = raw_folder + name + f'exp_{k}_fov_0'+ext, \n",
    "                                dst = target_folder + f'track_{track}/exp_{exp}/' + name + f'fov_{k%num_fovs}' + ext)\n",
    "        \n",
    "\n",
    "        ### ----- Collect ensemble information -----\n",
    "        ensemble_fov = np.loadtxt(raw_folder + f'ens_labs_exp_{k}_fov_0.txt', \n",
    "                                  skiprows = 1, delimiter = ';')\n",
    "        if num_states > 1:\n",
    "            percentage_exp[k%num_fovs] = ensemble_fov[-1, :].copy()\n",
    "            \n",
    "    # Save the ensemble information of the LAST experiment\n",
    "    if num_states > 1:\n",
    "        percentage_exp = np.sum(percentage_exp, axis = 0)\n",
    "        percentage_exp /= percentage_exp.sum()                                  \n",
    "        ensemble_fov[-1,:] =  percentage_exp                  \n",
    "    if num_states == 1:\n",
    "        ensemble_fov[-1] = 1\n",
    "    if print_percentage:\n",
    "            print(f'Experiment {exp}: {np.round(ensemble_fov[-1], 2)}')\n",
    "    \n",
    "    if save_labels:\n",
    "        for track in tracks:\n",
    "            with open(target_folder + f'track_{track}/exp_{exp}/ensemble_labels.txt', 'w') as f:\n",
    "                f.truncate(0)\n",
    "                f.write(f'model: {model_exp}; num_state: {num_states} \\n')\n",
    "                np.savetxt(f, ensemble_fov, delimiter = ';')\n",
    "\n",
    "                    "
   ]
  },
  {
   "cell_type": "markdown",
   "id": "105fbe24-7010-4108-b521-04b3da4bf9ce",
   "metadata": {},
   "source": [
    "# Isolate VIP particles"
   ]
  },
  {
   "cell_type": "code",
   "execution_count": null,
   "id": "63314499-59e4-48fd-b1b8-9723e184ca9d",
   "metadata": {},
   "outputs": [],
   "source": [
    "#| export\n",
    "from scipy.spatial import distance\n",
    "\n",
    "\n",
    "def get_VIP(array_trajs, num_vip = 5, min_distance_part = 2, pad = -1, \n",
    "            boundary = False, boundary_origin = (0,0), min_distance_bound = 0,\n",
    "            sort_length = True):\n",
    "    '''\n",
    "    Given an array of trajectories, finds the particles VIP particles that participants will\n",
    "    need to characterize in the video trakcl.\n",
    "    \n",
    "    The function first finds the particles that exist at frame 0 (i.e. that their first value \n",
    "    is different from pad). Then, iterates over this particles to find num_vip that are at \n",
    "    distance > than min_distance_part in the first frame.\n",
    "    \n",
    "    Parameters\n",
    "    ----------\n",
    "    array_trajs : array\n",
    "        Position of the trajectories that will be considered for the VIP search.\n",
    "    num_vip : int\n",
    "        Number of VIP particles to flag.\n",
    "    min_distance_part : float\n",
    "        Minimum distance between two VIP particles.\n",
    "    pad : int\n",
    "        Number used to indicate in the temporal support that the particle is outside of the FOV.\n",
    "    boundary : bool, float\n",
    "        If float, defines the length of the box acting as boundary\n",
    "    boundary_origin : tuple\n",
    "        X and Y coords of the boundary\n",
    "    min_distance_bound : float\n",
    "        Minimum distance a particles has to be from the boundary in ordered to be considered a VIP particle\n",
    "    sort_length : bool\n",
    "        If True, candidates for VIP particles are choosen in descending trajectory length. This ensures\n",
    "        that the longest ones are chosen.\n",
    "        \n",
    "    Returns\n",
    "    -------\n",
    "    list\n",
    "        List of indices of the chosen VIP particles\n",
    "    \n",
    "    '''\n",
    "    if not boundary:\n",
    "        candidates_vip = np.argwhere(array_trajs[0,:,0] != pad).flatten()\n",
    "    else:\n",
    "        # Define masks\n",
    "        boundary_x0 = array_trajs[0,:,0] > (boundary_origin[0] + min_distance_bound)\n",
    "        boundary_xL = array_trajs[0,:,0] < (boundary_origin[0] + boundary - min_distance_bound)\n",
    "        boundary_y0 = array_trajs[0,:,1] > (boundary_origin[1] + min_distance_bound)\n",
    "        boundary_yL = array_trajs[0,:,1] < (boundary_origin[1] + boundary - min_distance_bound)\n",
    "        padding = array_trajs[0,:,0] != pad\n",
    "        \n",
    "        candidates_vip = np.argwhere(boundary_x0 & boundary_xL & boundary_y0 & boundary_yL & padding).flatten()        \n",
    "        \n",
    "    if len(candidates_vip) < num_vip:\n",
    "        raise ValueError('Number of VIP demanded is bigger than available particles.')\n",
    "\n",
    "    elected = []\n",
    "    count_while = 0    \n",
    "    \n",
    "    if sort_length:\n",
    "        array_candidates = array_trajs[:, candidates_vip, :]\n",
    "        lengths = np.ones(array_candidates.shape[1])*array_candidates.shape[0]\n",
    "        where_pad = np.argwhere(array_candidates[:,:,0] == pad)\n",
    "        lengths[where_pad[:,1]] = where_pad[:,0]\n",
    "        # We sort the particle by their lenghts (note the minus for descending order)\n",
    "        candidates_vip = candidates_vip[np.argsort(-lengths)]\n",
    "        \n",
    "    while len(elected) < num_vip:\n",
    "        \n",
    "        if sort_length and count_while == 0: \n",
    "            # if we already did a while loop, we start with a random candidate even\n",
    "            # when sorting\n",
    "            elected = [candidates_vip[0]]\n",
    "        else:\n",
    "            elected = [np.random.choice(candidates_vip)]\n",
    "\n",
    "        for c_idx in candidates_vip:\n",
    "            if c_idx == elected[0]:\n",
    "                continue\n",
    "            if len(array_trajs[0, elected,:].shape) < 2:\n",
    "                all_rest = np.expand_dims(array_trajs[0, elected,:], 0)\n",
    "            else:\n",
    "                all_rest = array_trajs[0, elected,:]\n",
    "\n",
    "            dist = distance.cdist(np.expand_dims(array_trajs[0,c_idx,:], 0), all_rest, metric='euclidean').transpose()\n",
    "\n",
    "            if dist.min() > min_distance_part:\n",
    "                elected.append(c_idx)\n",
    "\n",
    "            if len(elected) == num_vip:\n",
    "                break\n",
    "\n",
    "\n",
    "        count_while += 1\n",
    "        if count_while > 100: \n",
    "            raise ValueError('Could not find suitable VIP particles. This is due to either having to few particles or them being too close')\n",
    "            \n",
    "    return elected\n"
   ]
  },
  {
   "cell_type": "code",
   "execution_count": null,
   "id": "48021661-b5a0-41fe-b702-411f1f06e2b4",
   "metadata": {},
   "outputs": [
    {
     "data": {
      "text/plain": [
       "(200, 10, 2)"
      ]
     },
     "execution_count": null,
     "metadata": {},
     "output_type": "execute_result"
    }
   ],
   "source": [
    "# define random trajectories\n",
    "array_trajs = np.random.rand(200,10, 2)*10\n",
    "# insert paddings to make first trajectories finish earlier\n",
    "pad = -1\n",
    "array_trajs[100, :,:] = pad\n",
    "array_trajs[0,3,0] = pad\n",
    "array_trajs.shape"
   ]
  },
  {
   "cell_type": "code",
   "execution_count": null,
   "id": "ce4d1dca-0851-4bdb-beba-411cae6d6a4e",
   "metadata": {},
   "outputs": [
    {
     "data": {
      "text/plain": [
       "[0, 1, 2, 4, 5]"
      ]
     },
     "execution_count": null,
     "metadata": {},
     "output_type": "execute_result"
    }
   ],
   "source": [
    "get_VIP(array_trajs, num_vip = 5, min_distance_part = 0, pad = pad, \n",
    "        boundary = 10, boundary_origin = (0,0), min_distance_bound = 0,\n",
    "        sort_length = True)"
   ]
  },
  {
   "cell_type": "markdown",
   "id": "unavailable-brazil",
   "metadata": {},
   "source": [
    "# ANDI 2 challenge metrics"
   ]
  },
  {
   "cell_type": "markdown",
   "id": "e99cac7b-2c38-4384-8618-b6ddbd74732b",
   "metadata": {},
   "source": [
    "## Setting maximum erros for different metrics"
   ]
  },
  {
   "cell_type": "code",
   "execution_count": null,
   "id": "6205b6fd-1068-4d6a-96d0-31aa66537a02",
   "metadata": {},
   "outputs": [],
   "source": [
    "#| export\n",
    "def _get_error_bounds():\n",
    "    '''\n",
    "    Sets the current maximum errors we can do in the different diffusive properties.\n",
    "    '''\n",
    "    \n",
    "    # For single trajectory\n",
    "    threshold_error_alpha = 2\n",
    "    threshold_error_D = 1e5\n",
    "    threshold_error_s = 0\n",
    "    threshold_cp = 10\n",
    "    \n",
    "    # For ensemble, it relates to the Wasserstein distance. Check test below distribution_distance function \n",
    "    threshold_ensemble_alpha = np.abs(models_phenom().bound_alpha[0]-models_phenom().bound_alpha[1])\n",
    "    threshold_ensemble_D = np.abs(models_phenom().bound_D[0]-models_phenom().bound_D[1])\n",
    "    \n",
    "    return threshold_error_alpha, threshold_error_D, threshold_error_s, threshold_cp, threshold_ensemble_alpha, threshold_ensemble_D"
   ]
  },
  {
   "cell_type": "markdown",
   "id": "stopped-prototype",
   "metadata": {},
   "source": [
    "## Changepoint pairing\n",
    "We use an assignment algorithm to pair predicted and groundtruth changepoints. From there, we will calculate the various metrics of the challenge."
   ]
  },
  {
   "cell_type": "code",
   "execution_count": null,
   "id": "amber-interest",
   "metadata": {},
   "outputs": [],
   "source": [
    "#| export\n",
    "def changepoint_assignment(GT, preds):\n",
    "    ''' \n",
    "    Given a list of groundtruth and predicted changepoints, solves the assignment problem via\n",
    "    the Munkres algorithm (aka Hungarian algorithm) and returns two arrays containing the index of the\n",
    "    paired groundtruth and predicted changepoints, respectively.\n",
    "    \n",
    "    The distance between change point is the Euclidean distance.\n",
    "    \n",
    "    Parameters\n",
    "    ----------\n",
    "    GT : list\n",
    "        List of groundtruth change points.\n",
    "    preds : list\n",
    "        List of predicted change points.\n",
    "    \n",
    "    Returns\n",
    "    -------\n",
    "    tuple\n",
    "        - tuple of two arrays, each corresponding to the assigned GT and pred changepoints\n",
    "        - Cost matrix\n",
    "    \n",
    "    '''\n",
    "    \n",
    "    cost_matrix = np.zeros((len(GT), len(preds)))\n",
    "\n",
    "    for idxg, gt in enumerate(GT):\n",
    "        for idxp, pred in enumerate(preds):\n",
    "            cost_matrix[idxg, idxp] = np.abs(gt-pred)\n",
    "            \n",
    "    return linear_sum_assignment(cost_matrix), cost_matrix"
   ]
  },
  {
   "cell_type": "code",
   "execution_count": null,
   "id": "8d8ecf33-f9d2-49d9-a3f1-b510561e66ea",
   "metadata": {},
   "outputs": [
    {
     "name": "stdout",
     "output_type": "stream",
     "text": [
      "GT: [ 2  8 24 33 34 54 55 64 73 85]\n",
      "Pred: [ 8 11 16 30 36 47]\n"
     ]
    },
    {
     "data": {
      "text/plain": [
       "(array([0, 1, 2, 3, 4, 5], dtype=int64),\n",
       " array([1, 0, 2, 3, 4, 5], dtype=int64))"
      ]
     },
     "execution_count": null,
     "metadata": {},
     "output_type": "execute_result"
    }
   ],
   "source": [
    "ngts = 10; npreds = 6; T = 100\n",
    "GT = np.sort(np.random.choice(np.arange(1,T), ngts, replace = False))\n",
    "preds = np.sort(np.random.choice(np.arange(1,T)*0.5, npreds, replace = False)).astype(int)\n",
    "print('GT:', GT)\n",
    "print('Pred:', preds)\n",
    "changepoint_assignment(GT, preds)[0]"
   ]
  },
  {
   "cell_type": "code",
   "execution_count": null,
   "id": "ede6760b-d685-4318-a534-ebae92607df2",
   "metadata": {},
   "outputs": [],
   "source": [
    "#| export\n",
    "def changepoint_alpha_beta(GT, preds, threshold = 10):\n",
    "    '''\n",
    "    Calculate the alpha and beta measure of paired changepoints.\n",
    "    Inspired from Supplemantary Note 3 in https://www.nature.com/articles/nmeth.2808\n",
    "    \n",
    "    Parameters\n",
    "    ----------\n",
    "    GT : list\n",
    "        List of groundtruth change points.\n",
    "    preds : list\n",
    "        List of predicted change points.\n",
    "    threshold : float\n",
    "        Distance from which predictions are considered to have failed. They are then assigned this number.\n",
    "    \n",
    "    Returns\n",
    "    -------\n",
    "    tuple\n",
    "        alpha, beta\n",
    "        \n",
    "    '''\n",
    "\n",
    "    assignment, _ = changepoint_assignment(GT, preds)\n",
    "    assignment = np.array(assignment)\n",
    "\n",
    "    threshold = 10\n",
    "    distance = np.abs(GT[assignment[0]] - preds[assignment[1]])\n",
    "    distance[distance > threshold] = threshold\n",
    "    distance = np.sum(distance)\n",
    "\n",
    "    d_x_phi = threshold*len(GT)\n",
    "    d_ybar_phi = max([0, (len(preds)-len(GT))*threshold])\n",
    "\n",
    "    alpha = 1-distance/d_x_phi\n",
    "    beta = (d_x_phi-distance)/(d_x_phi+d_ybar_phi)\n",
    "\n",
    "    return alpha, beta"
   ]
  },
  {
   "cell_type": "code",
   "execution_count": null,
   "id": "2c3ed0f7-2ceb-404a-8c79-86815d9c9c9b",
   "metadata": {},
   "outputs": [
    {
     "data": {
      "text/plain": [
       "<matplotlib.legend.Legend>"
      ]
     },
     "execution_count": null,
     "metadata": {},
     "output_type": "execute_result"
    },
    {
     "data": {
      "image/png": "[encoded data removed]",
      "text/plain": [
       "<Figure size 400x300 with 1 Axes>"
      ]
     },
     "metadata": {},
     "output_type": "display_data"
    }
   ],
   "source": [
    "labels = [r'Random Guess + $N_p>N_{gt}$',\n",
    "          r'Random Guess + $N_p<N_{gt}$',\n",
    "          r'GT + rand $\\in [-3, 3]$',\n",
    "          r'GT + rand $\\in [-1, 1]$']\n",
    "\n",
    "fig, ax = plt.subplots(figsize = (4,3))\n",
    "alpha = 0.2\n",
    "\n",
    "T = 200; ngts = 15; \n",
    "\n",
    "for case, (label, color) in enumerate(zip(labels, ['C0', 'C1', 'C2', 'C3'])):\n",
    "\n",
    "    alphas, betas = [], []\n",
    "    for _ in range(100):\n",
    "        \n",
    "        GT = np.sort(np.random.choice(np.arange(1,T), ngts, replace = False))\n",
    "        if case == 0:\n",
    "            npreds = np.random.randint(low = ngts, high = ngts*2)\n",
    "            preds = np.sort(np.random.choice(np.arange(1,T), npreds, replace = False)) \n",
    "        elif case == 1:\n",
    "            npreds = np.random.randint(low = 1, high = ngts)\n",
    "            preds = np.sort(np.random.choice(np.arange(1,T), npreds, replace = False))     \n",
    "        elif case == 2:\n",
    "            preds = GT + np.random.randint(-3, 3, ngts)\n",
    "        elif case == 3:\n",
    "            preds = GT + np.random.randint(-1, 1, ngts)\n",
    "            \n",
    "        alpha, beta = changepoint_alpha_beta(GT, preds)\n",
    "        \n",
    "        alphas.append(alpha)\n",
    "        betas.append(beta)\n",
    "     \n",
    "    \n",
    "    ax.scatter(alphas, betas, c = color, alpha = alpha)\n",
    "    ax.scatter(np.mean(alphas), np.mean(betas), c = color, label = label, s = 50, marker = 's', edgecolors = 'k')\n",
    "plt.setp(ax, xlabel = r'$\\alpha$', ylabel = r'$\\beta$')\n",
    "ax.legend(loc = (1.01,0.4))"
   ]
  },
  {
   "cell_type": "code",
   "execution_count": null,
   "id": "fifty-laundry",
   "metadata": {},
   "outputs": [],
   "source": [
    "#| export\n",
    "def jaccard_index(TP: int, # true positive\n",
    "                  FP: int, # false positive\n",
    "                  FN: int # false negative\n",
    "                 )-> float: # Jaccard Index\n",
    "    '''\n",
    "    Given the true positive, false positive and false negative rates, calculates the Jaccard Index\n",
    "    '''\n",
    "    return TP/(TP+FP+FN)"
   ]
  },
  {
   "cell_type": "code",
   "execution_count": null,
   "id": "supreme-digest",
   "metadata": {},
   "outputs": [],
   "source": [
    "#| export\n",
    "def single_changepoint_error(GT, preds, threshold = 5):\n",
    "    '''\n",
    "    Given the groundtruth and predicted changepoints for a single trajectory, first solves the assignment problem between changepoints,\n",
    "    then calculates the RMSE of the true positive pairs and the Jaccard index.\n",
    "    \n",
    "    Parameters\n",
    "    ----------\n",
    "    GT : list\n",
    "        List of groundtruth change points.\n",
    "    preds : list\n",
    "        List of predicted change points.\n",
    "    threshold : float\n",
    "        Distance from which predictions are considered to have failed. They are then assigned this number.\n",
    "    \n",
    "    Returns\n",
    "    -------\n",
    "    tuple\n",
    "        - TP_rmse: root mean square error of the true positive change points.\n",
    "        - Jaccard Index of the ensemble predictions        \n",
    "        \n",
    "    '''\n",
    "    \n",
    "    assignment, _ = changepoint_assignment(GT, preds)\n",
    "    assignment = np.array(assignment)\n",
    "    \n",
    "    TP, FP, FN = 0, 0, 0\n",
    "    TP_rmse = []\n",
    "    for p in assignment.transpose():\n",
    "        \n",
    "        if np.abs(GT[p[0]] - preds[p[1]]) < threshold:\n",
    "            TP += 1\n",
    "            TP_rmse.append((GT[p[0]] - preds[p[1]])**2)\n",
    "        else:\n",
    "            FP += 1\n",
    "            FN += 1\n",
    "    # Calculating RMSE\n",
    "    TP_rmse = np.sqrt(np.mean(TP_rmse))\n",
    "\n",
    "    # Checking false positive and missed events\n",
    "    if len(preds) > len(GT):\n",
    "        FP += len(preds) - len(GT)\n",
    "    elif len(preds) < len(GT):\n",
    "        FN += len(GT) - len(preds)\n",
    "    \n",
    "    return TP_rmse, jaccard_index(TP, FP, FN)"
   ]
  },
  {
   "cell_type": "code",
   "execution_count": null,
   "id": "ideal-chuck",
   "metadata": {},
   "outputs": [],
   "source": [
    "#| export\n",
    "def ensemble_changepoint_error(GT_ensemble, pred_ensemble, threshold = 5):    \n",
    "    ''' \n",
    "    Given an ensemble of groundtruth and predicted change points, iterates\n",
    "    over each trajectory's changepoints. For each, it solves the assignment problem \n",
    "    between changepoints. Then, calculates the RMSE of the true positive pairs and\n",
    "    the Jaccard index over the ensemble of changepoints (i.e. not the mean of them \n",
    "    w.r.t. to the trajectories)\n",
    "    \n",
    "    Parameters\n",
    "    ----------\n",
    "    GT_ensemble : list, array\n",
    "        Ensemble of groutruth change points.\n",
    "    pred_ensemble : list\n",
    "        Ensemble of predicted change points.\n",
    "    threshold : float\n",
    "        Distance from which predictions are considered to have failed. They are then assigned this number.\n",
    "    \n",
    "    Returns\n",
    "    -------\n",
    "    tuple\n",
    "        - TP_rmse: root mean square error of the true positive change points.\n",
    "        - Jaccard Index of the ensemble predictions\n",
    "    \n",
    "    '''\n",
    "    \n",
    "    TP, FP, FN = 0, 0, 0\n",
    "    TP_rmse = []\n",
    "    num_cp_GT = 0\n",
    "    for gt_traj, pred_traj in zip(GT_ensemble, pred_ensemble):\n",
    "        num_cp_GT += len(gt_traj)\n",
    "        \n",
    "        assignment, _ = changepoint_assignment(gt_traj, pred_traj)\n",
    "        assignment = np.array(assignment)\n",
    "        \n",
    "        for p in assignment.transpose():\n",
    "            \n",
    "            if np.abs(gt_traj[p[0]] - pred_traj[p[1]]) < threshold:\n",
    "                TP += 1\n",
    "                TP_rmse.append((gt_traj[p[0]] - pred_traj[p[1]])**2)\n",
    "            else:\n",
    "                FP += 1\n",
    "                FN += 1    \n",
    "                \n",
    "        # Checking false positive and missed events\n",
    "        if len(pred_traj) > len(gt_traj):\n",
    "            FP += len(pred_traj) - len(gt_traj)\n",
    "        elif len(pred_traj) < len(gt_traj):\n",
    "            FN += len(gt_traj) - len(pred_traj)\n",
    "                \n",
    "    if TP+FP+FN == 0:\n",
    "        if num_cp_GT == 0: # this means there where no CP both in GT and Pred\n",
    "            return 0, 1\n",
    "        wrn_str = f'No segments found in your predictions dataset.'\n",
    "        warnings.warn(wrn_str)\n",
    "        return threshold, 0\n",
    "        \n",
    "    # Calculating RMSE\n",
    "    if len(TP_rmse) > 0:\n",
    "        TP_rmse = np.sqrt(np.mean(TP_rmse))\n",
    "    else:\n",
    "        TP_rmse = threshold\n",
    "    \n",
    "        \n",
    "    return TP_rmse, jaccard_index(TP, FP, FN)"
   ]
  },
  {
   "cell_type": "code",
   "execution_count": null,
   "id": "valuable-jefferson",
   "metadata": {},
   "outputs": [
    {
     "data": {
      "text/plain": [
       "<matplotlib.legend.Legend>"
      ]
     },
     "execution_count": null,
     "metadata": {},
     "output_type": "execute_result"
    },
    {
     "data": {
      "image/png": "[encoded data removed]",
      "text/plain": [
       "<Figure size 300x300 with 1 Axes>"
      ]
     },
     "metadata": {},
     "output_type": "display_data"
    }
   ],
   "source": [
    "labels = ['Random Guess + Incorrect number',\n",
    "          r'GT + rand $\\in [-3, 3]$',\n",
    "          r'GT + rand $\\in [-1, 1]$']\n",
    "\n",
    "fig, ax = plt.subplots(figsize = (3,3))\n",
    "alpha = 0.2\n",
    "\n",
    "T = 200; ngts = 10; npreds = 8\n",
    "\n",
    "for case, (label, color) in enumerate(zip(labels, ['C0', 'C1', 'C2'])):\n",
    "    \n",
    "    rmse, ji = [], []\n",
    "    GT, preds = [], []\n",
    "    for _ in range(100):\n",
    "\n",
    "        GT.append(np.sort(np.random.choice(np.arange(1,T), ngts, replace = False)))\n",
    "        if case == 0:\n",
    "            preds.append(np.sort(np.random.choice(np.arange(1,T), npreds, replace = False)))                  \n",
    "        elif case == 1:\n",
    "            preds.append(GT[-1] + np.random.randint(-3, 3, ngts))\n",
    "        elif case == 2:\n",
    "            preds.append(GT[-1] + np.random.randint(-1, 1, ngts))\n",
    "\n",
    "        assignment, _ = changepoint_assignment(GT[-1], preds[-1])\n",
    "        assignment = np.array(assignment)\n",
    "\n",
    "        RMSE, JI = single_changepoint_error(GT[-1], preds[-1], threshold = 5)     \n",
    "        \n",
    "        rmse.append(RMSE)\n",
    "        ji.append(JI)\n",
    "\n",
    "    rmse_e, ji_e = ensemble_changepoint_error(GT, preds, threshold = 5)\n",
    "    \n",
    "    ax.scatter(rmse, ji, c = color, alpha = alpha)\n",
    "    ax.scatter(rmse_e, ji_e, c = color, label = label, s = 50, marker = 's', edgecolors = 'k')\n",
    "plt.setp(ax, xlabel = 'TP RMSE', ylabel = 'Jaccard')\n",
    "ax.legend(loc = (0.91,0.4))"
   ]
  },
  {
   "cell_type": "markdown",
   "id": "selective-official",
   "metadata": {},
   "source": [
    "## Segments pairing \n",
    "Here we focus on pairing the segments arising from a list of changepoints. We will use this to latter compare the predicted physical properties for each segment"
   ]
  },
  {
   "cell_type": "code",
   "execution_count": null,
   "id": "inclusive-combination",
   "metadata": {},
   "outputs": [],
   "source": [
    "#| export\n",
    "def create_binary_segment(CP: list, # list of changepoints\n",
    "                          T: int # length of the trajectory\n",
    "                         )-> list: # list of arrays with value 1 in the temporal support of the current segment.\n",
    "    '''\n",
    "    Given a set of changepoints and the lenght of the trajectory, create segments which are equal to one\n",
    "    if the segment takes place at that position and zero otherwise.\n",
    "    '''\n",
    "    segments = np.zeros((len(CP)+1, T))\n",
    "    CP = np.append(0, CP)\n",
    "    for idx, (cp1, cp2) in enumerate(zip(CP[:-1], CP[1:])):\n",
    "        segments[idx, cp1+1:cp2+1] = 1\n",
    "    segments[-1, CP[-1]+1:] = 1\n",
    "    segments[0, 0] = 1\n",
    "    return segments"
   ]
  },
  {
   "cell_type": "code",
   "execution_count": null,
   "id": "5890ea50-f0f5-4913-9e31-171ca614062b",
   "metadata": {},
   "outputs": [
    {
     "data": {
      "image/png": "[encoded data removed]",
      "text/plain": [
       "<Figure size 400x300 with 1 Axes>"
      ]
     },
     "metadata": {},
     "output_type": "display_data"
    }
   ],
   "source": [
    "T= 50\n",
    "GT = np.sort(np.random.choice(np.arange(1,T), 10, replace = False))\n",
    "plt.figure(figsize = (4,3))\n",
    "for idx, x in enumerate(create_binary_segment(GT, T)):\n",
    "    plt.plot(x*idx, 'o')"
   ]
  },
  {
   "cell_type": "code",
   "execution_count": null,
   "id": "executed-pearl",
   "metadata": {},
   "outputs": [],
   "source": [
    "#| export\n",
    "def jaccard_between_segments(gt, pred):\n",
    "    '''\n",
    "    Given two segments, calculates the Jaccard index between them by considering TP as correct labeling,\n",
    "    FN as missed events and FP leftover predictions.\n",
    "    \n",
    "    Parameters\n",
    "    ----------\n",
    "    gt : array\n",
    "        groundtruth segment, equal to one in the temporal support of the given segment, zero otherwise.\n",
    "    pred : array\n",
    "        predicted segment, equal to one in the temporal support of the given segment, zero otherwise.\n",
    "    \n",
    "    Returns\n",
    "    -------\n",
    "    float\n",
    "        Jaccard index between the given segments.\n",
    "    '''\n",
    "    \n",
    "    if len(gt) > len(pred):\n",
    "        pred = np.append(pred, np.zeros(len(gt) - len(pred)))\n",
    "    elif len(pred) > len(gt):                        \n",
    "        gt = np.append(gt, np.zeros(len(pred) - len(gt)))\n",
    "    \n",
    "    \n",
    "    tp = np.sum(np.logical_and(pred == 1, gt == 1))\n",
    "    fp = np.sum(np.logical_and(pred == 1, gt == 0))\n",
    "    fn = np.sum(np.logical_and(pred == 0, gt == 1))\n",
    "    \n",
    "    # special case for absence of changepoint\n",
    "    if tp+fp+fn == 0: return 0    \n",
    "    else: return jaccard_index(tp, fp, fn)"
   ]
  },
  {
   "cell_type": "code",
   "execution_count": null,
   "id": "administrative-portable",
   "metadata": {},
   "outputs": [],
   "source": [
    "#| export\n",
    "def segment_assignment(GT, preds, T:int = None):\n",
    "    ''' \n",
    "    Given a list of groundtruth and predicted changepoints, generates a set of segments. Then constructs \n",
    "    a cost matrix by calculting the Jaccard Index between segments. From this cost matrix, we solve the \n",
    "    assignment  problem via the Munkres algorithm (aka Hungarian algorithm) and returns two arrays \n",
    "    containing the index of the groundtruth and predicted segments, respectively.\n",
    "    \n",
    "    If T = None, then we consider that GT and preds may have different lenghts. In that case, the end\n",
    "    of the segments is the the last CP of each set of CPs.\n",
    "    \n",
    "    Parameters\n",
    "    ----------\n",
    "    GT : list\n",
    "        List of groundtruth change points.\n",
    "    preds : list\n",
    "        List of predicted change points.\n",
    "    T : int, None\n",
    "        Length of the trajectory. If None, considers different GT and preds length.\n",
    "    \n",
    "    Returns\n",
    "    -------\n",
    "    tuple\n",
    "        - tuple of two arrays, each corresponding to the assigned GT and pred changepoints\n",
    "        - Cost matrix calculated via JI of segments   \n",
    "    \n",
    "    '''\n",
    "   \n",
    "    if T is not None:\n",
    "        T_gt = T_pred = T\n",
    "        # Check if the GT or predictions are a single integer or an empty array\n",
    "        if isinstance(GT, int): GT = [GT]\n",
    "        elif len(GT) == 0: GT = [T-1]\n",
    "\n",
    "        if isinstance(preds, int): preds = [preds]\n",
    "        elif len(preds) == 0: preds = [T-1]\n",
    "    else:\n",
    "        T_gt = GT[-1]\n",
    "        if len(GT) > 1:\n",
    "            GT = GT[:-1]            \n",
    "            \n",
    "        T_pred = preds[-1]\n",
    "        if len(preds) > 1:\n",
    "            preds = preds[:-1]\n",
    "        \n",
    "    \n",
    "    \n",
    "    seg_GT = create_binary_segment(GT, T_gt)\n",
    "    seg_preds = create_binary_segment(preds, T_pred)\n",
    "    \n",
    "    cost_matrix = np.zeros((seg_GT.shape[0], seg_preds.shape[0]))\n",
    "\n",
    "    for idxg, gt in enumerate(seg_GT):\n",
    "        for idxp, pred in enumerate(seg_preds):\n",
    "            cost_matrix[idxg, idxp] = 1-jaccard_between_segments(gt, pred)\n",
    "\n",
    "    return linear_sum_assignment(cost_matrix), cost_matrix"
   ]
  },
  {
   "cell_type": "markdown",
   "id": "occasional-knight",
   "metadata": {},
   "source": [
    "#### Examples"
   ]
  },
  {
   "cell_type": "markdown",
   "id": "40260f11-2cbd-4865-8459-c48c9701bc75",
   "metadata": {},
   "source": [
    "**Predictions close to groundtruth**"
   ]
  },
  {
   "cell_type": "code",
   "execution_count": null,
   "id": "automotive-admission",
   "metadata": {},
   "outputs": [
    {
     "data": {
      "text/plain": [
       "<matplotlib.legend.Legend>"
      ]
     },
     "execution_count": null,
     "metadata": {},
     "output_type": "execute_result"
    },
    {
     "data": {
      "image/png": "[encoded data removed]",
      "text/plain": [
       "<Figure size 1500x600 with 10 Axes>"
      ]
     },
     "metadata": {},
     "output_type": "display_data"
    }
   ],
   "source": [
    "T = 200; \n",
    "ngts = 10; \n",
    "GT = np.sort(np.random.choice(np.arange(1,T), ngts, replace = False))\n",
    "preds = np.sort(GT + np.random.randint(-5, 5, 1) )\n",
    "\n",
    "seg_GT = create_binary_segment(GT, T)\n",
    "seg_preds = create_binary_segment(preds, T)   \n",
    "\n",
    "[row_ind, col_ind], cost_matrix = segment_assignment(GT, preds, T)\n",
    "\n",
    "fig, axs = plt.subplots(2, 5, figsize = (15, 6))\n",
    "for r, c, ax in zip(row_ind, col_ind, axs.flatten()):\n",
    "    ax.set_title(f'1 - JI = {np.round(cost_matrix[r, c], 2)}')\n",
    "    ax.plot(seg_GT[r], label = 'Groundtruth')\n",
    "    ax.plot(seg_preds[c], label = 'Prediction')\n",
    "axs[0,0].legend()"
   ]
  },
  {
   "cell_type": "markdown",
   "id": "d3211306-638b-454b-8e85-71f28d4daed3",
   "metadata": {},
   "source": [
    "**Different size between predictions and trues**"
   ]
  },
  {
   "cell_type": "code",
   "execution_count": null,
   "id": "e9f965a0-10e7-405e-af8d-0ef275e5ab6a",
   "metadata": {},
   "outputs": [
    {
     "data": {
      "text/plain": [
       "<matplotlib.legend.Legend>"
      ]
     },
     "execution_count": null,
     "metadata": {},
     "output_type": "execute_result"
    },
    {
     "data": {
      "image/png": "[encoded data removed]",
      "text/plain": [
       "<Figure size 1500x300 with 5 Axes>"
      ]
     },
     "metadata": {},
     "output_type": "display_data"
    }
   ],
   "source": [
    "T1 = 200; T2 = 100\n",
    "ngts = 10; \n",
    "GT = np.sort(np.random.choice(np.arange(1,T1), ngts, replace = False))\n",
    "preds = np.sort(np.random.choice(np.arange(1,T2), 5, replace = False))\n",
    "\n",
    "seg_GT = create_binary_segment(GT, T1)\n",
    "seg_preds = create_binary_segment(preds, T2)   \n",
    "\n",
    "[row_ind, col_ind], cost_matrix = segment_assignment(GT, preds)\n",
    "\n",
    "fig, axs = plt.subplots(1, 5, figsize = (15, 3))\n",
    "for r, c, ax in zip(row_ind, col_ind, axs.flatten()):\n",
    "    ax.set_title(f'1 - JI = {np.round(cost_matrix[r, c], 2)}')\n",
    "    ax.plot(seg_GT[r], label = 'Groundtruth')\n",
    "    ax.plot(seg_preds[c], label = 'Prediction')\n",
    "axs[0].legend()"
   ]
  },
  {
   "cell_type": "markdown",
   "id": "stuffed-damage",
   "metadata": {},
   "source": [
    "**Predictions very different to groundtruth**"
   ]
  },
  {
   "cell_type": "code",
   "execution_count": null,
   "id": "consecutive-islam",
   "metadata": {},
   "outputs": [
    {
     "data": {
      "text/plain": [
       "<matplotlib.legend.Legend>"
      ]
     },
     "execution_count": null,
     "metadata": {},
     "output_type": "execute_result"
    },
    {
     "data": {
      "image/png": "[encoded data removed]",
      "text/plain": [
       "<Figure size 1500x300 with 5 Axes>"
      ]
     },
     "metadata": {},
     "output_type": "display_data"
    }
   ],
   "source": [
    "T = 200;\n",
    "ngts = 5; npreds = 5;\n",
    "GT = np.sort(np.random.choice(np.arange(1,T), ngts, replace = False))\n",
    "preds = np.sort(np.random.choice(np.arange(1,T), npreds, replace = False))  \n",
    "\n",
    "seg_GT = create_binary_segment(GT, T)\n",
    "seg_preds = create_binary_segment(preds, T)\n",
    "\n",
    "[row_ind, col_ind], cost_matrix = segment_assignment(GT, preds, T)\n",
    "\n",
    "fig, axs = plt.subplots(1, 5, figsize = (15, 3))\n",
    "for r, c, ax in zip(row_ind, col_ind, axs.flatten()):\n",
    "    ax.set_title(f'1 - JI = {np.round(cost_matrix[r, c], 2)}')\n",
    "    ax.plot(seg_GT[r], label = 'Groundtruth')\n",
    "    ax.plot(seg_preds[c], label = 'Prediction')\n",
    "axs[0].legend()"
   ]
  },
  {
   "cell_type": "markdown",
   "id": "electric-quebec",
   "metadata": {},
   "source": [
    "## Segment properties comparison\n",
    "\n",
    "We use the segment pairing functions that we have defined above to compute various metrics between the properties of predicted and groundtruth segments.\n"
   ]
  },
  {
   "cell_type": "markdown",
   "id": "50630c45-1a2c-4de4-b426-94e906ce4e7f",
   "metadata": {},
   "source": [
    "### Metrics of segment properties"
   ]
  },
  {
   "cell_type": "code",
   "execution_count": null,
   "id": "structured-pharmacology",
   "metadata": {},
   "outputs": [],
   "source": [
    "#| export\n",
    "from sklearn.metrics import mean_squared_log_error as msle, f1_score\n",
    "\n",
    "def metric_anomalous_exponent(gt = None,\n",
    "                              pred = None,\n",
    "                              max_error = np.abs(models_phenom().bound_alpha[0]-models_phenom().bound_alpha[1])):\n",
    "    ''' \n",
    "    Compute the mean absolute error (mae) between anomalous exponents.\n",
    "    Checks the current bounds of anomalous exponents from models_phenom to calculate the maximum error.\n",
    "    ''' \n",
    "    error = np.mean(np.abs(gt-pred))\n",
    "    if error > max_error:\n",
    "        return max_error\n",
    "    else: \n",
    "        return error\n",
    "\n",
    "def metric_diffusion_coefficient(gt = None, pred = None, \n",
    "                                 threshold_min = models_phenom().bound_D[0],                               \n",
    "                                 max_error = msle([models_phenom().bound_D[0]],\n",
    "                                                  [models_phenom().bound_D[1]])):\n",
    "    ''' \n",
    "    Compute the mean squared log error (msle) between diffusion coefficients.\n",
    "    Checks the current bounds of diffusion from models_phenom to calculate the maximum error. \n",
    "    ''' \n",
    "    \n",
    "     # considering the presence of zeros and negatives\n",
    "    pred = np.array(pred).copy(); gt = np.array(gt).copy()\n",
    "    pred[pred <= threshold_min] = threshold_min\n",
    "    gt[gt <= threshold_min] = threshold_min    \n",
    "    # mean squared log error\n",
    "    error = msle(gt, pred)\n",
    "    \n",
    "    if error > max_error:\n",
    "        return max_error\n",
    "    else: \n",
    "        return error\n",
    "\n",
    "def metric_diffusive_state(gt = None, pred = None):\n",
    "    ''' \n",
    "    Compute the F1 score between diffusive states. \n",
    "    ''' \n",
    "    return f1_score(gt.astype(int), pred.astype(int), average = 'micro')"
   ]
  },
  {
   "cell_type": "code",
   "execution_count": null,
   "id": "e261398c-e7e3-49ef-b479-ab18c9afe849",
   "metadata": {},
   "outputs": [],
   "source": [
    "x = np.random.rand(100)\n",
    "y = np.random.rand(100)"
   ]
  },
  {
   "cell_type": "code",
   "execution_count": null,
   "id": "b859045c-4144-43bc-baf8-73487610c656",
   "metadata": {},
   "outputs": [
    {
     "data": {
      "text/plain": [
       "0.014261449910975834"
      ]
     },
     "execution_count": null,
     "metadata": {},
     "output_type": "execute_result"
    }
   ],
   "source": [
    "metric_diffusion_coefficient(x+2,y+2, threshold_min=-2)"
   ]
  },
  {
   "cell_type": "markdown",
   "id": "93484dec-61e2-43b9-8317-3011a9a5527b",
   "metadata": {},
   "source": [
    "### Pairing and metrics calculation"
   ]
  },
  {
   "cell_type": "code",
   "execution_count": null,
   "id": "239014b9-4db6-4742-a988-7d583e700899",
   "metadata": {},
   "outputs": [],
   "source": [
    "#| export\n",
    "def check_no_changepoints(GT_cp, GT_alpha, GT_D, GT_s,\n",
    "                          preds_cp, preds_alpha, preds_D, preds_s,\n",
    "                          T:bool|int = None):\n",
    "    '''\n",
    "    Given predicionts over changepoints and variables, checks if in both GT and preds there is an \n",
    "    absence of change point. If so, takes that into account to pair variables.\n",
    "    \n",
    "    Parameters\n",
    "    ----------\n",
    "    GT_cp : list, int, float\n",
    "        Groundtruth change points\n",
    "    GT_alpha : list, float\n",
    "        Groundtruth anomalous exponent\n",
    "    GT_D : list, float\n",
    "        Groundtruth diffusion coefficient\n",
    "    GT_s : list, float\n",
    "        Groundtruth diffusive state\n",
    "    preds_cp : list, int, float\n",
    "        Predicted change points\n",
    "    preds_alpha : list, float\n",
    "        Predicted anomalous exponent\n",
    "    preds_D : list, float\n",
    "        Predicted diffusion coefficient\n",
    "    preds_s : list, float\n",
    "        Predicted diffusive state\n",
    "    T : bool,int\n",
    "        (optional) Length of the trajectories. If none, last change point is length.\n",
    "    \n",
    "    Returns\n",
    "    -------\n",
    "    tuple\n",
    "        - False if there are change points. True if there were missing change points.\n",
    "        - Next three are either all Nones if change points were detected, or paired exponents, \n",
    "        coefficient and states if some change points were missing.\n",
    "    \n",
    "    '''\n",
    "\n",
    "\n",
    "    if isinstance(GT_cp, int) or isinstance(GT_cp, float):\n",
    "        GT_cp = [GT_cp]\n",
    "    if isinstance(preds_cp, int) or isinstance(preds_cp, float):\n",
    "        preds_cp = [preds_cp]\n",
    "        \n",
    "    no_GT_cp = False; no_preds_cp = False\n",
    "    # CP always contain the final point of the trajectory, hence minimal length is one\n",
    "    if len(GT_cp) == 1: no_GT_cp = True\n",
    "    if len(preds_cp) == 1: no_preds_cp = True       \n",
    "        \n",
    "\n",
    "    if no_GT_cp + no_preds_cp == 0:\n",
    "        return False, None, None, None\n",
    "    \n",
    "    else:\n",
    "\n",
    "        [row_ind, col_ind], _ = segment_assignment(GT_cp, preds_cp, T)   \n",
    "\n",
    "        if no_GT_cp and not no_preds_cp:\n",
    "            paired_alpha = np.array([[GT_alpha[0], preds_alpha[col_ind[0]]]])\n",
    "            paired_D = np.array([[GT_D[0], preds_D[col_ind[0]]]])\n",
    "            paired_s = np.array([[GT_s[0], preds_s[col_ind[0]]]])\n",
    "\n",
    "        if no_preds_cp and not no_GT_cp:\n",
    "            row_position = np.argwhere(col_ind == 0).flatten()[0]            \n",
    "            paired_alpha = np.array([[GT_alpha[row_position], preds_alpha[col_ind[row_position]]]])\n",
    "            paired_D = np.array([[GT_D[row_position], preds_D[col_ind[row_position]]]])\n",
    "            paired_s = np.array([[GT_s[row_position], preds_s[col_ind[row_position]]]])\n",
    "            \n",
    "        if no_preds_cp and no_GT_cp: \n",
    "            paired_alpha = np.array([[GT_alpha[0], preds_alpha[0]]])\n",
    "            paired_D = np.array([[GT_D[0], preds_D[0]]])\n",
    "            paired_s = np.array([[GT_s[0], preds_s[0]]])\n",
    "            \n",
    "\n",
    "        return True, paired_alpha, paired_D, paired_s"
   ]
  },
  {
   "cell_type": "code",
   "execution_count": null,
   "id": "connected-lithuania",
   "metadata": {},
   "outputs": [],
   "source": [
    "#| export\n",
    "def segment_property_errors(GT_cp, GT_alpha, GT_D, GT_s,\n",
    "                            preds_cp, preds_alpha, preds_D, preds_s,\n",
    "                            return_pairs = False,\n",
    "                            T = None):\n",
    "    '''\n",
    "    Given predicionts over change points and the value of diffusion parameters in the generated\n",
    "    segments, computes the defined metrics.\n",
    "    \n",
    "    Parameters\n",
    "    ----------\n",
    "    GT_cp : list, int, float\n",
    "        Groundtruth change points\n",
    "    GT_alpha : list, float\n",
    "        Groundtruth anomalous exponent\n",
    "    GT_D : list, float\n",
    "        Groundtruth diffusion coefficient\n",
    "    GT_s : list, float\n",
    "        Groundtruth diffusive state\n",
    "    preds_cp : list, int, float\n",
    "        Predicted change points\n",
    "    preds_alpha : list, float\n",
    "        Predicted anomalous exponent\n",
    "    preds_D : list, float\n",
    "        Predicted diffusion coefficient\n",
    "    preds_s : list, float\n",
    "        Predicted diffusive state\n",
    "    return_pairs : bool\n",
    "        If True, returns the assigment pairs for each diffusive property.\n",
    "    T : bool,int\n",
    "        (optional) Length of the trajectories. If none, last change point is length.\n",
    "    \n",
    "    Returns\n",
    "    -------\n",
    "    tuple\n",
    "        - if return_pairs = True, returns the assigned pairs of diffusive properties\n",
    "        - if return_pairs = False, returns the errors for each diffusive property\n",
    "    '''\n",
    "    \n",
    "    # Check cases in which changepoint where not detected or there were none in groundtruth\n",
    "    no_change_point_case, paired_alpha, paired_D, paired_s = check_no_changepoints(GT_cp, GT_alpha, GT_D, GT_s,\n",
    "                                                                                   preds_cp, preds_alpha, preds_D, preds_s, T)\n",
    "   \n",
    "    if not no_change_point_case:\n",
    "        # Solve the assignment problem\n",
    "        [row_ind, col_ind], _ = segment_assignment(GT_cp, preds_cp, T)\n",
    "   \n",
    "        # iterate over the groundtruth segments\n",
    "        paired_alpha, paired_D, paired_s = [], [], []\n",
    "        for idx_seg, (gt_alpha, gt_D) in enumerate(zip(GT_alpha, GT_D)):\n",
    "\n",
    "            row_position = np.argwhere(row_ind == idx_seg).flatten()\n",
    "\n",
    "            # if the GT segment was associated to a prediction\n",
    "            if len(row_position) > 0:\n",
    "                row_position = int(row_position)\n",
    "                # alpha                \n",
    "                gt_a_seg = GT_alpha[idx_seg]                \n",
    "                pred_a_seg = preds_alpha[col_ind[row_position]]\n",
    "                # d\n",
    "                gt_d_seg = GT_D[idx_seg]\n",
    "                pred_d_seg = preds_D[col_ind[row_position]]\n",
    "                # state\n",
    "                gt_s_seg = GT_s[idx_seg]\n",
    "                pred_s_seg = preds_s[col_ind[row_position]]\n",
    "\n",
    "                paired_alpha.append([gt_a_seg, pred_a_seg])\n",
    "                paired_D.append([gt_d_seg, pred_d_seg])\n",
    "                paired_s.append([gt_s_seg, pred_s_seg])\n",
    "\n",
    "        paired_alpha, paired_D, paired_s = np.array(paired_alpha), np.array(paired_D), np.array(paired_s) \n",
    "    \n",
    "    if return_pairs:\n",
    "        return paired_alpha, paired_D, paired_s \n",
    "    else:\n",
    "        error_alpha = metric_anomalous_exponent(paired_alpha[:,0], paired_alpha[:,1])\n",
    "        error_D = metric_diffusion_coefficient(paired_D[:,0], paired_D[:,1])\n",
    "        error_s = metric_diffusive_state(paired_s[:,0], paired_s[:,1])\n",
    "        return error_alpha, error_D, error_s"
   ]
  },
  {
   "cell_type": "markdown",
   "id": "de922805-cc70-4fa9-94cb-87da64659053",
   "metadata": {},
   "source": [
    "We generate some random predictions to check how the metrics behave. We consider errors also in the change point predictions, hence there will be some segment mismatchings, which will affect the diffusive properties predictions:"
   ]
  },
  {
   "cell_type": "code",
   "execution_count": null,
   "id": "matched-commonwealth",
   "metadata": {},
   "outputs": [],
   "source": [
    "T = 200; \n",
    "ngts = 10; \n",
    "errors_alpha = np.linspace(0, 1, ngts)\n",
    "errors_d = np.linspace(0, 10, ngts)\n",
    "errors_s = np.linspace(0, 1, ngts)\n",
    "\n",
    "metric_a, metric_d, metric_s = [], [], []\n",
    "for error_a, error_d, error_s in zip(errors_alpha, errors_d, errors_s):\n",
    "    la, ld, ls = [], [], []\n",
    "    for _ in range(100):\n",
    "\n",
    "        GT_cp = np.sort(np.random.choice(np.arange(1,T-1), ngts, replace = False))\n",
    "        preds_cp = np.sort(np.random.choice(np.arange(1,T-1), ngts, replace = False)) \n",
    "\n",
    "        GT_alpha = np.random.rand(GT_cp.shape[0]+1)\n",
    "        preds_alpha = GT_alpha + np.random.randn(preds_cp.shape[0]+1)*error_a\n",
    "\n",
    "        GT_D = np.abs(np.random.randn(GT_cp.shape[0]+1)*10)\n",
    "        preds_D = GT_D + np.abs(np.random.randn(preds_cp.shape[0]+1))*error_d\n",
    "        \n",
    "        GT_s = np.random.randint(0, 5, GT_cp.shape[0]+1)\n",
    "        coin = np.random.rand(len(GT_s))\n",
    "        preds_s = GT_s.copy()\n",
    "        preds_s[coin < error_s] = np.random.randint(0, 5, len(coin[coin < error_s]))\n",
    "\n",
    "        m_a, m_d, m_s = segment_property_errors(GT_cp, GT_alpha, GT_D, GT_s, preds_cp, preds_alpha, preds_D, preds_s, T = T)\n",
    "        \n",
    "        la.append(m_a); ld.append(m_d); ls.append(m_s)\n",
    "    \n",
    "    metric_a.append(np.mean(la))\n",
    "    metric_d.append(np.mean(ld))    \n",
    "    metric_s.append(np.mean(ls))"
   ]
  },
  {
   "cell_type": "markdown",
   "id": "f03a222d-264e-46d1-98ec-206f8fc8d00f",
   "metadata": {},
   "source": [
    "With no error in the changepoint predicitions:"
   ]
  },
  {
   "cell_type": "code",
   "execution_count": null,
   "id": "historical-marathon",
   "metadata": {},
   "outputs": [
    {
     "data": {
      "text/plain": [
       "[Text(0.5, 0, 'Error magnitude'),\n",
       " Text(0.5, 0, 'Error magnitude'),\n",
       " Text(0.5, 0, 'Error magnitude')]"
      ]
     },
     "execution_count": null,
     "metadata": {},
     "output_type": "execute_result"
    },
    {
     "data": {
      "image/png": "[encoded data removed]",
      "text/plain": [
       "<Figure size 900x300 with 3 Axes>"
      ]
     },
     "metadata": {},
     "output_type": "display_data"
    }
   ],
   "source": [
    "fig, ax = plt.subplots(1, 3, figsize = (9, 3), tight_layout = True)\n",
    "\n",
    "ax[0].plot(np.arange(ngts), errors_alpha, c = 'C0', ls = '--', label = 'Expected with no assigment error')\n",
    "ax[0].plot(np.arange(ngts), metric_a, c = 'C0')\n",
    "ax[0].set_title(r'Error in $\\alpha$ (MAE)')\n",
    "\n",
    "#ax[1].plot(np.arange(ngts), errors_d, c = 'C1', ls = '--')\n",
    "ax[1].plot(np.arange(ngts), metric_d, c = 'C1')\n",
    "ax[1].set_title(r'Error in $D$ (MSLE)')\n",
    "\n",
    "ax[2].plot(np.arange(ngts), metric_s, c = 'C1')\n",
    "ax[2].set_title(r'Error in states (JI)')\n",
    "\n",
    "plt.setp(ax, xlabel = 'Error magnitude')"
   ]
  },
  {
   "cell_type": "markdown",
   "id": "4bfa0af4-45ff-4ca5-9dc4-bec9a0cf9969",
   "metadata": {},
   "source": [
    "With error in the changepoint predicitions:"
   ]
  },
  {
   "cell_type": "code",
   "execution_count": null,
   "id": "dac8324f-6bc4-4a44-9115-ad0facf46de4",
   "metadata": {},
   "outputs": [
    {
     "data": {
      "text/plain": [
       "[Text(0.5, 0, 'Error magnitude'),\n",
       " Text(0.5, 0, 'Error magnitude'),\n",
       " Text(0.5, 0, 'Error magnitude')]"
      ]
     },
     "execution_count": null,
     "metadata": {},
     "output_type": "execute_result"
    },
    {
     "data": {
      "image/png": "[encoded data removed]",
      "text/plain": [
       "<Figure size 900x300 with 3 Axes>"
      ]
     },
     "metadata": {},
     "output_type": "display_data"
    }
   ],
   "source": [
    "fig, ax = plt.subplots(1, 3, figsize = (9, 3), tight_layout = True)\n",
    "\n",
    "ax[0].plot(np.arange(ngts), errors_alpha, c = 'C0', ls = '--', label = 'Expected with no assigment error')\n",
    "ax[0].plot(np.arange(ngts), metric_a, c = 'C0')\n",
    "ax[0].set_title(r'Error in $\\alpha$ (MAE)')\n",
    "\n",
    "#ax[1].plot(np.arange(ngts), errors_d, c = 'C1', ls = '--')\n",
    "ax[1].plot(np.arange(ngts), metric_d, c = 'C1')\n",
    "ax[1].set_title(r'Error in $D$ (MSLE)')\n",
    "\n",
    "ax[2].plot(np.arange(ngts), metric_s, c = 'C1')\n",
    "ax[2].set_title(r'Error in states (JI)')\n",
    "\n",
    "plt.setp(ax, xlabel = 'Error magnitude')"
   ]
  },
  {
   "cell_type": "markdown",
   "id": "073b1403-1a29-44ac-b738-cb087e0083cd",
   "metadata": {},
   "source": [
    "## Ensemble metrics"
   ]
  },
  {
   "cell_type": "markdown",
   "id": "3f4451e4-592f-42b8-9d2a-017526e74505",
   "metadata": {},
   "source": [
    "### Get ensemble information"
   ]
  },
  {
   "cell_type": "code",
   "execution_count": null,
   "id": "bb27ffcf-25fb-4201-9f43-e483426d6642",
   "metadata": {},
   "outputs": [],
   "source": [
    "#| export\n",
    "def _visualize_ensemble(ens):\n",
    "    '''\n",
    "    Given input ens:\n",
    "    \n",
    "    |mu_alpha1      mu_alpha2     ... |\n",
    "    |sigma_alpha1   sigma_alpha2  ... |\n",
    "    |mu_D1          mu_D1         ... | \n",
    "    |sigma_D1       sigma_D2      ... |\n",
    "    |counts_state1  counts_state2 ... |\n",
    "    \n",
    "    creates a dataframe to visualize parameters.\n",
    "    '''  \n",
    "\n",
    "    return pandas.DataFrame(data = ens.transpose(), columns = [r'mean $\\alpha$', r'var $\\alpha$', r'mean $D$', r'var $D$', '% residence time'])"
   ]
  },
  {
   "cell_type": "code",
   "execution_count": null,
   "id": "88bf6184-f786-46fc-89b6-afe2c9b8d412",
   "metadata": {},
   "outputs": [],
   "source": [
    "#| export\n",
    "from andi_datasets.models_phenom import models_phenom\n",
    "def extract_ensemble(state_label, dic):\n",
    "        ''' \n",
    "        Given an array of the diffusive state and a dictionary with the diffusion information,\n",
    "        returns a summary of the ensemble properties for the current dataset.\n",
    "\n",
    "        Parameters\n",
    "        ----------\n",
    "        state_label : array\n",
    "            Array containing the diffusive state of the particles in the dataset.\n",
    "            For multi-state and dimerization, this must be the number associated to the\n",
    "            state (for dimerization, 0 is free, 1 is dimerized). For the rest, we follow\n",
    "            the numeration of models_phenom().lab_state.\n",
    "        dic : dict \n",
    "            Dictionary containing the information of the input dataset.\n",
    "       \n",
    "       Returns\n",
    "       -------\n",
    "       array\n",
    "           Matrix containing the ensemble information of the input dataset. It has the following shape:\n",
    "            |mu_alpha1      mu_alpha2     ... |\n",
    "            |sigma_alpha1   sigma_alpha2  ... |\n",
    "            |mu_D1          mu_D1         ... | \n",
    "            |sigma_D1       sigma_D2      ... |\n",
    "            |counts_state1  counts_state2 ... |\n",
    "        '''\n",
    "\n",
    "        # Single state\n",
    "        if dic['model'] == 'single_state': \n",
    "            ensemble = np.vstack((dic['alphas'][0],\n",
    "                                   dic['alphas'][1],\n",
    "                                   dic['Ds'][0],\n",
    "                                   dic['Ds'][1],\n",
    "                                   len(state_label)\n",
    "                                   ))\n",
    "        # Multi-state\n",
    "        if dic['model'] == 'multi_state':\n",
    "            states, counts = np.unique(state_label, return_counts=True)    \n",
    "            # If the number of visited stated is not equal to the expected number of states\n",
    "            if len(states) != dic['alphas'].shape[0]:\n",
    "                states_corrected = np.ones(dic['alphas'].shape[0])\n",
    "                counts_corrected = np.ones(dic['alphas'].shape[0])\n",
    "                for s, c in zip(states, counts):\n",
    "                    counts_corrected[int(s)] = c\n",
    "            else: \n",
    "                counts_corrected = counts\n",
    "\n",
    "            ensemble = np.vstack((dic['alphas'][:, 0],\n",
    "                                   dic['alphas'][:, 1],\n",
    "                                   dic['Ds'][:, 0],\n",
    "                                   dic['Ds'][:, 1],\n",
    "                                   counts_corrected\n",
    "                                   ))\n",
    "\n",
    "        # Immobile\n",
    "        if dic['model'] == 'immobile_traps':\n",
    "            counts = [len(state_label[state_label == models_phenom().lab_state.index('i')]),\n",
    "                      len(state_label[state_label == models_phenom().lab_state.index('f')])]  \n",
    "            ensemble = np.vstack(([0, dic['alphas'][0]],\n",
    "                                   [0, dic['alphas'][1]],\n",
    "                                   [0, dic['Ds'][0]],\n",
    "                                   [0, dic['Ds'][1]],\n",
    "                                   counts\n",
    "                                   ))\n",
    "        # dimerization    \n",
    "        if dic['model'] == 'dimerization':\n",
    "            counts = [len(state_label[state_label == 0]),\n",
    "                      len(state_label[state_label == 1])]           \n",
    "            ensemble = np.vstack((dic['alphas'][:, 0],\n",
    "                                   dic['alphas'][:, 1],\n",
    "                                   dic['Ds'][:, 0],\n",
    "                                   dic['Ds'][:, 1],\n",
    "                                   counts\n",
    "                                   ))\n",
    "\n",
    "        if dic['model'] == 'confinement':\n",
    "            counts = [len(state_label[state_label == models_phenom().lab_state.index('f')]),\n",
    "                      len(state_label[state_label == models_phenom().lab_state.index('c')])]   \n",
    "            ensemble = np.vstack((dic['alphas'][:, 0],\n",
    "                                   dic['alphas'][:, 1],\n",
    "                                   dic['Ds'][:, 0],\n",
    "                                   dic['Ds'][:, 1],\n",
    "                                   counts\n",
    "                                   ))\n",
    "        return ensemble"
   ]
  },
  {
   "cell_type": "markdown",
   "id": "a2a31709-d4bb-431c-822f-5944428f25cc",
   "metadata": {},
   "source": [
    "### Generate distribution and distances"
   ]
  },
  {
   "cell_type": "code",
   "execution_count": null,
   "id": "25c8c5d4-ff56-4b44-b454-5cfa92158ffd",
   "metadata": {},
   "outputs": [],
   "source": [
    "#| export\n",
    "import scipy.stats\n",
    "def multimode_dist(params, weights, bound, x, normalized = False, min_var = 1e-9):\n",
    "    '''\n",
    "    Generates a multimodal distribution with given parameters.\n",
    "    Also accounts for single mode if weight is float or int.\n",
    "    \n",
    "    Parameters\n",
    "    ----------\n",
    "    params : list\n",
    "        Mean and variances of every mode.\n",
    "    weights : list, float\n",
    "        Weight of every mode. If float, we consider a single mode.\n",
    "    bound : tuple\n",
    "        Bounds (min, max) of the functions support.\n",
    "    x : array\n",
    "        Support upon which the distribution is created.\n",
    "    normalize : bool\n",
    "        If True, returns the normalized distribution.    \n",
    "    Returns\n",
    "    -------\n",
    "    array\n",
    "        Value of the distribution in each point of the given support\n",
    "        \n",
    "    '''\n",
    "    func = scipy.stats.truncnorm\n",
    "    dist = np.zeros_like(x)\n",
    "    lower, upper = bound \n",
    "   \n",
    "    # If we have single state, change values to list to still\n",
    "    # have a loop:\n",
    "    if isinstance(weights, float) or isinstance(weights, int):\n",
    "        params = [params]\n",
    "        weights = [weights]\n",
    "        \n",
    "    for param, w in zip(params, weights):\n",
    "        mean, var  = param  \n",
    "        # introduce a cutoff to avoid nan when var = 0\n",
    "        if var < min_var: var = min_var\n",
    "        unimodal = func.pdf(x,\n",
    "                            (lower-mean)/np.sqrt(var),\n",
    "                            (upper-mean)/np.sqrt(var),\n",
    "                            loc = mean,\n",
    "                            scale = np.sqrt(var))\n",
    "        dist += w*unimodal\n",
    "    if normalized:\n",
    "        dist /= np.sum(dist)\n",
    "    return dist"
   ]
  },
  {
   "cell_type": "code",
   "execution_count": null,
   "id": "ed431f2c-de4e-405a-a4a1-9c5ad6784dd0",
   "metadata": {},
   "outputs": [
    {
     "data": {
      "text/plain": [
       "[<matplotlib.lines.Line2D>]"
      ]
     },
     "execution_count": null,
     "metadata": {},
     "output_type": "execute_result"
    },
    {
     "data": {
      "image/png": "[encoded data removed]",
      "text/plain": [
       "<Figure size 640x480 with 1 Axes>"
      ]
     },
     "metadata": {},
     "output_type": "display_data"
    }
   ],
   "source": [
    "# True distribution\n",
    "x = np.logspace(np.log10(models_phenom().bound_D[0]), \n",
    "                      np.log10(models_phenom().bound_D[1]), 100)\n",
    "weights = [0.0005,0.9]\n",
    "params_true = [[0.0,0],[1.5,0.5]]\n",
    "true = multimode_dist(params_true, weights, bound = models_phenom().bound_D, x = x, normalized = False, min_var=1e-9)\n",
    "plt.semilogx(x, true)"
   ]
  },
  {
   "cell_type": "code",
   "execution_count": null,
   "id": "ff0e9a8c-2afb-4b67-a06c-39b5164e6215",
   "metadata": {},
   "outputs": [],
   "source": [
    "#| export\n",
    "from scipy.stats import wasserstein_distance\n",
    "\n",
    "def distribution_distance(p:np.array, # distribution 1\n",
    "                          q:np.array, # distribution 2\n",
    "                          x:np.array = None, # support of the distributions (not needed for MAE)\n",
    "                          metric = 'wasserstein' # distance metric (either 'wasserstein' or 'mae')\n",
    "                         )-> float:  # distance between distributions\n",
    "    ''' Calculates distance between two distributions. '''\n",
    "#     return np.sum(np.where(p != 0, p * np.log(p / q), 0))\n",
    "    if metric == 'mae':\n",
    "        return np.abs(p-q).mean()\n",
    "    elif metric == 'wasserstein':\n",
    "        return wasserstein_distance(x, x, p, q)"
   ]
  },
  {
   "cell_type": "markdown",
   "id": "a54dabbd-b30d-4115-be6e-1fd30eea1cf6",
   "metadata": {},
   "source": [
    "#### Tests distance"
   ]
  },
  {
   "cell_type": "markdown",
   "id": "5906449a-c146-4cb2-8731-672a1647b648",
   "metadata": {},
   "source": [
    "##### Normal scenario"
   ]
  },
  {
   "cell_type": "code",
   "execution_count": null,
   "id": "06daac47-901f-4a28-9902-4b9cbe8d581e",
   "metadata": {},
   "outputs": [
    {
     "data": {
      "image/png": "[encoded data removed]",
      "text/plain": [
       "<Figure size 1500x400 with 11 Axes>"
      ]
     },
     "metadata": {},
     "output_type": "display_data"
    }
   ],
   "source": [
    "means = np.linspace(0, 2, 30)\n",
    "normalize = False\n",
    "fig = plt.figure(figsize=(15, 4))\n",
    "gs = fig.add_gridspec(2, 10)\n",
    "\n",
    "# True distribution\n",
    "x = np.arange(0, 3, 0.01)\n",
    "params = [[1.7,0.01]]\n",
    "weights = [1]\n",
    "true = multimode_dist(params, weights, bound = [0, 3], x = x, normalized = normalize)\n",
    "\n",
    "range_x = (1,2)\n",
    "idx_range = np.argwhere((x>range_x[0]) & (x<range_x[1])).flatten()\n",
    "\n",
    "\n",
    "MSE = []\n",
    "wass = []\n",
    "for idx, mean in enumerate(means):\n",
    "    params = [[mean, 0.01]]\n",
    "    weights = [1]\n",
    "    pred = multimode_dist(params, weights, bound = [0, 3], x = x, normalized = normalize)  \n",
    "    MSE.append(distribution_distance(true, pred, metric = 'mae'))  \n",
    "    wass.append(distribution_distance(true, pred, x))  \n",
    "    \n",
    "    if idx % 3 == 0:\n",
    "        \n",
    "        ax = fig.add_subplot(gs[0, int(idx/3)])\n",
    "        ax.plot(x, true, label = 'True')\n",
    "        ax.plot(x, pred, label = 'Predicted')        \n",
    "        plt.setp(ax, yticks = []);\n",
    "        \n",
    "      \n",
    "    if idx == 0:\n",
    "        ax.legend()\n",
    "        \n",
    "    ax.axvline(range_x[0])\n",
    "    ax.axvline(range_x[1])\n",
    "    \n",
    "ax_dist = fig.add_subplot(gs[1, :])\n",
    "ax_dist.plot(MSE, '-o', label = 'MAE')\n",
    "ax_dist.plot(wass, '-o', label = 'wasserstein')\n",
    "ax_dist.legend()\n",
    "plt.setp(ax_dist, ylabel = 'MAE')\n",
    "ax_dist.grid()"
   ]
  },
  {
   "cell_type": "markdown",
   "id": "daf187da-6598-4bac-8e0f-bfc9f152d28d",
   "metadata": {},
   "source": [
    "##### Having a variance = 0 (as in immobile)\n",
    "\n",
    "**Wasserstein:**"
   ]
  },
  {
   "cell_type": "code",
   "execution_count": null,
   "id": "6d23551c-e36e-4523-bab4-107107ee70d7",
   "metadata": {},
   "outputs": [
    {
     "data": {
      "text/plain": [
       "Text(0, 0.5, 'mse dist')"
      ]
     },
     "execution_count": null,
     "metadata": {},
     "output_type": "execute_result"
    },
    {
     "data": {
      "image/png": "[encoded data removed]",
      "text/plain": [
       "<Figure size 1500x700 with 22 Axes>"
      ]
     },
     "metadata": {},
     "output_type": "display_data"
    }
   ],
   "source": [
    "means = np.linspace(0, 2, 30)\n",
    "normalize = False\n",
    "\n",
    "fig = plt.figure(figsize=(15, 7))\n",
    "gs = fig.add_gridspec(4, 10)\n",
    "\n",
    "# True distribution\n",
    "x = np.arange(0, 3, 0.01)\n",
    "weights = [0.3, 0.9]\n",
    "\n",
    "params_var0 = [[0,0.0],[1,0.1]]\n",
    "true_var0 = multimode_dist(params_var0, weights, bound = [0, 3], x = x, normalized = normalize)\n",
    "\n",
    "params = [[0,0.1],[1,0.1]]\n",
    "true = multimode_dist(params, weights, bound = [0, 3], x = x, normalized = normalize)\n",
    "\n",
    "wass_var0 = []\n",
    "wass = []\n",
    "mae_var0 = []\n",
    "mae = []\n",
    "for idx, mean in enumerate(means):\n",
    "    params = [[mean, 0.01]]\n",
    "    weights = [1]\n",
    "    pred = multimode_dist(params, weights, bound = [0, 3], x = x, normalized = normalize)  \n",
    "    wass_var0.append(distribution_distance(true_var0, pred, x))  \n",
    "    wass.append(distribution_distance(true, pred, x))  \n",
    "    \n",
    "    mae_var0.append(distribution_distance(true_var0, pred, metric = 'mae'))  \n",
    "    mae.append(distribution_distance(true, pred, metric = 'mae'))  \n",
    "    \n",
    "    if idx % 3 == 0:\n",
    "        \n",
    "        ax0 = fig.add_subplot(gs[0, int(idx/3)])\n",
    "        ax0.plot(x, np.log(true_var0), label = 'log(True)', c = 'C0')\n",
    "        ax0.plot(x, pred, label = 'Predicted', c = 'k')        \n",
    "        plt.setp(ax0, yticks = [], ylim = (-5, 5));\n",
    "        \n",
    "        ax = fig.add_subplot(gs[1, int(idx/3)])\n",
    "        ax.plot(x, true, label = 'True', c = 'C1')\n",
    "        ax.plot(x, pred, label = 'Predicted', c = 'k')        \n",
    "        plt.setp(ax, yticks = []);\n",
    "        \n",
    "      \n",
    "    if idx == 0:\n",
    "        ax0.legend()\n",
    "        ax.legend()\n",
    "\n",
    "ax_wass = fig.add_subplot(gs[2, :])\n",
    "ax_wass.plot(wass_var0, '-o', label = 'Var_0 = 0')\n",
    "ax_wass.plot(wass, '-o', label = r'Var_0 $\\neq$ 0')\n",
    "ax_wass.legend()\n",
    "ax_wass.set_ylabel('wass dist')\n",
    "\n",
    "ax_mse = fig.add_subplot(gs[3, :])\n",
    "ax_mse.plot(mae_var0, '-o', label = 'Var_0 = 0')\n",
    "ax_mse.plot(mae, '-o', label = r'Var_0 $\\neq$ 0')\n",
    "ax_mse.set_yscale('log')\n",
    "ax_mse.set_ylabel('mse dist')\n",
    "\n",
    "# ax_dist.grid()"
   ]
  },
  {
   "cell_type": "markdown",
   "id": "52cf8794-bdee-469d-bbea-5c7f03f25753",
   "metadata": {},
   "source": [
    "##### Checking how variance of predicted affects Wasserstein distance:"
   ]
  },
  {
   "cell_type": "code",
   "execution_count": null,
   "id": "daf99475-9641-47b9-a788-71eccae63ca8",
   "metadata": {},
   "outputs": [
    {
     "data": {
      "text/plain": [
       "Text(0, 0.5, 'Wasserstein distance')"
      ]
     },
     "execution_count": null,
     "metadata": {},
     "output_type": "execute_result"
    },
    {
     "data": {
      "image/png": "[encoded data removed]",
      "text/plain": [
       "<Figure size 640x480 with 1 Axes>"
      ]
     },
     "metadata": {},
     "output_type": "display_data"
    }
   ],
   "source": [
    "variances = np.logspace(-12, -1,300)\n",
    "# True distribution\n",
    "x = np.logspace(-12, 1, 10000)\n",
    "weights = [1]\n",
    "params_true = [[0.0,0]]\n",
    "true = multimode_dist(params_true, weights, bound = [1e-9, 3], x = x, normalized = normalize, min_var=1e-7)\n",
    "\n",
    "dist = []\n",
    "for idx, var in enumerate(variances):\n",
    "    params = [[0.5, var]]\n",
    "    weights = [1]\n",
    "    pred = multimode_dist(params, weights, bound = [1e-9, 3], x = x, normalized = normalize, min_var=1e-7)  \n",
    "    dist.append(distribution_distance(true, pred, x=x))  \n",
    "    \n",
    "plt.plot(variances, np.array(dist)+1, 'o')\n",
    "plt.axvline(params_true[0][1], c = 'k', label = 'True variance')\n",
    "plt.legend()\n",
    "plt.xscale('log')\n",
    "plt.yscale('log')\n",
    "\n",
    "plt.xlabel('Variance prediction')\n",
    "plt.ylabel('Wasserstein distance')"
   ]
  },
  {
   "cell_type": "markdown",
   "id": "73e22520-3397-4a39-a1ec-56130e43126f",
   "metadata": {},
   "source": [
    "Checking if we are considering a peak at 0"
   ]
  },
  {
   "cell_type": "code",
   "execution_count": null,
   "id": "2ecb1a89-8dab-43d9-a3b9-0522abcc3523",
   "metadata": {},
   "outputs": [],
   "source": [
    "# True distribution\n",
    "x = np.logspace(np.log10(models_phenom().bound_D[0]), \n",
    "                      np.log10(models_phenom().bound_D[1]), 100)\n",
    "weights = [0.0005,0.9]\n",
    "params_true = [[0.0,0],[1.5,0.5]]\n",
    "true = multimode_dist(params_true, weights, bound = models_phenom().bound_D, x = x, normalized = normalize)\n"
   ]
  },
  {
   "cell_type": "code",
   "execution_count": null,
   "id": "a0e5aefb-7122-42b7-85b9-7347b4b380cc",
   "metadata": {},
   "outputs": [
    {
     "data": {
      "image/png": "[encoded data removed]",
      "text/plain": [
       "<Figure size 640x480 with 1 Axes>"
      ]
     },
     "metadata": {},
     "output_type": "display_data"
    }
   ],
   "source": [
    "plt.plot(x, true)\n",
    "plt.xscale('log')"
   ]
  },
  {
   "cell_type": "markdown",
   "id": "05ce1e7d-ba47-4071-b514-c5791c1340b6",
   "metadata": {},
   "source": [
    "Testing maximum value of Wasserstein distance for considered $\\alpha$ and $D$ ranges"
   ]
  },
  {
   "cell_type": "code",
   "execution_count": null,
   "id": "0498ba1a-324f-40d4-b041-f071550a1349",
   "metadata": {},
   "outputs": [],
   "source": [
    "from andi_datasets.utils_challenge import multimode_dist, distribution_distance"
   ]
  },
  {
   "cell_type": "code",
   "execution_count": null,
   "id": "013163f0-9073-40eb-9b03-c6e2ffba9ba2",
   "metadata": {},
   "outputs": [],
   "source": [
    "min_a, max_a = models_phenom().bound_alpha[0], models_phenom().bound_alpha[1]\n",
    "x = np.arange(min_a, max_a, 0.01)\n",
    "normalize = False"
   ]
  },
  {
   "cell_type": "code",
   "execution_count": null,
   "id": "2ded96d9-b5b6-493c-a4ab-c0fcf1ee82e6",
   "metadata": {},
   "outputs": [],
   "source": [
    "distmax = multimode_dist([[max_a,0.0001]], [1], bound = [min_a, max_a], x = x, normalized = normalize)\n",
    "distmin = multimode_dist([[min_a,0.0001]], [1], bound = [min_a, max_a], x = x, normalized = normalize)"
   ]
  },
  {
   "cell_type": "code",
   "execution_count": null,
   "id": "1abf9933-ba3b-4fcd-93d0-0aad9cb3643b",
   "metadata": {},
   "outputs": [
    {
     "data": {
      "text/plain": [
       "1.982486622823773"
      ]
     },
     "execution_count": null,
     "metadata": {},
     "output_type": "execute_result"
    }
   ],
   "source": [
    "distribution_distance(distmax, distmin, x)"
   ]
  },
  {
   "cell_type": "code",
   "execution_count": null,
   "id": "8d3f2dab-87d7-47b1-8f42-6c4aa293365b",
   "metadata": {},
   "outputs": [],
   "source": [
    "min_d, max_d = models_phenom().bound_D[0], models_phenom().bound_D[1]\n",
    "x = np.logspace(np.log10(models_phenom().bound_D[0]), \n",
    "                      np.log10(models_phenom().bound_D[1]), 100)"
   ]
  },
  {
   "cell_type": "code",
   "execution_count": null,
   "id": "52bffab1-dd4b-4843-9ded-0683b2b4365e",
   "metadata": {},
   "outputs": [],
   "source": [
    "distmax = multimode_dist([[max_d,0.1]], [1], bound = [min_d, max_d], x = x, normalized = normalize)\n",
    "distmin = multimode_dist([[min_d,0.01]], [1], bound = [min_d, max_d], x = x, normalized = normalize)"
   ]
  },
  {
   "cell_type": "code",
   "execution_count": null,
   "id": "7ee8d7de-b391-4d5b-b945-5ce615e066fe",
   "metadata": {},
   "outputs": [
    {
     "data": {
      "text/plain": [
       "-0.004896474885754287"
      ]
     },
     "execution_count": null,
     "metadata": {},
     "output_type": "execute_result"
    }
   ],
   "source": [
    "distribution_distance(distmax, distmin, x)"
   ]
  },
  {
   "cell_type": "markdown",
   "id": "3f93ba93-70ea-41e6-aee2-222719f5160d",
   "metadata": {},
   "source": [
    "### Calculate ensemble metric\n"
   ]
  },
  {
   "cell_type": "code",
   "execution_count": null,
   "id": "b50cd496-98a5-4dd9-b4c2-59f79ebb252c",
   "metadata": {},
   "outputs": [],
   "source": [
    "#| export\n",
    "from andi_datasets.models_phenom import models_phenom\n",
    "\n",
    "def error_Ensemble_dataset(true_data, pred_data,\n",
    "                           size_support = 1000,\n",
    "                           metric = 'wasserstein',\n",
    "                           return_distributions = False):\n",
    "    ''' \n",
    "    Calculates the ensemble metrics for the ANDI 2 challenge. The input are matrices of shape:\n",
    "    \n",
    "    | col1 (state 1) | col2 (state 2) | col3 (state 3) | ... |\n",
    "    |:--------------:|:--------------:|:--------------:|:---:|\n",
    "    | $\\mu_a^1$      | $\\mu_a^2$      | $\\mu_a^3$      | ... |\n",
    "    | $\\sigma_a^1$   | $\\sigma_a^2$   | $\\sigma_a^3$   | ... |\n",
    "    | $\\mu_D^1$      | $\\mu_D^2$      | $\\mu_D^3$      | ... |        \n",
    "    | $\\sigma_D^1$   | $\\sigma_D^2$   | $\\sigma_D^3$   | ... |\n",
    "    | $N_1$          | $N_2$          | $N_3$          | ... |\n",
    "    \n",
    "    Parameters\n",
    "    ----------\n",
    "    true_data : array\n",
    "        Matrix containing the groundtruth data.\n",
    "    pred_data : array\n",
    "        Matrix containing the predicted data.\n",
    "    size_support : int\n",
    "        size of the support of the distributions \n",
    "    metric : str\n",
    "        metric used to calculate distance between distributions\n",
    "    return_distributions : bool\n",
    "        If True, the function also outputs the generated distributions.\n",
    "    \n",
    "    Returns\n",
    "    -------\n",
    "    tuple\n",
    "        - distance_alpha: distance between anomalous exponents\n",
    "        - distance_D: distance between diffusion coefficients\n",
    "        - dists (if asked): distributions of both groundtruth and predicted data. Order: true_a, true_D, pred_a, pred_D        \n",
    "    \n",
    "    '''\n",
    "    # Define the support for the distributions\n",
    "    x_alpha = np.linspace(models_phenom().bound_alpha[0], \n",
    "                          models_phenom().bound_alpha[1], size_support)\n",
    "    x_D = np.logspace(np.log10(models_phenom().bound_D[0]), \n",
    "                      np.log10(models_phenom().bound_D[1]), size_support)  \n",
    "    \n",
    "    \n",
    "    dists = []\n",
    "    for data in [true_data, pred_data]:\n",
    "        \n",
    "        if len(data.shape) > 1: # If we have more than one state\n",
    "            alpha_info = np.delete(data, [2,3, -1], 0)\n",
    "            d_info = data[2:-1,:]\n",
    "            weights = data[-1,:]\n",
    "            if weights.sum() > 1: weights /= weights.sum()\n",
    "        else: # If single state\n",
    "            alpha_info = data[:2]\n",
    "            d_info = data[2:-1]\n",
    "            weights = 1\n",
    "            \n",
    "        for idx, var in enumerate([alpha_info, d_info]):                                                \n",
    "            dists.append(multimode_dist(var.T, weights, \n",
    "                                        bound  = models_phenom().bound_alpha if idx == 0 else models_phenom().bound_D, \n",
    "                                        x = x_alpha if idx == 0 else x_D))\n",
    "            \n",
    "    # Distance between alpha dists\n",
    "    distance_alpha = distribution_distance(p = dists[0], q = dists[2],\n",
    "                                           x = x_alpha, metric = metric)\n",
    "    distance_D = distribution_distance(p = dists[1], q = dists[3],\n",
    "                                       x = x_D, metric = metric)\n",
    "    \n",
    "    if return_distributions:\n",
    "        return distance_alpha, distance_D, dists\n",
    "    else:\n",
    "        return distance_alpha, distance_D"
   ]
  },
  {
   "cell_type": "code",
   "execution_count": null,
   "id": "db15db40-7a1a-46a4-926c-1a6648c818cb",
   "metadata": {},
   "outputs": [
    {
     "name": "stdout",
     "output_type": "stream",
     "text": [
      "Distance distribution D = 0.06045239400247898\n",
      "Distance distribution $\\alpha$ = 0.10273932574583697\n"
     ]
    }
   ],
   "source": [
    "#| eval: false\n",
    "\n",
    "track = 1\n",
    "# Choose the paths\n",
    "PATH_PRED = f'../../testing/data/fourth_round/pred_carlo/Track{track}/'\n",
    "PATH_TRUE = '../../testing/data/fourth_round/true/fourth_round/'\n",
    "\n",
    "\n",
    "\n",
    "distance_D, distance_alpha = [], []\n",
    "for exp in [2]:\n",
    "    \n",
    "    true = np.loadtxt(PATH_TRUE+f'exp_{exp}/ensemble_labels.txt', skiprows = 1, delimiter = ';')\n",
    "    pred = np.loadtxt(PATH_PRED+f'exp_{exp}/ensemble_pred.txt', skiprows = 1, delimiter = ';')\n",
    "    \n",
    "    df_true = pandas.DataFrame(data = true.reshape(1,5) if exp == 1 else true.transpose(), \n",
    "                           columns = [r'mean $\\alpha$', r'var $\\alpha$', r'mean $D$', r'var $D$', '% residence time'])\n",
    "    df_pred = pandas.DataFrame(data = pred.reshape(1,5) if exp == 1 else pred.transpose(), \n",
    "                           columns = [r'mean $\\alpha$', r'var $\\alpha$', r'mean $D$', r'var $D$', '% residence time'])\n",
    "\n",
    "#     print(f'Experiment {exp}: \\nGroundtruth:')\n",
    "#     display(df_true)\n",
    "#     print('Prediction:')\n",
    "#     display(df_pred)\n",
    "#     print('------ \\n')\n",
    "\n",
    "    distance_D.append(distance_D_exp)\n",
    "    distance_alpha.append(distance_a_exp)\n",
    "    \n",
    "    distance_a_exp, distance_D_exp, dists = error_Ensemble_dataset(true, pred, return_distributions = True)\n",
    "\n",
    "\n",
    "print(f'Distance distribution D = {np.mean(distance_D)}')\n",
    "print(fr'Distance distribution $\\alpha$ = {np.mean(distance_alpha)}')"
   ]
  },
  {
   "cell_type": "markdown",
   "id": "sticky-parking",
   "metadata": {},
   "source": [
    "## Single trajectory metrics\n",
    "\n",
    "The participants will have to output predictions in a .txt file were each line corresponds to the predictions of a trajectory. The latter have to be ordered as:\n",
    "\n",
    "0, d$_0$, a$_0$, s$_0$, t$_1$, d$_1$, a$_1$, s$_1$, t$_2$, d$_2$, a$_2$, s$_2$, .... t$_n$, d$_n$, a$_n$, s$_n$,$T$\n",
    "\n",
    "where the first number corresponds to the trajectory index, then d$_i$, a$_i$, s$_i$ correspond to the diffusion coefficient, anomalous exponent and diffusive state of the $i$-th segment. For the latter, we have the following code:\n",
    " - 0: immobile\n",
    " - 1: confined\n",
    " - 2: free (unconstrained)\n",
    " - 3: directed\n",
    " \n",
    "Last, t$_j$ corresponds to the $j$-th changepoints. The last changepoint $T$ corresponds to the length of the trajectory. Each prediction **must** contain $C$ changepoints and $C$ segments property values. If this is not fulfilled, the whole trajectory is considered as mispredicted.\n",
    "\n",
    "The .txt file will be first inspected. The data will then be collected into a dataframe"
   ]
  },
  {
   "cell_type": "code",
   "execution_count": null,
   "id": "incredible-spray",
   "metadata": {},
   "outputs": [],
   "source": [
    "#| export\n",
    "def check_prediction_length(pred):\n",
    "    '''\n",
    "    Given a trajectory segments prediction, checks whether it has C changepoints and C+1 segments properties values.\n",
    "    As it must also contain the index of the trajectory, this is summarized by being multiple of 4. \n",
    "    In some cases, the user needs to also predict the final point of the trajectory. In this case, \n",
    "    we will have a residu of 1.\n",
    "    '''\n",
    "    if len(pred) % 4 == 0 or len(pred) % 4 == 1 :\n",
    "        return True\n",
    "    else: \n",
    "        return False"
   ]
  },
  {
   "cell_type": "code",
   "execution_count": null,
   "id": "challenging-placement",
   "metadata": {},
   "outputs": [],
   "source": [
    "#| export\n",
    "def separate_prediction_values(pred):\n",
    "    '''\n",
    "    Given a prediction over trjaectory segments, extracts the predictions for each segment property\n",
    "    as well as the changepoint values.\n",
    "    '''        \n",
    "    Ds = pred[1::4]\n",
    "    alphas = pred[2::4]\n",
    "    states = pred[3::4]\n",
    "    cp = pred[4::4]    \n",
    "    return Ds, alphas, states, cp"
   ]
  },
  {
   "cell_type": "code",
   "execution_count": null,
   "id": "national-thread",
   "metadata": {},
   "outputs": [],
   "source": [
    "#| export\n",
    "def load_file_to_df(path_file, \n",
    "                    columns = ['traj_idx', 'Ds', 'alphas', 'states', 'changepoints']):\n",
    "    '''\n",
    "    Given the path of a .txt file, extract the segmentation predictions based on \n",
    "    the rules of the ANDI 2 challenge022\n",
    "    '''\n",
    "\n",
    "    with open(path_file) as f:\n",
    "        lines_pred = f.read().splitlines()\n",
    "\n",
    "    df = pandas.DataFrame(columns = columns)\n",
    "\n",
    "    for line in lines_pred:\n",
    "        # Extract values with comma separator and transform to float\n",
    "        pred_traj = line.split(',')\n",
    "        pred = [float(i) for i in pred_traj]\n",
    "        \n",
    "        # Check that prediction has the correct shape\n",
    "        pred_correct = check_prediction_length(pred)\n",
    "        \n",
    "        # If correct size, then extract parameters and add it to dataframe\n",
    "        if pred_correct:\n",
    "            preds_D, preds_a, preds_s, preds_cp = separate_prediction_values(pred)\n",
    "\n",
    "            current_row = df.shape[0]\n",
    "            for param, pred_param in zip(columns, [pred[0], preds_D, preds_a, preds_s, preds_cp]):\n",
    "                df.loc[current_row, param] = pred_param\n",
    "                \n",
    "    return df"
   ]
  },
  {
   "cell_type": "markdown",
   "id": "economic-memory",
   "metadata": {},
   "source": [
    "Saving fake data for test"
   ]
  },
  {
   "cell_type": "code",
   "execution_count": null,
   "id": "respiratory-potter",
   "metadata": {},
   "outputs": [],
   "source": [
    "#| eval:false\n",
    "file_gt, file_p = [], []\n",
    "T = 200; ngts = 10;\n",
    "for traj in range(100):\n",
    "    GT_cp = np.sort(np.random.choice(np.arange(1,T), ngts, replace = False))\n",
    "    preds_cp = np.sort(np.random.choice(np.arange(1,T+50), ngts, replace = False)) \n",
    "\n",
    "    GT_alpha = np.random.rand(GT_cp.shape[0]+1)\n",
    "    preds_alpha = GT_alpha# + 0.1 #np.random.randn(preds_cp.shape[0]+1)*0.1\n",
    "\n",
    "    GT_D = np.abs(np.random.randn(GT_cp.shape[0]+1)*10)\n",
    "    preds_D = GT_D + 1.5 #np.abs(np.random.randn(preds_cp.shape[0]+1))*1.6\n",
    "    \n",
    "    GT_state = np.random.randint(0, high = 5, size = GT_cp.shape[0]+1)\n",
    "    preds_state = np.random.randint(0, high = 5, size = preds_cp.shape[0]+1)\n",
    "    \n",
    "    list_gt, list_p = [traj, GT_D[0], GT_alpha[0], GT_state[0]], [traj, preds_D[0], preds_alpha[0], preds_state[0]]\n",
    "    for gtc, gta, gtd, gts, pc, pa, pd, ps in zip(GT_cp, GT_alpha[1:], GT_D[1:], GT_state[1:], preds_cp, preds_alpha[1:], preds_D[1:], preds_state[1:]):\n",
    "        list_gt += [gtc, gtd, gta, gts]\n",
    "        list_p += [pc, pd, pa, ps]\n",
    "        \n",
    "    file_gt.append(list_gt)\n",
    "    if traj != 6:\n",
    "        file_p.append(list_p)\n",
    "        \n",
    "pred_path, true_path = 'pred_test.txt', 'true_test.txt'\n",
    "np.savetxt(true_path, file_gt, delimiter=',')\n",
    "np.savetxt(pred_path, file_p, delimiter=',')"
   ]
  },
  {
   "cell_type": "markdown",
   "id": "prescribed-electricity",
   "metadata": {},
   "source": [
    "Recovering the data"
   ]
  },
  {
   "cell_type": "code",
   "execution_count": null,
   "id": "d97c23a0-713d-4033-97d3-d7e0e3e44369",
   "metadata": {},
   "outputs": [],
   "source": [
    "#| eval:false\n",
    "pred_path, true_path = 'pred_test.txt', 'true_test.txt'\n",
    "\n",
    "df_pred = load_file_to_df(pred_path)\n",
    "df_true = load_file_to_df(true_path)"
   ]
  },
  {
   "cell_type": "code",
   "execution_count": null,
   "id": "floppy-creation",
   "metadata": {},
   "outputs": [],
   "source": [
    "#| export\n",
    "def error_SingleTraj_dataset(df_pred, df_true, \n",
    "                              threshold_error_alpha = None, max_val_alpha = 2, min_val_alpha = 0, \n",
    "                              threshold_error_D = None, max_val_D = 1e6, min_val_D = 1e-6, \n",
    "                              threshold_error_s = None,\n",
    "                              threshold_cp = None,\n",
    "                              prints = True, disable_tqdm = False\n",
    "                             ):\n",
    "    '''\n",
    "    Given two dataframes, corresponding to the predictions and true labels of a set\n",
    "    of trajectories from the ANDI 2 challenge022, calculates the corresponding metrics\n",
    "    Columns must be for both (no order needed):\n",
    "    traj_idx | alphas | Ds | changepoints | states\n",
    "    df_true must also contain a column 'T'.\n",
    "    \n",
    "    Parameters\n",
    "    ----------\n",
    "    df_pred : dataframe\n",
    "        Predictions\n",
    "    df_true : dataframe\n",
    "        Groundtruth\n",
    "    threshold_error_alpha : float\n",
    "        (same for D, s, cp) Maximum possible error allowed. If bigger, it is substituted by this error.\n",
    "    max_val_alpha : float\n",
    "        (same for D, s, cp) Maximum value of the parameter.\n",
    "    min_val_alpha : float\n",
    "        (same for D, s, cp) Minimum value of the parameter.\n",
    "    print : bool\n",
    "        If True, prints the results.\n",
    "    disable_tqdm : bool\n",
    "        If True, disables the progress bar.\n",
    "    \n",
    "    Returns\n",
    "    -------\n",
    "    tuple\n",
    "        - rmse_CP: root mean squared error change points\n",
    "        - JI: Jaccard index change points\n",
    "        - error_alpha: mean absolute error anomalous exponents\n",
    "        - error_D: mean square log error diffusion coefficients\n",
    "        - error_s: Jaccar index diffusive states\n",
    "    \n",
    "    '''\n",
    "    # Check error bounds\n",
    "    andi_bounds = _get_error_bounds()\n",
    "    if threshold_error_alpha is None: threshold_error_alpha = andi_bounds[0]\n",
    "    if threshold_error_D is None: threshold_error_D = andi_bounds[1]\n",
    "    if threshold_error_s is None: threshold_error_s = andi_bounds[2]\n",
    "    if threshold_cp is None: threshold_cp = andi_bounds[3]\n",
    "    \n",
    "    # Initiate counting missing trajectories\n",
    "    missing_traj = False\n",
    "    \n",
    "    # Deleter saving variables, just in case...\n",
    "    try: del paired_alpha, paired_D, paired_s\n",
    "    except: pass\n",
    "\n",
    "    # for every trajectory, we stack paired segment properties. We also store changepoints info\n",
    "    ensemble_pred_cp, ensemble_true_cp = [], []\n",
    "    for t_idx in tqdm(df_true['traj_idx'].values, disable = disable_tqdm):\n",
    "        \n",
    "        traj_trues = df_true.loc[df_true.traj_idx == t_idx]\n",
    "\n",
    "        traj_preds = df_pred.loc[df_pred.traj_idx == t_idx]    \n",
    "        if traj_preds.shape[0] == 0 or len(traj_preds.changepoints.to_list()[0]) == 0:\n",
    "            # If there is no trajectory, we give maximum error. To do so, we redefine predictions\n",
    "            # and trues so that they give maximum error\n",
    "            missing_traj += 1                       \n",
    "            \n",
    "            preds_cp, preds_alpha, preds_D, preds_s = [[10],\n",
    "                                                       [0],\n",
    "                                                       [1],\n",
    "                                                       [0]]\n",
    "\n",
    "            trues_cp, trues_alpha, trues_D, trues_s = [[10+threshold_cp],\n",
    "                                                       [threshold_error_alpha],\n",
    "                                                       [1+threshold_error_D],\n",
    "                                                       [10]]\n",
    "        \n",
    "        else:      \n",
    "\n",
    "            preds_cp, preds_alpha, preds_D, preds_s = [np.array(traj_preds.changepoints.values[0]).astype(int),\n",
    "                                                       traj_preds.alphas.values[0],\n",
    "                                                       traj_preds.Ds.values[0],\n",
    "                                                       traj_preds.states.values[0]]\n",
    "\n",
    "            trues_cp, trues_alpha, trues_D, trues_s = [np.array(traj_trues.changepoints.values[0]).astype(int),\n",
    "                                                       traj_trues.alphas.values[0],\n",
    "                                                       traj_trues.Ds.values[0],\n",
    "                                                       traj_trues.states.values[0]]\n",
    "\n",
    "\n",
    "        # Collecting changepoints for metric\n",
    "        # In this metric, we don't want to enter the final point of the trajectory\n",
    "        ensemble_pred_cp.append(preds_cp[:-1])\n",
    "        ensemble_true_cp.append(trues_cp[:-1])        \n",
    "        \n",
    "        # collecting segment properties error after segment assignment\n",
    "        pair_a, pair_d, pair_s = segment_property_errors(trues_cp, trues_alpha, trues_D, trues_s, \n",
    "                                                         preds_cp, preds_alpha, preds_D, preds_s,\n",
    "                                                         return_pairs = True)\n",
    "        \n",
    "\n",
    "        \n",
    "        try:\n",
    "            paired_alpha = np.vstack((paired_alpha, pair_a))\n",
    "            paired_D = np.vstack((paired_D, pair_d))\n",
    "            paired_s = np.vstack((paired_s, pair_s))        \n",
    "        except:\n",
    "            paired_alpha = pair_a\n",
    "            paired_D = pair_d\n",
    "            paired_s = pair_s\n",
    "               \n",
    "    #### Calculate metrics from assembled properties   \n",
    "\n",
    "    # checking for nans and problems in predictions\n",
    "    wrong_alphas = np.argwhere(np.isnan(paired_alpha[:, 1]) | (paired_alpha[:, 1] > 2) | (paired_alpha[:, 1] < 0)).flatten()\n",
    "    paired_alpha[wrong_alphas, 1] = paired_alpha[wrong_alphas, 0] + threshold_error_alpha\n",
    "\n",
    "    wrong_ds = np.argwhere(np.isnan(paired_D[:, 1])).flatten()\n",
    "    paired_D = np.abs(paired_D)\n",
    "    paired_D[wrong_ds, 1] = paired_D[wrong_ds, 0] + threshold_error_D\n",
    "    \n",
    "    wrong_s = np.argwhere((paired_s[:, 1] > 4) | (paired_s[:, 1]<0))\n",
    "    paired_s[wrong_s, 1] = threshold_error_s    \n",
    "    \n",
    "    # Changepoints\n",
    "    rmse_CP, JI = ensemble_changepoint_error(ensemble_true_cp, ensemble_pred_cp, threshold = threshold_cp)\n",
    "        \n",
    "    # Segment properties\n",
    "    error_alpha = metric_anomalous_exponent(paired_alpha[:,0], paired_alpha[:,1])\n",
    "    error_D = metric_diffusion_coefficient(paired_D[:,0], paired_D[:,1])\n",
    "    error_s = metric_diffusive_state(paired_s[:,0], paired_s[:,1])\n",
    "    \n",
    "    if prints:        \n",
    "        print(f'Summary of metrics assesments:')\n",
    "        if missing_traj is not False:            \n",
    "            print(f'\\n{missing_traj} missing trajectory/ies. ')\n",
    "            \n",
    "        print(f'\\nChangepoint Metrics \\nRMSE: {round(rmse_CP, 3)} \\nJaccard Index: {round(JI, 3)}',\n",
    "              f'\\n\\nDiffusion property metrics \\nMetric anomalous exponent: {error_alpha} \\nMetric diffusion coefficient: {error_D} \\nMetric diffusive state: {error_s}')\n",
    "              \n",
    "              \n",
    "\n",
    "    return rmse_CP, JI, error_alpha, error_D, error_s"
   ]
  },
  {
   "cell_type": "markdown",
   "id": "85c19334-439c-4d35-be1e-6df19d72e136",
   "metadata": {},
   "source": [
    "####  Test"
   ]
  },
  {
   "cell_type": "code",
   "execution_count": null,
   "id": "72402101-cae8-4bd3-a441-03ea54d3dae2",
   "metadata": {},
   "outputs": [],
   "source": [
    "#| hide\n",
    "from andi_datasets.models_phenom import models_phenom\n",
    "# from andi_datasets.utils_challenge import array_to_df, error_SingleTraj_dataset\n",
    "\n",
    "# For testing of error_SingleTraj_dataset from file: comment previous line and uncomment next one\n",
    "from andi_datasets.utils_challenge import (_get_error_bounds, segment_property_errors, ensemble_changepoint_error, metric_anomalous_exponent,\n",
    "                                           metric_diffusion_coefficient, metric_diffusive_state)"
   ]
  },
  {
   "cell_type": "markdown",
   "id": "20262d20-d452-49b4-8252-a9a0fd4019e6",
   "metadata": {},
   "source": [
    "**Two datasets with same number of trajs**"
   ]
  },
  {
   "cell_type": "code",
   "execution_count": null,
   "id": "5a5440d9-3290-4ed5-b016-bdf8f1748034",
   "metadata": {},
   "outputs": [
    {
     "data": {
      "application/vnd.jupyter.widget-view+json": {
       "model_id": "3145d0b41c7b4ba99a5097bafe5a7f1c",
       "version_major": 2,
       "version_minor": 0
      },
      "text/plain": [
       "  0%|          | 0/250 [00:00<?, ?it/s]"
      ]
     },
     "metadata": {},
     "output_type": "display_data"
    },
    {
     "data": {
      "application/vnd.jupyter.widget-view+json": {
       "model_id": "5879fc03167449e499368af0b8211f64",
       "version_major": 2,
       "version_minor": 0
      },
      "text/plain": [
       "  0%|          | 0/250 [00:00<?, ?it/s]"
      ]
     },
     "metadata": {},
     "output_type": "display_data"
    }
   ],
   "source": [
    "#|eval: false\n",
    "trajs, labels = models_phenom().immobile_traps(T = 200, N = 250, alphas=0.5, Ds = 1, L = 20, Nt = 100, Pb = 1, Pu = 0.5)\n",
    "\n",
    "trajs = trajs.transpose((1, 0, 2)).copy()\n",
    "labels = labels.transpose(1, 0, 2)\n",
    "\n",
    "df_in, df_trues = array_to_df(trajs, labels)\n",
    "\n",
    "trajs, labels = models_phenom().immobile_traps(T = 200, N = 250, alphas=[0.5, 0.1], Ds = 1, L = 20, Nt = 100, Pb = 1, Pu = 0.5)\n",
    "\n",
    "trajs = trajs.transpose((1, 0, 2)).copy()\n",
    "labels = labels.transpose(1, 0, 2)\n",
    "\n",
    "df_in, df_preds = array_to_df(trajs, labels)"
   ]
  },
  {
   "cell_type": "code",
   "execution_count": null,
   "id": "01e6a43b-51da-47df-81d1-0e3761df24f1",
   "metadata": {},
   "outputs": [
    {
     "name": "stdout",
     "output_type": "stream",
     "text": [
      "Summary of metrics assesments:\n",
      "\n",
      "Changepoint Metrics \n",
      "RMSE: 4.285 \n",
      "Jaccard Index: 0.421 \n",
      "\n",
      "Diffusion property metrics \n",
      "Metric anomalous exponent: 0.30181845745010744 \n",
      "Metric diffusion coefficient: 0.22899984105532623 \n",
      "Metric diffusive state: 0.5233668341708543\n"
     ]
    }
   ],
   "source": [
    "#|eval: false\n",
    "error_SingleTraj_dataset(df_preds, df_trues, prints = True, disable_tqdm=True);"
   ]
  },
  {
   "cell_type": "markdown",
   "id": "a2fa37b7-8736-489b-8bf3-119a2253c3d5",
   "metadata": {},
   "source": [
    "**Two datasets with different number of trajectories**"
   ]
  },
  {
   "cell_type": "code",
   "execution_count": null,
   "id": "db883eb0-eda2-4085-af49-b7482dfc3ab5",
   "metadata": {},
   "outputs": [
    {
     "data": {
      "application/vnd.jupyter.widget-view+json": {
       "model_id": "722f2ef9f7d54fd3a6f961ac438180cb",
       "version_major": 2,
       "version_minor": 0
      },
      "text/plain": [
       "  0%|          | 0/350 [00:00<?, ?it/s]"
      ]
     },
     "metadata": {},
     "output_type": "display_data"
    },
    {
     "data": {
      "application/vnd.jupyter.widget-view+json": {
       "model_id": "382ad7f1f9404a3b8280ad939e0971eb",
       "version_major": 2,
       "version_minor": 0
      },
      "text/plain": [
       "  0%|          | 0/250 [00:00<?, ?it/s]"
      ]
     },
     "metadata": {},
     "output_type": "display_data"
    }
   ],
   "source": [
    "#|eval: false\n",
    "trajs, labels = models_phenom().immobile_traps(T = 200, N = 350, alphas=[0.5,0.01], Ds = [1., 0.1], L = 20, Nt = 100, Pb = 1, Pu = 0.5)\n",
    "\n",
    "trajs = trajs.transpose((1, 0, 2)).copy()\n",
    "labels = labels.transpose(1, 0, 2)\n",
    "\n",
    "df_in, df_trues = array_to_df(trajs, labels, label_values=[0.5, 1], diff_states=[3, 2])\n",
    "\n",
    "trajs, labels = models_phenom().immobile_traps(T = 200, N = 250, alphas=[0.5, 0.1], Ds = 1, L = 20, Nt = 100, Pb = 1, Pu = 0.5)\n",
    "\n",
    "trajs = trajs.transpose((1, 0, 2)).copy()\n",
    "labels = labels.transpose(1, 0, 2)\n",
    "\n",
    "df_in, df_preds = array_to_df(trajs, labels, label_values=[0.5, 1], diff_states=[3, 2])"
   ]
  },
  {
   "cell_type": "code",
   "execution_count": null,
   "id": "26ae9345-a69e-4d9b-b3f4-8833b7686cb3",
   "metadata": {},
   "outputs": [
    {
     "data": {
      "application/vnd.jupyter.widget-view+json": {
       "model_id": "32b2c930add14fe0a78d340fc2095149",
       "version_major": 2,
       "version_minor": 0
      },
      "text/plain": [
       "  0%|          | 0/350 [00:00<?, ?it/s]"
      ]
     },
     "metadata": {},
     "output_type": "display_data"
    },
    {
     "name": "stdout",
     "output_type": "stream",
     "text": [
      "Summary of metrics assesments:\n",
      "\n",
      "100 missing trajectory/ies. \n",
      "\n",
      "Changepoint Metrics \n",
      "RMSE: 4.051 \n",
      "Jaccard Index: 0.441 \n",
      "\n",
      "Diffusion property metrics \n",
      "Metric anomalous exponent: 0.35483874584715985 \n",
      "Metric diffusion coefficient: 3.1690909054732668 \n",
      "Metric diffusive state: 0.4913685263947961\n"
     ]
    },
    {
     "data": {
      "text/plain": [
       "(4.050708208970335,\n",
       " 0.4407643312101911,\n",
       " 0.35483874584715985,\n",
       " 3.1690909054732668,\n",
       " 0.4913685263947961)"
      ]
     },
     "execution_count": null,
     "metadata": {},
     "output_type": "execute_result"
    }
   ],
   "source": [
    "#|eval: false\n",
    "error_SingleTraj_dataset(df_preds, df_trues, prints = True)"
   ]
  },
  {
   "cell_type": "code",
   "execution_count": null,
   "id": "35142132-e862-42ff-81ef-b472431c30bd",
   "metadata": {},
   "outputs": [
    {
     "data": {
      "application/vnd.jupyter.widget-view+json": {
       "model_id": "e7158e67f9d74360a3dca327fbaf70ad",
       "version_major": 2,
       "version_minor": 0
      },
      "text/plain": [
       "  0%|          | 0/5 [00:00<?, ?it/s]"
      ]
     },
     "metadata": {},
     "output_type": "display_data"
    },
    {
     "data": {
      "application/vnd.jupyter.widget-view+json": {
       "model_id": "047e0943b55341579c3ecbab3bd6aad5",
       "version_major": 2,
       "version_minor": 0
      },
      "text/plain": [
       "  0%|          | 0/7 [00:00<?, ?it/s]"
      ]
     },
     "metadata": {},
     "output_type": "display_data"
    }
   ],
   "source": [
    "#|eval: false\n",
    "trajs, labels = models_phenom().immobile_traps(T = 200, N = 5, alphas=[0.5,0.01], Ds = [1., 0.1], L = 20, Nt = 100, Pb = 1, Pu = 0.5)\n",
    "\n",
    "trajs = trajs.transpose((1, 0, 2)).copy()\n",
    "labels = labels.transpose(1, 0, 2)\n",
    "\n",
    "df_in, df_preds  = array_to_df(trajs, labels, label_values=[0.5, 1], diff_states=[3, 2])\n",
    "\n",
    "trajs, labels = models_phenom().multi_state(T = 200, N = 7, L = 20, M = np.array([[0.9,0.1],[0.9,0.1]]))\n",
    "\n",
    "trajs = trajs.transpose((1, 0, 2)).copy()\n",
    "labels = labels.transpose(1, 0, 2)\n",
    "\n",
    "df_in, df_trues  = array_to_df(trajs, labels, label_values=[0.5, 1], diff_states=[3, 2])\n"
   ]
  },
  {
   "cell_type": "code",
   "execution_count": null,
   "id": "d0da1d1a-504c-4f9d-9e48-45966773ba36",
   "metadata": {},
   "outputs": [
    {
     "data": {
      "application/vnd.jupyter.widget-view+json": {
       "model_id": "00329cc314f149939b4c5971fbfb2ae9",
       "version_major": 2,
       "version_minor": 0
      },
      "text/plain": [
       "  0%|          | 0/7 [00:00<?, ?it/s]"
      ]
     },
     "metadata": {},
     "output_type": "display_data"
    },
    {
     "name": "stdout",
     "output_type": "stream",
     "text": [
      "Summary of metrics assesments:\n",
      "\n",
      "2 missing trajectory/ies. \n",
      "\n",
      "Changepoint Metrics \n",
      "RMSE: 2.903 \n",
      "Jaccard Index: 0.188 \n",
      "\n",
      "Diffusion property metrics \n",
      "Metric anomalous exponent: 0.8269399281523714 \n",
      "Metric diffusion coefficient: 8.262443034681892 \n",
      "Metric diffusive state: 0.41379310344827586\n"
     ]
    }
   ],
   "source": [
    "#|eval: false\n",
    "error_SingleTraj_dataset(df_preds, df_trues, prints = True);"
   ]
  },
  {
   "cell_type": "markdown",
   "id": "cda69bed-ad6f-4e14-851f-dcafae85424d",
   "metadata": {},
   "source": [
    "**Dataset with no changepoints**"
   ]
  },
  {
   "cell_type": "code",
   "execution_count": null,
   "id": "1f9eca65-70d3-4301-b58c-f6d23e114c5d",
   "metadata": {},
   "outputs": [
    {
     "data": {
      "application/vnd.jupyter.widget-view+json": {
       "model_id": "23eb74a2180f4ad585578da3df6b3bcb",
       "version_major": 2,
       "version_minor": 0
      },
      "text/plain": [
       "  0%|          | 0/250 [00:00<?, ?it/s]"
      ]
     },
     "metadata": {},
     "output_type": "display_data"
    },
    {
     "data": {
      "application/vnd.jupyter.widget-view+json": {
       "model_id": "bd688746dba14b07baf62f6cf7198d0b",
       "version_major": 2,
       "version_minor": 0
      },
      "text/plain": [
       "  0%|          | 0/250 [00:00<?, ?it/s]"
      ]
     },
     "metadata": {},
     "output_type": "display_data"
    }
   ],
   "source": [
    "#|eval: false\n",
    "L = 250\n",
    "# TRUES\n",
    "trajs, labels = models_phenom().single_state(T = 200, N = 250, alphas=[0.5, 0.01], Ds = [1,0], L = L)\n",
    "trajs = trajs.transpose((1, 0, 2)).copy()\n",
    "labels = labels.transpose(1, 0, 2)\n",
    "\n",
    "df_in, df_trues = array_to_df(trajs, labels, fov_length = L)\n",
    "\n",
    "# PREDS\n",
    "trajs, labels = models_phenom().single_state(T = 200, N = 250, L = L)\n",
    "\n",
    "trajs = trajs.transpose((1, 0, 2)).copy()\n",
    "labels = labels.transpose(1, 0, 2)\n",
    "\n",
    "df_in, df_preds = array_to_df(trajs, labels, fov_length = L)"
   ]
  },
  {
   "cell_type": "code",
   "execution_count": null,
   "id": "3e1d95ba-940f-4de1-9bcc-1b2901008e38",
   "metadata": {},
   "outputs": [
    {
     "name": "stdout",
     "output_type": "stream",
     "text": [
      "Summary of metrics assesments:\n",
      "\n",
      "Changepoint Metrics \n",
      "RMSE: 0 \n",
      "Jaccard Index: 1 \n",
      "\n",
      "Diffusion property metrics \n",
      "Metric anomalous exponent: 0.5025766161725703 \n",
      "Metric diffusion coefficient: 0.0 \n",
      "Metric diffusive state: 1.0\n"
     ]
    }
   ],
   "source": [
    "#|eval: false\n",
    "error_SingleTraj_dataset(df_preds, df_trues, prints = True, disable_tqdm=True);"
   ]
  },
  {
   "cell_type": "markdown",
   "id": "fd8ecb25-91f0-4805-b8ab-81a454862c16",
   "metadata": {},
   "source": [
    "# Codalab scoring program"
   ]
  },
  {
   "cell_type": "code",
   "execution_count": null,
   "id": "12816c49-330a-478f-aa6f-8c876413d138",
   "metadata": {},
   "outputs": [],
   "source": [
    "#| export\n",
    "import re\n",
    "import sys\n",
    "import os"
   ]
  },
  {
   "cell_type": "markdown",
   "id": "feeb51d5-20e0-4b10-9f8e-6a022043ff7d",
   "metadata": {},
   "source": [
    "## Single trajectory"
   ]
  },
  {
   "cell_type": "code",
   "execution_count": null,
   "id": "6c806253-5926-4d23-b0fb-dcf4a068f5df",
   "metadata": {},
   "outputs": [],
   "source": [
    "#| export\n",
    "def when_error_single(wrn_str):\n",
    "    # Giving back max_errors for all variables when encountered an error\n",
    "    # Order of variables is 'cp','JI','alpha','D','state' (as in the dataframe). See that this is not the same order as _get_error_bounds\n",
    "    warnings.warn(wrn_str)   \n",
    "    \n",
    "    \n",
    "    max_error_alpha = _get_error_bounds()[0]\n",
    "    max_error_D = _get_error_bounds()[1]\n",
    "    max_error_s = _get_error_bounds()[2]\n",
    "    max_error_cp = _get_error_bounds()[3]\n",
    "    max_error_JI = 0\n",
    "    \n",
    "    return (max_error_cp, max_error_JI, max_error_alpha, max_error_D, max_error_s) , pandas.DataFrame(data = np.array([None]*7).reshape(1,7), \n",
    "                                                                                                      columns = ['Exp', 'num_trajs', 'RMSE CP', \n",
    "                                                                                                                 'JSC CP', 'alpha', 'K', 'state'])\n",
    "\n",
    "\n",
    "def run_single_task(exp_nums, track, submit_dir, truth_dir):\n",
    "    \n",
    "    data_metrics = []\n",
    "\n",
    "    for exp in exp_nums:\n",
    "\n",
    "        try:\n",
    "            del df_true_exp, df_pred_exp\n",
    "        except:\n",
    "            pass\n",
    "\n",
    "        path_pred = submit_dir+f'/track_{track}/exp_{exp}/'\n",
    "        path_true = truth_dir+f'/track_{track}/exp_{exp}/'\n",
    "        prefix_true = 'traj_labs_'\n",
    "\n",
    "        # Get the number of FOVs from the trues\n",
    "        fov_nums = 0\n",
    "        for filename in os.listdir(path_true):\n",
    "            if filename.startswith(prefix_true):\n",
    "                fov_nums += 1\n",
    "\n",
    "        for fov in range(fov_nums):\n",
    "            # Predictions\n",
    "            corresponding_submission_file = path_pred+f'fov_{fov}.txt'\n",
    "            \n",
    "            ### If one file does not exists, abort a return Nones ###\n",
    "            if not os.path.isfile(corresponding_submission_file):\n",
    "                wrn_str = f'Prediction missing for: -- Track {track} | Task SingleTraj  | Experiment {exp} | FOV {fov} -- not found and will not be computed.'\n",
    "                return when_error_single(wrn_str)\n",
    "                \n",
    "                \n",
    "            else:\n",
    "                preds_fov = load_file_to_df(corresponding_submission_file)\n",
    "\n",
    "            # Groundtruths\n",
    "            trues_fov = load_file_to_df(path_true+prefix_true+f'fov_{fov}.txt')\n",
    "\n",
    "            if track == 1:\n",
    "                vip_idx = np.loadtxt(path_true + f'vip_idx_fov_{fov}.txt').astype(int)\n",
    "                pred_vip_idx = preds_fov.traj_idx.values.astype(int)\n",
    "\n",
    "                if len(vip_idx) != len(pred_vip_idx) or (np.sort(vip_idx) != np.sort(pred_vip_idx)).any():\n",
    "                    wrn_str = f'Index of predicted VIP  particles does not correspond to true values (Track {track}, Exp {exp}, FOV {fov}). Be sure to correctly extract the correct index from the .tiff file'\n",
    "                    return when_error_single(wrn_str)\n",
    "                \n",
    "                # Take only VIP particles here (pred already contains only vip)\n",
    "                trues_fov = trues_fov[trues_fov['traj_idx'].isin(vip_idx)]\n",
    "\n",
    "            # Sort dataframes by the traj idx (so that index and rows correspond)\n",
    "            trues_fov = trues_fov.sort_values('traj_idx')\n",
    "            preds_fov = preds_fov.sort_values('traj_idx')\n",
    "\n",
    "            # Full experiment dataframe\n",
    "            try:\n",
    "                trues_fov.traj_idx += df_true_exp.traj_idx.values[-1]+1\n",
    "                preds_fov.traj_idx += df_pred_exp.traj_idx.values[-1]+1\n",
    "\n",
    "                df_pred_exp = pandas.concat([df_pred_exp, preds_fov])\n",
    "                df_true_exp = pandas.concat([df_true_exp, trues_fov]) \n",
    "            except:            \n",
    "                df_pred_exp = preds_fov\n",
    "                df_true_exp = trues_fov\n",
    "\n",
    "        # Calculate error for each experiment\n",
    "        rmse_CP_exp, JI, error_alpha_exp, error_D_exp, error_s_exp = error_SingleTraj_dataset(df_pred_exp, df_true_exp, prints = False, disable_tqdm=True);\n",
    "\n",
    "        # Save errors and number of trajectories of later doing average\n",
    "        data_metrics.append([exp, df_true_exp.shape[0], rmse_CP_exp, JI, error_alpha_exp, error_D_exp, error_s_exp])\n",
    "\n",
    "    # Put all results in dataframe    \n",
    "    data_metrics = pandas.DataFrame(data = data_metrics, columns = ['Exp', 'num_trajs', 'RMSE CP', 'JSC CP', 'alpha', 'K', 'state'])\n",
    "    # Calculate weighted averages\n",
    "    avg_metrics = []\n",
    "    for key in data_metrics.keys()[2:]:\n",
    "        avg_metrics.append(np.average(data_metrics[key], weights=data_metrics.num_trajs))\n",
    "\n",
    "    return avg_metrics, data_metrics\n",
    "    "
   ]
  },
  {
   "cell_type": "markdown",
   "id": "c5f3f313-1f19-44e6-8804-5eb09278dc15",
   "metadata": {},
   "source": [
    "#| hide\n",
    "#### Testing"
   ]
  },
  {
   "cell_type": "code",
   "execution_count": null,
   "id": "685f153c-0d2d-4752-a9cb-e68204b24c49",
   "metadata": {},
   "outputs": [],
   "source": [
    "#| hide\n",
    "#| eval: false\n",
    "from andi_datasets.utils_challenge import run_single_task\n",
    "\n",
    "## For testing, uncomment following and comment previous\n",
    "# import os\n",
    "# from andi_datasets.utils_challenge import error_SingleTraj_dataset, load_file_to_df, error_Ensemble_dataset\n",
    "# import pandas\n",
    "# import numpy as np"
   ]
  },
  {
   "cell_type": "code",
   "execution_count": null,
   "id": "7eb7db67-5ea8-4261-a422-0b981388bcdc",
   "metadata": {},
   "outputs": [
    {
     "name": "stderr",
     "output_type": "stream",
     "text": [
      "/home/gorka/github/andi_datasets/andi_datasets/utils_challenge.py:1478: UserWarning: Prediction missing for: -- Task 1 | Track 1 | Experiment 0 | FOV 0 -- not found. Task 1 will not be computed.\n",
      "  warnings.warn(wrn_str)\n"
     ]
    }
   ],
   "source": [
    "#| hide\n",
    "#| eval: false\n",
    "avg, df_single = run_single_task(exp_nums = [0,1,2,3,4],\n",
    "                                 track = 1,\n",
    "                                 submit_dir = '/home/gorka/andi2_datasets/public_data_v0/intentional_error_data/from_fifth_round/res/',\n",
    "                                 truth_dir = '/home/gorka/andi2_datasets/public_data_v0/intentional_error_data/from_fifth_round/ref/',\n",
    "                                )"
   ]
  },
  {
   "cell_type": "markdown",
   "id": "2f4a0828-3f18-480a-b5d6-fa21990eedd5",
   "metadata": {},
   "source": [
    "## Ensemble"
   ]
  },
  {
   "cell_type": "code",
   "execution_count": null,
   "id": "55d07e84-c9bd-4614-b5ec-3317ca4b87c7",
   "metadata": {},
   "outputs": [],
   "source": [
    "#| export\n",
    "def run_ensemble_task(exp_nums, track, submit_dir, truth_dir):\n",
    "    \n",
    "    avg_alpha, avg_d = [], []\n",
    "    \n",
    "    \n",
    "    # We keep track in case the file for one experiment is missing. If for at least one we can't find\n",
    "    # it, we give None as results\n",
    "    filename = 'ensemble_labels.txt'\n",
    "    \n",
    "    \n",
    "    for exp in exp_nums:\n",
    "        \n",
    "\n",
    "        path_pred = submit_dir+f'/track_{track}/exp_{exp}/'\n",
    "        path_true = truth_dir+f'/track_{track}/exp_{exp}/'\n",
    "         \n",
    "        try:\n",
    "\n",
    "            true = np.loadtxt(path_true+filename, skiprows = 1, delimiter = ';')\n",
    "            pred = np.loadtxt(path_pred+filename, skiprows = 1, delimiter = ';')\n",
    "\n",
    "            distance_a_exp, distance_d_exp, dists = error_Ensemble_dataset(true, pred, return_distributions = True)\n",
    "\n",
    "            avg_alpha.append(distance_a_exp)\n",
    "            avg_d.append(distance_d_exp)\n",
    "            \n",
    "        except:\n",
    "            wrn_str = f'Prediction missing for: -- Track {track} | Task Ensemble | Experiment {exp} -- not found and will not be computed.'\n",
    "            warnings.warn(wrn_str)\n",
    "            # Get the max error possible for the task\n",
    "            _,_,_,_, max_error_a, max_error_D = _get_error_bounds()\n",
    "            \n",
    "            return (max_error_a, max_error_D), pandas.DataFrame(data = np.array([None, None, None]).reshape(1,3), \n",
    "                                              columns = ['Exp', 'alpha', 'K']) \n",
    "        \n",
    "    data_metrics = pandas.DataFrame(data = np.vstack((np.arange(len(avg_alpha)),avg_alpha, avg_d)).transpose(),\n",
    "                                    columns = ['Exp', 'alpha', 'K'])\n",
    "    data_metrics['Exp'] = data_metrics['Exp'].values.astype(int)\n",
    "        \n",
    "    return (np.mean(avg_alpha), np.mean(avg_d)),  data_metrics"
   ]
  },
  {
   "cell_type": "code",
   "execution_count": null,
   "id": "28f775ee-9fd4-434e-966d-86121f7a4f69",
   "metadata": {},
   "outputs": [],
   "source": [
    "#| hide\n",
    "#| eval: false\n",
    "avg, df_ens = run_ensemble_task(exp_nums = [0,1,2,3,4],\n",
    "                                 track = 2,\n",
    "                                 submit_dir = '/home/gorka/github/andi_codalab_bundle/data/pre_challenge/res',\n",
    "                                 truth_dir = '/home/gorka/github/andi_codalab_bundle/data/pre_challenge/ref',\n",
    "                                )"
   ]
  },
  {
   "cell_type": "markdown",
   "id": "815326d1-09ec-4dbd-818d-127f90b56559",
   "metadata": {},
   "source": [
    "## Parent program"
   ]
  },
  {
   "cell_type": "code",
   "execution_count": null,
   "id": "056ded9e-03eb-46a8-800a-d92dff6bf1be",
   "metadata": {},
   "outputs": [],
   "source": [
    "#| export\n",
    "import os\n",
    "\n",
    "def listdir_nohidden(path):\n",
    "    for f in os.listdir(path):\n",
    "        if not f.startswith(('.','_')):\n",
    "            yield f\n",
    "\n",
    "def codalab_scoring(INPUT_DIR = None, # directory to where to find the reference and predicted labes\n",
    "                    OUTPUT_DIR = None # directory where the scores will be saved (scores.txt)\n",
    "                   ):\n",
    "    \n",
    "    if INPUT_DIR is None:\n",
    "        INPUT_DIR = sys.argv[1]\n",
    "    if OUTPUT_DIR is None:\n",
    "        OUTPUT_DIR = sys.argv[2]\n",
    "        \n",
    "    submit_dir = os.path.join(INPUT_DIR, 'res')\n",
    "    truth_dir = os.path.join(INPUT_DIR, 'ref')\n",
    "    \n",
    "    \n",
    "    # Starting the HMTL file\n",
    "    htmlOutputDir = os.path.join(OUTPUT_DIR, \"html\")\n",
    "    if not os.path.exists(htmlOutputDir):\n",
    "            os.makedirs(htmlOutputDir)\n",
    "    html_filename = os.path.join(htmlOutputDir, 'scores.html')\n",
    "    html_file = open(html_filename, 'a', encoding=\"utf-8\")\n",
    "    html_file.write('<h1>Submission detailed results </h1>')\n",
    "\n",
    "    if not os.path.isdir(submit_dir):\n",
    "        print( \"%s doesn't exist\", submit_dir)\n",
    "        \n",
    "    if os.path.isdir(submit_dir) and os.path.isdir(truth_dir):\n",
    "        if not os.path.exists(OUTPUT_DIR):\n",
    "            os.makedirs(OUTPUT_DIR)\n",
    "\n",
    "    output_filename = os.path.join(OUTPUT_DIR, 'scores.txt')\n",
    "    output_file = open(output_filename, 'w')\n",
    "       \n",
    "    \n",
    "\n",
    "    # Track 1: videos\n",
    "    # Track 2: trajectories\n",
    "    for track, name_track in zip([1,2], ['videos', 'trajectories']):\n",
    "        \n",
    "        ##### ----- In case the whole track is missing, give Nones to both tasks ----- #####\n",
    "        path_preds = os.path.join(INPUT_DIR, f'res/track_{track}')\n",
    "        \n",
    "        if not os.path.exists(path_preds):\n",
    "            wrn_str = f'No submission for track {track} found.'\n",
    "            warnings.warn(wrn_str)\n",
    "            \n",
    "            for task in enumerate(['single', 'ensemble']): \n",
    "                # Codalab naming:\n",
    "                # task 1 : single traj\n",
    "                # task 2: ensemble\n",
    "                idx_task = 1 if task == 'single' else 2\n",
    "                \n",
    "                # single trajectories\n",
    "                if task == 'single':                    \n",
    "                    for name, max_error in zip(['alpha','D','state', 'cp','JI'], list(_get_error_bounds()[:-2])+[0]): # This names must be the same as used in the yaml leaderboard                  \n",
    "                        output_file.write(f'tr{track}.ta1{idx_task}.'+name+': '+str(max_error) +'\\n')\n",
    "                elif task == 'ensemble':\n",
    "                    for name, max_error in zip(['alpha','D'], _get_error_bounds()[-2:]): # This names must be the same as used in the yaml leaderboard\n",
    "                        output_file.write(f'tr{track}.ta{idx_task}.'+name+': '+str(max_error) +'\\n')\n",
    "            continue\n",
    "        ##### ------------------------------------------------------------------------ #####\n",
    "        \n",
    "        \n",
    "        html_file.write(f'<h2> Track {track}: '+name_track+' </h2>')\n",
    "\n",
    "        for task in ['ensemble', 'single']: \n",
    "\n",
    "            # Codalab naming:\n",
    "            # task 1 : single traj\n",
    "            # task 2: ensemble\n",
    "            idx_task = 1 if task == 'single' else 2\n",
    "            \n",
    "            if task == 'single':\n",
    "                html_file.write(f'<h3> Single Trajectory Task </h3>')\n",
    "            elif task == 'ensemble':\n",
    "                html_file.write(f'<h3> Ensemble Task </h3>')\n",
    "\n",
    "\n",
    "            # Get the number of experiments from the true directory\n",
    "            exp_folders = sorted(list(listdir_nohidden(truth_dir+f'/track_{track}')))\n",
    "            exp_nums = [int(name[-1]) for name in exp_folders]\n",
    "\n",
    "            if task == 'single':  \n",
    "\n",
    "                avg_metrics, df = run_single_task(exp_nums, track, submit_dir, truth_dir )\n",
    "\n",
    "                for name, res in zip(['cp','JI','alpha','D','state'], avg_metrics): # This names must be the same as used in the yaml leaderboard                  \n",
    "                    output_file.write(f'tr{track}.ta{idx_task}.'+name+': '+str(res) +'\\n')\n",
    "\n",
    "                ''' To keep consistency with leaderboard display, we swap the K and alpha columns that\n",
    "                get printed in the detailed results.\n",
    "                Moreover, we change the names to match leaderboard. '''\n",
    "                df_swapped = df.iloc[:,[0,1,2,3,5,4,6]]\n",
    "                df_swapped = df_swapped.rename(columns = {'alpha': 'MAE (alpha)', 'K': 'MSLE (K)',\n",
    "                                                          'RMSE CP': 'RMSE (CP)', 'JSC CP': 'JSC (CP)',\n",
    "                                                          'state': 'F1 (diff. type)'})\n",
    "                # Changing the name of JI to JSC to match paper nomenclature\n",
    "                html_file.write(df_swapped.to_html(index = False).replace('\\n',''))\n",
    "              \n",
    "\n",
    "            if task == 'ensemble':\n",
    "\n",
    "                avg_metrics, df = run_ensemble_task(exp_nums, track, submit_dir, truth_dir)\n",
    "                \n",
    "                ''' There was a problem with the leaderboard labels and we had to SWAP alpha and D in the \n",
    "                first element of the zip, i.e. the list is now ['D', 'alpha'] but avg_metrics is [alpha, D] '''\n",
    "                for name, res in zip(['D','alpha'], avg_metrics):                \n",
    "                    output_file.write(f'tr{track}.ta{idx_task}.'+name+': '+str(res) +'\\n')      \n",
    "\n",
    "                ''' To keep consistency with leaderboard display, we swap the K and alpha columns that\n",
    "                get printed in the detailed results.\n",
    "                Moreover, we change the names to match leaderboard. '''\n",
    "                df_swapped = df.iloc[:,[0,2,1]]                \n",
    "                df_swapped = df_swapped.rename(columns = {'alpha': r'W1 (alpha)', 'K': 'W1 (K)'})\n",
    "                \n",
    "                html_file.write(df_swapped.to_html(index = False).replace('\\n',''))\n",
    "   \n",
    "\n",
    "    html_file.close()\n",
    "    output_file.close()  \n",
    "        "
   ]
  },
  {
   "cell_type": "code",
   "execution_count": null,
   "id": "de0094fa-e176-4ada-bf07-12df6b66a428",
   "metadata": {},
   "outputs": [],
   "source": [
    "#| hide\n",
    "# from andi_datasets.utils_challenge import codalab_scoring\n",
    "\n",
    "## For testing comment previous line and uncomment following\n",
    "from andi_datasets.utils_challenge import error_Ensemble_dataset, _get_error_bounds, load_file_to_df, error_SingleTraj_dataset\n",
    "from andi_datasets.utils_challenge import run_single_task, run_ensemble_task"
   ]
  },
  {
   "cell_type": "code",
   "execution_count": null,
   "id": "a7156cd6-dd7d-4020-979f-e5c93e610a59",
   "metadata": {},
   "outputs": [],
   "source": [
    "#| hide\n",
    "#| eval: false\n",
    "codalab_scoring(INPUT_DIR = '/home/gorka/github/andi_codalab_bundle/data/pre_challenge/',\n",
    "                OUTPUT_DIR = '.')"
   ]
  },
  {
   "cell_type": "markdown",
   "id": "21acaca4-5f2b-4855-82d6-9ca89a5d71dd",
   "metadata": {},
   "source": [
    "#| hide\n",
    "\n",
    "## Single file for codalab\n",
    "> This will be copy-pasted into a .py for the scoring program"
   ]
  },
  {
   "cell_type": "code",
   "execution_count": null,
   "id": "ed9fc320-91c1-4944-ab2c-e6492e60ad40",
   "metadata": {},
   "outputs": [
    {
     "name": "stdout",
     "output_type": "stream",
     "text": [
      "working in notebook!\n"
     ]
    },
    {
     "name": "stderr",
     "output_type": "stream",
     "text": [
      "/home/gorka/miniconda3/envs/andi/lib/python3.10/site-packages/numpy/core/fromnumeric.py:3432: RuntimeWarning: Mean of empty slice.\n",
      "  return _methods._mean(a, axis=axis, dtype=dtype,\n",
      "/home/gorka/miniconda3/envs/andi/lib/python3.10/site-packages/numpy/core/_methods.py:190: RuntimeWarning: invalid value encountered in double_scalars\n",
      "  ret = ret.dtype.type(ret / rcount)\n",
      "/home/gorka/miniconda3/envs/andi/lib/python3.10/site-packages/numpy/core/fromnumeric.py:3432: RuntimeWarning: Mean of empty slice.\n",
      "  return _methods._mean(a, axis=axis, dtype=dtype,\n",
      "/home/gorka/miniconda3/envs/andi/lib/python3.10/site-packages/numpy/core/_methods.py:190: RuntimeWarning: invalid value encountered in double_scalars\n",
      "  ret = ret.dtype.type(ret / rcount)\n"
     ]
    }
   ],
   "source": [
    "#| hide\n",
    "#| eval: false\n",
    "import sys\n",
    "# The following update will only occur on the server. To be able to run this cell in a notebook, we \n",
    "# create this try /except which prevents repo updates if working from notebooks\n",
    "try:\n",
    "    __IPYTHON__\n",
    "    print('working in notebook!')\n",
    "    \n",
    "except NameError:\n",
    "    ############################################ TO UPDATE THE REPO ###########################################\n",
    "    \n",
    "    try:\n",
    "        import git     \n",
    "    except:\n",
    "        import subprocess\n",
    "        subprocess.check_call([sys.executable, \"-m\", \"pip\", \"install\", 'git'])    \n",
    "    \n",
    "    def has_changes(local_path, branch_name=\"main\"):\n",
    "        repo = git.Repo(local_path)\n",
    "\n",
    "        # Fetch updates from the remote repository\n",
    "        repo.remotes.origin.fetch()\n",
    "\n",
    "        # Get the current local branch\n",
    "        local_branch = repo.active_branch\n",
    "\n",
    "        # Get the branch you want to compare (e.g., 'main')\n",
    "        remote_branch = repo.remotes.origin.refs[branch_name]\n",
    "\n",
    "        # Check if there are any changes\n",
    "        has_changes = repo.is_ancestor(local_branch.commit, remote_branch.commit)\n",
    "\n",
    "        return has_changes\n",
    "\n",
    "\n",
    "    def update_repo(local_path):\n",
    "        repo = git.Repo(local_path)\n",
    "\n",
    "        # Pull changes from the remote repository\n",
    "        repo.remotes.origin.pull()\n",
    "\n",
    "\n",
    "    repo_path = \"/app/andi_files/\"\n",
    "\n",
    "    if has_changes(repo_path, branch_name=\"codalab_andi2\"):\n",
    "        update_repo(repo_path)\n",
    "   \n",
    "    \n",
    "    # add to path\n",
    "    sys.path.append(\"/app/andi_files/\")\n",
    "    \n",
    "    ############################################ TO UPDATE THE REPO ###########################################\n",
    "\n",
    "from andi_datasets.utils_challenge import codalab_scoring\n",
    "\n",
    "codalab_scoring(INPUT_DIR = sys.argv[1],\n",
    "                OUTPUT_DIR = sys.argv[2]\n",
    "               )\n",
    "\n",
    "# codalab_scoring(INPUT_DIR = '/home/gorka/andi2_datasets/public_data_v0/correct_data/',\n",
    "#                 OUTPUT_DIR = '/home/gorka/github/andi_datasets/source_nbs/lib_nbs'\n",
    "#                )"
   ]
  },
  {
   "cell_type": "markdown",
   "id": "567ec608-39c5-4844-a93e-083e0276106e",
   "metadata": {},
   "source": [
    "# Helpers transform results dataset in reference dataset"
   ]
  },
  {
   "cell_type": "code",
   "execution_count": null,
   "id": "fbd008a6-e0ba-41e1-bd02-c12aacdd9974",
   "metadata": {},
   "outputs": [],
   "source": [
    "#| export\n",
    "import glob\n",
    "# Function to rename and delete files as required\n",
    "def transform_ref_to_res(base_path : str, # path where to find the folder to reorganize\n",
    "                         track : str, # either 'track_1' or 'track_2'\n",
    "                         num_fovs : int\n",
    "                        ):\n",
    "    \n",
    "    ''' Transforms an organized reference dataset into a valid submission dataset. Note that we \n",
    "    do not account for VIP indices in track_1, so will later yield an error when scoring this track.'''\n",
    "    \n",
    "    \n",
    "    fov_range = range(num_fovs)\n",
    "    \n",
    "    # Iterate through each experiment directory\n",
    "    for exp_dir in os.listdir(os.path.join(base_path, track)):\n",
    "        exp_path = os.path.join(base_path, track, exp_dir)\n",
    "\n",
    "        # Rename traj_labs_fov_X.txt to fov_X.txt\n",
    "        for fov in fov_range:\n",
    "            old_name = os.path.join(exp_path, f'traj_labs_fov_{fov}.txt')\n",
    "            new_name = os.path.join(exp_path, f'fov_{fov}.txt')\n",
    "            if os.path.exists(old_name):\n",
    "                os.rename(old_name, new_name)\n",
    "\n",
    "        # Delete all files except ensemble_labels.txt\n",
    "        for file in glob.glob(os.path.join(exp_path, '*')):\n",
    "            if not (file.endswith('ensemble_labels.txt') or os.path.basename(file).startswith('fov_')):\n",
    "                os.remove(file)"
   ]
  },
  {
   "cell_type": "markdown",
   "id": "0f12002b-f036-45ba-9079-9f603c0baed0",
   "metadata": {},
   "source": [
    "#| hide\n",
    "# NBDEV Export"
   ]
  },
  {
   "cell_type": "code",
   "execution_count": null,
   "id": "e8dda32c-4e77-4daa-b7b8-eba71888d64e",
   "metadata": {},
   "outputs": [],
   "source": [
    "#| hide\n",
    "import nbdev; nbdev.nbdev_export()"
   ]
  }
 ],
 "metadata": {
  "kernelspec": {
   "display_name": "andi",
   "language": "python",
   "name": "andi"
  }
 },
 "nbformat": 4,
 "nbformat_minor": 5
}
