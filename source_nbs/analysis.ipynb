{
 "cells": [
  {
   "cell_type": "code",
   "execution_count": 2,
   "id": "5c50273f-e1ea-43f7-9914-419bdf99e2c8",
   "metadata": {},
   "outputs": [],
   "source": [
    "# default_exp analysis"
   ]
  },
  {
   "cell_type": "code",
   "execution_count": 107,
   "id": "4a654403-b275-4e22-8929-b170fcf071f6",
   "metadata": {},
   "outputs": [],
   "source": [
    "# export\n",
    "import numpy as np\n",
    "import math"
   ]
  },
  {
   "cell_type": "code",
   "execution_count": 8,
   "id": "9b4a302f-aa18-486a-bdc4-bfbebab385f3",
   "metadata": {},
   "outputs": [],
   "source": [
    "import matplotlib.pyplot as plt"
   ]
  },
  {
   "cell_type": "markdown",
   "id": "3ef3d2d1-438c-4372-ae7f-97261c1016df",
   "metadata": {},
   "source": [
    "# Direct analysis on trajectories"
   ]
  },
  {
   "cell_type": "markdown",
   "id": "4366cbd3-9b35-4715-9289-b85762c9c08e",
   "metadata": {},
   "source": [
    "## Angle calculation\n",
    "Given a set of trajectories, calculate the angles between displacements"
   ]
  },
  {
   "cell_type": "code",
   "execution_count": null,
   "id": "c79ce99e-df93-4510-bb00-34095e4210b6",
   "metadata": {},
   "outputs": [],
   "source": [
    "#export \n",
    "def get_angle(a, b, c):\n",
    "    ang = math.degrees(math.atan2(c[1]-b[1], c[0]-b[0]) - math.atan2(a[1]-b[1], a[0]-b[0]))\n",
    "    return ang + 360 if ang < 0 else ang\n",
    "\n",
    "def dataset_angles(trajs):\n",
    "    angles = []\n",
    "    for traj in trajs:\n",
    "        for a, b, c in zip(traj[:, :-2].transpose(), traj[:, 1:-1].transpose(), traj[:, 2:].transpose()):\n",
    "            angles.append(get_angle(a, b, c))\n",
    "    return angles"
   ]
  },
  {
   "cell_type": "markdown",
   "id": "34c0aa4d-25e9-42a4-979a-35605c6f0270",
   "metadata": {
    "tags": []
   },
   "source": [
    "# MSD based analysis \n",
    "This class collects all analysis of trajectories based on the mean squared displacement (MSD)"
   ]
  },
  {
   "cell_type": "code",
   "execution_count": 64,
   "id": "1622edc0-8d96-47a8-a30b-8aa0ce666c40",
   "metadata": {},
   "outputs": [],
   "source": [
    "#export\n",
    "class msd_analysis():\n",
    "    def __init__():\n",
    "        ''' Constructor of the class'''\n",
    "        \n",
    "\n",
    "    def tamsd(traj, t_lags):\n",
    "        '''\n",
    "        Calculates the time average mean squared displacement of a trajecotry traj\n",
    "        at various time lags\n",
    "        Inputs: - traj: trajectory to calculate TA-MSD\n",
    "                - t_lags: time lags used for the TA-MSD\n",
    "        Outputs: - TA-MSD\n",
    "        '''\n",
    "        tamsd = np.zeros_like(t_lags, dtype= float)\n",
    "        for idx, t in enumerate(t_lags):        \n",
    "            for p in range(len(traj)-t):\n",
    "                tamsd[idx] += (traj[p]-traj[p+t])**2            \n",
    "            tamsd[idx] /= len(traj)-t    \n",
    "        return tamsd\n",
    "\n",
    "    def get_diff_coeff(traj, t_lags = None):\n",
    "        '''Calculates the diffusion coefficient of a trajectory by means of the linear\n",
    "        fitting of the TA-MSD'''\n",
    "        if not t_lags:\n",
    "            N_t_lags = max(4, int(len(traj)*0.1))\n",
    "            t_lags = np.arange(1, N_t_lags)\n",
    "\n",
    "        tasmd = TAMSD(traj, t_lags)\n",
    "        return np.polyfit(t_lags, tasmd, deg = 1)[0]/2\n",
    "\n",
    "    def get_exponent(traj, t_lags = None):\n",
    "        '''Calculates the anolaous of a trajectory by means of the linear\n",
    "        fitting of the logarithm of the TA-MSD'''\n",
    "        if not t_lags:\n",
    "            N_t_lags = max(4, int(len(traj)*0.1))\n",
    "            t_lags = np.arange(1, N_t_lags)\n",
    "\n",
    "        tasmd = TAMSD(traj, t_lags)\n",
    "        return np.polyfit(np.log(t_lags), np.log(tasmd), deg = 1)[0]\n",
    "    \n",
    "    "
   ]
  },
  {
   "cell_type": "markdown",
   "id": "aca1b2ca-f508-4356-90da-699b59769541",
   "metadata": {},
   "source": [
    "# Convex hull"
   ]
  },
  {
   "cell_type": "code",
   "execution_count": 91,
   "id": "078bf5b9-6b0f-4f76-a177-07f86a0ef467",
   "metadata": {},
   "outputs": [],
   "source": [
    "# export\n",
    "from scipy.spatial import ConvexHull\n",
    "\n",
    "class ch_analysis():\n",
    "    def __init__():\n",
    "        '''Constructor of the class'''\n",
    "\n",
    "    def get_changepoints(trajs, tau = 10, metric = 'volume'):\n",
    "        CPs = []\n",
    "        for traj in trajs:\n",
    "            traj = np.array(traj)\n",
    "\n",
    "            Sd = np.zeros(traj.shape[0]-2*tau)\n",
    "            for k in range(traj.shape[0]-2*tau):\n",
    "                if metric == 'volume':\n",
    "                    Sd[k] = ConvexHull(traj[k:(k+2*tau)]).volume\n",
    "                elif metric == 'area':\n",
    "                    Sd[k] = ConvexHull(traj[k:(k+2*tau)]).area\n",
    "\n",
    "            below_mean = Sd < Sd.mean()\n",
    "            cp_traj = np.argwhere(below_mean[1:] != below_mean[:-1])+1\n",
    "            CPs.append(cp_traj+tau)\n",
    "\n",
    "        return CPs"
   ]
  },
  {
   "cell_type": "code",
   "execution_count": 106,
   "id": "1a368305-06ab-492a-a1a7-782147037f87",
   "metadata": {},
   "outputs": [
    {
     "data": {
      "text/plain": [
       "Text(0, 0.5, '$S_d(n)$')"
      ]
     },
     "execution_count": 106,
     "metadata": {},
     "output_type": "execute_result"
    },
    {
     "data": {
      "image/png": "[encoded data removed]",
      "text/plain": [
       "<Figure size 432x288 with 1 Axes>"
      ]
     },
     "metadata": {
      "needs_background": "light"
     },
     "output_type": "display_data"
    }
   ],
   "source": [
    "tau = 5\n",
    "T = 100; on = 40; off = 60;\n",
    "\n",
    "traj = np.random.randn(T, 2)\n",
    "traj[on:off, :] = traj[on:off, :]*10\n",
    "traj = traj.cumsum(0)\n",
    "\n",
    "Sd = np.zeros(traj.shape[0]-2*tau)\n",
    "for k in range(traj.shape[0]-2*tau):       \n",
    "    Sd[k] = ConvexHull(traj[k:(k+2*tau)], ).volume\n",
    "    \n",
    "below_mean = Sd < Sd.mean()\n",
    "CPs = np.argwhere(below_mean[1:] != below_mean[:-1])+1\n",
    "\n",
    "CPs = ch_analysis.get_changepoints([traj], tau = tau)[0].flatten()-tau\n",
    "CPs_a = ch_analysis.get_changepoints([traj], tau = tau, metric = 'area')[0].flatten()-tau\n",
    "\n",
    "label_cp = 'CH Volume'\n",
    "for cp in CPs:\n",
    "    plt.axvline(cp, c = 'k', alpha = 0.4, ls = '--', label = label_cp)\n",
    "    label_cp = ''\n",
    "label_cp = 'CH Area'    \n",
    "for cp in CPs_a:\n",
    "    plt.axvline(cp, alpha = 0.4, ls = '--', c = 'orange', label = label_cp)\n",
    "    label_cp = ''\n",
    "    \n",
    "plt.plot(Sd, '-o')\n",
    "plt.axhline(Sd.mean(), label = 'CH Volume mean', c = 'C1',)\n",
    "plt.legend()\n",
    "plt.fill_betweenx(np.arange(Sd.max()), on-tau, off-tau, zorder = -1, alpha = 0.1, color = 'k', lw = 0)\n",
    "plt.xlabel('n'); plt.ylabel(r'$S_d(n)$')\n",
    "# plt.ylim(Sd.mean()-10, Sd.mean()+10)"
   ]
  },
  {
   "cell_type": "markdown",
   "id": "91e29eeb-6ae3-486a-916d-339527ead4fe",
   "metadata": {
    "tags": []
   },
   "source": [
    "# NBDEV Export"
   ]
  },
  {
   "cell_type": "code",
   "execution_count": 57,
   "id": "41d0dff0-d3c5-4c29-9156-872e17e15f9f",
   "metadata": {},
   "outputs": [
    {
     "name": "stdout",
     "output_type": "stream",
     "text": [
      "Converted analysis_methods.ipynb.\n",
      "Converted datasets_phenom.ipynb.\n",
      "Converted datasets_theory.ipynb.\n",
      "Converted models_phenom.ipynb.\n",
      "Converted models_theory.ipynb.\n",
      "Converted utils_challenge.ipynb.\n",
      "Converted utils_trajectories.ipynb.\n"
     ]
    }
   ],
   "source": [
    "from nbdev.export import notebook2script\n",
    "notebook2script()"
   ]
  },
  {
   "cell_type": "code",
   "execution_count": null,
   "id": "a79aace4-462f-4b29-bf72-93ac6c49517d",
   "metadata": {},
   "outputs": [],
   "source": []
  }
 ],
 "metadata": {
  "kernelspec": {
   "display_name": "Python 3",
   "language": "python",
   "name": "python3"
  },
  "language_info": {
   "codemirror_mode": {
    "name": "ipython",
    "version": 3
   },
   "file_extension": ".py",
   "mimetype": "text/x-python",
   "name": "python",
   "nbconvert_exporter": "python",
   "pygments_lexer": "ipython3",
   "version": "3.8.8"
  }
 },
 "nbformat": 4,
 "nbformat_minor": 5
}
