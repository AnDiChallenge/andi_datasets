{
 "cells": [
  {
   "cell_type": "markdown",
   "id": "df49c565-46f7-45a5-b3fd-0a260d347401",
   "metadata": {},
   "source": [
    "# The anomalous diffusion library"
   ]
  },
  {
   "cell_type": "markdown",
   "id": "bf1115e6-1361-4447-811a-e8f7902d46fd",
   "metadata": {},
   "source": [
    "<p align=\"center\">\n",
    "  <img width=\"250\" src=\"figures/logos_banners/logo.png\">\n",
    "</p>\n",
    "<h3 align=\"center\">Generate, manage and analyze anomalous diffusion trajectories</h3>\n",
    "<p align=\"center\">\n",
    "  <a href=\"https://doi.org/10.5281/zenodo.4775311\"><img src=\"https://zenodo.org/badge/DOI/10.5281/zenodo.4775311.svg\" alt=\"PyPI version\"></a>\n",
    "  <a href=\"https://badge.fury.io/py/andi-datasets\"><img src=\"https://badge.fury.io/py/andi-datasets.svg\" alt=\"PyPI version\"></a>\n",
    "  <a href=\"https://badge.fury.io/py/andi-datasets\"><img src=\"https://img.shields.io/badge/python-3.10-red\" alt=\"Python version\"></a>\n",
    "</p>\n",
    "<p align=\"center\">\n",
    "  <a href=\"https://andichallenge.github.io/andi_datasets/\">Get started</a> |\n",
    "  <a href=\"https://andichallenge.github.io/andi_datasets/lib_nbs/index_docs.html\">Documentation</a> |\n",
    "  <a href=\"https://andichallenge.github.io/andi_datasets/tutorials/index_tutorials.html\">Tutorials</a> |\n",
    "  <a href=\"#cite-us\">Cite us</a> \n",
    "</p>"
   ]
  },
  {
   "cell_type": "markdown",
   "id": "eba7eb11-11ec-4474-81bc-a6e90cdad35f",
   "metadata": {},
   "source": [
    "This library has been created in the framework of the [**Anomalous Diffusion (AnDi) Challenge**](http://andi-challenge.org/) and allows to create trajectories and datasets from various anomalous diffusion models. You can install the package using:\n",
    "\n",
    "\n",
    "```python\n",
    "pip install andi-datasets\n",
    "```\n",
    "\n",
    "You can then import the package in a Python3 environment using:\n",
    "\n",
    "```python\n",
    "import andi_datasets\n",
    "```\n",
    "\n",
    "## Library organization\n",
    "\n",
    "The `andi_datasets` class allows to generate, transform, analyse, save and load diffusion trajectories from a plethora of diffusion models and experimental generated with various diffusion models. The library is structured in two main blocks, containing either theoretical or phenomenological models. Here is a scheme of the library's content:\n",
    "\n",
    "![](figures/scheme_v1.svg)\n",
    "\n",
    "\n",
    "\n",
    "### Theoretical models\n",
    "\n",
    "The library allows to generate trajectories from various anomalous diffusion models:  [continuous-time random walk (CTRW)](https://journals.aps.org/prb/abstract/10.1103/PhysRevB.12.2455), [fractional Brownian motion (FBM)](https://doi.org/10.1137%2F1010093), [Lévy walks (LW)](https://doi.org/10.1103%2FPhysRevE.49.4873), [annealed transit time model (ATTM)](https://doi.org/10.1103%2FPhysRevLett.112.150603) and [scaled Brownian motion (SBM)](https://doi.org/10.1103%2FPhysRevE.66.021114). You can generate trajectories with the desired anomalous exponent in either one, two or three dimensions.\n",
    "\n",
    "Examples of their use and properties can be found in [this tutorial](tutorials/challenge_one_datasets.ipynb).\n",
    "\n",
    "### Phenomenological models\n",
    "\n",
    " We have also included models specifically developed to simulate realistic physical systems, in which random events alter the diffusion behaviour of the particle. The sources of these changes can be very broad, from the presence of heterogeneities either in space or time, the possibility of creating dimers and condensates or the presence of immobile traps in the environment.\n",
    "\n",
    "Examples of their use and properties can be found in [this tutorial](tutorials/challenge_two_datasets.ipynb).\n",
    "\n",
    "## The AnDi Challenges\n",
    "\n",
    "### 1st AnDi Challenge (2020)\n",
    "\n",
    "\n",
    "![](figures/logos_banners/experiments_andi1.svg)\n",
    "\n",
    "The first AnDi challenge was held between March and November 2020 and focused on the characterization of trajectories arising from different theoretical diffusion models under various experimental conditions. The results of the challenge are published in this article: [Muñoz-Gil et al., Nat Commun **12**, 6253 (2021)](https://doi.org/10.1038/s41467-021-26320-w).\n",
    "\n",
    "If you want to reproduce the datasets used during the challenge, please check [this tutorial](https://github.com/AnDiChallenge/andi_datasets/blob/master/tutorials/challenge2021_submission.ipynb). You can then test your predictions and compare them with the those of challenge participants in this [online interactive tool](http://andi-challenge.org/interactive-tool/).\n",
    "\n",
    "### 2nd AnDi Challenge (2023 / 2024)\n",
    "\n",
    "The second AnDi challenge is [LIVE](https://andi-challenge.org/challenge-2024/). Follow the previous link to keep updated on all news. If you want to learn more about the data we will use, you can check [this tutorial](tutorials/challenge_two_datasets).\n",
    "\n",
    "\n",
    "## Version control\n",
    "\n",
    "Details on each release are presented [here](changes_andi_v2.ipynb).\n",
    "\n",
    "## Contributing\n",
    "\n",
    "The AnDi challenge is a community effort, hence any contribution to this library is more than welcome. If you think we should include a new model to the library, you can contact us in this mail: [andi.challenge@gmail.com](mailto:andi.challenge@gmail.com). You can also perform pull-requests and open issues with any feedback or comments you may have.\n",
    "\n",
    "## Cite us\n",
    "\n",
    "If you found this package useful and used it in your projects, you can use the following to directly cite the package:"
   ]
  },
  {
   "cell_type": "code",
   "execution_count": null,
   "id": "27d9cb9a-54e2-425a-a269-090ba3bf171f",
   "metadata": {},
   "outputs": [],
   "source": [
    "#| eval: false\n",
    "Muñoz-Gil, G., Requena B., Volpe G., Garcia-March M.A. and Manzo C.\n",
    "AnDiChallenge/ANDI_datasets: Challenge 2020 release (v.1.0). Zenodo (2021). \n",
    "https://doi.org/10.5281/zenodo.4775311"
   ]
  },
  {
   "cell_type": "markdown",
   "id": "1d27baaa-f2d3-4bb3-8fae-8f1144141dd3",
   "metadata": {},
   "source": [
    "Or you can cite the paper this package was developed for:\n",
    "\n",
    "**- AnDi Challenge 1**"
   ]
  },
  {
   "cell_type": "code",
   "execution_count": null,
   "id": "5bd4c9f9-eb5b-4e47-815f-c61f92aec74b",
   "metadata": {},
   "outputs": [],
   "source": [
    "#| eval: false\n",
    "G. Muñoz-Gil, G. Volpe ... C. Manzo \n",
    "Objective comparison of methods to decode anomalous diffusion. \n",
    "Nat Commun 12, 6253 (2021). \n",
    "https://doi.org/10.1038/s41467-021-26320-w"
   ]
  },
  {
   "cell_type": "markdown",
   "id": "e07b62d8-81b9-446c-93fa-bf7625763f12",
   "metadata": {},
   "source": [
    "**- AnDi Challenge 2**"
   ]
  },
  {
   "cell_type": "code",
   "execution_count": null,
   "id": "479dfe31-39a9-4f41-a728-98868866a477",
   "metadata": {},
   "outputs": [],
   "source": [
    "#| eval: false\n",
    "G. Muñoz-Gil, H. Bachimanchi ...  C. Manzo\n",
    "In-principle accepted at Nature Communications (Registered Report Phase 1)\n",
    "arXiv:2311.18100\n",
    "https://doi.org/10.48550/arXiv.2311.18100"
   ]
  }
 ],
 "metadata": {
  "kernelspec": {
   "display_name": "python3",
   "language": "python",
   "name": "python3"
  }
 },
 "nbformat": 4,
 "nbformat_minor": 5
}
