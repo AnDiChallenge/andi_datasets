{
 "cells": [
  {
   "cell_type": "markdown",
   "id": "55392da0-66fc-4e97-a522-59c4bd49bdf5",
   "metadata": {},
   "source": [
    "# The Anomalous Diffusion (AnDi) dataset library"
   ]
  },
  {
   "cell_type": "markdown",
   "id": "2ee8cb04-06d5-4ed0-93f5-a55cc72084d5",
   "metadata": {},
   "source": [
    "[![](https://zenodo.org/badge/DOI/10.5281/zenodo.4775311.svg)](https://doi.org/10.5281/zenodo.4775311)\n",
    "\n",
    "This library has been created in the framework of the [**Anomalous Diffusion (AnDi) Challenge**](http://andi-challenge.org/) and allows to create trajectories and datasets from various anomalous diffusion models. You can install the package using:\n",
    "\n",
    "\n",
    "```python\n",
    "pip install andi-datasets\n",
    "```\n",
    "\n",
    "You can then import the package in a Python3 environment using:\n",
    "\n",
    "```python\n",
    "import andi_datasets\n",
    "```\n",
    "\n",
    "In Octobre 2022, the library undergone major changes leading to version `2.0.0`. You can check the realese notes [here](changes_andi_v2.md).\n",
    "\n",
    "### 1st AnDi Challenge 2020\n",
    "\n",
    "\n",
    "![](figures/experiments_andi1.svg)\n",
    "\n",
    "The first AnDi challenge was held between March and November 2020 and focused on the characterization of trajectories arising from different theoretical diffusion models under various experimental conditions. The results of the challenge are published in this article: [Muñoz-Gil et al., Nat Commun **12**, 6253 (2021)](https://doi.org/10.1038/s41467-021-26320-w).\n",
    "\n",
    "If you want to reproduce the datasets used during the challenge, please check [this tutorial](https://github.com/AnDiChallenge/andi_datasets/blob/master/tutorials/challenge2021_submission.ipynb). You can then test your predictions and compare them with the those of challenge participants in this [online interactive tool](http://andi-challenge.org/interactive-tool/).\n",
    "\n",
    "### 2nd AnDi Challenge 2022\n",
    "\n",
    "We are currently preparing the second edition of the AnDi Challenge. Stay tuned, more info will be announced soon in [Twitter](https://twitter.com/AndiChallenge). If you want to start playing with the new *phenomenological* diffusion models on which the challenge will be based, you can check [this tutorial](https://github.com/AnDiChallenge/andi_datasets/blob/master/tutorials/challenge2022_datasets.ipynb).\n",
    "\n",
    "\n",
    "\n",
    "\n",
    "## Library organization\n",
    "\n",
    "The `andi_datasets` class allows to generate, transform, analyse, save and load diffusion trajectories from a plethora of diffusion models and experimental generated with various diffusion models. The library is structured in two main blocks, containing either theoretical or phenomenological models. Here is a scheme of the library's content:\n",
    "\n",
    "![](figures/scheme_v1.svg)\n",
    "\n",
    "\n",
    "\n",
    "### Theoretical models\n",
    "\n",
    "The library allows to generate trajectories from various anomalous diffusion models:  [continuous-time random walk (CTRW)](https://journals.aps.org/prb/abstract/10.1103/PhysRevB.12.2455), [fractional Brownian motion (FBM)](https://doi.org/10.1137%2F1010093), [Lévy walks (LW)](https://doi.org/10.1103%2FPhysRevE.49.4873), [annealed transit time model (ATTM)](https://doi.org/10.1103%2FPhysRevLett.112.150603) and [scaled Brownian motion (SBM)](https://doi.org/10.1103%2FPhysRevE.66.021114). You can generate trajectories with the desired anomalous exponent in either one, two or three dimensions.\n",
    "\n",
    "Examples of their use and properties can be found in [this tutorial](tutorials/challenge_one_datasets.ipynb).\n",
    "\n",
    "### Phenomenological models\n",
    "\n",
    " We have also included models specifically developed to simulate realistic physical systems, in which random events alter the diffusion behaviour of the particle. The sources of these changes can be very broad, from the presence of heterogeneities either in space or time, the possibility of creating dimers or bigger clusters or condensates or the presence of immobile traps in the environment.\n",
    "\n",
    "Examples of their use and properties can be found in [this tutorial](tutorials/challenge_two_datasets.ipynb).\n",
    "\n",
    "## Contributing\n",
    "\n",
    "The AnDi challenge is a community effort, hence any contribution to this library is more than welcome. If you think we should include a new model to the library, you can contact us in this mail: andi.challenge@gmail.com. You can also perform pull-requests and open issues with any feedback or comments you may have.\n",
    "\n",
    "## Requirements\n",
    "\n",
    "All current requirements are declared in the file `setting.ini`.\n",
    "\n",
    "Further details can be found at the [PYPI package webpage](https://pypi.org/project/andi-datasets/)._"
   ]
  },
  {
   "cell_type": "code",
   "execution_count": null,
   "id": "d4952ca9-6055-4f74-8aa4-490ae1ece585",
   "metadata": {},
   "outputs": [],
   "source": []
  }
 ],
 "metadata": {
  "kernelspec": {
   "display_name": "Python 3 (ipykernel)",
   "language": "python",
   "name": "python3"
  }
 },
 "nbformat": 4,
 "nbformat_minor": 5
}
