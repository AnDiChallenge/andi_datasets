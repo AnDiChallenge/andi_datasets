{
 "cells": [
  {
   "cell_type": "markdown",
   "id": "44b0092b-72fc-4fc0-b0c8-de00e3238687",
   "metadata": {},
   "source": [
    "# Tutorials"
   ]
  },
  {
   "cell_type": "markdown",
   "id": "af8d422d-1eba-4bab-b437-f66ed7cafc54",
   "metadata": {},
   "source": [
    "Here we gather a collection of tutorials for different parts of this library:\n",
    "\n",
    "- [Theory models and AnDi 2020](challenge_one_datasets.html): this tutorials introduced the theoretical models contained in this library, as well as the generation of datasets for the AnDi 2020 challenge.\n",
    "\n",
    "- [ANDI 2020 submission: from trajectories to predictions](challenge_one_submission.html): this tutorial shows how to manage the datasets given in the AnDi 2020 challenge and shows how to do predictions both with an statistical approach as with machine learning method.\n",
    "\n",
    "- [Phenom models and ANDI 2023](challenge_two_datasets.html): this tutorial overviews the phenomenological models contained in the library, as well as how to generate datasets for the AnDi 2023 challenge.\n",
    "\n",
    "- [Creating videos tutorial](creating_videos_phenom.html): this tutorial shows how to generate videos using combining the `deep-track` library together with `andi-datasets`."
   ]
  },
  {
   "cell_type": "code",
   "execution_count": null,
   "id": "464e1f7c-39d1-4a9a-a4de-deea08b899b3",
   "metadata": {},
   "outputs": [],
   "source": []
  }
 ],
 "metadata": {
  "kernelspec": {
   "display_name": "Python 3 (ipykernel)",
   "language": "python",
   "name": "python3"
  }
 },
 "nbformat": 4,
 "nbformat_minor": 5
}
