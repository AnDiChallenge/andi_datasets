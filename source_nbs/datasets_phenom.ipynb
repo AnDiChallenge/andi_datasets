{
 "cells": [
  {
   "cell_type": "markdown",
   "id": "c1ed7396-cf14-41bb-bc47-d2aa02adb540",
   "metadata": {},
   "source": [
    "# datasets_phenom"
   ]
  },
  {
   "cell_type": "code",
   "execution_count": null,
   "id": "380a05ae",
   "metadata": {},
   "outputs": [],
   "source": [
    "#| default_exp datasets_phenom"
   ]
  },
  {
   "cell_type": "code",
   "execution_count": null,
   "id": "1d0d11e3",
   "metadata": {},
   "outputs": [],
   "source": [
    "#| export\n",
    "from andi_datasets.models_phenom import models_phenom\n",
    "from andi_datasets.utils_trajectories import segs_inside_fov\n",
    "from andi_datasets.utils_challenge import label_filter, continuous_label_to_list, extract_ensemble\n",
    "\n",
    "import inspect\n",
    "import numpy as np\n",
    "import pandas as pd\n",
    "import csv\n",
    "from tqdm.auto import tqdm\n",
    "\n",
    "import os\n",
    "import warnings"
   ]
  },
  {
   "cell_type": "code",
   "execution_count": null,
   "id": "91c5c762",
   "metadata": {},
   "outputs": [],
   "source": [
    "#| hide\n",
    "import matplotlib.pyplot as plt\n",
    "%load_ext autoreload\n",
    "%autoreload 2"
   ]
  },
  {
   "cell_type": "markdown",
   "id": "03444474-1c4b-4a5e-8742-785bc6bdfa3c",
   "metadata": {},
   "source": [
    "#| hide\n",
    "# Class constructor"
   ]
  },
  {
   "cell_type": "code",
   "execution_count": null,
   "id": "70947895",
   "metadata": {},
   "outputs": [],
   "source": [
    "#| export\n",
    "class datasets_phenom():\n",
    "    def __init__(self,\n",
    "                models_class = models_phenom()):\n",
    "            ''' This class generates, saves and loads datasets of trajectories simulated \n",
    "                from various phenomenological diffusion models (available at andi_datasets.models_phenom). '''\n",
    "            self.models_class = models_class\n",
    "            self._get_models()\n",
    "        \n",
    "    def _get_models(self):        \n",
    "        '''Loads the available models from the subclass'''\n",
    "\n",
    "        available_models = inspect.getmembers(self.models_class, inspect.ismethod)      \n",
    "        available_models = available_models[1:][::-1] # we need this to get rid of the init\n",
    "        self.avail_models_name = [x[0] for x in available_models]\n",
    "        self.avail_models_func = [x[1] for x in available_models]\n",
    "        \n",
    "    def _get_inputs_models(self, model, get_default_values = False):\n",
    "        \n",
    "        model_f = self.avail_models_func[self.avail_models_name.index(model)] \n",
    "        defaults = inspect.getfullargspec(model_f).defaults\n",
    "        params = inspect.getfullargspec(model_f).args[1:]\n",
    "        if get_default_values:\n",
    "            return params, defaults\n",
    "        else:\n",
    "            return params\n",
    "        \n",
    "    def _get_states(self):\n",
    "        ''' Definition of the possible states found in the ANDI 2022 challenge and their \n",
    "        assigned label:\n",
    "        0: immobile; 1: confined; 2: brownian; 3: anomalous '''\n",
    "        \n",
    "        self._states = ['immobile', 'confined', 'brownian', 'anomalous']\n",
    "        "
   ]
  },
  {
   "cell_type": "markdown",
   "id": "a6a5bbe5-39c4-4bea-8cf5-f47aa358614c",
   "metadata": {
    "tags": []
   },
   "source": [
    "#| hide\n",
    "# `create_dataset`"
   ]
  },
  {
   "cell_type": "code",
   "execution_count": null,
   "id": "1077ac36",
   "metadata": {},
   "outputs": [],
   "source": [
    "#| hide\n",
    "\n",
    "#| export\n",
    "\n",
    "class datasets_phenom(datasets_phenom):\n",
    "                \n",
    "    def create_dataset(self,\n",
    "                       dics = False,\n",
    "                       T = None,\n",
    "                       N_model = None,  \n",
    "                       path = '',\n",
    "                       save = False, load = False):\n",
    "        ''' Given a list of dictionaries, generates trajectories of the demanded properties.\n",
    "        The only compulsory input for every dictionary is 'model', i.e. the model from which \n",
    "        trajectories must be generated. The rest of inputs are optional.\n",
    "        You can see the input parameters of the different models in andi_datasets.models_phenom,\n",
    "        This function checks and handles the input dataset and the manages both the creation,\n",
    "        loading and saving of trajectories.\n",
    "        \n",
    "        Inputs\n",
    "        -------\n",
    "            :dics (list, dictionary, bool):\n",
    "                - if list or dictionary: the function generates trajectories with the \n",
    "                properties stated in each dictionary.\n",
    "                - if bool: the function generates trajectories with default parameters.\n",
    "                set for the ANDI2022 challenge for every available diffusion model.\n",
    "            :T (int or None): \n",
    "                - if int: overrides the values of trajectory length in the dictionaries.\n",
    "                - if None: uses the trajectory length values in the dictionaries.\n",
    "            :N_model (int or None):\n",
    "                - if int: overrides the values of number of trajectories in the dictionaries.\n",
    "                - if None: uses the number of trajectories in the dictionaries\n",
    "            :save (bool): if True, saves the generated dataset (see self._save_trajectories).\n",
    "            :load (bool): if True, loads a dataset from path (see self._load_trajectories).\n",
    "            :path (str): path from where to save or load the dataset.\n",
    "        Outputs\n",
    "        --------\n",
    "        '''\n",
    "        \n",
    "        self.T = T\n",
    "        self.N_model = N_model\n",
    "        self.path = path\n",
    "        self.dics = dics\n",
    "        \n",
    "        '''Managing dictionaries'''\n",
    "        # If the input is a single dictionary, transform it to list\n",
    "        if isinstance(self.dics, dict): self.dics = [self.dics]\n",
    "        # if dics is False, we select trajectories from all models with default values\n",
    "        if self.dics is False: self.dics = [{'model': model} for model in self.avail_models_name]\n",
    "\n",
    "                    \n",
    "        '''Managing folders of the datasets'''  \n",
    "        self.save = save\n",
    "        self.load = load\n",
    "        if self.save or self.load:                \n",
    "            if self.load:\n",
    "                self.save = False            \n",
    "            if not os.path.exists(self.path) and self.load:\n",
    "                raise FileNotFoundError('The directory from where you want to load the dataset does not exist')                \n",
    "            if not os.path.exists(self.path) and self.save:\n",
    "                os.makedirs(self.path) \n",
    "                \n",
    "                \n",
    "        '''Create trajectories'''\n",
    "        trajs, labels = self._create_trajectories()\n",
    "        \n",
    "        return trajs, labels                        "
   ]
  },
  {
   "cell_type": "code",
   "execution_count": null,
   "id": "00f03d12-7d53-4318-9a2c-1bfea92066c5",
   "metadata": {},
   "outputs": [],
   "source": [
    "show_doc(datasets_phenom().create_dataset)"
   ]
  },
  {
   "cell_type": "markdown",
   "id": "abdc431f-9768-4275-a17d-7798634b9506",
   "metadata": {},
   "source": [
    "In the example below we create two dictionaries and generate a dataset with it. See the corresponding tutorial for more details."
   ]
  },
  {
   "cell_type": "code",
   "execution_count": 9,
   "id": "0b818ebe-a5f2-429c-943a-bb49626e077b",
   "metadata": {},
   "outputs": [],
   "source": [
    "from andi_datasets.datasets_phenom import datasets_phenom\n",
    "from andi_datasets.utils_trajectories import plot_trajs"
   ]
  },
  {
   "cell_type": "code",
   "execution_count": 11,
   "id": "fe3c0b17-5615-45a9-9871-f470ea1e54c5",
   "metadata": {},
   "outputs": [
    {
     "data": {
      "image/png": "[encoded data removed]",
      "text/plain": [
       "<Figure size 864x648 with 9 Axes>"
      ]
     },
     "metadata": {
      "needs_background": "light"
     },
     "output_type": "display_data"
    }
   ],
   "source": [
    "L = 50\n",
    "dict_model3 = {'model': 'dimerization', \n",
    "               'L': L,\n",
    "               'Pu': 0.1, 'Pb': 1}\n",
    "dict_model5 = {'model': 'confinement',\n",
    "               'L': L, \n",
    "               'trans': 0.2}\n",
    "\n",
    "dict_all = [dict_model3, dict_model5]\n",
    "\n",
    "trajs, labels = datasets_phenom().create_dataset(N_model = 10, # number of trajectories per model\n",
    "                                                 T = 200,\n",
    "                                                 dics = dict_all\n",
    "                                                )\n",
    "plot_trajs(trajs, L , 10, \n",
    "           num_to_plot = 3,\n",
    "           labels = labels,\n",
    "           plot_labels = True\n",
    "          )"
   ]
  },
  {
   "cell_type": "markdown",
   "id": "7662e5de",
   "metadata": {},
   "source": [
    "# Creating, saving and loading trajectories\n",
    "These auxiliary functions used in `create_trajectories` that allow for manipulate trajectories in various forms."
   ]
  },
  {
   "cell_type": "code",
   "execution_count": null,
   "id": "95578b25",
   "metadata": {},
   "outputs": [],
   "source": [
    "#| export\n",
    "#| hide\n",
    "class datasets_phenom(datasets_phenom):   \n",
    "    \n",
    "    def _create_trajectories(self):\n",
    "        ''' Given a list of dictionaries, generates trajectories of the demanded properties.\n",
    "        First checks in the .csv of each demanded model if a dataset of similar properties\n",
    "        exists. If it does, it loads it from the corresponding file.\n",
    "       \n",
    "        Outputs\n",
    "        -------\n",
    "            :data_t (array): array containing the generated trajectories\n",
    "            :data_l (array): array containing the corresponding labels.\n",
    "        '''\n",
    "\n",
    "        for dic in self.dics:\n",
    "            \n",
    "            dataset_idx, df = self._inspect_dic(dic)\n",
    "            \n",
    "            # If the dataset does not yet exists\n",
    "            if dataset_idx is False:\n",
    "                # Retrieve name and function of diffusion model\n",
    "                model_f = self.avail_models_func[self.avail_models_name.index(dic['model'])]\n",
    "                # Create dictionary with only arguments\n",
    "                dic_args = dict(dic); dic_args.pop('model')\n",
    "                \n",
    "                trajs, labels = model_f(**dic_args)\n",
    "                \n",
    "                # Save the trajectories if asked\n",
    "                if self.save:\n",
    "                    self._save_trajectories(trajs = trajs,\n",
    "                                            labels = labels,\n",
    "                                            dic = dic, \n",
    "                                            df = df,\n",
    "                                            dataset_idx = dataset_idx,\n",
    "                                            path = self.path)                    \n",
    "            else:\n",
    "                trajs, labels = self._load_trajectories(model_name = dic['model'],\n",
    "                                                        dataset_idx = dataset_idx,\n",
    "                                                        path = self.path)\n",
    "                \n",
    "            # Stack dataset\n",
    "            try:\n",
    "                data_t = np.hstack((data_t, trajs))                    \n",
    "                data_l = np.hstack((data_l, labels))\n",
    "            except:\n",
    "                data_t = trajs\n",
    "                data_l = labels\n",
    "                    \n",
    "        return data_t, data_l  \n",
    "    \n",
    "    def _save_trajectories(self, trajs, labels, dic, df, dataset_idx, path):\n",
    "        ''' Given a set of trajectories and labels, saves two things:\n",
    "        \n",
    "                - In the .csv corresponding to the demanded model, all the input parameters \n",
    "                of the generated dataset.\n",
    "                - In a .npy file, the trajectories and labels generated.\n",
    "        '''\n",
    "        \n",
    "        file_name = path+dic['model']+'_'+str(df.shape[0])+'.npy'\n",
    "        \n",
    "        # Save information in CSV handler\n",
    "        df = df.append(dic, ignore_index = True)\n",
    "        df.to_csv(path+dic['model']+'.csv')\n",
    "        \n",
    "        # Save trajectories and labels\n",
    "        data = np.dstack((trajs, labels))\n",
    "        np.save(file_name, data)\n",
    "        \n",
    "    def _load_trajectories(self, model_name, dataset_idx, path):\n",
    "        ''' Given the path for a dataset, loads the trajectories and labels'''\n",
    "        \n",
    "        file_name = path+model_name+'_'+str(dataset_idx)+'.npy'\n",
    "        data = np.load(file_name)\n",
    "        return data[:, :, :2], data[:, :  , 2:]\n",
    "    "
   ]
  },
  {
   "cell_type": "code",
   "execution_count": null,
   "id": "bf96427e-b313-406b-9428-c90dcac0f150",
   "metadata": {},
   "outputs": [],
   "source": [
    "show_doc(datasets_phenom._create_trajectories)"
   ]
  },
  {
   "cell_type": "code",
   "execution_count": null,
   "id": "fff6b1d7-25bc-4e75-883d-2f2503998ab3",
   "metadata": {},
   "outputs": [],
   "source": [
    "show_doc(datasets_phenom._save_trajectories)"
   ]
  },
  {
   "cell_type": "code",
   "execution_count": null,
   "id": "fde601ae-ee0b-4a52-88a9-9ba73892ce80",
   "metadata": {},
   "outputs": [],
   "source": [
    "show_doc(datasets_phenom._load_trajectories)"
   ]
  },
  {
   "cell_type": "markdown",
   "id": "4433ac6d",
   "metadata": {},
   "source": [
    "# Managing parameters and dictionaries"
   ]
  },
  {
   "cell_type": "markdown",
   "id": "d5bab423-7924-4883-9d08-761de7d2a618",
   "metadata": {},
   "source": [
    "#| hide\n",
    "# `_inspect_dic`\n",
    "Given a dictionary, this function checks that it fulfils the constraints of the program and checks the validity of the save/load actions."
   ]
  },
  {
   "cell_type": "code",
   "execution_count": null,
   "id": "c7bc810e",
   "metadata": {},
   "outputs": [],
   "source": [
    "#| export\n",
    "#| hide\n",
    "class datasets_phenom(datasets_phenom):   \n",
    "\n",
    "    def _inspect_dic(self, dic):\n",
    "        '''Checks the information of the input dictionaries, complete missing information\n",
    "        with default values and then decides about loading/saving depending on parameters.\n",
    "        '''        \n",
    "            \n",
    "        # Add time and number of trajectories information\n",
    "        if self.N_model is not None:\n",
    "            dic['N'] = self.N_model\n",
    "        if self.T is not None:\n",
    "            dic['T'] = self.T\n",
    "\n",
    "        # Check if CSV with information of dataset exists. If not, create it\n",
    "        model_m = dic['model']\n",
    "        model_f = self.avail_models_func[self.avail_models_name.index(model_m)]    \n",
    "        # Check arguments and defaults from model's function            \n",
    "        args = inspect.getfullargspec(model_f).args[1:]\n",
    "        defaults = inspect.getfullargspec(model_f).defaults\n",
    "        try:\n",
    "            df = pd.read_csv(self.path+model_m+'.csv', index_col=0)\n",
    "        except:                \n",
    "            # convert to dataframe and add model\n",
    "            df = pd.DataFrame(columns = args+['model'])                \n",
    "\n",
    "        # Assign missing keys in dic with default values\n",
    "        for arg, default in zip(args, defaults):\n",
    "            if arg not in dic.keys():\n",
    "                dic[arg] = default\n",
    "\n",
    "        # Check if updated keys of dic equal keys of csv.\n",
    "        if set(list(df.keys())) != set(list(dic.keys())):\n",
    "            raise ValueError('Input model dictionary does not match models properties')\n",
    "\n",
    "        # Check if the dataset already exists:\n",
    "        df_conditions = df.copy()\n",
    "        df_conditions = df_conditions.where(pd.notnull(df_conditions), None) # Need in case of empty elements because deafults are None\n",
    "        for key in dic:\n",
    "            # We need to transform it to str to do a fair comparison between matrices (e.g. transition matrix, Ds, alphas,...)\n",
    "            df_conditions = df_conditions.loc[(df_conditions[key].astype(str) == str(dic[key]))]\n",
    "            if len(df_conditions.index) == 0:\n",
    "                break\n",
    "\n",
    "        # If dataset exists\n",
    "        if len(df_conditions.index) > 0:\n",
    "            # if the dataset exists and save was True, do not save but load\n",
    "            if self.save:\n",
    "                wrn_str = f'The dataset you want to save already exists (file: {model_m}_{df_conditions.index[0]}.npy). Switching to Load mode.'\n",
    "                warnings.warn(wrn_str)\n",
    "                dataset_idx = df_conditions.index[0] \n",
    "            elif self.load:\n",
    "                dataset_idx = df_conditions.index[0]\n",
    "            else:\n",
    "                dataset_idx = False                 \n",
    "\n",
    "        # If dataset does no exists\n",
    "        else:         \n",
    "            if self.load:\n",
    "                raise ValueError('The dataset you want to load does not exist.')\n",
    "            else: # If the dataset does not exist, append empty string.\n",
    "                # This allows to mix saving and loading\n",
    "                dataset_idx = False\n",
    "                \n",
    "        return dataset_idx, df"
   ]
  },
  {
   "cell_type": "code",
   "execution_count": null,
   "id": "4a8aa31f-c995-454b-9969-2d94ff810648",
   "metadata": {},
   "outputs": [],
   "source": [
    "show_doc(datasets_phenom._inspect_dic)"
   ]
  },
  {
   "cell_type": "markdown",
   "id": "af48e4ce-68d8-44e6-8af9-7f2ab03b5bd0",
   "metadata": {},
   "source": [
    "#| hide\n",
    "# `_get_args`\n",
    "Given the name of a model, returns its input parameters"
   ]
  },
  {
   "cell_type": "code",
   "execution_count": null,
   "id": "f1c94758-6ee6-4c5c-bd90-a0213363ec31",
   "metadata": {},
   "outputs": [],
   "source": [
    "#| export\n",
    "#| hide\n",
    "class datasets_phenom(datasets_phenom):  \n",
    "    def _get_args(self, model, return_defaults = False):\n",
    "        ''' Given the name of a diffusion model, return its inputs arguments.\n",
    "        \n",
    "        Inputs\n",
    "        ------\n",
    "            :model (str): name of the diffusion model (see self.available_models_name)\n",
    "            :return_defaults (optional, bool): if True, the function will also return\n",
    "            the default values of each input argument.\n",
    "        Outputs\n",
    "        -------\n",
    "            :args (list): list of input arguments\n",
    "            :defaults (optional, list): list of default value for the input arguments.\n",
    "        '''\n",
    "        model_f = self.avail_models_func[self.avail_models_name.index(model)]    \n",
    "        # Check arguments and defaults from model's function            \n",
    "        args = inspect.getfullargspec(model_f).args[1:]\n",
    "        defaults = inspect.getfullargspec(model_f).defaults\n",
    "        if return_defaults:\n",
    "            return args, defaults\n",
    "        else:\n",
    "            return args"
   ]
  },
  {
   "cell_type": "code",
   "execution_count": null,
   "id": "44d0c4bc-14af-46df-ad76-e8d575a7a88b",
   "metadata": {},
   "outputs": [],
   "source": [
    "show_doc(datasets_phenom._get_args)"
   ]
  },
  {
   "cell_type": "markdown",
   "id": "f1969e0e",
   "metadata": {},
   "source": [
    "#| hide\n",
    "# NBDEV Export"
   ]
  },
  {
   "cell_type": "code",
   "execution_count": null,
   "id": "9c4eb709-6e09-409a-a2f8-6546bdfd8b95",
   "metadata": {},
   "outputs": [],
   "source": [
    "#| hide\n",
    "import nbdev; nbdev.nbdev_export()"
   ]
  },
  {
   "cell_type": "code",
   "execution_count": null,
   "id": "fcc036d0",
   "metadata": {},
   "outputs": [],
   "source": []
  }
 ],
 "metadata": {
  "kernelspec": {
   "display_name": "Python 3 (ipykernel)",
   "language": "python",
   "name": "python3"
  },
  "language_info": {
   "codemirror_mode": {
    "name": "ipython",
    "version": 3
   },
   "file_extension": ".py",
   "mimetype": "text/x-python",
   "name": "python",
   "nbconvert_exporter": "python",
   "pygments_lexer": "ipython3",
   "version": "3.9.12"
  }
 },
 "nbformat": 4,
 "nbformat_minor": 5
}
