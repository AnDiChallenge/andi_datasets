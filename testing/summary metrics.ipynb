{
 "cells": [
  {
   "cell_type": "code",
   "execution_count": 1,
   "id": "5b8a8aed-9660-4acc-8795-549dc8adadc8",
   "metadata": {},
   "outputs": [],
   "source": [
    "import numpy as np\n",
    "from matplotlib import pyplot as plt"
   ]
  },
  {
   "cell_type": "code",
   "execution_count": 2,
   "id": "e9b46c66-e4cd-4bc4-b458-6814bbec9f53",
   "metadata": {
    "tags": []
   },
   "outputs": [],
   "source": [
    "%load_ext autoreload\n",
    "%autoreload 2"
   ]
  },
  {
   "cell_type": "markdown",
   "id": "d059eec4-a06b-4dff-9dcc-579a6995cb92",
   "metadata": {},
   "source": [
    "# Track 2 (trajectories) "
   ]
  },
  {
   "cell_type": "markdown",
   "id": "2d207b88-bbfb-4de6-a8c1-ae1e958d344d",
   "metadata": {
    "tags": []
   },
   "source": [
    "## Ensemble metrics\n",
    "File format: txt file with first with format:\n",
    "\n",
    "model: name_model \\\n",
    "$\\mu_\\alpha^1$;   $\\mu_\\alpha^2$ ;     ... \\\n",
    "$\\sigma_\\alpha^1$;  $\\sigma_\\alpha^2$ ; ...  \\\n",
    "$\\mu_D^1$ ;        $\\mu_D^2$ ;         ...  \\\n",
    "$\\sigma_D^1$ ;      $\\sigma_D^2$ ;     ... \\\n",
    "$N_1$, $N_2$, ... \n",
    "\n",
    "where $\\mu_i$ is the mean and $\\sigma_i$ the variance of the distribution of state $i$ and $N_i$ the number of counts of that state. The name of the model has to be chosen between :\n",
    "\n",
    "['single_state',  'multi_state', 'immobile_traps', 'dimerization', 'confinement']"
   ]
  },
  {
   "cell_type": "markdown",
   "id": "3af3d2f3-8e46-4e41-b20c-b57d8acc390b",
   "metadata": {},
   "source": [
    "### Read data distribution data"
   ]
  },
  {
   "cell_type": "code",
   "execution_count": 5,
   "id": "b5c8d6a2-84ba-492c-8bb6-fa11048f9245",
   "metadata": {},
   "outputs": [],
   "source": [
    "# skip row one, which has the name_model\n",
    "true = np.loadtxt('data/ens_labs_exp_3_fov_0.txt', skiprows=1, delimiter = ';')\n",
    "pred = np.loadtxt('data/ens_labs_exp_0_fov_0.txt', skiprows=1, delimiter = ';')"
   ]
  },
  {
   "cell_type": "markdown",
   "id": "2f9f8996-878c-4092-bcf8-3d04cec7af22",
   "metadata": {},
   "source": [
    "### Implement distribution metrics"
   ]
  },
  {
   "cell_type": "code",
   "execution_count": 7,
   "id": "cbf76868-5d75-4598-bab4-65d2f17236a9",
   "metadata": {},
   "outputs": [],
   "source": [
    "from andi_datasets.utils_challenge import error_Ensemble_dataset"
   ]
  },
  {
   "cell_type": "code",
   "execution_count": 8,
   "id": "890a81ee-1be2-4528-b93e-0751fcbbd16b",
   "metadata": {},
   "outputs": [],
   "source": [
    "mae_alpha, mae_D, dist = error_Ensemble_dataset(pred, true, return_distributions=True)"
   ]
  },
  {
   "cell_type": "code",
   "execution_count": 10,
   "id": "d1cc65b8-acbe-4fc7-9a85-7201d1f5b273",
   "metadata": {},
   "outputs": [
    {
     "data": {
      "text/plain": [
       "[<matplotlib.lines.Line2D at 0x29525fd9fd0>]"
      ]
     },
     "execution_count": 10,
     "metadata": {},
     "output_type": "execute_result"
    },
    {
     "data": {
      "image/png": "[encoded data removed]",
      "text/plain": [
       "<Figure size 432x288 with 1 Axes>"
      ]
     },
     "metadata": {
      "needs_background": "light"
     },
     "output_type": "display_data"
    }
   ],
   "source": [
    "alpha = np.linspace(0, 2, 1000)\n",
    "plt.plot(alpha, dist[0], label = 'True')\n",
    "plt.plot(alpha, dist[2], label = 'Label')"
   ]
  },
  {
   "cell_type": "markdown",
   "id": "8ccd964f-6460-42a5-9a70-b6520998119f",
   "metadata": {},
   "source": [
    "# Single trajectory metric"
   ]
  },
  {
   "cell_type": "code",
   "execution_count": 9,
   "id": "c918eff1-f9b2-4753-b083-3eac3d255dc3",
   "metadata": {},
   "outputs": [],
   "source": [
    "from andi_datasets.utils_challenge import load_file_to_df\n",
    "\n",
    "pred_path = 'data/traj_labs_exp_0_fov_0.txt'\n",
    "true_path = 'data/traj_labs_exp_1_fov_0.txt'\n",
    "\n",
    "df_pred = load_file_to_df(pred_path)\n",
    "df_true = load_file_to_df(true_path)"
   ]
  },
  {
   "cell_type": "code",
   "execution_count": 40,
   "id": "7fbc7244-1167-490f-832a-5428de6f998c",
   "metadata": {},
   "outputs": [
    {
     "data": {
      "text/html": [
       "<div>\n",
       "<style scoped>\n",
       "    .dataframe tbody tr th:only-of-type {\n",
       "        vertical-align: middle;\n",
       "    }\n",
       "\n",
       "    .dataframe tbody tr th {\n",
       "        vertical-align: top;\n",
       "    }\n",
       "\n",
       "    .dataframe thead th {\n",
       "        text-align: right;\n",
       "    }\n",
       "</style>\n",
       "<table border=\"1\" class=\"dataframe\">\n",
       "  <thead>\n",
       "    <tr style=\"text-align: right;\">\n",
       "      <th></th>\n",
       "      <th>traj_idx</th>\n",
       "      <th>Ds</th>\n",
       "      <th>alphas</th>\n",
       "      <th>states</th>\n",
       "      <th>changepoints</th>\n",
       "    </tr>\n",
       "  </thead>\n",
       "  <tbody>\n",
       "    <tr>\n",
       "      <th>0</th>\n",
       "      <td>0.0</td>\n",
       "      <td>[0.7950740993404785]</td>\n",
       "      <td>[0.912948843416798]</td>\n",
       "      <td>[2.0]</td>\n",
       "      <td>[94.0]</td>\n",
       "    </tr>\n",
       "    <tr>\n",
       "      <th>1</th>\n",
       "      <td>1.0</td>\n",
       "      <td>[0.7950740993404785]</td>\n",
       "      <td>[0.912948843416798]</td>\n",
       "      <td>[2.0]</td>\n",
       "      <td>[170.0]</td>\n",
       "    </tr>\n",
       "    <tr>\n",
       "      <th>2</th>\n",
       "      <td>2.0</td>\n",
       "      <td>[0.7950740993404785]</td>\n",
       "      <td>[0.912948843416798]</td>\n",
       "      <td>[2.0]</td>\n",
       "      <td>[56.0]</td>\n",
       "    </tr>\n",
       "    <tr>\n",
       "      <th>3</th>\n",
       "      <td>3.0</td>\n",
       "      <td>[0.7950740993404785]</td>\n",
       "      <td>[0.912948843416798]</td>\n",
       "      <td>[2.0]</td>\n",
       "      <td>[56.0]</td>\n",
       "    </tr>\n",
       "    <tr>\n",
       "      <th>4</th>\n",
       "      <td>4.0</td>\n",
       "      <td>[1.2026014336378474]</td>\n",
       "      <td>[1.1614583596440688]</td>\n",
       "      <td>[2.0]</td>\n",
       "      <td>[500.0]</td>\n",
       "    </tr>\n",
       "  </tbody>\n",
       "</table>\n",
       "</div>"
      ],
      "text/plain": [
       "  traj_idx                    Ds                alphas states changepoints\n",
       "0      0.0  [0.7950740993404785]   [0.912948843416798]  [2.0]       [94.0]\n",
       "1      1.0  [0.7950740993404785]   [0.912948843416798]  [2.0]      [170.0]\n",
       "2      2.0  [0.7950740993404785]   [0.912948843416798]  [2.0]       [56.0]\n",
       "3      3.0  [0.7950740993404785]   [0.912948843416798]  [2.0]       [56.0]\n",
       "4      4.0  [1.2026014336378474]  [1.1614583596440688]  [2.0]      [500.0]"
      ]
     },
     "execution_count": 40,
     "metadata": {},
     "output_type": "execute_result"
    }
   ],
   "source": [
    "df_pred.head()"
   ]
  },
  {
   "cell_type": "code",
   "execution_count": 12,
   "id": "e59ce904-6e7a-4a54-8593-999cea729092",
   "metadata": {},
   "outputs": [
    {
     "data": {
      "text/html": [
       "<div>\n",
       "<style scoped>\n",
       "    .dataframe tbody tr th:only-of-type {\n",
       "        vertical-align: middle;\n",
       "    }\n",
       "\n",
       "    .dataframe tbody tr th {\n",
       "        vertical-align: top;\n",
       "    }\n",
       "\n",
       "    .dataframe thead th {\n",
       "        text-align: right;\n",
       "    }\n",
       "</style>\n",
       "<table border=\"1\" class=\"dataframe\">\n",
       "  <thead>\n",
       "    <tr style=\"text-align: right;\">\n",
       "      <th></th>\n",
       "      <th>traj_idx</th>\n",
       "      <th>Ds</th>\n",
       "      <th>alphas</th>\n",
       "      <th>states</th>\n",
       "      <th>changepoints</th>\n",
       "    </tr>\n",
       "  </thead>\n",
       "  <tbody>\n",
       "    <tr>\n",
       "      <th>0</th>\n",
       "      <td>0.0</td>\n",
       "      <td>[0.21464314015344688, 1.1286836478394626]</td>\n",
       "      <td>[0.4716396783636228, 0.8710651587536685]</td>\n",
       "      <td>[2.0, 2.0]</td>\n",
       "      <td>[77.0, 111.0]</td>\n",
       "    </tr>\n",
       "    <tr>\n",
       "      <th>1</th>\n",
       "      <td>1.0</td>\n",
       "      <td>[0.0069271977428376555, 0.9882246436309391, 0....</td>\n",
       "      <td>[0.4613206792192617, 1.0371770903232511, 0.461...</td>\n",
       "      <td>[2.0, 2.0, 2.0, 2.0, 2.0]</td>\n",
       "      <td>[180.0, 345.0, 423.0, 474.0, 500.0]</td>\n",
       "    </tr>\n",
       "    <tr>\n",
       "      <th>2</th>\n",
       "      <td>2.0</td>\n",
       "      <td>[1.008128547168054, 0.040802363494562455, 1.00...</td>\n",
       "      <td>[0.840426898360738, 0.367609202369319, 0.84042...</td>\n",
       "      <td>[2.0, 2.0, 2.0]</td>\n",
       "      <td>[159.0, 396.0, 500.0]</td>\n",
       "    </tr>\n",
       "    <tr>\n",
       "      <th>3</th>\n",
       "      <td>3.0</td>\n",
       "      <td>[0.0697340173088659]</td>\n",
       "      <td>[0.49832556036814646]</td>\n",
       "      <td>[2.0]</td>\n",
       "      <td>[76.0]</td>\n",
       "    </tr>\n",
       "    <tr>\n",
       "      <th>4</th>\n",
       "      <td>4.0</td>\n",
       "      <td>[1.014620114003425, 0.0697340173088659, 1.0146...</td>\n",
       "      <td>[0.8867132931680539, 0.49832556036814646, 0.88...</td>\n",
       "      <td>[2.0, 2.0, 2.0]</td>\n",
       "      <td>[28.0, 69.0, 79.0]</td>\n",
       "    </tr>\n",
       "  </tbody>\n",
       "</table>\n",
       "</div>"
      ],
      "text/plain": [
       "  traj_idx                                                 Ds  \\\n",
       "0      0.0          [0.21464314015344688, 1.1286836478394626]   \n",
       "1      1.0  [0.0069271977428376555, 0.9882246436309391, 0....   \n",
       "2      2.0  [1.008128547168054, 0.040802363494562455, 1.00...   \n",
       "3      3.0                               [0.0697340173088659]   \n",
       "4      4.0  [1.014620114003425, 0.0697340173088659, 1.0146...   \n",
       "\n",
       "                                              alphas  \\\n",
       "0           [0.4716396783636228, 0.8710651587536685]   \n",
       "1  [0.4613206792192617, 1.0371770903232511, 0.461...   \n",
       "2  [0.840426898360738, 0.367609202369319, 0.84042...   \n",
       "3                              [0.49832556036814646]   \n",
       "4  [0.8867132931680539, 0.49832556036814646, 0.88...   \n",
       "\n",
       "                      states                         changepoints  \n",
       "0                 [2.0, 2.0]                        [77.0, 111.0]  \n",
       "1  [2.0, 2.0, 2.0, 2.0, 2.0]  [180.0, 345.0, 423.0, 474.0, 500.0]  \n",
       "2            [2.0, 2.0, 2.0]                [159.0, 396.0, 500.0]  \n",
       "3                      [2.0]                               [76.0]  \n",
       "4            [2.0, 2.0, 2.0]                   [28.0, 69.0, 79.0]  "
      ]
     },
     "execution_count": 12,
     "metadata": {},
     "output_type": "execute_result"
    }
   ],
   "source": [
    "df_true.head()"
   ]
  },
  {
   "cell_type": "code",
   "execution_count": 15,
   "id": "a6484ac2-0cbe-4a3d-8a54-ca3490bbc5e5",
   "metadata": {},
   "outputs": [
    {
     "data": {
      "application/vnd.jupyter.widget-view+json": {
       "model_id": "38e74d4d76d246ffabf96535bcb8d78a",
       "version_major": 2,
       "version_minor": 0
      },
      "text/plain": [
       "  0%|          | 0/65 [00:00<?, ?it/s]"
      ]
     },
     "metadata": {},
     "output_type": "display_data"
    },
    {
     "name": "stdout",
     "output_type": "stream",
     "text": [
      "Summary of metrics assesments:\n",
      "\n",
      "Changepoint Metrics \n",
      "RMSE: 4.892 \n",
      "Jaccard Index: 0.053 \n",
      "\n",
      "Diffusion property metrics \n",
      "Metric anomalous exponent: 0.29279463343586426 \n",
      "Metric diffusion coefficient: 0.1523555602731029 \n",
      "Metric diffusive state: 1.0\n"
     ]
    }
   ],
   "source": [
    "from andi_datasets.utils_challenge import error_SingleTraj_dataset\n",
    "rmse_CP, JI, error_alpha, error_D, error_s = error_SingleTraj_dataset(df_true = df_true, df_pred = df_pred, prints = True)"
   ]
  },
  {
   "cell_type": "code",
   "execution_count": null,
   "id": "4a9c6a75-133d-45e4-bc49-e253ba0a5ea7",
   "metadata": {},
   "outputs": [],
   "source": []
  }
 ],
 "metadata": {
  "kernelspec": {
   "display_name": "Python 3",
   "language": "python",
   "name": "python3"
  },
  "language_info": {
   "codemirror_mode": {
    "name": "ipython",
    "version": 3
   },
   "file_extension": ".py",
   "mimetype": "text/x-python",
   "name": "python",
   "nbconvert_exporter": "python",
   "pygments_lexer": "ipython3",
   "version": "3.8.8"
  }
 },
 "nbformat": 4,
 "nbformat_minor": 5
}
