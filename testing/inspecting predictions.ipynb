{
 "cells": [
  {
   "cell_type": "markdown",
   "id": "78867fe1-55ba-45db-9ac1-15df571c52f3",
   "metadata": {},
   "source": [
    "## Libraries"
   ]
  },
  {
   "cell_type": "code",
   "execution_count": 1,
   "id": "6601e65e-d9c2-45e2-83d7-3bc210da7e20",
   "metadata": {},
   "outputs": [],
   "source": [
    "from andi_datasets.utils_challenge import *\n",
    "from andi_datasets.utils_trajectories import TAMSD, get_D,\n",
    "from andi_datasets.analysis_methods import get_changepoints_convexhull\n",
    "import numpy as np\n",
    "import matplotlib.pyplot as plt\n",
    "import pandas as pd\n",
    "from tqdm.notebook import tqdm\n"
   ]
  },
  {
   "cell_type": "code",
   "execution_count": 19,
   "id": "ecbda345-3ae0-4244-90cf-2a63390dc450",
   "metadata": {},
   "outputs": [],
   "source": [
    "def df_to_txt(trues_raw_df, file = None):\n",
    "    trues_df = pd.DataFrame(columns = ['traj_idx', 'changepoints', 'alphas', 'Ds', 'states', 'T'])\n",
    "\n",
    "    file_gt = []\n",
    "    for idx in tqdm(trues_raw_df['idx'].unique()):\n",
    "        ds_traj = trues_raw_df.loc[trues_raw_df['idx'] == idx]['D'].values\n",
    "        alphas_traj = trues_raw_df.loc[trues_raw_df['idx'] == idx]['alpha'].values\n",
    "\n",
    "        merge = np.hstack((alphas_traj.reshape(ds_traj.shape[0], 1), ds_traj.reshape(ds_traj.shape[0], 1)))\n",
    "\n",
    "        CP, alphas, Ds = continuous_label_to_list(merge)\n",
    "        states = np.ones_like(alphas)*3\n",
    "\n",
    "        list_gt = [idx, Ds[0], alphas[0], states[0]]\n",
    "        for gtc, gta, gtd, gts in zip(CP, alphas[1:], Ds[1:], states[1:]):\n",
    "            list_gt += [gtc, gtd, gta, gts]\n",
    "\n",
    "    #     file_gt.append(list_gt)\n",
    "        if file is not None:\n",
    "            with open(file, 'a') as f:\n",
    "                writer = csv.writer(f, delimiter=',', lineterminator='\\n',)\n",
    "                writer.writerow(list_gt)\n",
    "\n",
    "        current_row = trues_df.shape[0]\n",
    "        for param, pred_param in zip(trues_df.columns, [current_row, CP, alphas, Ds, states, len(ds_traj)]):\n",
    "            trues_df.loc[current_row, param] = pred_param\n",
    "            \n",
    "    return trues_df"
   ]
  },
  {
   "cell_type": "code",
   "execution_count": 38,
   "id": "e7299508-2559-4d69-8566-a2aa51b907ae",
   "metadata": {},
   "outputs": [],
   "source": [
    "idx = 6; df_true = df_true4; df_pred = df_pred4\n",
    "\n",
    "def list_to_continuous(df_pred, df_true, idx):\n",
    "\n",
    "    t = df_true.loc[idx]['T']\n",
    "    \n",
    "    cps = df_pred.loc[idx]['changepoints']\n",
    "    cps = [0]+cps+[t]   \n",
    "    alphas = df_pred.loc[idx]['alphas']\n",
    "    Ds = df_pred.loc[idx]['Ds']\n",
    "    a = np.zeros(t); d = np.zeros(t);\n",
    "    for idx, cp in enumerate(cps[:-1]):\n",
    "        a[int(cp):int(cps[idx+1])] = alphas[idx]\n",
    "        d[int(cp):int(cps[idx+1])] = Ds[idx]\n",
    "        \n",
    "    cps_t = df_pred.loc[idx]['changepoints']\n",
    "    cps_t = [0]+cps_t+[t]   \n",
    "    alphas_t = df_true.loc[idx]['alphas']\n",
    "    Ds_t = df_true.loc[idx]['Ds']\n",
    "    a_t = np.zeros(t); d_t = np.zeros(t);\n",
    "    for idx, cp in enumerate(cps[:-1]):\n",
    "        a[int(cp):int(cps[idx+1])] = alphas[idx]\n",
    "        d[int(cp):int(cps[idx+1])] = Ds[idx]"
   ]
  },
  {
   "cell_type": "markdown",
   "id": "ee7a2148-a261-44c7-92ad-8cb49ca72c7c",
   "metadata": {
    "tags": []
   },
   "source": [
    "## Check on the segments + tmsd to see effect of alpha and D"
   ]
  },
  {
   "cell_type": "code",
   "execution_count": 35,
   "id": "591beafa-1983-41aa-9ac2-e2ad99d83d20",
   "metadata": {},
   "outputs": [
    {
     "data": {
      "application/vnd.jupyter.widget-view+json": {
       "model_id": "1ace09fcec6747f789435eddda8772e5",
       "version_major": 2,
       "version_minor": 0
      },
      "text/plain": [
       "  0%|          | 0/4562 [00:00<?, ?it/s]"
      ]
     },
     "metadata": {},
     "output_type": "display_data"
    }
   ],
   "source": [
    "trajs_cond2 = pd.read_csv('trues/condition_2.csv')\n",
    "Ds = []\n",
    "for idx in tqdm(trues_raw_df['idx'].unique()):\n",
    "    traj = trajs_cond2.loc[trajs_cond2['idx'] == idx]['x'].values\n",
    "    Ds.append(get_D(traj, [2,3,4]))\n",
    "Ds = np.array(Ds)"
   ]
  },
  {
   "cell_type": "code",
   "execution_count": 38,
   "id": "f42d1243-0dfc-45aa-b651-7d2ea45e15cd",
   "metadata": {},
   "outputs": [
    {
     "data": {
      "image/png": "[encoded data removed]",
      "text/plain": [
       "<Figure size 432x288 with 1 Axes>"
      ]
     },
     "metadata": {
      "needs_background": "light"
     },
     "output_type": "display_data"
    }
   ],
   "source": [
    "plt.hist(Ds[Ds <1], bins = 50);"
   ]
  },
  {
   "cell_type": "code",
   "execution_count": 24,
   "id": "e209bd98-0837-431f-bd71-e18bc1dbb98f",
   "metadata": {},
   "outputs": [
    {
     "data": {
      "application/vnd.jupyter.widget-view+json": {
       "model_id": "64848f4774b54aab85aacea54dc11fba",
       "version_major": 2,
       "version_minor": 0
      },
      "text/plain": [
       "  0%|          | 0/1000 [00:00<?, ?it/s]"
      ]
     },
     "metadata": {},
     "output_type": "display_data"
    },
    {
     "data": {
      "application/vnd.jupyter.widget-view+json": {
       "model_id": "89a224e15f1b46d5be4cff7419325376",
       "version_major": 2,
       "version_minor": 0
      },
      "text/plain": [
       "  0%|          | 0/1000 [00:00<?, ?it/s]"
      ]
     },
     "metadata": {},
     "output_type": "display_data"
    },
    {
     "data": {
      "application/vnd.jupyter.widget-view+json": {
       "model_id": "50c21628838e4ddc830795c0c378d330",
       "version_major": 2,
       "version_minor": 0
      },
      "text/plain": [
       "  0%|          | 0/1000 [00:00<?, ?it/s]"
      ]
     },
     "metadata": {},
     "output_type": "display_data"
    },
    {
     "data": {
      "application/vnd.jupyter.widget-view+json": {
       "model_id": "6f2495047b52483a9915d57cd6d35f6c",
       "version_major": 2,
       "version_minor": 0
      },
      "text/plain": [
       "  0%|          | 0/1000 [00:00<?, ?it/s]"
      ]
     },
     "metadata": {},
     "output_type": "display_data"
    },
    {
     "data": {
      "application/vnd.jupyter.widget-view+json": {
       "model_id": "66b8d83ee52049daa6291594f88db0dc",
       "version_major": 2,
       "version_minor": 0
      },
      "text/plain": [
       "  0%|          | 0/1000 [00:00<?, ?it/s]"
      ]
     },
     "metadata": {},
     "output_type": "display_data"
    },
    {
     "data": {
      "application/vnd.jupyter.widget-view+json": {
       "model_id": "5040ad4d49314c918a0a5b7869293139",
       "version_major": 2,
       "version_minor": 0
      },
      "text/plain": [
       "  0%|          | 0/1000 [00:00<?, ?it/s]"
      ]
     },
     "metadata": {},
     "output_type": "display_data"
    },
    {
     "data": {
      "application/vnd.jupyter.widget-view+json": {
       "model_id": "b94a6f5159b6464d8cd07ef4c4f08d9d",
       "version_major": 2,
       "version_minor": 0
      },
      "text/plain": [
       "  0%|          | 0/1000 [00:00<?, ?it/s]"
      ]
     },
     "metadata": {},
     "output_type": "display_data"
    },
    {
     "data": {
      "application/vnd.jupyter.widget-view+json": {
       "model_id": "9b9174a6349d49dbaa64a8e6294045de",
       "version_major": 2,
       "version_minor": 0
      },
      "text/plain": [
       "  0%|          | 0/1000 [00:00<?, ?it/s]"
      ]
     },
     "metadata": {},
     "output_type": "display_data"
    },
    {
     "data": {
      "image/png": "[encoded data removed]",
      "text/plain": [
       "<Figure size 432x288 with 1 Axes>"
      ]
     },
     "metadata": {
      "needs_background": "light"
     },
     "output_type": "display_data"
    }
   ],
   "source": [
    "from stochastic.processes.noise import FractionalGaussianNoise as FGN\n",
    "\n",
    "alpha = 1; T = 1000; \n",
    "for alpha in np.arange(0.2, 1.8, 0.2):\n",
    "    Ds = []\n",
    "    for _ in tqdm(range(1000)):\n",
    "        disp = FGN(hurst = alpha/2).sample(n = T)\n",
    "        Ds.append(get_D(np.cumsum(disp), [2,3,4]))\n",
    "    # disp = np.sqrt(2*D)*(disp/np.std(disp))\n",
    "    Ds = np.array(Ds)\n",
    "    plt.hist(Ds, bins = 50)\n"
   ]
  },
  {
   "cell_type": "markdown",
   "id": "93eff54f-7b59-4041-8306-a6c9cfaa0cee",
   "metadata": {
    "tags": []
   },
   "source": [
    "# Condition 1: 2-state diffusion"
   ]
  },
  {
   "cell_type": "markdown",
   "id": "8f3d7412-8145-4f6e-9e6e-2801d23563dc",
   "metadata": {},
   "source": [
    "2 state diffusion \n",
    "Three state problem with properties:\n",
    "- $\\alpha = [0.5, 1.5]$\n",
    "- $D_1 = [1, 0.1]\\cdot D$\n",
    "- $M = \\begin{pmatrix} 0.98 & 0.02 \\\\   0.02 & 0.98 \\end{pmatrix}$"
   ]
  },
  {
   "cell_type": "code",
   "execution_count": 40,
   "id": "b4874295-9b7e-4553-a08e-8bc33de53627",
   "metadata": {},
   "outputs": [
    {
     "data": {
      "application/vnd.jupyter.widget-view+json": {
       "model_id": "b8288c46942549d59ed0fe76faf42e18",
       "version_major": 2,
       "version_minor": 0
      },
      "text/plain": [
       "  0%|          | 0/4562 [00:00<?, ?it/s]"
      ]
     },
     "metadata": {},
     "output_type": "display_data"
    }
   ],
   "source": [
    "trues_raw_df = pd.read_csv('trues/labels_condition_1.csv')\n",
    "df_true_1 = df_to_txt(trues_raw_df)"
   ]
  },
  {
   "cell_type": "markdown",
   "id": "67ccc356-9359-4d29-9820-46d579f17a2d",
   "metadata": {
    "tags": []
   },
   "source": [
    "## Carlo's U-track ..."
   ]
  },
  {
   "cell_type": "code",
   "execution_count": 4,
   "id": "0f50b018-b8e5-4040-9e3f-9e51037b014a",
   "metadata": {},
   "outputs": [],
   "source": [
    "pred_path = '../testing/preds/0217_carlo_condition_1.txt'\n",
    "df_pred = load_file_to_df(pred_path)"
   ]
  },
  {
   "cell_type": "code",
   "execution_count": 5,
   "id": "9972463b-3b77-4a03-b318-c38e7ecb795e",
   "metadata": {
    "tags": []
   },
   "outputs": [
    {
     "data": {
      "application/vnd.jupyter.widget-view+json": {
       "model_id": "c1ee8f289c98419d894b7eff10e8050e",
       "version_major": 2,
       "version_minor": 0
      },
      "text/plain": [
       "  0%|          | 0/4562 [00:00<?, ?it/s]"
      ]
     },
     "metadata": {},
     "output_type": "display_data"
    },
    {
     "name": "stdout",
     "output_type": "stream",
     "text": [
      "Summary of the experiment: \n",
      "\n",
      "Number of states: 2 \n",
      "Exponents: [0.5 1.5] \n",
      "Diffusion Coeff.: [0.01 0.1 ] \n",
      "\n",
      "Changepoint Metrics \n",
      "RMSE: 4.975 \n",
      "Jaccard Index: 0.252 \n",
      "\n",
      "Diffusion property metrics \n",
      "Error anomalous exponent: 0.3717857700058506 \n",
      "Error diffusion coefficient: 0.484506207328505 \n",
      "Error diffusive state: 0.058116102190730025\n"
     ]
    }
   ],
   "source": [
    "rmse_CP, JI, error_alpha, error_D, error_s = error_ensemble_prediction(df_pred, df_true, prints = True)"
   ]
  },
  {
   "cell_type": "code",
   "execution_count": 21,
   "id": "5e29d127-5035-41cb-a303-2b0cd08bfa8c",
   "metadata": {},
   "outputs": [],
   "source": [
    "Ds = np.concatenate(df_pred['Ds'].values)\n",
    "alphas = np.concatenate(df_pred['alphas'].values)"
   ]
  },
  {
   "cell_type": "code",
   "execution_count": 28,
   "id": "86a942ed-34a6-4f20-909a-60e30dc04831",
   "metadata": {},
   "outputs": [
    {
     "data": {
      "text/plain": [
       "<matplotlib.legend.Legend at 0x28f628c4160>"
      ]
     },
     "execution_count": 28,
     "metadata": {},
     "output_type": "execute_result"
    },
    {
     "data": {
      "image/png": "[encoded data removed]",
      "text/plain": [
       "<Figure size 432x288 with 1 Axes>"
      ]
     },
     "metadata": {
      "needs_background": "light"
     },
     "output_type": "display_data"
    }
   ],
   "source": [
    "plt.hist(Ds[Ds < 0.2], bins = 30)\n",
    "plt.axvline(true_D[0], label = 'D state 1', c = 'k')\n",
    "plt.axvline(true_D[1], label = 'D state 2', c = 'r')\n",
    "plt.legend()"
   ]
  },
  {
   "cell_type": "code",
   "execution_count": 24,
   "id": "0faa75e1-6025-405d-8542-1afc3ea16022",
   "metadata": {},
   "outputs": [
    {
     "data": {
      "text/plain": [
       "<matplotlib.legend.Legend at 0x28f60e62550>"
      ]
     },
     "execution_count": 24,
     "metadata": {},
     "output_type": "execute_result"
    },
    {
     "data": {
      "image/png": "[encoded data removed]",
      "text/plain": [
       "<Figure size 432x288 with 1 Axes>"
      ]
     },
     "metadata": {
      "needs_background": "light"
     },
     "output_type": "display_data"
    }
   ],
   "source": [
    "plt.hist(alphas, bins = 30)\n",
    "plt.axvline(true_a[0], label = r'$\\alpha$ state 1', c = 'k')\n",
    "plt.axvline(true_a[1], label = r'$\\alpha$ state 2', c = 'r')\n",
    "plt.legend()"
   ]
  },
  {
   "cell_type": "markdown",
   "id": "1544ffd2-1f14-4ce1-8582-8efaeb2ec640",
   "metadata": {
    "tags": []
   },
   "source": [
    "## HMM "
   ]
  },
  {
   "cell_type": "code",
   "execution_count": 47,
   "id": "ec3bfd23-bcb1-4bc8-abcb-8d094a9bdeaa",
   "metadata": {},
   "outputs": [],
   "source": [
    "df_hmm1 = pd.read_csv('preds/condition_1_StateHMM.csv', names = ['t', 'idx', 'state'])"
   ]
  },
  {
   "cell_type": "code",
   "execution_count": 56,
   "id": "ed73e1a9-5f22-43e4-a686-4b59d15e7fb7",
   "metadata": {},
   "outputs": [
    {
     "data": {
      "application/vnd.jupyter.widget-view+json": {
       "model_id": "59eeb4b1d76345949cba47adf80d7b3f",
       "version_major": 2,
       "version_minor": 0
      },
      "text/plain": [
       "  0%|          | 0/4562 [00:00<?, ?it/s]"
      ]
     },
     "metadata": {},
     "output_type": "display_data"
    }
   ],
   "source": [
    "CPs_hmm1 = []\n",
    "for idx in tqdm(df_hmm1['idx'].unique()):\n",
    "    pred = df_hmm1.loc[df_hmm1['idx'] == idx]['state'].values\n",
    "    CP = np.argwhere(pred[1:] != pred[:-1])+1\n",
    "    CPs_hmm1.append(CP)"
   ]
  },
  {
   "cell_type": "code",
   "execution_count": 57,
   "id": "738f8ac0-9439-4057-8a72-8ac0345f52a5",
   "metadata": {},
   "outputs": [
    {
     "data": {
      "text/plain": [
       "(3.129910131769324, 0.6543643196483018)"
      ]
     },
     "execution_count": 57,
     "metadata": {},
     "output_type": "execute_result"
    }
   ],
   "source": [
    "ensemble_changepoint_error(df_true_1['changepoints'].values, CPs_hmm, threshold = 10)"
   ]
  },
  {
   "cell_type": "markdown",
   "id": "c9b52b6c-98b5-48d8-93a3-161af807c755",
   "metadata": {
    "tags": []
   },
   "source": [
    "## Convex hull"
   ]
  },
  {
   "cell_type": "code",
   "execution_count": 37,
   "id": "98cbb0b9-e8af-4814-b65d-b1a20ac78a14",
   "metadata": {
    "collapsed": true,
    "jupyter": {
     "outputs_hidden": true
    },
    "tags": []
   },
   "outputs": [
    {
     "data": {
      "application/vnd.jupyter.widget-view+json": {
       "model_id": "56bf9d21e7534de9a8c1fa279af6a1e1",
       "version_major": 2,
       "version_minor": 0
      },
      "text/plain": [
       "  0%|          | 0/4562 [00:00<?, ?it/s]"
      ]
     },
     "metadata": {},
     "output_type": "display_data"
    },
    {
     "name": "stderr",
     "output_type": "stream",
     "text": [
      "c:\\users\\gorka\\github\\andi_datasets_dev\\andi_datasets\\analysis_methods.py:20: RuntimeWarning: Mean of empty slice.\n",
      "  below_mean = Sd < Sd.mean()\n",
      "C:\\Users\\Gorka\\anaconda3\\lib\\site-packages\\numpy\\core\\_methods.py:188: RuntimeWarning: invalid value encountered in double_scalars\n",
      "  ret = ret.dtype.type(ret / rcount)\n",
      "c:\\users\\gorka\\github\\andi_datasets_dev\\andi_datasets\\analysis_methods.py:20: RuntimeWarning: Mean of empty slice.\n",
      "  below_mean = Sd < Sd.mean()\n",
      "C:\\Users\\Gorka\\anaconda3\\lib\\site-packages\\numpy\\core\\_methods.py:188: RuntimeWarning: invalid value encountered in double_scalars\n",
      "  ret = ret.dtype.type(ret / rcount)\n",
      "c:\\users\\gorka\\github\\andi_datasets_dev\\andi_datasets\\analysis_methods.py:20: RuntimeWarning: Mean of empty slice.\n",
      "  below_mean = Sd < Sd.mean()\n",
      "C:\\Users\\Gorka\\anaconda3\\lib\\site-packages\\numpy\\core\\_methods.py:188: RuntimeWarning: invalid value encountered in double_scalars\n",
      "  ret = ret.dtype.type(ret / rcount)\n",
      "c:\\users\\gorka\\github\\andi_datasets_dev\\andi_datasets\\analysis_methods.py:20: RuntimeWarning: Mean of empty slice.\n",
      "  below_mean = Sd < Sd.mean()\n",
      "C:\\Users\\Gorka\\anaconda3\\lib\\site-packages\\numpy\\core\\_methods.py:188: RuntimeWarning: invalid value encountered in double_scalars\n",
      "  ret = ret.dtype.type(ret / rcount)\n",
      "c:\\users\\gorka\\github\\andi_datasets_dev\\andi_datasets\\analysis_methods.py:20: RuntimeWarning: Mean of empty slice.\n",
      "  below_mean = Sd < Sd.mean()\n",
      "C:\\Users\\Gorka\\anaconda3\\lib\\site-packages\\numpy\\core\\_methods.py:188: RuntimeWarning: invalid value encountered in double_scalars\n",
      "  ret = ret.dtype.type(ret / rcount)\n",
      "c:\\users\\gorka\\github\\andi_datasets_dev\\andi_datasets\\analysis_methods.py:20: RuntimeWarning: Mean of empty slice.\n",
      "  below_mean = Sd < Sd.mean()\n",
      "C:\\Users\\Gorka\\anaconda3\\lib\\site-packages\\numpy\\core\\_methods.py:188: RuntimeWarning: invalid value encountered in double_scalars\n",
      "  ret = ret.dtype.type(ret / rcount)\n",
      "c:\\users\\gorka\\github\\andi_datasets_dev\\andi_datasets\\analysis_methods.py:20: RuntimeWarning: Mean of empty slice.\n",
      "  below_mean = Sd < Sd.mean()\n",
      "C:\\Users\\Gorka\\anaconda3\\lib\\site-packages\\numpy\\core\\_methods.py:188: RuntimeWarning: invalid value encountered in double_scalars\n",
      "  ret = ret.dtype.type(ret / rcount)\n",
      "c:\\users\\gorka\\github\\andi_datasets_dev\\andi_datasets\\analysis_methods.py:20: RuntimeWarning: Mean of empty slice.\n",
      "  below_mean = Sd < Sd.mean()\n",
      "C:\\Users\\Gorka\\anaconda3\\lib\\site-packages\\numpy\\core\\_methods.py:188: RuntimeWarning: invalid value encountered in double_scalars\n",
      "  ret = ret.dtype.type(ret / rcount)\n",
      "c:\\users\\gorka\\github\\andi_datasets_dev\\andi_datasets\\analysis_methods.py:20: RuntimeWarning: Mean of empty slice.\n",
      "  below_mean = Sd < Sd.mean()\n",
      "C:\\Users\\Gorka\\anaconda3\\lib\\site-packages\\numpy\\core\\_methods.py:188: RuntimeWarning: invalid value encountered in double_scalars\n",
      "  ret = ret.dtype.type(ret / rcount)\n",
      "c:\\users\\gorka\\github\\andi_datasets_dev\\andi_datasets\\analysis_methods.py:20: RuntimeWarning: Mean of empty slice.\n",
      "  below_mean = Sd < Sd.mean()\n",
      "C:\\Users\\Gorka\\anaconda3\\lib\\site-packages\\numpy\\core\\_methods.py:188: RuntimeWarning: invalid value encountered in double_scalars\n",
      "  ret = ret.dtype.type(ret / rcount)\n",
      "c:\\users\\gorka\\github\\andi_datasets_dev\\andi_datasets\\analysis_methods.py:20: RuntimeWarning: Mean of empty slice.\n",
      "  below_mean = Sd < Sd.mean()\n",
      "C:\\Users\\Gorka\\anaconda3\\lib\\site-packages\\numpy\\core\\_methods.py:188: RuntimeWarning: invalid value encountered in double_scalars\n",
      "  ret = ret.dtype.type(ret / rcount)\n",
      "c:\\users\\gorka\\github\\andi_datasets_dev\\andi_datasets\\analysis_methods.py:20: RuntimeWarning: Mean of empty slice.\n",
      "  below_mean = Sd < Sd.mean()\n",
      "C:\\Users\\Gorka\\anaconda3\\lib\\site-packages\\numpy\\core\\_methods.py:188: RuntimeWarning: invalid value encountered in double_scalars\n",
      "  ret = ret.dtype.type(ret / rcount)\n",
      "c:\\users\\gorka\\github\\andi_datasets_dev\\andi_datasets\\analysis_methods.py:20: RuntimeWarning: Mean of empty slice.\n",
      "  below_mean = Sd < Sd.mean()\n",
      "C:\\Users\\Gorka\\anaconda3\\lib\\site-packages\\numpy\\core\\_methods.py:188: RuntimeWarning: invalid value encountered in double_scalars\n",
      "  ret = ret.dtype.type(ret / rcount)\n",
      "c:\\users\\gorka\\github\\andi_datasets_dev\\andi_datasets\\analysis_methods.py:20: RuntimeWarning: Mean of empty slice.\n",
      "  below_mean = Sd < Sd.mean()\n",
      "C:\\Users\\Gorka\\anaconda3\\lib\\site-packages\\numpy\\core\\_methods.py:188: RuntimeWarning: invalid value encountered in double_scalars\n",
      "  ret = ret.dtype.type(ret / rcount)\n",
      "c:\\users\\gorka\\github\\andi_datasets_dev\\andi_datasets\\analysis_methods.py:20: RuntimeWarning: Mean of empty slice.\n",
      "  below_mean = Sd < Sd.mean()\n",
      "C:\\Users\\Gorka\\anaconda3\\lib\\site-packages\\numpy\\core\\_methods.py:188: RuntimeWarning: invalid value encountered in double_scalars\n",
      "  ret = ret.dtype.type(ret / rcount)\n",
      "c:\\users\\gorka\\github\\andi_datasets_dev\\andi_datasets\\analysis_methods.py:20: RuntimeWarning: Mean of empty slice.\n",
      "  below_mean = Sd < Sd.mean()\n",
      "C:\\Users\\Gorka\\anaconda3\\lib\\site-packages\\numpy\\core\\_methods.py:188: RuntimeWarning: invalid value encountered in double_scalars\n",
      "  ret = ret.dtype.type(ret / rcount)\n",
      "c:\\users\\gorka\\github\\andi_datasets_dev\\andi_datasets\\analysis_methods.py:20: RuntimeWarning: Mean of empty slice.\n",
      "  below_mean = Sd < Sd.mean()\n",
      "C:\\Users\\Gorka\\anaconda3\\lib\\site-packages\\numpy\\core\\_methods.py:188: RuntimeWarning: invalid value encountered in double_scalars\n",
      "  ret = ret.dtype.type(ret / rcount)\n",
      "c:\\users\\gorka\\github\\andi_datasets_dev\\andi_datasets\\analysis_methods.py:20: RuntimeWarning: Mean of empty slice.\n",
      "  below_mean = Sd < Sd.mean()\n",
      "C:\\Users\\Gorka\\anaconda3\\lib\\site-packages\\numpy\\core\\_methods.py:188: RuntimeWarning: invalid value encountered in double_scalars\n",
      "  ret = ret.dtype.type(ret / rcount)\n",
      "c:\\users\\gorka\\github\\andi_datasets_dev\\andi_datasets\\analysis_methods.py:20: RuntimeWarning: Mean of empty slice.\n",
      "  below_mean = Sd < Sd.mean()\n",
      "C:\\Users\\Gorka\\anaconda3\\lib\\site-packages\\numpy\\core\\_methods.py:188: RuntimeWarning: invalid value encountered in double_scalars\n",
      "  ret = ret.dtype.type(ret / rcount)\n",
      "c:\\users\\gorka\\github\\andi_datasets_dev\\andi_datasets\\analysis_methods.py:20: RuntimeWarning: Mean of empty slice.\n",
      "  below_mean = Sd < Sd.mean()\n",
      "C:\\Users\\Gorka\\anaconda3\\lib\\site-packages\\numpy\\core\\_methods.py:188: RuntimeWarning: invalid value encountered in double_scalars\n",
      "  ret = ret.dtype.type(ret / rcount)\n",
      "c:\\users\\gorka\\github\\andi_datasets_dev\\andi_datasets\\analysis_methods.py:20: RuntimeWarning: Mean of empty slice.\n",
      "  below_mean = Sd < Sd.mean()\n",
      "C:\\Users\\Gorka\\anaconda3\\lib\\site-packages\\numpy\\core\\_methods.py:188: RuntimeWarning: invalid value encountered in double_scalars\n",
      "  ret = ret.dtype.type(ret / rcount)\n",
      "c:\\users\\gorka\\github\\andi_datasets_dev\\andi_datasets\\analysis_methods.py:20: RuntimeWarning: Mean of empty slice.\n",
      "  below_mean = Sd < Sd.mean()\n",
      "C:\\Users\\Gorka\\anaconda3\\lib\\site-packages\\numpy\\core\\_methods.py:188: RuntimeWarning: invalid value encountered in double_scalars\n",
      "  ret = ret.dtype.type(ret / rcount)\n",
      "c:\\users\\gorka\\github\\andi_datasets_dev\\andi_datasets\\analysis_methods.py:20: RuntimeWarning: Mean of empty slice.\n",
      "  below_mean = Sd < Sd.mean()\n",
      "C:\\Users\\Gorka\\anaconda3\\lib\\site-packages\\numpy\\core\\_methods.py:188: RuntimeWarning: invalid value encountered in double_scalars\n",
      "  ret = ret.dtype.type(ret / rcount)\n",
      "c:\\users\\gorka\\github\\andi_datasets_dev\\andi_datasets\\analysis_methods.py:20: RuntimeWarning: Mean of empty slice.\n",
      "  below_mean = Sd < Sd.mean()\n",
      "C:\\Users\\Gorka\\anaconda3\\lib\\site-packages\\numpy\\core\\_methods.py:188: RuntimeWarning: invalid value encountered in double_scalars\n",
      "  ret = ret.dtype.type(ret / rcount)\n",
      "c:\\users\\gorka\\github\\andi_datasets_dev\\andi_datasets\\analysis_methods.py:20: RuntimeWarning: Mean of empty slice.\n",
      "  below_mean = Sd < Sd.mean()\n",
      "C:\\Users\\Gorka\\anaconda3\\lib\\site-packages\\numpy\\core\\_methods.py:188: RuntimeWarning: invalid value encountered in double_scalars\n",
      "  ret = ret.dtype.type(ret / rcount)\n",
      "c:\\users\\gorka\\github\\andi_datasets_dev\\andi_datasets\\analysis_methods.py:20: RuntimeWarning: Mean of empty slice.\n",
      "  below_mean = Sd < Sd.mean()\n",
      "C:\\Users\\Gorka\\anaconda3\\lib\\site-packages\\numpy\\core\\_methods.py:188: RuntimeWarning: invalid value encountered in double_scalars\n",
      "  ret = ret.dtype.type(ret / rcount)\n",
      "c:\\users\\gorka\\github\\andi_datasets_dev\\andi_datasets\\analysis_methods.py:20: RuntimeWarning: Mean of empty slice.\n",
      "  below_mean = Sd < Sd.mean()\n",
      "C:\\Users\\Gorka\\anaconda3\\lib\\site-packages\\numpy\\core\\_methods.py:188: RuntimeWarning: invalid value encountered in double_scalars\n",
      "  ret = ret.dtype.type(ret / rcount)\n",
      "c:\\users\\gorka\\github\\andi_datasets_dev\\andi_datasets\\analysis_methods.py:20: RuntimeWarning: Mean of empty slice.\n",
      "  below_mean = Sd < Sd.mean()\n",
      "C:\\Users\\Gorka\\anaconda3\\lib\\site-packages\\numpy\\core\\_methods.py:188: RuntimeWarning: invalid value encountered in double_scalars\n",
      "  ret = ret.dtype.type(ret / rcount)\n"
     ]
    }
   ],
   "source": [
    "df = pd.read_csv('trues/condition_1.csv')\n",
    "indices = df['idx'].unique()\n",
    "trajs = []\n",
    "CPs_CH = []\n",
    "for idx in tqdm(indices):\n",
    "    traj = np.vstack((df.loc[df['idx'] == idx]['x'].values,\n",
    "                      df.loc[df['idx'] == idx]['y'].values)).transpose()\n",
    "    \n",
    "    CPs_CH.append(get_changepoints_convexhull([traj])[0].flatten())\n",
    "    "
   ]
  },
  {
   "cell_type": "code",
   "execution_count": 38,
   "id": "3822a610-3566-4924-9640-a69bfa8eec76",
   "metadata": {},
   "outputs": [
    {
     "data": {
      "text/plain": [
       "(4.6320383499989, 0.5551452364429463)"
      ]
     },
     "execution_count": 38,
     "metadata": {},
     "output_type": "execute_result"
    }
   ],
   "source": [
    "ensemble_changepoint_error(df_true_1['changepoints'], CPs_CH, threshold = 10)"
   ]
  },
  {
   "cell_type": "markdown",
   "id": "8862fae3-3150-467b-8adf-527eca7866c4",
   "metadata": {
    "tags": []
   },
   "source": [
    "# Condition 2: single state"
   ]
  },
  {
   "cell_type": "markdown",
   "id": "324a1b02-279a-49bc-a9d0-1c2eafc5cb8f",
   "metadata": {},
   "source": [
    "Three populations, with same $D$ and three $\\alpha = [0.5, 1, 1.5]$"
   ]
  },
  {
   "cell_type": "code",
   "execution_count": 58,
   "id": "f8d05288-9bc1-47f0-97ff-79892446d6b1",
   "metadata": {},
   "outputs": [
    {
     "data": {
      "application/vnd.jupyter.widget-view+json": {
       "model_id": "e76fca433fd34b059a20f823bc12c9e5",
       "version_major": 2,
       "version_minor": 0
      },
      "text/plain": [
       "  0%|          | 0/3181 [00:00<?, ?it/s]"
      ]
     },
     "metadata": {},
     "output_type": "display_data"
    }
   ],
   "source": [
    "trues_raw_df = pd.read_csv('trues/labels_condition_2.csv')\n",
    "df_true2 = df_to_txt(trues_raw_df)\n"
   ]
  },
  {
   "cell_type": "markdown",
   "id": "e6e83d80-0362-47ab-b892-82b2506b6b8c",
   "metadata": {
    "tags": []
   },
   "source": [
    "## Carlo's predictions"
   ]
  },
  {
   "cell_type": "code",
   "execution_count": 59,
   "id": "92c28150-c597-4641-a96f-b8115ebef15b",
   "metadata": {},
   "outputs": [],
   "source": [
    "pred_path2 = '../testing/preds/0217_carlo_condition_2.txt'\n",
    "df_pred2 = load_file_to_df(pred_path2)"
   ]
  },
  {
   "cell_type": "code",
   "execution_count": 60,
   "id": "ae1adc45-d98b-4ddb-b48e-9012c7d4e591",
   "metadata": {
    "tags": []
   },
   "outputs": [
    {
     "data": {
      "application/vnd.jupyter.widget-view+json": {
       "model_id": "5bddba42a4b64845a3eb5ce99cc01ec0",
       "version_major": 2,
       "version_minor": 0
      },
      "text/plain": [
       "  0%|          | 0/3181 [00:00<?, ?it/s]"
      ]
     },
     "metadata": {},
     "output_type": "display_data"
    },
    {
     "name": "stdout",
     "output_type": "stream",
     "text": [
      "10\n",
      "Summary of the experiment: \n",
      "\n",
      "Number of states: 3 \n",
      "Exponents: [0.5 1.  1.5] \n",
      "Diffusion Coeff.: [0.1] \n",
      "\n",
      "Changepoint Metrics \n",
      "RMSE: 10 \n",
      "Jaccard Index: 0 \n",
      "\n",
      "Diffusion property metrics \n",
      "Error anomalous exponent: 0.12505809493869852 \n",
      "Error diffusion coefficient: 0.0024886121820169877 \n",
      "Error diffusive state: 0.2370323797547941\n"
     ]
    },
    {
     "name": "stderr",
     "output_type": "stream",
     "text": [
      "c:\\users\\gorka\\github\\andi_datasets_dev\\andi_datasets\\utils_challenge.py:274: UserWarning: No segments found in this dataset.\n",
      "  warnings.warn(wrn_str)\n"
     ]
    }
   ],
   "source": [
    "rmse_CP, JI, error_alpha, error_D, error_s = error_ensemble_prediction(df_pred2, df_true2)"
   ]
  },
  {
   "cell_type": "code",
   "execution_count": 51,
   "id": "2e502882-ead9-4967-b120-ba4e864eaf42",
   "metadata": {},
   "outputs": [],
   "source": [
    "true_D = [0.1]; true_a = [0.5, 1, 1.5]\n",
    "Ds = np.concatenate(df_pred2['Ds'].values)\n",
    "alphas = np.concatenate(df_pred2['alphas'].values)"
   ]
  },
  {
   "cell_type": "code",
   "execution_count": 52,
   "id": "4d2172fe-ac38-47d7-bbfd-d07d1260bebc",
   "metadata": {},
   "outputs": [
    {
     "data": {
      "text/plain": [
       "<matplotlib.legend.Legend at 0x1cce618cc10>"
      ]
     },
     "execution_count": 52,
     "metadata": {},
     "output_type": "execute_result"
    },
    {
     "data": {
      "image/png": "[encoded data removed]",
      "text/plain": [
       "<Figure size 432x288 with 1 Axes>"
      ]
     },
     "metadata": {
      "needs_background": "light"
     },
     "output_type": "display_data"
    }
   ],
   "source": [
    "plt.hist(Ds, bins = 30)\n",
    "for idx, true in enumerate(true_D):\n",
    "    plt.axvline(true, label = f'D state {idx}', c = 'k')\n",
    "plt.legend()"
   ]
  },
  {
   "cell_type": "code",
   "execution_count": 49,
   "id": "cb835bbe-802a-4814-a166-277bdf897444",
   "metadata": {},
   "outputs": [
    {
     "data": {
      "text/plain": [
       "<matplotlib.legend.Legend at 0x146ce820e80>"
      ]
     },
     "execution_count": 49,
     "metadata": {},
     "output_type": "execute_result"
    },
    {
     "data": {
      "image/png": "[encoded data removed]",
      "text/plain": [
       "<Figure size 432x288 with 1 Axes>"
      ]
     },
     "metadata": {
      "needs_background": "light"
     },
     "output_type": "display_data"
    }
   ],
   "source": [
    "plt.hist(alphas, bins = 50)\n",
    "for idx, true in enumerate(true_a):\n",
    "    plt.axvline(true, label = fr'$\\alpha$ state {idx}', c = 'k')\n",
    "plt.legend()"
   ]
  },
  {
   "cell_type": "markdown",
   "id": "6fc2d618-624b-408e-bfd8-169d6f5d60ef",
   "metadata": {
    "tags": []
   },
   "source": [
    "## HMM prediction"
   ]
  },
  {
   "cell_type": "code",
   "execution_count": 62,
   "id": "bcb657fc-9e5a-47ff-b096-5b70c8c18c95",
   "metadata": {},
   "outputs": [],
   "source": [
    "df_hmm2 = pd.read_csv('preds/condition_2_StateHMM.csv', names = ['t', 'idx', 'state'])"
   ]
  },
  {
   "cell_type": "code",
   "execution_count": 82,
   "id": "3876a95e-9726-4896-ae37-fcb8d3bdb46c",
   "metadata": {},
   "outputs": [
    {
     "data": {
      "application/vnd.jupyter.widget-view+json": {
       "model_id": "08b9c65bdeb746198a8a4d9cf634dad8",
       "version_major": 2,
       "version_minor": 0
      },
      "text/plain": [
       "  0%|          | 0/3181 [00:00<?, ?it/s]"
      ]
     },
     "metadata": {},
     "output_type": "display_data"
    }
   ],
   "source": [
    "CPs_hmm2 = []\n",
    "lens = []\n",
    "for idx in tqdm(df_hmm2['idx'].unique()):\n",
    "    pred = df_hmm2.loc[df_hmm2['idx'] == idx]['state'].values\n",
    "    CP = np.argwhere(pred[1:] != pred[:-1])+1\n",
    "    CPs_hmm2.append(CP.flatten())\n",
    "    lens.append(len(pred))"
   ]
  },
  {
   "cell_type": "code",
   "execution_count": 83,
   "id": "388b7f29-6c50-4e23-b178-e4a1d3fffcb1",
   "metadata": {
    "collapsed": true,
    "jupyter": {
     "outputs_hidden": true
    },
    "tags": []
   },
   "outputs": [
    {
     "data": {
      "text/plain": [
       "[array([2], dtype=int64),\n",
       " array([207, 212], dtype=int64),\n",
       " array([2], dtype=int64),\n",
       " array([], dtype=int64),\n",
       " array([], dtype=int64),\n",
       " array([], dtype=int64),\n",
       " array([], dtype=int64),\n",
       " array([2], dtype=int64),\n",
       " array([2], dtype=int64),\n",
       " array([2], dtype=int64),\n",
       " array([], dtype=int64),\n",
       " array([], dtype=int64),\n",
       " array([4], dtype=int64),\n",
       " array([], dtype=int64),\n",
       " array([2], dtype=int64),\n",
       " array([161, 162], dtype=int64),\n",
       " array([], dtype=int64),\n",
       " array([3], dtype=int64),\n",
       " array([3], dtype=int64),\n",
       " array([], dtype=int64),\n",
       " array([2], dtype=int64),\n",
       " array([2], dtype=int64),\n",
       " array([1], dtype=int64),\n",
       " array([], dtype=int64),\n",
       " array([2], dtype=int64),\n",
       " array([2], dtype=int64),\n",
       " array([], dtype=int64),\n",
       " array([2], dtype=int64),\n",
       " array([], dtype=int64),\n",
       " array([], dtype=int64),\n",
       " array([], dtype=int64),\n",
       " array([], dtype=int64),\n",
       " array([], dtype=int64),\n",
       " array([2], dtype=int64),\n",
       " array([], dtype=int64),\n",
       " array([2], dtype=int64),\n",
       " array([2], dtype=int64),\n",
       " array([], dtype=int64),\n",
       " array([], dtype=int64),\n",
       " array([], dtype=int64),\n",
       " array([2], dtype=int64),\n",
       " array([2], dtype=int64),\n",
       " array([2], dtype=int64),\n",
       " array([46, 47], dtype=int64),\n",
       " array([], dtype=int64),\n",
       " array([], dtype=int64),\n",
       " array([197, 198, 287, 288, 390, 391], dtype=int64),\n",
       " array([], dtype=int64),\n",
       " array([], dtype=int64),\n",
       " array([], dtype=int64),\n",
       " array([], dtype=int64),\n",
       " array([], dtype=int64),\n",
       " array([2], dtype=int64),\n",
       " array([], dtype=int64),\n",
       " array([2], dtype=int64),\n",
       " array([], dtype=int64),\n",
       " array([], dtype=int64),\n",
       " array([], dtype=int64),\n",
       " array([3, 5], dtype=int64),\n",
       " array([2], dtype=int64),\n",
       " array([2], dtype=int64),\n",
       " array([2], dtype=int64),\n",
       " array([], dtype=int64),\n",
       " array([2], dtype=int64),\n",
       " array([], dtype=int64),\n",
       " array([2], dtype=int64),\n",
       " array([  5, 406, 424], dtype=int64),\n",
       " array([2], dtype=int64),\n",
       " array([], dtype=int64),\n",
       " array([ 13, 230, 235, 391, 396, 441, 443], dtype=int64),\n",
       " array([31, 32], dtype=int64),\n",
       " array([], dtype=int64),\n",
       " array([2], dtype=int64),\n",
       " array([], dtype=int64),\n",
       " array([5], dtype=int64),\n",
       " array([], dtype=int64),\n",
       " array([2], dtype=int64),\n",
       " array([2], dtype=int64),\n",
       " array([2], dtype=int64),\n",
       " array([], dtype=int64),\n",
       " array([2], dtype=int64),\n",
       " array([2], dtype=int64),\n",
       " array([2], dtype=int64),\n",
       " array([2], dtype=int64),\n",
       " array([3], dtype=int64),\n",
       " array([2], dtype=int64),\n",
       " array([], dtype=int64),\n",
       " array([], dtype=int64),\n",
       " array([], dtype=int64),\n",
       " array([115, 117, 345, 349], dtype=int64),\n",
       " array([ 2, 42, 43], dtype=int64),\n",
       " array([ 3, 15, 17, 42, 43, 44, 46, 54, 58], dtype=int64),\n",
       " array([3], dtype=int64),\n",
       " array([2], dtype=int64),\n",
       " array([2], dtype=int64),\n",
       " array([ 2,  3,  4,  5,  6, 18], dtype=int64),\n",
       " array([5, 6], dtype=int64),\n",
       " array([], dtype=int64),\n",
       " array([], dtype=int64),\n",
       " array([  1, 116], dtype=int64),\n",
       " array([], dtype=int64),\n",
       " array([], dtype=int64),\n",
       " array([3], dtype=int64),\n",
       " array([], dtype=int64),\n",
       " array([], dtype=int64),\n",
       " array([], dtype=int64),\n",
       " array([2], dtype=int64),\n",
       " array([], dtype=int64),\n",
       " array([2], dtype=int64),\n",
       " array([], dtype=int64),\n",
       " array([2], dtype=int64),\n",
       " array([], dtype=int64),\n",
       " array([2], dtype=int64),\n",
       " array([2], dtype=int64),\n",
       " array([], dtype=int64),\n",
       " array([], dtype=int64),\n",
       " array([2], dtype=int64),\n",
       " array([], dtype=int64),\n",
       " array([], dtype=int64),\n",
       " array([2], dtype=int64),\n",
       " array([], dtype=int64),\n",
       " array([23, 24, 26, 28], dtype=int64),\n",
       " array([1], dtype=int64),\n",
       " array([], dtype=int64),\n",
       " array([], dtype=int64),\n",
       " array([2], dtype=int64),\n",
       " array([2], dtype=int64),\n",
       " array([], dtype=int64),\n",
       " array([2], dtype=int64),\n",
       " array([], dtype=int64),\n",
       " array([2], dtype=int64),\n",
       " array([], dtype=int64),\n",
       " array([], dtype=int64),\n",
       " array([], dtype=int64),\n",
       " array([2], dtype=int64),\n",
       " array([], dtype=int64),\n",
       " array([], dtype=int64),\n",
       " array([], dtype=int64),\n",
       " array([], dtype=int64),\n",
       " array([2], dtype=int64),\n",
       " array([], dtype=int64),\n",
       " array([], dtype=int64),\n",
       " array([2], dtype=int64),\n",
       " array([4], dtype=int64),\n",
       " array([], dtype=int64),\n",
       " array([], dtype=int64),\n",
       " array([], dtype=int64),\n",
       " array([2], dtype=int64),\n",
       " array([], dtype=int64),\n",
       " array([], dtype=int64),\n",
       " array([2], dtype=int64),\n",
       " array([2], dtype=int64),\n",
       " array([2], dtype=int64),\n",
       " array([], dtype=int64),\n",
       " array([2], dtype=int64),\n",
       " array([ 2,  3,  4,  5,  6,  7,  8,  9, 10, 11, 13, 14, 16, 17],\n",
       "       dtype=int64),\n",
       " array([2], dtype=int64),\n",
       " array([2], dtype=int64),\n",
       " array([], dtype=int64),\n",
       " array([2], dtype=int64),\n",
       " array([2], dtype=int64),\n",
       " array([], dtype=int64),\n",
       " array([], dtype=int64),\n",
       " array([17, 18, 32], dtype=int64),\n",
       " array([ 1, 23], dtype=int64),\n",
       " array([], dtype=int64),\n",
       " array([2], dtype=int64),\n",
       " array([], dtype=int64),\n",
       " array([2], dtype=int64),\n",
       " array([2], dtype=int64),\n",
       " array([2], dtype=int64),\n",
       " array([2], dtype=int64),\n",
       " array([], dtype=int64),\n",
       " array([3], dtype=int64),\n",
       " array([], dtype=int64),\n",
       " array([2], dtype=int64),\n",
       " array([], dtype=int64),\n",
       " array([2], dtype=int64),\n",
       " array([3], dtype=int64),\n",
       " array([2], dtype=int64),\n",
       " array([], dtype=int64),\n",
       " array([2], dtype=int64),\n",
       " array([], dtype=int64),\n",
       " array([], dtype=int64),\n",
       " array([2], dtype=int64),\n",
       " array([], dtype=int64),\n",
       " array([2], dtype=int64),\n",
       " array([ 1, 64], dtype=int64),\n",
       " array([], dtype=int64),\n",
       " array([], dtype=int64),\n",
       " array([], dtype=int64),\n",
       " array([2], dtype=int64),\n",
       " array([], dtype=int64),\n",
       " array([2], dtype=int64),\n",
       " array([], dtype=int64),\n",
       " array([], dtype=int64),\n",
       " array([2], dtype=int64),\n",
       " array([], dtype=int64),\n",
       " array([322, 323], dtype=int64),\n",
       " array([], dtype=int64),\n",
       " array([], dtype=int64),\n",
       " array([2], dtype=int64),\n",
       " array([], dtype=int64),\n",
       " array([], dtype=int64),\n",
       " array([101, 102, 202, 203, 289, 290, 354, 355, 429, 430], dtype=int64),\n",
       " array([2], dtype=int64),\n",
       " array([2], dtype=int64),\n",
       " array([3], dtype=int64),\n",
       " array([], dtype=int64),\n",
       " array([2], dtype=int64),\n",
       " array([], dtype=int64),\n",
       " array([], dtype=int64),\n",
       " array([2], dtype=int64),\n",
       " array([487, 488], dtype=int64),\n",
       " array([], dtype=int64),\n",
       " array([], dtype=int64),\n",
       " array([], dtype=int64),\n",
       " array([2], dtype=int64),\n",
       " array([2], dtype=int64),\n",
       " array([], dtype=int64),\n",
       " array([], dtype=int64),\n",
       " array([3], dtype=int64),\n",
       " array([2], dtype=int64),\n",
       " array([], dtype=int64),\n",
       " array([2], dtype=int64),\n",
       " array([2], dtype=int64),\n",
       " array([], dtype=int64),\n",
       " array([2], dtype=int64),\n",
       " array([1], dtype=int64),\n",
       " array([2], dtype=int64),\n",
       " array([2], dtype=int64),\n",
       " array([3], dtype=int64),\n",
       " array([], dtype=int64),\n",
       " array([], dtype=int64),\n",
       " array([2], dtype=int64),\n",
       " array([], dtype=int64),\n",
       " array([  2, 400, 401], dtype=int64),\n",
       " array([], dtype=int64),\n",
       " array([], dtype=int64),\n",
       " array([201, 202], dtype=int64),\n",
       " array([], dtype=int64),\n",
       " array([], dtype=int64),\n",
       " array([2], dtype=int64),\n",
       " array([], dtype=int64),\n",
       " array([], dtype=int64),\n",
       " array([2], dtype=int64),\n",
       " array([], dtype=int64),\n",
       " array([], dtype=int64),\n",
       " array([2], dtype=int64),\n",
       " array([], dtype=int64),\n",
       " array([2], dtype=int64),\n",
       " array([], dtype=int64),\n",
       " array([], dtype=int64),\n",
       " array([], dtype=int64),\n",
       " array([], dtype=int64),\n",
       " array([2], dtype=int64),\n",
       " array([2], dtype=int64),\n",
       " array([1], dtype=int64),\n",
       " array([2], dtype=int64),\n",
       " array([], dtype=int64),\n",
       " array([], dtype=int64),\n",
       " array([], dtype=int64),\n",
       " array([13], dtype=int64),\n",
       " array([ 4,  5, 19, 20], dtype=int64),\n",
       " array([], dtype=int64),\n",
       " array([], dtype=int64),\n",
       " array([2], dtype=int64),\n",
       " array([2], dtype=int64),\n",
       " array([], dtype=int64),\n",
       " array([2], dtype=int64),\n",
       " array([2], dtype=int64),\n",
       " array([], dtype=int64),\n",
       " array([], dtype=int64),\n",
       " array([], dtype=int64),\n",
       " array([105, 109, 122, 125, 271, 275], dtype=int64),\n",
       " array([4], dtype=int64),\n",
       " array([2], dtype=int64),\n",
       " array([], dtype=int64),\n",
       " array([2], dtype=int64),\n",
       " array([], dtype=int64),\n",
       " array([10], dtype=int64),\n",
       " array([], dtype=int64),\n",
       " array([], dtype=int64),\n",
       " array([2], dtype=int64),\n",
       " array([], dtype=int64),\n",
       " array([2], dtype=int64),\n",
       " array([], dtype=int64),\n",
       " array([ 13,  15,  59,  61, 158, 161, 191, 194, 227, 228, 302, 303, 348,\n",
       "        350, 457, 459], dtype=int64),\n",
       " array([], dtype=int64),\n",
       " array([], dtype=int64),\n",
       " array([], dtype=int64),\n",
       " array([], dtype=int64),\n",
       " array([2], dtype=int64),\n",
       " array([], dtype=int64),\n",
       " array([  4, 308, 322, 334, 338, 459, 465, 468, 476], dtype=int64),\n",
       " array([], dtype=int64),\n",
       " array([  2, 186, 189, 295, 296, 297, 299, 307, 309, 406, 407, 435, 439],\n",
       "       dtype=int64),\n",
       " array([], dtype=int64),\n",
       " array([4], dtype=int64),\n",
       " array([2], dtype=int64),\n",
       " array([], dtype=int64),\n",
       " array([9], dtype=int64),\n",
       " array([], dtype=int64),\n",
       " array([2], dtype=int64),\n",
       " array([], dtype=int64),\n",
       " array([2], dtype=int64),\n",
       " array([3], dtype=int64),\n",
       " array([], dtype=int64),\n",
       " array([2, 5, 6], dtype=int64),\n",
       " array([], dtype=int64),\n",
       " array([ 54,  56, 456, 458], dtype=int64),\n",
       " array([], dtype=int64),\n",
       " array([], dtype=int64),\n",
       " array([], dtype=int64),\n",
       " array([], dtype=int64),\n",
       " array([2], dtype=int64),\n",
       " array([], dtype=int64),\n",
       " array([2], dtype=int64),\n",
       " array([331, 332], dtype=int64),\n",
       " array([], dtype=int64),\n",
       " array([2], dtype=int64),\n",
       " array([], dtype=int64),\n",
       " array([], dtype=int64),\n",
       " array([ 36,  37, 168, 169], dtype=int64),\n",
       " array([2], dtype=int64),\n",
       " array([2], dtype=int64),\n",
       " array([], dtype=int64),\n",
       " array([], dtype=int64),\n",
       " array([], dtype=int64),\n",
       " array([], dtype=int64),\n",
       " array([], dtype=int64),\n",
       " array([9], dtype=int64),\n",
       " array([2], dtype=int64),\n",
       " array([36, 37], dtype=int64),\n",
       " array([], dtype=int64),\n",
       " array([2], dtype=int64),\n",
       " array([], dtype=int64),\n",
       " array([ 11, 427, 440, 478, 484], dtype=int64),\n",
       " array([], dtype=int64),\n",
       " array([2], dtype=int64),\n",
       " array([ 92,  93, 269, 270], dtype=int64),\n",
       " array([2], dtype=int64),\n",
       " array([2], dtype=int64),\n",
       " array([2], dtype=int64),\n",
       " array([4], dtype=int64),\n",
       " array([2], dtype=int64),\n",
       " array([2], dtype=int64),\n",
       " array([ 1, 51], dtype=int64),\n",
       " array([], dtype=int64),\n",
       " array([], dtype=int64),\n",
       " array([], dtype=int64),\n",
       " array([], dtype=int64),\n",
       " array([], dtype=int64),\n",
       " array([], dtype=int64),\n",
       " array([435, 436], dtype=int64),\n",
       " array([2], dtype=int64),\n",
       " array([], dtype=int64),\n",
       " array([2], dtype=int64),\n",
       " array([2], dtype=int64),\n",
       " array([], dtype=int64),\n",
       " array([4], dtype=int64),\n",
       " array([2], dtype=int64),\n",
       " array([2], dtype=int64),\n",
       " array([], dtype=int64),\n",
       " array([], dtype=int64),\n",
       " array([], dtype=int64),\n",
       " array([2], dtype=int64),\n",
       " array([], dtype=int64),\n",
       " array([], dtype=int64),\n",
       " array([], dtype=int64),\n",
       " array([], dtype=int64),\n",
       " array([2], dtype=int64),\n",
       " array([2], dtype=int64),\n",
       " array([  3, 100, 104, 474, 483], dtype=int64),\n",
       " array([2], dtype=int64),\n",
       " array([2], dtype=int64),\n",
       " array([], dtype=int64),\n",
       " array([], dtype=int64),\n",
       " array([], dtype=int64),\n",
       " array([], dtype=int64),\n",
       " array([218, 219, 294, 296], dtype=int64),\n",
       " array([2], dtype=int64),\n",
       " array([2], dtype=int64),\n",
       " array([2], dtype=int64),\n",
       " array([], dtype=int64),\n",
       " array([], dtype=int64),\n",
       " array([], dtype=int64),\n",
       " array([], dtype=int64),\n",
       " array([2], dtype=int64),\n",
       " array([], dtype=int64),\n",
       " array([2], dtype=int64),\n",
       " array([], dtype=int64),\n",
       " array([], dtype=int64),\n",
       " array([2], dtype=int64),\n",
       " array([2], dtype=int64),\n",
       " array([2], dtype=int64),\n",
       " array([ 12,  65,  75, 132, 136, 381, 385], dtype=int64),\n",
       " array([2], dtype=int64),\n",
       " array([9], dtype=int64),\n",
       " array([2], dtype=int64),\n",
       " array([4], dtype=int64),\n",
       " array([], dtype=int64),\n",
       " array([], dtype=int64),\n",
       " array([], dtype=int64),\n",
       " array([], dtype=int64),\n",
       " array([], dtype=int64),\n",
       " array([2], dtype=int64),\n",
       " array([2], dtype=int64),\n",
       " array([2], dtype=int64),\n",
       " array([], dtype=int64),\n",
       " array([2], dtype=int64),\n",
       " array([], dtype=int64),\n",
       " array([4], dtype=int64),\n",
       " array([], dtype=int64),\n",
       " array([2], dtype=int64),\n",
       " array([], dtype=int64),\n",
       " array([ 33,  34,  51,  52,  98,  99, 114, 115, 130, 131, 138, 139, 144,\n",
       "        145, 163, 164, 234, 235, 251, 252, 402, 403, 453, 454, 484, 485],\n",
       "       dtype=int64),\n",
       " array([2], dtype=int64),\n",
       " array([2], dtype=int64),\n",
       " array([], dtype=int64),\n",
       " array([4], dtype=int64),\n",
       " array([2], dtype=int64),\n",
       " array([], dtype=int64),\n",
       " array([2], dtype=int64),\n",
       " array([2], dtype=int64),\n",
       " array([], dtype=int64),\n",
       " array([2], dtype=int64),\n",
       " array([], dtype=int64),\n",
       " array([], dtype=int64),\n",
       " array([], dtype=int64),\n",
       " array([], dtype=int64),\n",
       " array([], dtype=int64),\n",
       " array([2], dtype=int64),\n",
       " array([3], dtype=int64),\n",
       " array([], dtype=int64),\n",
       " array([], dtype=int64),\n",
       " array([], dtype=int64),\n",
       " array([338, 339], dtype=int64),\n",
       " array([], dtype=int64),\n",
       " array([3], dtype=int64),\n",
       " array([], dtype=int64),\n",
       " array([2], dtype=int64),\n",
       " array([], dtype=int64),\n",
       " array([4], dtype=int64),\n",
       " array([], dtype=int64),\n",
       " array([], dtype=int64),\n",
       " array([2], dtype=int64),\n",
       " array([], dtype=int64),\n",
       " array([], dtype=int64),\n",
       " array([2], dtype=int64),\n",
       " array([], dtype=int64),\n",
       " array([], dtype=int64),\n",
       " array([], dtype=int64),\n",
       " array([2], dtype=int64),\n",
       " array([], dtype=int64),\n",
       " array([], dtype=int64),\n",
       " array([  5,   6, 372, 373], dtype=int64),\n",
       " array([2], dtype=int64),\n",
       " array([], dtype=int64),\n",
       " array([2], dtype=int64),\n",
       " array([10, 12], dtype=int64),\n",
       " array([139, 140, 292, 293], dtype=int64),\n",
       " array([], dtype=int64),\n",
       " array([4], dtype=int64),\n",
       " array([ 2, 15, 18], dtype=int64),\n",
       " array([], dtype=int64),\n",
       " array([], dtype=int64),\n",
       " array([2], dtype=int64),\n",
       " array([], dtype=int64),\n",
       " array([], dtype=int64),\n",
       " array([], dtype=int64),\n",
       " array([2], dtype=int64),\n",
       " array([], dtype=int64),\n",
       " array([], dtype=int64),\n",
       " array([], dtype=int64),\n",
       " array([3], dtype=int64),\n",
       " array([ 1, 22], dtype=int64),\n",
       " array([], dtype=int64),\n",
       " array([2], dtype=int64),\n",
       " array([], dtype=int64),\n",
       " array([], dtype=int64),\n",
       " array([ 56,  59, 222, 224, 320, 322, 394, 397, 473, 475], dtype=int64),\n",
       " array([2], dtype=int64),\n",
       " array([2], dtype=int64),\n",
       " array([143, 144, 376, 377, 459, 461], dtype=int64),\n",
       " array([2], dtype=int64),\n",
       " array([2], dtype=int64),\n",
       " array([2], dtype=int64),\n",
       " array([], dtype=int64),\n",
       " array([], dtype=int64),\n",
       " array([], dtype=int64),\n",
       " array([2], dtype=int64),\n",
       " array([], dtype=int64),\n",
       " array([2], dtype=int64),\n",
       " array([322, 323, 343, 344], dtype=int64),\n",
       " array([2], dtype=int64),\n",
       " array([2], dtype=int64),\n",
       " array([], dtype=int64),\n",
       " array([], dtype=int64),\n",
       " array([2], dtype=int64),\n",
       " array([], dtype=int64),\n",
       " array([1], dtype=int64),\n",
       " array([], dtype=int64),\n",
       " array([ 1, 26], dtype=int64),\n",
       " array([1], dtype=int64),\n",
       " array([11, 14], dtype=int64),\n",
       " array([2], dtype=int64),\n",
       " array([], dtype=int64),\n",
       " array([], dtype=int64),\n",
       " array([2], dtype=int64),\n",
       " array([], dtype=int64),\n",
       " array([2], dtype=int64),\n",
       " array([2], dtype=int64),\n",
       " array([2], dtype=int64),\n",
       " array([], dtype=int64),\n",
       " array([2], dtype=int64),\n",
       " array([], dtype=int64),\n",
       " array([2], dtype=int64),\n",
       " array([3], dtype=int64),\n",
       " array([], dtype=int64),\n",
       " array([2], dtype=int64),\n",
       " array([2], dtype=int64),\n",
       " array([2], dtype=int64),\n",
       " array([2], dtype=int64),\n",
       " array([], dtype=int64),\n",
       " array([], dtype=int64),\n",
       " array([2], dtype=int64),\n",
       " array([2], dtype=int64),\n",
       " array([], dtype=int64),\n",
       " array([  2, 242, 245], dtype=int64),\n",
       " array([2], dtype=int64),\n",
       " array([], dtype=int64),\n",
       " array([], dtype=int64),\n",
       " array([7], dtype=int64),\n",
       " array([2], dtype=int64),\n",
       " array([3], dtype=int64),\n",
       " array([], dtype=int64),\n",
       " array([2], dtype=int64),\n",
       " array([], dtype=int64),\n",
       " array([2], dtype=int64),\n",
       " array([], dtype=int64),\n",
       " array([], dtype=int64),\n",
       " array([], dtype=int64),\n",
       " array([], dtype=int64),\n",
       " array([2], dtype=int64),\n",
       " array([3], dtype=int64),\n",
       " array([], dtype=int64),\n",
       " array([216, 217, 259, 260, 290, 291, 342, 343, 476, 477], dtype=int64),\n",
       " array([], dtype=int64),\n",
       " array([], dtype=int64),\n",
       " array([], dtype=int64),\n",
       " array([], dtype=int64),\n",
       " array([], dtype=int64),\n",
       " array([8], dtype=int64),\n",
       " array([], dtype=int64),\n",
       " array([3], dtype=int64),\n",
       " array([], dtype=int64),\n",
       " array([], dtype=int64),\n",
       " array([], dtype=int64),\n",
       " array([], dtype=int64),\n",
       " array([], dtype=int64),\n",
       " array([2], dtype=int64),\n",
       " array([], dtype=int64),\n",
       " array([], dtype=int64),\n",
       " array([], dtype=int64),\n",
       " array([2], dtype=int64),\n",
       " array([2, 5, 6], dtype=int64),\n",
       " array([], dtype=int64),\n",
       " array([2], dtype=int64),\n",
       " array([2], dtype=int64),\n",
       " array([], dtype=int64),\n",
       " array([2], dtype=int64),\n",
       " array([], dtype=int64),\n",
       " array([2], dtype=int64),\n",
       " array([2], dtype=int64),\n",
       " array([2], dtype=int64),\n",
       " array([], dtype=int64),\n",
       " array([], dtype=int64),\n",
       " array([331, 332], dtype=int64),\n",
       " array([], dtype=int64),\n",
       " array([], dtype=int64),\n",
       " array([2], dtype=int64),\n",
       " array([], dtype=int64),\n",
       " array([], dtype=int64),\n",
       " array([2], dtype=int64),\n",
       " array([2], dtype=int64),\n",
       " array([3], dtype=int64),\n",
       " array([2], dtype=int64),\n",
       " array([], dtype=int64),\n",
       " array([2], dtype=int64),\n",
       " array([ 19,  20, 373, 374, 397, 398], dtype=int64),\n",
       " array([], dtype=int64),\n",
       " array([2], dtype=int64),\n",
       " array([], dtype=int64),\n",
       " array([2], dtype=int64),\n",
       " array([], dtype=int64),\n",
       " array([2], dtype=int64),\n",
       " array([2], dtype=int64),\n",
       " array([], dtype=int64),\n",
       " array([], dtype=int64),\n",
       " array([], dtype=int64),\n",
       " array([3], dtype=int64),\n",
       " array([], dtype=int64),\n",
       " array([3], dtype=int64),\n",
       " array([2], dtype=int64),\n",
       " array([2], dtype=int64),\n",
       " array([], dtype=int64),\n",
       " array([2], dtype=int64),\n",
       " array([], dtype=int64),\n",
       " array([2], dtype=int64),\n",
       " array([2], dtype=int64),\n",
       " array([], dtype=int64),\n",
       " array([3], dtype=int64),\n",
       " array([], dtype=int64),\n",
       " array([], dtype=int64),\n",
       " array([2], dtype=int64),\n",
       " array([435, 436, 438, 440], dtype=int64),\n",
       " array([2], dtype=int64),\n",
       " array([], dtype=int64),\n",
       " array([], dtype=int64),\n",
       " array([2], dtype=int64),\n",
       " array([], dtype=int64),\n",
       " array([], dtype=int64),\n",
       " array([9], dtype=int64),\n",
       " array([4], dtype=int64),\n",
       " array([], dtype=int64),\n",
       " array([], dtype=int64),\n",
       " array([2], dtype=int64),\n",
       " array([2], dtype=int64),\n",
       " array([], dtype=int64),\n",
       " array([8], dtype=int64),\n",
       " array([], dtype=int64),\n",
       " array([2], dtype=int64),\n",
       " array([50, 51], dtype=int64),\n",
       " array([2], dtype=int64),\n",
       " array([], dtype=int64),\n",
       " array([  3, 118, 121], dtype=int64),\n",
       " array([], dtype=int64),\n",
       " array([2], dtype=int64),\n",
       " array([], dtype=int64),\n",
       " array([ 10,  87, 112], dtype=int64),\n",
       " array([2], dtype=int64),\n",
       " array([], dtype=int64),\n",
       " array([], dtype=int64),\n",
       " array([], dtype=int64),\n",
       " array([], dtype=int64),\n",
       " array([], dtype=int64),\n",
       " array([2], dtype=int64),\n",
       " array([], dtype=int64),\n",
       " array([21, 22], dtype=int64),\n",
       " array([2], dtype=int64),\n",
       " array([2], dtype=int64),\n",
       " array([], dtype=int64),\n",
       " array([2], dtype=int64),\n",
       " array([2], dtype=int64),\n",
       " array([2], dtype=int64),\n",
       " array([2], dtype=int64),\n",
       " array([], dtype=int64),\n",
       " array([2], dtype=int64),\n",
       " array([2], dtype=int64),\n",
       " array([], dtype=int64),\n",
       " array([358, 359], dtype=int64),\n",
       " array([], dtype=int64),\n",
       " array([2], dtype=int64),\n",
       " array([2], dtype=int64),\n",
       " array([], dtype=int64),\n",
       " array([], dtype=int64),\n",
       " array([], dtype=int64),\n",
       " array([], dtype=int64),\n",
       " array([2], dtype=int64),\n",
       " array([2], dtype=int64),\n",
       " array([], dtype=int64),\n",
       " array([], dtype=int64),\n",
       " array([2], dtype=int64),\n",
       " array([2], dtype=int64),\n",
       " array([], dtype=int64),\n",
       " array([17, 18], dtype=int64),\n",
       " array([], dtype=int64),\n",
       " array([ 3, 36, 40], dtype=int64),\n",
       " array([], dtype=int64),\n",
       " array([325, 327], dtype=int64),\n",
       " array([], dtype=int64),\n",
       " array([2], dtype=int64),\n",
       " array([1], dtype=int64),\n",
       " array([2], dtype=int64),\n",
       " array([1], dtype=int64),\n",
       " array([], dtype=int64),\n",
       " array([2], dtype=int64),\n",
       " array([2], dtype=int64),\n",
       " array([2], dtype=int64),\n",
       " array([3], dtype=int64),\n",
       " array([], dtype=int64),\n",
       " array([], dtype=int64),\n",
       " array([2], dtype=int64),\n",
       " array([2], dtype=int64),\n",
       " array([2], dtype=int64),\n",
       " array([], dtype=int64),\n",
       " array([], dtype=int64),\n",
       " array([5], dtype=int64),\n",
       " array([], dtype=int64),\n",
       " array([], dtype=int64),\n",
       " array([], dtype=int64),\n",
       " array([], dtype=int64),\n",
       " array([], dtype=int64),\n",
       " array([], dtype=int64),\n",
       " array([ 2, 10, 11, 15, 16, 21], dtype=int64),\n",
       " array([], dtype=int64),\n",
       " array([2], dtype=int64),\n",
       " array([], dtype=int64),\n",
       " array([2], dtype=int64),\n",
       " array([2], dtype=int64),\n",
       " array([2], dtype=int64),\n",
       " array([], dtype=int64),\n",
       " array([], dtype=int64),\n",
       " array([], dtype=int64),\n",
       " array([], dtype=int64),\n",
       " array([], dtype=int64),\n",
       " array([], dtype=int64),\n",
       " array([], dtype=int64),\n",
       " array([], dtype=int64),\n",
       " array([], dtype=int64),\n",
       " array([], dtype=int64),\n",
       " array([], dtype=int64),\n",
       " array([], dtype=int64),\n",
       " array([4], dtype=int64),\n",
       " array([], dtype=int64),\n",
       " array([2], dtype=int64),\n",
       " array([ 2, 35, 36], dtype=int64),\n",
       " array([2], dtype=int64),\n",
       " array([2], dtype=int64),\n",
       " array([2], dtype=int64),\n",
       " array([], dtype=int64),\n",
       " array([], dtype=int64),\n",
       " array([], dtype=int64),\n",
       " array([], dtype=int64),\n",
       " array([], dtype=int64),\n",
       " array([], dtype=int64),\n",
       " array([2], dtype=int64),\n",
       " array([], dtype=int64),\n",
       " array([], dtype=int64),\n",
       " array([], dtype=int64),\n",
       " array([], dtype=int64),\n",
       " array([2], dtype=int64),\n",
       " array([2], dtype=int64),\n",
       " array([  3,  25,  31, 162, 165, 228, 233, 282, 283, 453, 456, 470, 471],\n",
       "       dtype=int64),\n",
       " array([2], dtype=int64),\n",
       " array([2], dtype=int64),\n",
       " array([2], dtype=int64),\n",
       " array([], dtype=int64),\n",
       " array([2], dtype=int64),\n",
       " array([2], dtype=int64),\n",
       " array([2], dtype=int64),\n",
       " array([], dtype=int64),\n",
       " array([2], dtype=int64),\n",
       " array([2], dtype=int64),\n",
       " array([], dtype=int64),\n",
       " array([2], dtype=int64),\n",
       " array([95, 96], dtype=int64),\n",
       " array([], dtype=int64),\n",
       " array([  2, 157, 158], dtype=int64),\n",
       " array([2], dtype=int64),\n",
       " array([], dtype=int64),\n",
       " array([2], dtype=int64),\n",
       " array([ 17,  18,  24,  25, 135, 136, 167, 168, 251, 252, 299, 300, 498],\n",
       "       dtype=int64),\n",
       " array([2], dtype=int64),\n",
       " array([2], dtype=int64),\n",
       " array([2], dtype=int64),\n",
       " array([2], dtype=int64),\n",
       " array([], dtype=int64),\n",
       " array([2], dtype=int64),\n",
       " array([ 42,  43,  89,  90, 357, 358, 396, 397, 431, 432, 460, 461],\n",
       "       dtype=int64),\n",
       " array([2], dtype=int64),\n",
       " array([], dtype=int64),\n",
       " array([2], dtype=int64),\n",
       " array([17], dtype=int64),\n",
       " array([], dtype=int64),\n",
       " array([3], dtype=int64),\n",
       " array([2], dtype=int64),\n",
       " array([3], dtype=int64),\n",
       " array([2], dtype=int64),\n",
       " array([2], dtype=int64),\n",
       " array([120, 143, 446, 452], dtype=int64),\n",
       " array([], dtype=int64),\n",
       " array([], dtype=int64),\n",
       " array([], dtype=int64),\n",
       " array([2], dtype=int64),\n",
       " array([], dtype=int64),\n",
       " array([], dtype=int64),\n",
       " array([], dtype=int64),\n",
       " array([], dtype=int64),\n",
       " array([], dtype=int64),\n",
       " array([27], dtype=int64),\n",
       " array([3], dtype=int64),\n",
       " array([2], dtype=int64),\n",
       " array([], dtype=int64),\n",
       " array([], dtype=int64),\n",
       " array([ 2, 18, 19, 20, 21, 24], dtype=int64),\n",
       " array([], dtype=int64),\n",
       " array([], dtype=int64),\n",
       " array([], dtype=int64),\n",
       " array([2], dtype=int64),\n",
       " array([2], dtype=int64),\n",
       " array([], dtype=int64),\n",
       " array([], dtype=int64),\n",
       " array([], dtype=int64),\n",
       " array([], dtype=int64),\n",
       " array([2], dtype=int64),\n",
       " array([241, 242], dtype=int64),\n",
       " array([2], dtype=int64),\n",
       " array([2], dtype=int64),\n",
       " array([2], dtype=int64),\n",
       " array([], dtype=int64),\n",
       " array([2], dtype=int64),\n",
       " array([2], dtype=int64),\n",
       " array([ 6, 24, 30], dtype=int64),\n",
       " array([], dtype=int64),\n",
       " array([], dtype=int64),\n",
       " array([2], dtype=int64),\n",
       " array([], dtype=int64),\n",
       " array([3], dtype=int64),\n",
       " array([ 14,  69,  71, 119, 131, 245, 249, 319, 332], dtype=int64),\n",
       " array([], dtype=int64),\n",
       " array([2], dtype=int64),\n",
       " array([2], dtype=int64),\n",
       " array([], dtype=int64),\n",
       " array([2], dtype=int64),\n",
       " array([], dtype=int64),\n",
       " array([], dtype=int64),\n",
       " array([2], dtype=int64),\n",
       " array([], dtype=int64),\n",
       " array([], dtype=int64),\n",
       " array([444, 445], dtype=int64),\n",
       " array([  3,  10,  13,  20,  21,  27,  31,  33,  36,  56,  63,  90,  92,\n",
       "        143, 151, 192, 194, 223, 226, 251, 255, 275, 277, 320, 323, 388,\n",
       "        390, 408, 409, 418, 423, 424, 426, 469, 471], dtype=int64),\n",
       " array([1], dtype=int64),\n",
       " array([2], dtype=int64),\n",
       " array([2], dtype=int64),\n",
       " array([], dtype=int64),\n",
       " array([], dtype=int64),\n",
       " array([], dtype=int64),\n",
       " array([], dtype=int64),\n",
       " array([2], dtype=int64),\n",
       " array([], dtype=int64),\n",
       " array([], dtype=int64),\n",
       " array([158, 160, 194, 195, 280, 282], dtype=int64),\n",
       " array([2], dtype=int64),\n",
       " array([], dtype=int64),\n",
       " array([], dtype=int64),\n",
       " array([2], dtype=int64),\n",
       " array([2], dtype=int64),\n",
       " array([], dtype=int64),\n",
       " array([2], dtype=int64),\n",
       " array([], dtype=int64),\n",
       " array([], dtype=int64),\n",
       " array([], dtype=int64),\n",
       " array([3], dtype=int64),\n",
       " array([], dtype=int64),\n",
       " array([], dtype=int64),\n",
       " array([  5, 138, 161, 298, 302], dtype=int64),\n",
       " array([2], dtype=int64),\n",
       " array([], dtype=int64),\n",
       " array([], dtype=int64),\n",
       " array([2], dtype=int64),\n",
       " array([2], dtype=int64),\n",
       " array([], dtype=int64),\n",
       " array([], dtype=int64),\n",
       " array([], dtype=int64),\n",
       " array([], dtype=int64),\n",
       " array([ 53,  54,  72,  73, 109, 110, 117, 118, 124], dtype=int64),\n",
       " array([2], dtype=int64),\n",
       " array([26, 27], dtype=int64),\n",
       " array([], dtype=int64),\n",
       " array([], dtype=int64),\n",
       " array([], dtype=int64),\n",
       " array([], dtype=int64),\n",
       " array([], dtype=int64),\n",
       " array([ 17,  18,  22,  23, 168, 169, 219, 220, 241, 242, 264, 265],\n",
       "       dtype=int64),\n",
       " array([], dtype=int64),\n",
       " array([2], dtype=int64),\n",
       " array([], dtype=int64),\n",
       " array([], dtype=int64),\n",
       " array([2], dtype=int64),\n",
       " array([], dtype=int64),\n",
       " array([], dtype=int64),\n",
       " array([], dtype=int64),\n",
       " array([], dtype=int64),\n",
       " array([], dtype=int64),\n",
       " array([2], dtype=int64),\n",
       " array([], dtype=int64),\n",
       " array([], dtype=int64),\n",
       " array([7], dtype=int64),\n",
       " array([106, 107, 177, 178, 218, 219, 221, 222, 310, 311, 335, 336, 417,\n",
       "        418, 454, 455, 468, 469], dtype=int64),\n",
       " array([2], dtype=int64),\n",
       " array([], dtype=int64),\n",
       " array([], dtype=int64),\n",
       " array([2], dtype=int64),\n",
       " array([2], dtype=int64),\n",
       " array([], dtype=int64),\n",
       " array([1], dtype=int64),\n",
       " array([], dtype=int64),\n",
       " array([2], dtype=int64),\n",
       " array([], dtype=int64),\n",
       " array([2], dtype=int64),\n",
       " array([], dtype=int64),\n",
       " array([], dtype=int64),\n",
       " array([], dtype=int64),\n",
       " array([], dtype=int64),\n",
       " array([], dtype=int64),\n",
       " array([2], dtype=int64),\n",
       " array([], dtype=int64),\n",
       " array([], dtype=int64),\n",
       " array([2], dtype=int64),\n",
       " array([232, 233], dtype=int64),\n",
       " array([], dtype=int64),\n",
       " array([], dtype=int64),\n",
       " array([], dtype=int64),\n",
       " array([2], dtype=int64),\n",
       " array([2], dtype=int64),\n",
       " array([], dtype=int64),\n",
       " array([5], dtype=int64),\n",
       " array([2], dtype=int64),\n",
       " array([], dtype=int64),\n",
       " array([], dtype=int64),\n",
       " array([], dtype=int64),\n",
       " array([2], dtype=int64),\n",
       " array([1], dtype=int64),\n",
       " array([2], dtype=int64),\n",
       " array([], dtype=int64),\n",
       " array([2], dtype=int64),\n",
       " array([2], dtype=int64),\n",
       " array([], dtype=int64),\n",
       " array([], dtype=int64),\n",
       " array([], dtype=int64),\n",
       " array([2], dtype=int64),\n",
       " array([], dtype=int64),\n",
       " array([], dtype=int64),\n",
       " array([2], dtype=int64),\n",
       " array([2], dtype=int64),\n",
       " array([], dtype=int64),\n",
       " array([], dtype=int64),\n",
       " array([2], dtype=int64),\n",
       " array([], dtype=int64),\n",
       " array([2], dtype=int64),\n",
       " array([24, 26], dtype=int64),\n",
       " array([2], dtype=int64),\n",
       " array([ 1, 37], dtype=int64),\n",
       " array([2], dtype=int64),\n",
       " array([2], dtype=int64),\n",
       " array([], dtype=int64),\n",
       " array([], dtype=int64),\n",
       " array([2], dtype=int64),\n",
       " array([], dtype=int64),\n",
       " array([], dtype=int64),\n",
       " array([], dtype=int64),\n",
       " array([2], dtype=int64),\n",
       " array([], dtype=int64),\n",
       " array([  2, 102, 103], dtype=int64),\n",
       " array([], dtype=int64),\n",
       " array([], dtype=int64),\n",
       " array([], dtype=int64),\n",
       " array([], dtype=int64),\n",
       " array([2], dtype=int64),\n",
       " array([], dtype=int64),\n",
       " array([], dtype=int64),\n",
       " array([], dtype=int64),\n",
       " array([], dtype=int64),\n",
       " array([2], dtype=int64),\n",
       " array([2], dtype=int64),\n",
       " array([2], dtype=int64),\n",
       " array([], dtype=int64),\n",
       " array([2], dtype=int64),\n",
       " array([2], dtype=int64),\n",
       " array([25, 26], dtype=int64),\n",
       " array([], dtype=int64),\n",
       " array([ 3,  4,  6,  7,  8,  9, 10, 11, 17, 18, 19, 20], dtype=int64),\n",
       " array([], dtype=int64),\n",
       " array([1], dtype=int64),\n",
       " array([2], dtype=int64),\n",
       " array([2], dtype=int64),\n",
       " array([], dtype=int64),\n",
       " array([], dtype=int64),\n",
       " array([  6,   7, 130, 131], dtype=int64),\n",
       " array([], dtype=int64),\n",
       " array([2], dtype=int64),\n",
       " array([], dtype=int64),\n",
       " array([], dtype=int64),\n",
       " array([], dtype=int64),\n",
       " array([], dtype=int64),\n",
       " array([2], dtype=int64),\n",
       " array([], dtype=int64),\n",
       " array([2], dtype=int64),\n",
       " array([], dtype=int64),\n",
       " array([2], dtype=int64),\n",
       " array([2], dtype=int64),\n",
       " array([], dtype=int64),\n",
       " array([2], dtype=int64),\n",
       " array([], dtype=int64),\n",
       " array([2], dtype=int64),\n",
       " array([2], dtype=int64),\n",
       " array([2], dtype=int64),\n",
       " array([2], dtype=int64),\n",
       " ...]"
      ]
     },
     "execution_count": 83,
     "metadata": {},
     "output_type": "execute_result"
    }
   ],
   "source": [
    "CPs_hmm2"
   ]
  },
  {
   "cell_type": "markdown",
   "id": "aa00dd81-22e1-4b3c-a890-25373fe3b2d0",
   "metadata": {
    "heading_collapsed": "true",
    "tags": []
   },
   "source": [
    "## Convex hull"
   ]
  },
  {
   "cell_type": "code",
   "execution_count": 102,
   "id": "7a4e0d34-a8a3-4cb3-b1cb-0ca3c76b8e1a",
   "metadata": {
    "tags": []
   },
   "outputs": [
    {
     "data": {
      "application/vnd.jupyter.widget-view+json": {
       "model_id": "8719501c392e4a4ea7524b20f1753d5d",
       "version_major": 2,
       "version_minor": 0
      },
      "text/plain": [
       "  0%|          | 0/3181 [00:00<?, ?it/s]"
      ]
     },
     "metadata": {},
     "output_type": "display_data"
    },
    {
     "name": "stderr",
     "output_type": "stream",
     "text": [
      "c:\\users\\gorka\\github\\andi_datasets_dev\\andi_datasets\\analysis_methods.py:20: RuntimeWarning: Mean of empty slice.\n",
      "  below_mean = Sd < Sd.mean()\n",
      "C:\\Users\\Gorka\\anaconda3\\lib\\site-packages\\numpy\\core\\_methods.py:188: RuntimeWarning: invalid value encountered in double_scalars\n",
      "  ret = ret.dtype.type(ret / rcount)\n",
      "c:\\users\\gorka\\github\\andi_datasets_dev\\andi_datasets\\analysis_methods.py:20: RuntimeWarning: Mean of empty slice.\n",
      "  below_mean = Sd < Sd.mean()\n",
      "C:\\Users\\Gorka\\anaconda3\\lib\\site-packages\\numpy\\core\\_methods.py:188: RuntimeWarning: invalid value encountered in double_scalars\n",
      "  ret = ret.dtype.type(ret / rcount)\n",
      "c:\\users\\gorka\\github\\andi_datasets_dev\\andi_datasets\\analysis_methods.py:20: RuntimeWarning: Mean of empty slice.\n",
      "  below_mean = Sd < Sd.mean()\n",
      "C:\\Users\\Gorka\\anaconda3\\lib\\site-packages\\numpy\\core\\_methods.py:188: RuntimeWarning: invalid value encountered in double_scalars\n",
      "  ret = ret.dtype.type(ret / rcount)\n",
      "c:\\users\\gorka\\github\\andi_datasets_dev\\andi_datasets\\analysis_methods.py:20: RuntimeWarning: Mean of empty slice.\n",
      "  below_mean = Sd < Sd.mean()\n",
      "C:\\Users\\Gorka\\anaconda3\\lib\\site-packages\\numpy\\core\\_methods.py:188: RuntimeWarning: invalid value encountered in double_scalars\n",
      "  ret = ret.dtype.type(ret / rcount)\n",
      "c:\\users\\gorka\\github\\andi_datasets_dev\\andi_datasets\\analysis_methods.py:20: RuntimeWarning: Mean of empty slice.\n",
      "  below_mean = Sd < Sd.mean()\n",
      "C:\\Users\\Gorka\\anaconda3\\lib\\site-packages\\numpy\\core\\_methods.py:188: RuntimeWarning: invalid value encountered in double_scalars\n",
      "  ret = ret.dtype.type(ret / rcount)\n",
      "c:\\users\\gorka\\github\\andi_datasets_dev\\andi_datasets\\analysis_methods.py:20: RuntimeWarning: Mean of empty slice.\n",
      "  below_mean = Sd < Sd.mean()\n",
      "C:\\Users\\Gorka\\anaconda3\\lib\\site-packages\\numpy\\core\\_methods.py:188: RuntimeWarning: invalid value encountered in double_scalars\n",
      "  ret = ret.dtype.type(ret / rcount)\n",
      "c:\\users\\gorka\\github\\andi_datasets_dev\\andi_datasets\\analysis_methods.py:20: RuntimeWarning: Mean of empty slice.\n",
      "  below_mean = Sd < Sd.mean()\n",
      "C:\\Users\\Gorka\\anaconda3\\lib\\site-packages\\numpy\\core\\_methods.py:188: RuntimeWarning: invalid value encountered in double_scalars\n",
      "  ret = ret.dtype.type(ret / rcount)\n",
      "c:\\users\\gorka\\github\\andi_datasets_dev\\andi_datasets\\analysis_methods.py:20: RuntimeWarning: Mean of empty slice.\n",
      "  below_mean = Sd < Sd.mean()\n",
      "C:\\Users\\Gorka\\anaconda3\\lib\\site-packages\\numpy\\core\\_methods.py:188: RuntimeWarning: invalid value encountered in double_scalars\n",
      "  ret = ret.dtype.type(ret / rcount)\n",
      "c:\\users\\gorka\\github\\andi_datasets_dev\\andi_datasets\\analysis_methods.py:20: RuntimeWarning: Mean of empty slice.\n",
      "  below_mean = Sd < Sd.mean()\n",
      "C:\\Users\\Gorka\\anaconda3\\lib\\site-packages\\numpy\\core\\_methods.py:188: RuntimeWarning: invalid value encountered in double_scalars\n",
      "  ret = ret.dtype.type(ret / rcount)\n",
      "c:\\users\\gorka\\github\\andi_datasets_dev\\andi_datasets\\analysis_methods.py:20: RuntimeWarning: Mean of empty slice.\n",
      "  below_mean = Sd < Sd.mean()\n",
      "C:\\Users\\Gorka\\anaconda3\\lib\\site-packages\\numpy\\core\\_methods.py:188: RuntimeWarning: invalid value encountered in double_scalars\n",
      "  ret = ret.dtype.type(ret / rcount)\n",
      "c:\\users\\gorka\\github\\andi_datasets_dev\\andi_datasets\\analysis_methods.py:20: RuntimeWarning: Mean of empty slice.\n",
      "  below_mean = Sd < Sd.mean()\n",
      "C:\\Users\\Gorka\\anaconda3\\lib\\site-packages\\numpy\\core\\_methods.py:188: RuntimeWarning: invalid value encountered in double_scalars\n",
      "  ret = ret.dtype.type(ret / rcount)\n",
      "c:\\users\\gorka\\github\\andi_datasets_dev\\andi_datasets\\analysis_methods.py:20: RuntimeWarning: Mean of empty slice.\n",
      "  below_mean = Sd < Sd.mean()\n",
      "C:\\Users\\Gorka\\anaconda3\\lib\\site-packages\\numpy\\core\\_methods.py:188: RuntimeWarning: invalid value encountered in double_scalars\n",
      "  ret = ret.dtype.type(ret / rcount)\n",
      "c:\\users\\gorka\\github\\andi_datasets_dev\\andi_datasets\\analysis_methods.py:20: RuntimeWarning: Mean of empty slice.\n",
      "  below_mean = Sd < Sd.mean()\n",
      "C:\\Users\\Gorka\\anaconda3\\lib\\site-packages\\numpy\\core\\_methods.py:188: RuntimeWarning: invalid value encountered in double_scalars\n",
      "  ret = ret.dtype.type(ret / rcount)\n",
      "c:\\users\\gorka\\github\\andi_datasets_dev\\andi_datasets\\analysis_methods.py:20: RuntimeWarning: Mean of empty slice.\n",
      "  below_mean = Sd < Sd.mean()\n",
      "C:\\Users\\Gorka\\anaconda3\\lib\\site-packages\\numpy\\core\\_methods.py:188: RuntimeWarning: invalid value encountered in double_scalars\n",
      "  ret = ret.dtype.type(ret / rcount)\n",
      "c:\\users\\gorka\\github\\andi_datasets_dev\\andi_datasets\\analysis_methods.py:20: RuntimeWarning: Mean of empty slice.\n",
      "  below_mean = Sd < Sd.mean()\n",
      "C:\\Users\\Gorka\\anaconda3\\lib\\site-packages\\numpy\\core\\_methods.py:188: RuntimeWarning: invalid value encountered in double_scalars\n",
      "  ret = ret.dtype.type(ret / rcount)\n",
      "c:\\users\\gorka\\github\\andi_datasets_dev\\andi_datasets\\analysis_methods.py:20: RuntimeWarning: Mean of empty slice.\n",
      "  below_mean = Sd < Sd.mean()\n",
      "C:\\Users\\Gorka\\anaconda3\\lib\\site-packages\\numpy\\core\\_methods.py:188: RuntimeWarning: invalid value encountered in double_scalars\n",
      "  ret = ret.dtype.type(ret / rcount)\n",
      "c:\\users\\gorka\\github\\andi_datasets_dev\\andi_datasets\\analysis_methods.py:20: RuntimeWarning: Mean of empty slice.\n",
      "  below_mean = Sd < Sd.mean()\n",
      "C:\\Users\\Gorka\\anaconda3\\lib\\site-packages\\numpy\\core\\_methods.py:188: RuntimeWarning: invalid value encountered in double_scalars\n",
      "  ret = ret.dtype.type(ret / rcount)\n",
      "c:\\users\\gorka\\github\\andi_datasets_dev\\andi_datasets\\analysis_methods.py:20: RuntimeWarning: Mean of empty slice.\n",
      "  below_mean = Sd < Sd.mean()\n",
      "C:\\Users\\Gorka\\anaconda3\\lib\\site-packages\\numpy\\core\\_methods.py:188: RuntimeWarning: invalid value encountered in double_scalars\n",
      "  ret = ret.dtype.type(ret / rcount)\n",
      "c:\\users\\gorka\\github\\andi_datasets_dev\\andi_datasets\\analysis_methods.py:20: RuntimeWarning: Mean of empty slice.\n",
      "  below_mean = Sd < Sd.mean()\n",
      "C:\\Users\\Gorka\\anaconda3\\lib\\site-packages\\numpy\\core\\_methods.py:188: RuntimeWarning: invalid value encountered in double_scalars\n",
      "  ret = ret.dtype.type(ret / rcount)\n"
     ]
    }
   ],
   "source": [
    "df = pd.read_csv('trues/condition_2.csv')\n",
    "indices = df['idx'].unique()\n",
    "\n",
    "CPs_CH2 = []\n",
    "for idx in tqdm(indices):\n",
    "    traj = np.vstack((df.loc[df['idx'] == idx]['x'].values,\n",
    "                      df.loc[df['idx'] == idx]['y'].values)).transpose()\n",
    "    \n",
    "    CPs_CH2.append(get_changepoints_convexhull([traj])[0].flatten())\n",
    "    "
   ]
  },
  {
   "cell_type": "markdown",
   "id": "562f29a6-43ab-4d2c-a47b-311ecf000b22",
   "metadata": {
    "tags": []
   },
   "source": [
    "# Condition 3: Compartments\n",
    "Two diffusive state with properties:\n",
    "- $\\alpha = 0.7$\n",
    "- $D = [0.1, 1]$\n",
    "- transmittance $T = 0.1$"
   ]
  },
  {
   "cell_type": "code",
   "execution_count": 85,
   "id": "a6d67fff-2a08-43e7-831a-0448d000a2e1",
   "metadata": {},
   "outputs": [
    {
     "data": {
      "application/vnd.jupyter.widget-view+json": {
       "model_id": "148a3b38088e42b5b7fb5b3f9717b892",
       "version_major": 2,
       "version_minor": 0
      },
      "text/plain": [
       "  0%|          | 0/6105 [00:00<?, ?it/s]"
      ]
     },
     "metadata": {},
     "output_type": "display_data"
    }
   ],
   "source": [
    "trues_raw_df = pd.read_csv('trues/labels_condition_3.csv')\n",
    "df_true3 = df_to_txt(trues_raw_df)"
   ]
  },
  {
   "cell_type": "markdown",
   "id": "bd484ca8-2dc8-42b5-bc0a-807dd056f2b5",
   "metadata": {
    "tags": []
   },
   "source": [
    "## Carlo"
   ]
  },
  {
   "cell_type": "code",
   "execution_count": 92,
   "id": "86a7716a-7865-4088-a9eb-1aafc27df20f",
   "metadata": {},
   "outputs": [],
   "source": [
    "pred_path3 = '../testing/preds/0217_carlo_condition_3.txt'\n",
    "df_pred3 = load_file_to_df(pred_path3)"
   ]
  },
  {
   "cell_type": "code",
   "execution_count": 93,
   "id": "8f10ffcf-a930-4305-a5aa-5f38862802d3",
   "metadata": {
    "tags": []
   },
   "outputs": [
    {
     "data": {
      "application/vnd.jupyter.widget-view+json": {
       "model_id": "58e3cd73681740189fe7708bf239442d",
       "version_major": 2,
       "version_minor": 0
      },
      "text/plain": [
       "  0%|          | 0/6105 [00:00<?, ?it/s]"
      ]
     },
     "metadata": {},
     "output_type": "display_data"
    },
    {
     "name": "stdout",
     "output_type": "stream",
     "text": [
      "Summary of the experiment: \n",
      "\n",
      "Number of states: 1 \n",
      "Exponents: [0.7] \n",
      "Diffusion Coeff.: [0.1 1. ] \n",
      "\n",
      "Changepoint Metrics \n",
      "RMSE: 5.422 \n",
      "Jaccard Index: 0.204 \n",
      "\n",
      "Diffusion property metrics \n",
      "Error anomalous exponent: 0.14599666592078764 \n",
      "Error diffusion coefficient: 0.48193594128441775 \n",
      "Error diffusive state: 0.0003356455582904453\n"
     ]
    }
   ],
   "source": [
    "rmse_CP, JI, error_alpha, error_D, error_s = error_ensemble_prediction(df_pred3, df_true3)\n",
    "\n",
    "# df = pd.DataFrame(columns = ['RMSE CP', 'Jaccard Index', r'MAE $\\alpha$', r'log_error D', 'F1 score states'])\n",
    "# df.loc[0] = rmse_CP, JI, error_alpha, error_D, error_s\n",
    "# df"
   ]
  },
  {
   "cell_type": "code",
   "execution_count": 58,
   "id": "e7ff848b-1da5-4aac-a3bd-7e789b5943f1",
   "metadata": {},
   "outputs": [],
   "source": [
    "Ds = np.concatenate(df_pred3['Ds'].values)\n",
    "alphas = np.concatenate(df_pred3['alphas'].values)\n",
    "true_D = [0.1, 1]\n",
    "true_a = [0.7]"
   ]
  },
  {
   "cell_type": "code",
   "execution_count": 59,
   "id": "a0e125dc-a5f5-443c-aaab-23c64d405247",
   "metadata": {},
   "outputs": [
    {
     "data": {
      "text/plain": [
       "<matplotlib.legend.Legend at 0x1cceb5552b0>"
      ]
     },
     "execution_count": 59,
     "metadata": {},
     "output_type": "execute_result"
    },
    {
     "data": {
      "image/png": "[encoded data removed]",
      "text/plain": [
       "<Figure size 432x288 with 1 Axes>"
      ]
     },
     "metadata": {
      "needs_background": "light"
     },
     "output_type": "display_data"
    }
   ],
   "source": [
    "plt.hist(Ds, bins = 50)\n",
    "for idx, true in enumerate(true_D):\n",
    "    plt.axvline(true, label = f'D state {idx}', c = 'k')\n",
    "plt.legend()"
   ]
  },
  {
   "cell_type": "code",
   "execution_count": 20,
   "id": "b64e47c0-8f57-4269-b8f0-1285630abbcd",
   "metadata": {},
   "outputs": [
    {
     "data": {
      "text/plain": [
       "<matplotlib.legend.Legend at 0x146cf22c400>"
      ]
     },
     "execution_count": 20,
     "metadata": {},
     "output_type": "execute_result"
    },
    {
     "data": {
      "image/png": "[encoded data removed]",
      "text/plain": [
       "<Figure size 432x288 with 1 Axes>"
      ]
     },
     "metadata": {
      "needs_background": "light"
     },
     "output_type": "display_data"
    }
   ],
   "source": [
    "plt.hist(alphas, bins = 30)\n",
    "for idx, true in enumerate(true_a):\n",
    "    plt.axvline(true, label = fr'$\\alpha$ state {idx}', c = 'k')\n",
    "plt.legend()"
   ]
  },
  {
   "cell_type": "markdown",
   "id": "70dd738c-4651-4a9c-8b83-a3b6d13604ea",
   "metadata": {
    "tags": []
   },
   "source": [
    "## HMM prediction"
   ]
  },
  {
   "cell_type": "code",
   "execution_count": 87,
   "id": "8d07ab41-f770-4ad0-a630-3545a1759a70",
   "metadata": {},
   "outputs": [],
   "source": [
    "df_hmm3 = pd.read_csv('preds/condition_3_StateHMM.csv', names = ['t', 'idx', 'state'])"
   ]
  },
  {
   "cell_type": "code",
   "execution_count": 113,
   "id": "eacdd8c7-d80f-4244-9cd5-0ca50faa3470",
   "metadata": {},
   "outputs": [
    {
     "data": {
      "application/vnd.jupyter.widget-view+json": {
       "model_id": "91c3538ed6c44ecea02fa9a76825d00e",
       "version_major": 2,
       "version_minor": 0
      },
      "text/plain": [
       "  0%|          | 0/6105 [00:00<?, ?it/s]"
      ]
     },
     "metadata": {},
     "output_type": "display_data"
    }
   ],
   "source": [
    "CPs_hmm3 = []\n",
    "lens = []\n",
    "for idx in tqdm(df_hmm3['idx'].unique()):\n",
    "    pred = df_hmm3.loc[df_hmm3['idx'] == idx]['state'].values\n",
    "    CP = np.argwhere(pred[1:] != pred[:-1])+1\n",
    "    CPs_hmm3.append(CP.flatten())\n",
    "    lens.append(len(pred))"
   ]
  },
  {
   "cell_type": "code",
   "execution_count": 100,
   "id": "d9463178-ca27-4181-b502-624b0c75d2c7",
   "metadata": {},
   "outputs": [
    {
     "data": {
      "text/plain": [
       "(1.998006657267801, 0.8575724439584472)"
      ]
     },
     "execution_count": 100,
     "metadata": {},
     "output_type": "execute_result"
    }
   ],
   "source": [
    "ensemble_changepoint_error(df_true3['changepoints'].values, CPs_hmm3, threshold = 10)"
   ]
  },
  {
   "cell_type": "markdown",
   "id": "34af4b36-4dd4-46ba-b3f6-5fa8d20551b5",
   "metadata": {
    "tags": []
   },
   "source": [
    "## Convex hull"
   ]
  },
  {
   "cell_type": "code",
   "execution_count": 103,
   "id": "e502e25b-c0fd-4032-b0e5-325e02d0f1be",
   "metadata": {
    "collapsed": true,
    "jupyter": {
     "outputs_hidden": true
    },
    "tags": []
   },
   "outputs": [
    {
     "data": {
      "application/vnd.jupyter.widget-view+json": {
       "model_id": "72e118b656f549d0a523efa79180122f",
       "version_major": 2,
       "version_minor": 0
      },
      "text/plain": [
       "  0%|          | 0/6105 [00:00<?, ?it/s]"
      ]
     },
     "metadata": {},
     "output_type": "display_data"
    },
    {
     "name": "stderr",
     "output_type": "stream",
     "text": [
      "c:\\users\\gorka\\github\\andi_datasets_dev\\andi_datasets\\analysis_methods.py:20: RuntimeWarning: Mean of empty slice.\n",
      "  below_mean = Sd < Sd.mean()\n",
      "C:\\Users\\Gorka\\anaconda3\\lib\\site-packages\\numpy\\core\\_methods.py:188: RuntimeWarning: invalid value encountered in double_scalars\n",
      "  ret = ret.dtype.type(ret / rcount)\n",
      "c:\\users\\gorka\\github\\andi_datasets_dev\\andi_datasets\\analysis_methods.py:20: RuntimeWarning: Mean of empty slice.\n",
      "  below_mean = Sd < Sd.mean()\n",
      "C:\\Users\\Gorka\\anaconda3\\lib\\site-packages\\numpy\\core\\_methods.py:188: RuntimeWarning: invalid value encountered in double_scalars\n",
      "  ret = ret.dtype.type(ret / rcount)\n",
      "c:\\users\\gorka\\github\\andi_datasets_dev\\andi_datasets\\analysis_methods.py:20: RuntimeWarning: Mean of empty slice.\n",
      "  below_mean = Sd < Sd.mean()\n",
      "C:\\Users\\Gorka\\anaconda3\\lib\\site-packages\\numpy\\core\\_methods.py:188: RuntimeWarning: invalid value encountered in double_scalars\n",
      "  ret = ret.dtype.type(ret / rcount)\n",
      "c:\\users\\gorka\\github\\andi_datasets_dev\\andi_datasets\\analysis_methods.py:20: RuntimeWarning: Mean of empty slice.\n",
      "  below_mean = Sd < Sd.mean()\n",
      "C:\\Users\\Gorka\\anaconda3\\lib\\site-packages\\numpy\\core\\_methods.py:188: RuntimeWarning: invalid value encountered in double_scalars\n",
      "  ret = ret.dtype.type(ret / rcount)\n",
      "c:\\users\\gorka\\github\\andi_datasets_dev\\andi_datasets\\analysis_methods.py:20: RuntimeWarning: Mean of empty slice.\n",
      "  below_mean = Sd < Sd.mean()\n",
      "C:\\Users\\Gorka\\anaconda3\\lib\\site-packages\\numpy\\core\\_methods.py:188: RuntimeWarning: invalid value encountered in double_scalars\n",
      "  ret = ret.dtype.type(ret / rcount)\n",
      "c:\\users\\gorka\\github\\andi_datasets_dev\\andi_datasets\\analysis_methods.py:20: RuntimeWarning: Mean of empty slice.\n",
      "  below_mean = Sd < Sd.mean()\n",
      "C:\\Users\\Gorka\\anaconda3\\lib\\site-packages\\numpy\\core\\_methods.py:188: RuntimeWarning: invalid value encountered in double_scalars\n",
      "  ret = ret.dtype.type(ret / rcount)\n",
      "c:\\users\\gorka\\github\\andi_datasets_dev\\andi_datasets\\analysis_methods.py:20: RuntimeWarning: Mean of empty slice.\n",
      "  below_mean = Sd < Sd.mean()\n",
      "C:\\Users\\Gorka\\anaconda3\\lib\\site-packages\\numpy\\core\\_methods.py:188: RuntimeWarning: invalid value encountered in double_scalars\n",
      "  ret = ret.dtype.type(ret / rcount)\n",
      "c:\\users\\gorka\\github\\andi_datasets_dev\\andi_datasets\\analysis_methods.py:20: RuntimeWarning: Mean of empty slice.\n",
      "  below_mean = Sd < Sd.mean()\n",
      "C:\\Users\\Gorka\\anaconda3\\lib\\site-packages\\numpy\\core\\_methods.py:188: RuntimeWarning: invalid value encountered in double_scalars\n",
      "  ret = ret.dtype.type(ret / rcount)\n",
      "c:\\users\\gorka\\github\\andi_datasets_dev\\andi_datasets\\analysis_methods.py:20: RuntimeWarning: Mean of empty slice.\n",
      "  below_mean = Sd < Sd.mean()\n",
      "C:\\Users\\Gorka\\anaconda3\\lib\\site-packages\\numpy\\core\\_methods.py:188: RuntimeWarning: invalid value encountered in double_scalars\n",
      "  ret = ret.dtype.type(ret / rcount)\n",
      "c:\\users\\gorka\\github\\andi_datasets_dev\\andi_datasets\\analysis_methods.py:20: RuntimeWarning: Mean of empty slice.\n",
      "  below_mean = Sd < Sd.mean()\n",
      "C:\\Users\\Gorka\\anaconda3\\lib\\site-packages\\numpy\\core\\_methods.py:188: RuntimeWarning: invalid value encountered in double_scalars\n",
      "  ret = ret.dtype.type(ret / rcount)\n",
      "c:\\users\\gorka\\github\\andi_datasets_dev\\andi_datasets\\analysis_methods.py:20: RuntimeWarning: Mean of empty slice.\n",
      "  below_mean = Sd < Sd.mean()\n",
      "C:\\Users\\Gorka\\anaconda3\\lib\\site-packages\\numpy\\core\\_methods.py:188: RuntimeWarning: invalid value encountered in double_scalars\n",
      "  ret = ret.dtype.type(ret / rcount)\n",
      "c:\\users\\gorka\\github\\andi_datasets_dev\\andi_datasets\\analysis_methods.py:20: RuntimeWarning: Mean of empty slice.\n",
      "  below_mean = Sd < Sd.mean()\n",
      "C:\\Users\\Gorka\\anaconda3\\lib\\site-packages\\numpy\\core\\_methods.py:188: RuntimeWarning: invalid value encountered in double_scalars\n",
      "  ret = ret.dtype.type(ret / rcount)\n",
      "c:\\users\\gorka\\github\\andi_datasets_dev\\andi_datasets\\analysis_methods.py:20: RuntimeWarning: Mean of empty slice.\n",
      "  below_mean = Sd < Sd.mean()\n",
      "C:\\Users\\Gorka\\anaconda3\\lib\\site-packages\\numpy\\core\\_methods.py:188: RuntimeWarning: invalid value encountered in double_scalars\n",
      "  ret = ret.dtype.type(ret / rcount)\n",
      "c:\\users\\gorka\\github\\andi_datasets_dev\\andi_datasets\\analysis_methods.py:20: RuntimeWarning: Mean of empty slice.\n",
      "  below_mean = Sd < Sd.mean()\n",
      "C:\\Users\\Gorka\\anaconda3\\lib\\site-packages\\numpy\\core\\_methods.py:188: RuntimeWarning: invalid value encountered in double_scalars\n",
      "  ret = ret.dtype.type(ret / rcount)\n",
      "c:\\users\\gorka\\github\\andi_datasets_dev\\andi_datasets\\analysis_methods.py:20: RuntimeWarning: Mean of empty slice.\n",
      "  below_mean = Sd < Sd.mean()\n",
      "C:\\Users\\Gorka\\anaconda3\\lib\\site-packages\\numpy\\core\\_methods.py:188: RuntimeWarning: invalid value encountered in double_scalars\n",
      "  ret = ret.dtype.type(ret / rcount)\n",
      "c:\\users\\gorka\\github\\andi_datasets_dev\\andi_datasets\\analysis_methods.py:20: RuntimeWarning: Mean of empty slice.\n",
      "  below_mean = Sd < Sd.mean()\n",
      "C:\\Users\\Gorka\\anaconda3\\lib\\site-packages\\numpy\\core\\_methods.py:188: RuntimeWarning: invalid value encountered in double_scalars\n",
      "  ret = ret.dtype.type(ret / rcount)\n",
      "c:\\users\\gorka\\github\\andi_datasets_dev\\andi_datasets\\analysis_methods.py:20: RuntimeWarning: Mean of empty slice.\n",
      "  below_mean = Sd < Sd.mean()\n",
      "C:\\Users\\Gorka\\anaconda3\\lib\\site-packages\\numpy\\core\\_methods.py:188: RuntimeWarning: invalid value encountered in double_scalars\n",
      "  ret = ret.dtype.type(ret / rcount)\n",
      "c:\\users\\gorka\\github\\andi_datasets_dev\\andi_datasets\\analysis_methods.py:20: RuntimeWarning: Mean of empty slice.\n",
      "  below_mean = Sd < Sd.mean()\n",
      "C:\\Users\\Gorka\\anaconda3\\lib\\site-packages\\numpy\\core\\_methods.py:188: RuntimeWarning: invalid value encountered in double_scalars\n",
      "  ret = ret.dtype.type(ret / rcount)\n",
      "c:\\users\\gorka\\github\\andi_datasets_dev\\andi_datasets\\analysis_methods.py:20: RuntimeWarning: Mean of empty slice.\n",
      "  below_mean = Sd < Sd.mean()\n",
      "C:\\Users\\Gorka\\anaconda3\\lib\\site-packages\\numpy\\core\\_methods.py:188: RuntimeWarning: invalid value encountered in double_scalars\n",
      "  ret = ret.dtype.type(ret / rcount)\n",
      "c:\\users\\gorka\\github\\andi_datasets_dev\\andi_datasets\\analysis_methods.py:20: RuntimeWarning: Mean of empty slice.\n",
      "  below_mean = Sd < Sd.mean()\n",
      "C:\\Users\\Gorka\\anaconda3\\lib\\site-packages\\numpy\\core\\_methods.py:188: RuntimeWarning: invalid value encountered in double_scalars\n",
      "  ret = ret.dtype.type(ret / rcount)\n",
      "c:\\users\\gorka\\github\\andi_datasets_dev\\andi_datasets\\analysis_methods.py:20: RuntimeWarning: Mean of empty slice.\n",
      "  below_mean = Sd < Sd.mean()\n",
      "C:\\Users\\Gorka\\anaconda3\\lib\\site-packages\\numpy\\core\\_methods.py:188: RuntimeWarning: invalid value encountered in double_scalars\n",
      "  ret = ret.dtype.type(ret / rcount)\n",
      "c:\\users\\gorka\\github\\andi_datasets_dev\\andi_datasets\\analysis_methods.py:20: RuntimeWarning: Mean of empty slice.\n",
      "  below_mean = Sd < Sd.mean()\n",
      "C:\\Users\\Gorka\\anaconda3\\lib\\site-packages\\numpy\\core\\_methods.py:188: RuntimeWarning: invalid value encountered in double_scalars\n",
      "  ret = ret.dtype.type(ret / rcount)\n",
      "c:\\users\\gorka\\github\\andi_datasets_dev\\andi_datasets\\analysis_methods.py:20: RuntimeWarning: Mean of empty slice.\n",
      "  below_mean = Sd < Sd.mean()\n",
      "C:\\Users\\Gorka\\anaconda3\\lib\\site-packages\\numpy\\core\\_methods.py:188: RuntimeWarning: invalid value encountered in double_scalars\n",
      "  ret = ret.dtype.type(ret / rcount)\n",
      "c:\\users\\gorka\\github\\andi_datasets_dev\\andi_datasets\\analysis_methods.py:20: RuntimeWarning: Mean of empty slice.\n",
      "  below_mean = Sd < Sd.mean()\n",
      "C:\\Users\\Gorka\\anaconda3\\lib\\site-packages\\numpy\\core\\_methods.py:188: RuntimeWarning: invalid value encountered in double_scalars\n",
      "  ret = ret.dtype.type(ret / rcount)\n",
      "c:\\users\\gorka\\github\\andi_datasets_dev\\andi_datasets\\analysis_methods.py:20: RuntimeWarning: Mean of empty slice.\n",
      "  below_mean = Sd < Sd.mean()\n",
      "C:\\Users\\Gorka\\anaconda3\\lib\\site-packages\\numpy\\core\\_methods.py:188: RuntimeWarning: invalid value encountered in double_scalars\n",
      "  ret = ret.dtype.type(ret / rcount)\n",
      "c:\\users\\gorka\\github\\andi_datasets_dev\\andi_datasets\\analysis_methods.py:20: RuntimeWarning: Mean of empty slice.\n",
      "  below_mean = Sd < Sd.mean()\n",
      "C:\\Users\\Gorka\\anaconda3\\lib\\site-packages\\numpy\\core\\_methods.py:188: RuntimeWarning: invalid value encountered in double_scalars\n",
      "  ret = ret.dtype.type(ret / rcount)\n",
      "c:\\users\\gorka\\github\\andi_datasets_dev\\andi_datasets\\analysis_methods.py:20: RuntimeWarning: Mean of empty slice.\n",
      "  below_mean = Sd < Sd.mean()\n",
      "C:\\Users\\Gorka\\anaconda3\\lib\\site-packages\\numpy\\core\\_methods.py:188: RuntimeWarning: invalid value encountered in double_scalars\n",
      "  ret = ret.dtype.type(ret / rcount)\n",
      "c:\\users\\gorka\\github\\andi_datasets_dev\\andi_datasets\\analysis_methods.py:20: RuntimeWarning: Mean of empty slice.\n",
      "  below_mean = Sd < Sd.mean()\n",
      "C:\\Users\\Gorka\\anaconda3\\lib\\site-packages\\numpy\\core\\_methods.py:188: RuntimeWarning: invalid value encountered in double_scalars\n",
      "  ret = ret.dtype.type(ret / rcount)\n",
      "c:\\users\\gorka\\github\\andi_datasets_dev\\andi_datasets\\analysis_methods.py:20: RuntimeWarning: Mean of empty slice.\n",
      "  below_mean = Sd < Sd.mean()\n",
      "C:\\Users\\Gorka\\anaconda3\\lib\\site-packages\\numpy\\core\\_methods.py:188: RuntimeWarning: invalid value encountered in double_scalars\n",
      "  ret = ret.dtype.type(ret / rcount)\n",
      "c:\\users\\gorka\\github\\andi_datasets_dev\\andi_datasets\\analysis_methods.py:20: RuntimeWarning: Mean of empty slice.\n",
      "  below_mean = Sd < Sd.mean()\n",
      "C:\\Users\\Gorka\\anaconda3\\lib\\site-packages\\numpy\\core\\_methods.py:188: RuntimeWarning: invalid value encountered in double_scalars\n",
      "  ret = ret.dtype.type(ret / rcount)\n",
      "c:\\users\\gorka\\github\\andi_datasets_dev\\andi_datasets\\analysis_methods.py:20: RuntimeWarning: Mean of empty slice.\n",
      "  below_mean = Sd < Sd.mean()\n",
      "C:\\Users\\Gorka\\anaconda3\\lib\\site-packages\\numpy\\core\\_methods.py:188: RuntimeWarning: invalid value encountered in double_scalars\n",
      "  ret = ret.dtype.type(ret / rcount)\n",
      "c:\\users\\gorka\\github\\andi_datasets_dev\\andi_datasets\\analysis_methods.py:20: RuntimeWarning: Mean of empty slice.\n",
      "  below_mean = Sd < Sd.mean()\n",
      "C:\\Users\\Gorka\\anaconda3\\lib\\site-packages\\numpy\\core\\_methods.py:188: RuntimeWarning: invalid value encountered in double_scalars\n",
      "  ret = ret.dtype.type(ret / rcount)\n",
      "c:\\users\\gorka\\github\\andi_datasets_dev\\andi_datasets\\analysis_methods.py:20: RuntimeWarning: Mean of empty slice.\n",
      "  below_mean = Sd < Sd.mean()\n",
      "C:\\Users\\Gorka\\anaconda3\\lib\\site-packages\\numpy\\core\\_methods.py:188: RuntimeWarning: invalid value encountered in double_scalars\n",
      "  ret = ret.dtype.type(ret / rcount)\n",
      "c:\\users\\gorka\\github\\andi_datasets_dev\\andi_datasets\\analysis_methods.py:20: RuntimeWarning: Mean of empty slice.\n",
      "  below_mean = Sd < Sd.mean()\n",
      "C:\\Users\\Gorka\\anaconda3\\lib\\site-packages\\numpy\\core\\_methods.py:188: RuntimeWarning: invalid value encountered in double_scalars\n",
      "  ret = ret.dtype.type(ret / rcount)\n",
      "c:\\users\\gorka\\github\\andi_datasets_dev\\andi_datasets\\analysis_methods.py:20: RuntimeWarning: Mean of empty slice.\n",
      "  below_mean = Sd < Sd.mean()\n",
      "C:\\Users\\Gorka\\anaconda3\\lib\\site-packages\\numpy\\core\\_methods.py:188: RuntimeWarning: invalid value encountered in double_scalars\n",
      "  ret = ret.dtype.type(ret / rcount)\n",
      "c:\\users\\gorka\\github\\andi_datasets_dev\\andi_datasets\\analysis_methods.py:20: RuntimeWarning: Mean of empty slice.\n",
      "  below_mean = Sd < Sd.mean()\n",
      "C:\\Users\\Gorka\\anaconda3\\lib\\site-packages\\numpy\\core\\_methods.py:188: RuntimeWarning: invalid value encountered in double_scalars\n",
      "  ret = ret.dtype.type(ret / rcount)\n",
      "c:\\users\\gorka\\github\\andi_datasets_dev\\andi_datasets\\analysis_methods.py:20: RuntimeWarning: Mean of empty slice.\n",
      "  below_mean = Sd < Sd.mean()\n",
      "C:\\Users\\Gorka\\anaconda3\\lib\\site-packages\\numpy\\core\\_methods.py:188: RuntimeWarning: invalid value encountered in double_scalars\n",
      "  ret = ret.dtype.type(ret / rcount)\n",
      "c:\\users\\gorka\\github\\andi_datasets_dev\\andi_datasets\\analysis_methods.py:20: RuntimeWarning: Mean of empty slice.\n",
      "  below_mean = Sd < Sd.mean()\n",
      "C:\\Users\\Gorka\\anaconda3\\lib\\site-packages\\numpy\\core\\_methods.py:188: RuntimeWarning: invalid value encountered in double_scalars\n",
      "  ret = ret.dtype.type(ret / rcount)\n",
      "c:\\users\\gorka\\github\\andi_datasets_dev\\andi_datasets\\analysis_methods.py:20: RuntimeWarning: Mean of empty slice.\n",
      "  below_mean = Sd < Sd.mean()\n",
      "C:\\Users\\Gorka\\anaconda3\\lib\\site-packages\\numpy\\core\\_methods.py:188: RuntimeWarning: invalid value encountered in double_scalars\n",
      "  ret = ret.dtype.type(ret / rcount)\n",
      "c:\\users\\gorka\\github\\andi_datasets_dev\\andi_datasets\\analysis_methods.py:20: RuntimeWarning: Mean of empty slice.\n",
      "  below_mean = Sd < Sd.mean()\n",
      "C:\\Users\\Gorka\\anaconda3\\lib\\site-packages\\numpy\\core\\_methods.py:188: RuntimeWarning: invalid value encountered in double_scalars\n",
      "  ret = ret.dtype.type(ret / rcount)\n",
      "c:\\users\\gorka\\github\\andi_datasets_dev\\andi_datasets\\analysis_methods.py:20: RuntimeWarning: Mean of empty slice.\n",
      "  below_mean = Sd < Sd.mean()\n",
      "C:\\Users\\Gorka\\anaconda3\\lib\\site-packages\\numpy\\core\\_methods.py:188: RuntimeWarning: invalid value encountered in double_scalars\n",
      "  ret = ret.dtype.type(ret / rcount)\n",
      "c:\\users\\gorka\\github\\andi_datasets_dev\\andi_datasets\\analysis_methods.py:20: RuntimeWarning: Mean of empty slice.\n",
      "  below_mean = Sd < Sd.mean()\n",
      "C:\\Users\\Gorka\\anaconda3\\lib\\site-packages\\numpy\\core\\_methods.py:188: RuntimeWarning: invalid value encountered in double_scalars\n",
      "  ret = ret.dtype.type(ret / rcount)\n",
      "c:\\users\\gorka\\github\\andi_datasets_dev\\andi_datasets\\analysis_methods.py:20: RuntimeWarning: Mean of empty slice.\n",
      "  below_mean = Sd < Sd.mean()\n",
      "C:\\Users\\Gorka\\anaconda3\\lib\\site-packages\\numpy\\core\\_methods.py:188: RuntimeWarning: invalid value encountered in double_scalars\n",
      "  ret = ret.dtype.type(ret / rcount)\n",
      "c:\\users\\gorka\\github\\andi_datasets_dev\\andi_datasets\\analysis_methods.py:20: RuntimeWarning: Mean of empty slice.\n",
      "  below_mean = Sd < Sd.mean()\n",
      "C:\\Users\\Gorka\\anaconda3\\lib\\site-packages\\numpy\\core\\_methods.py:188: RuntimeWarning: invalid value encountered in double_scalars\n",
      "  ret = ret.dtype.type(ret / rcount)\n",
      "c:\\users\\gorka\\github\\andi_datasets_dev\\andi_datasets\\analysis_methods.py:20: RuntimeWarning: Mean of empty slice.\n",
      "  below_mean = Sd < Sd.mean()\n",
      "C:\\Users\\Gorka\\anaconda3\\lib\\site-packages\\numpy\\core\\_methods.py:188: RuntimeWarning: invalid value encountered in double_scalars\n",
      "  ret = ret.dtype.type(ret / rcount)\n",
      "c:\\users\\gorka\\github\\andi_datasets_dev\\andi_datasets\\analysis_methods.py:20: RuntimeWarning: Mean of empty slice.\n",
      "  below_mean = Sd < Sd.mean()\n",
      "C:\\Users\\Gorka\\anaconda3\\lib\\site-packages\\numpy\\core\\_methods.py:188: RuntimeWarning: invalid value encountered in double_scalars\n",
      "  ret = ret.dtype.type(ret / rcount)\n",
      "c:\\users\\gorka\\github\\andi_datasets_dev\\andi_datasets\\analysis_methods.py:20: RuntimeWarning: Mean of empty slice.\n",
      "  below_mean = Sd < Sd.mean()\n",
      "C:\\Users\\Gorka\\anaconda3\\lib\\site-packages\\numpy\\core\\_methods.py:188: RuntimeWarning: invalid value encountered in double_scalars\n",
      "  ret = ret.dtype.type(ret / rcount)\n",
      "c:\\users\\gorka\\github\\andi_datasets_dev\\andi_datasets\\analysis_methods.py:20: RuntimeWarning: Mean of empty slice.\n",
      "  below_mean = Sd < Sd.mean()\n",
      "C:\\Users\\Gorka\\anaconda3\\lib\\site-packages\\numpy\\core\\_methods.py:188: RuntimeWarning: invalid value encountered in double_scalars\n",
      "  ret = ret.dtype.type(ret / rcount)\n",
      "c:\\users\\gorka\\github\\andi_datasets_dev\\andi_datasets\\analysis_methods.py:20: RuntimeWarning: Mean of empty slice.\n",
      "  below_mean = Sd < Sd.mean()\n",
      "C:\\Users\\Gorka\\anaconda3\\lib\\site-packages\\numpy\\core\\_methods.py:188: RuntimeWarning: invalid value encountered in double_scalars\n",
      "  ret = ret.dtype.type(ret / rcount)\n",
      "c:\\users\\gorka\\github\\andi_datasets_dev\\andi_datasets\\analysis_methods.py:20: RuntimeWarning: Mean of empty slice.\n",
      "  below_mean = Sd < Sd.mean()\n",
      "C:\\Users\\Gorka\\anaconda3\\lib\\site-packages\\numpy\\core\\_methods.py:188: RuntimeWarning: invalid value encountered in double_scalars\n",
      "  ret = ret.dtype.type(ret / rcount)\n",
      "c:\\users\\gorka\\github\\andi_datasets_dev\\andi_datasets\\analysis_methods.py:20: RuntimeWarning: Mean of empty slice.\n",
      "  below_mean = Sd < Sd.mean()\n",
      "C:\\Users\\Gorka\\anaconda3\\lib\\site-packages\\numpy\\core\\_methods.py:188: RuntimeWarning: invalid value encountered in double_scalars\n",
      "  ret = ret.dtype.type(ret / rcount)\n",
      "c:\\users\\gorka\\github\\andi_datasets_dev\\andi_datasets\\analysis_methods.py:20: RuntimeWarning: Mean of empty slice.\n",
      "  below_mean = Sd < Sd.mean()\n",
      "C:\\Users\\Gorka\\anaconda3\\lib\\site-packages\\numpy\\core\\_methods.py:188: RuntimeWarning: invalid value encountered in double_scalars\n",
      "  ret = ret.dtype.type(ret / rcount)\n",
      "c:\\users\\gorka\\github\\andi_datasets_dev\\andi_datasets\\analysis_methods.py:20: RuntimeWarning: Mean of empty slice.\n",
      "  below_mean = Sd < Sd.mean()\n",
      "C:\\Users\\Gorka\\anaconda3\\lib\\site-packages\\numpy\\core\\_methods.py:188: RuntimeWarning: invalid value encountered in double_scalars\n",
      "  ret = ret.dtype.type(ret / rcount)\n",
      "c:\\users\\gorka\\github\\andi_datasets_dev\\andi_datasets\\analysis_methods.py:20: RuntimeWarning: Mean of empty slice.\n",
      "  below_mean = Sd < Sd.mean()\n",
      "C:\\Users\\Gorka\\anaconda3\\lib\\site-packages\\numpy\\core\\_methods.py:188: RuntimeWarning: invalid value encountered in double_scalars\n",
      "  ret = ret.dtype.type(ret / rcount)\n",
      "c:\\users\\gorka\\github\\andi_datasets_dev\\andi_datasets\\analysis_methods.py:20: RuntimeWarning: Mean of empty slice.\n",
      "  below_mean = Sd < Sd.mean()\n",
      "C:\\Users\\Gorka\\anaconda3\\lib\\site-packages\\numpy\\core\\_methods.py:188: RuntimeWarning: invalid value encountered in double_scalars\n",
      "  ret = ret.dtype.type(ret / rcount)\n",
      "c:\\users\\gorka\\github\\andi_datasets_dev\\andi_datasets\\analysis_methods.py:20: RuntimeWarning: Mean of empty slice.\n",
      "  below_mean = Sd < Sd.mean()\n",
      "C:\\Users\\Gorka\\anaconda3\\lib\\site-packages\\numpy\\core\\_methods.py:188: RuntimeWarning: invalid value encountered in double_scalars\n",
      "  ret = ret.dtype.type(ret / rcount)\n",
      "c:\\users\\gorka\\github\\andi_datasets_dev\\andi_datasets\\analysis_methods.py:20: RuntimeWarning: Mean of empty slice.\n",
      "  below_mean = Sd < Sd.mean()\n",
      "C:\\Users\\Gorka\\anaconda3\\lib\\site-packages\\numpy\\core\\_methods.py:188: RuntimeWarning: invalid value encountered in double_scalars\n",
      "  ret = ret.dtype.type(ret / rcount)\n",
      "c:\\users\\gorka\\github\\andi_datasets_dev\\andi_datasets\\analysis_methods.py:20: RuntimeWarning: Mean of empty slice.\n",
      "  below_mean = Sd < Sd.mean()\n",
      "C:\\Users\\Gorka\\anaconda3\\lib\\site-packages\\numpy\\core\\_methods.py:188: RuntimeWarning: invalid value encountered in double_scalars\n",
      "  ret = ret.dtype.type(ret / rcount)\n",
      "c:\\users\\gorka\\github\\andi_datasets_dev\\andi_datasets\\analysis_methods.py:20: RuntimeWarning: Mean of empty slice.\n",
      "  below_mean = Sd < Sd.mean()\n",
      "C:\\Users\\Gorka\\anaconda3\\lib\\site-packages\\numpy\\core\\_methods.py:188: RuntimeWarning: invalid value encountered in double_scalars\n",
      "  ret = ret.dtype.type(ret / rcount)\n",
      "c:\\users\\gorka\\github\\andi_datasets_dev\\andi_datasets\\analysis_methods.py:20: RuntimeWarning: Mean of empty slice.\n",
      "  below_mean = Sd < Sd.mean()\n",
      "C:\\Users\\Gorka\\anaconda3\\lib\\site-packages\\numpy\\core\\_methods.py:188: RuntimeWarning: invalid value encountered in double_scalars\n",
      "  ret = ret.dtype.type(ret / rcount)\n",
      "c:\\users\\gorka\\github\\andi_datasets_dev\\andi_datasets\\analysis_methods.py:20: RuntimeWarning: Mean of empty slice.\n",
      "  below_mean = Sd < Sd.mean()\n",
      "C:\\Users\\Gorka\\anaconda3\\lib\\site-packages\\numpy\\core\\_methods.py:188: RuntimeWarning: invalid value encountered in double_scalars\n",
      "  ret = ret.dtype.type(ret / rcount)\n",
      "c:\\users\\gorka\\github\\andi_datasets_dev\\andi_datasets\\analysis_methods.py:20: RuntimeWarning: Mean of empty slice.\n",
      "  below_mean = Sd < Sd.mean()\n",
      "C:\\Users\\Gorka\\anaconda3\\lib\\site-packages\\numpy\\core\\_methods.py:188: RuntimeWarning: invalid value encountered in double_scalars\n",
      "  ret = ret.dtype.type(ret / rcount)\n",
      "c:\\users\\gorka\\github\\andi_datasets_dev\\andi_datasets\\analysis_methods.py:20: RuntimeWarning: Mean of empty slice.\n",
      "  below_mean = Sd < Sd.mean()\n",
      "C:\\Users\\Gorka\\anaconda3\\lib\\site-packages\\numpy\\core\\_methods.py:188: RuntimeWarning: invalid value encountered in double_scalars\n",
      "  ret = ret.dtype.type(ret / rcount)\n",
      "c:\\users\\gorka\\github\\andi_datasets_dev\\andi_datasets\\analysis_methods.py:20: RuntimeWarning: Mean of empty slice.\n",
      "  below_mean = Sd < Sd.mean()\n",
      "C:\\Users\\Gorka\\anaconda3\\lib\\site-packages\\numpy\\core\\_methods.py:188: RuntimeWarning: invalid value encountered in double_scalars\n",
      "  ret = ret.dtype.type(ret / rcount)\n",
      "c:\\users\\gorka\\github\\andi_datasets_dev\\andi_datasets\\analysis_methods.py:20: RuntimeWarning: Mean of empty slice.\n",
      "  below_mean = Sd < Sd.mean()\n",
      "C:\\Users\\Gorka\\anaconda3\\lib\\site-packages\\numpy\\core\\_methods.py:188: RuntimeWarning: invalid value encountered in double_scalars\n",
      "  ret = ret.dtype.type(ret / rcount)\n",
      "c:\\users\\gorka\\github\\andi_datasets_dev\\andi_datasets\\analysis_methods.py:20: RuntimeWarning: Mean of empty slice.\n",
      "  below_mean = Sd < Sd.mean()\n",
      "C:\\Users\\Gorka\\anaconda3\\lib\\site-packages\\numpy\\core\\_methods.py:188: RuntimeWarning: invalid value encountered in double_scalars\n",
      "  ret = ret.dtype.type(ret / rcount)\n",
      "c:\\users\\gorka\\github\\andi_datasets_dev\\andi_datasets\\analysis_methods.py:20: RuntimeWarning: Mean of empty slice.\n",
      "  below_mean = Sd < Sd.mean()\n",
      "C:\\Users\\Gorka\\anaconda3\\lib\\site-packages\\numpy\\core\\_methods.py:188: RuntimeWarning: invalid value encountered in double_scalars\n",
      "  ret = ret.dtype.type(ret / rcount)\n",
      "c:\\users\\gorka\\github\\andi_datasets_dev\\andi_datasets\\analysis_methods.py:20: RuntimeWarning: Mean of empty slice.\n",
      "  below_mean = Sd < Sd.mean()\n",
      "C:\\Users\\Gorka\\anaconda3\\lib\\site-packages\\numpy\\core\\_methods.py:188: RuntimeWarning: invalid value encountered in double_scalars\n",
      "  ret = ret.dtype.type(ret / rcount)\n",
      "c:\\users\\gorka\\github\\andi_datasets_dev\\andi_datasets\\analysis_methods.py:20: RuntimeWarning: Mean of empty slice.\n",
      "  below_mean = Sd < Sd.mean()\n",
      "C:\\Users\\Gorka\\anaconda3\\lib\\site-packages\\numpy\\core\\_methods.py:188: RuntimeWarning: invalid value encountered in double_scalars\n",
      "  ret = ret.dtype.type(ret / rcount)\n",
      "c:\\users\\gorka\\github\\andi_datasets_dev\\andi_datasets\\analysis_methods.py:20: RuntimeWarning: Mean of empty slice.\n",
      "  below_mean = Sd < Sd.mean()\n",
      "C:\\Users\\Gorka\\anaconda3\\lib\\site-packages\\numpy\\core\\_methods.py:188: RuntimeWarning: invalid value encountered in double_scalars\n",
      "  ret = ret.dtype.type(ret / rcount)\n",
      "c:\\users\\gorka\\github\\andi_datasets_dev\\andi_datasets\\analysis_methods.py:20: RuntimeWarning: Mean of empty slice.\n",
      "  below_mean = Sd < Sd.mean()\n",
      "C:\\Users\\Gorka\\anaconda3\\lib\\site-packages\\numpy\\core\\_methods.py:188: RuntimeWarning: invalid value encountered in double_scalars\n",
      "  ret = ret.dtype.type(ret / rcount)\n",
      "c:\\users\\gorka\\github\\andi_datasets_dev\\andi_datasets\\analysis_methods.py:20: RuntimeWarning: Mean of empty slice.\n",
      "  below_mean = Sd < Sd.mean()\n",
      "C:\\Users\\Gorka\\anaconda3\\lib\\site-packages\\numpy\\core\\_methods.py:188: RuntimeWarning: invalid value encountered in double_scalars\n",
      "  ret = ret.dtype.type(ret / rcount)\n",
      "c:\\users\\gorka\\github\\andi_datasets_dev\\andi_datasets\\analysis_methods.py:20: RuntimeWarning: Mean of empty slice.\n",
      "  below_mean = Sd < Sd.mean()\n",
      "C:\\Users\\Gorka\\anaconda3\\lib\\site-packages\\numpy\\core\\_methods.py:188: RuntimeWarning: invalid value encountered in double_scalars\n",
      "  ret = ret.dtype.type(ret / rcount)\n",
      "c:\\users\\gorka\\github\\andi_datasets_dev\\andi_datasets\\analysis_methods.py:20: RuntimeWarning: Mean of empty slice.\n",
      "  below_mean = Sd < Sd.mean()\n",
      "C:\\Users\\Gorka\\anaconda3\\lib\\site-packages\\numpy\\core\\_methods.py:188: RuntimeWarning: invalid value encountered in double_scalars\n",
      "  ret = ret.dtype.type(ret / rcount)\n",
      "c:\\users\\gorka\\github\\andi_datasets_dev\\andi_datasets\\analysis_methods.py:20: RuntimeWarning: Mean of empty slice.\n",
      "  below_mean = Sd < Sd.mean()\n",
      "C:\\Users\\Gorka\\anaconda3\\lib\\site-packages\\numpy\\core\\_methods.py:188: RuntimeWarning: invalid value encountered in double_scalars\n",
      "  ret = ret.dtype.type(ret / rcount)\n",
      "c:\\users\\gorka\\github\\andi_datasets_dev\\andi_datasets\\analysis_methods.py:20: RuntimeWarning: Mean of empty slice.\n",
      "  below_mean = Sd < Sd.mean()\n",
      "C:\\Users\\Gorka\\anaconda3\\lib\\site-packages\\numpy\\core\\_methods.py:188: RuntimeWarning: invalid value encountered in double_scalars\n",
      "  ret = ret.dtype.type(ret / rcount)\n",
      "c:\\users\\gorka\\github\\andi_datasets_dev\\andi_datasets\\analysis_methods.py:20: RuntimeWarning: Mean of empty slice.\n",
      "  below_mean = Sd < Sd.mean()\n",
      "C:\\Users\\Gorka\\anaconda3\\lib\\site-packages\\numpy\\core\\_methods.py:188: RuntimeWarning: invalid value encountered in double_scalars\n",
      "  ret = ret.dtype.type(ret / rcount)\n",
      "c:\\users\\gorka\\github\\andi_datasets_dev\\andi_datasets\\analysis_methods.py:20: RuntimeWarning: Mean of empty slice.\n",
      "  below_mean = Sd < Sd.mean()\n",
      "C:\\Users\\Gorka\\anaconda3\\lib\\site-packages\\numpy\\core\\_methods.py:188: RuntimeWarning: invalid value encountered in double_scalars\n",
      "  ret = ret.dtype.type(ret / rcount)\n",
      "c:\\users\\gorka\\github\\andi_datasets_dev\\andi_datasets\\analysis_methods.py:20: RuntimeWarning: Mean of empty slice.\n",
      "  below_mean = Sd < Sd.mean()\n",
      "C:\\Users\\Gorka\\anaconda3\\lib\\site-packages\\numpy\\core\\_methods.py:188: RuntimeWarning: invalid value encountered in double_scalars\n",
      "  ret = ret.dtype.type(ret / rcount)\n",
      "c:\\users\\gorka\\github\\andi_datasets_dev\\andi_datasets\\analysis_methods.py:20: RuntimeWarning: Mean of empty slice.\n",
      "  below_mean = Sd < Sd.mean()\n",
      "C:\\Users\\Gorka\\anaconda3\\lib\\site-packages\\numpy\\core\\_methods.py:188: RuntimeWarning: invalid value encountered in double_scalars\n",
      "  ret = ret.dtype.type(ret / rcount)\n",
      "c:\\users\\gorka\\github\\andi_datasets_dev\\andi_datasets\\analysis_methods.py:20: RuntimeWarning: Mean of empty slice.\n",
      "  below_mean = Sd < Sd.mean()\n",
      "C:\\Users\\Gorka\\anaconda3\\lib\\site-packages\\numpy\\core\\_methods.py:188: RuntimeWarning: invalid value encountered in double_scalars\n",
      "  ret = ret.dtype.type(ret / rcount)\n",
      "c:\\users\\gorka\\github\\andi_datasets_dev\\andi_datasets\\analysis_methods.py:20: RuntimeWarning: Mean of empty slice.\n",
      "  below_mean = Sd < Sd.mean()\n",
      "C:\\Users\\Gorka\\anaconda3\\lib\\site-packages\\numpy\\core\\_methods.py:188: RuntimeWarning: invalid value encountered in double_scalars\n",
      "  ret = ret.dtype.type(ret / rcount)\n",
      "c:\\users\\gorka\\github\\andi_datasets_dev\\andi_datasets\\analysis_methods.py:20: RuntimeWarning: Mean of empty slice.\n",
      "  below_mean = Sd < Sd.mean()\n",
      "C:\\Users\\Gorka\\anaconda3\\lib\\site-packages\\numpy\\core\\_methods.py:188: RuntimeWarning: invalid value encountered in double_scalars\n",
      "  ret = ret.dtype.type(ret / rcount)\n",
      "c:\\users\\gorka\\github\\andi_datasets_dev\\andi_datasets\\analysis_methods.py:20: RuntimeWarning: Mean of empty slice.\n",
      "  below_mean = Sd < Sd.mean()\n",
      "C:\\Users\\Gorka\\anaconda3\\lib\\site-packages\\numpy\\core\\_methods.py:188: RuntimeWarning: invalid value encountered in double_scalars\n",
      "  ret = ret.dtype.type(ret / rcount)\n",
      "c:\\users\\gorka\\github\\andi_datasets_dev\\andi_datasets\\analysis_methods.py:20: RuntimeWarning: Mean of empty slice.\n",
      "  below_mean = Sd < Sd.mean()\n",
      "C:\\Users\\Gorka\\anaconda3\\lib\\site-packages\\numpy\\core\\_methods.py:188: RuntimeWarning: invalid value encountered in double_scalars\n",
      "  ret = ret.dtype.type(ret / rcount)\n",
      "c:\\users\\gorka\\github\\andi_datasets_dev\\andi_datasets\\analysis_methods.py:20: RuntimeWarning: Mean of empty slice.\n",
      "  below_mean = Sd < Sd.mean()\n",
      "C:\\Users\\Gorka\\anaconda3\\lib\\site-packages\\numpy\\core\\_methods.py:188: RuntimeWarning: invalid value encountered in double_scalars\n",
      "  ret = ret.dtype.type(ret / rcount)\n",
      "c:\\users\\gorka\\github\\andi_datasets_dev\\andi_datasets\\analysis_methods.py:20: RuntimeWarning: Mean of empty slice.\n",
      "  below_mean = Sd < Sd.mean()\n",
      "C:\\Users\\Gorka\\anaconda3\\lib\\site-packages\\numpy\\core\\_methods.py:188: RuntimeWarning: invalid value encountered in double_scalars\n",
      "  ret = ret.dtype.type(ret / rcount)\n",
      "c:\\users\\gorka\\github\\andi_datasets_dev\\andi_datasets\\analysis_methods.py:20: RuntimeWarning: Mean of empty slice.\n",
      "  below_mean = Sd < Sd.mean()\n",
      "C:\\Users\\Gorka\\anaconda3\\lib\\site-packages\\numpy\\core\\_methods.py:188: RuntimeWarning: invalid value encountered in double_scalars\n",
      "  ret = ret.dtype.type(ret / rcount)\n",
      "c:\\users\\gorka\\github\\andi_datasets_dev\\andi_datasets\\analysis_methods.py:20: RuntimeWarning: Mean of empty slice.\n",
      "  below_mean = Sd < Sd.mean()\n",
      "C:\\Users\\Gorka\\anaconda3\\lib\\site-packages\\numpy\\core\\_methods.py:188: RuntimeWarning: invalid value encountered in double_scalars\n",
      "  ret = ret.dtype.type(ret / rcount)\n",
      "c:\\users\\gorka\\github\\andi_datasets_dev\\andi_datasets\\analysis_methods.py:20: RuntimeWarning: Mean of empty slice.\n",
      "  below_mean = Sd < Sd.mean()\n",
      "C:\\Users\\Gorka\\anaconda3\\lib\\site-packages\\numpy\\core\\_methods.py:188: RuntimeWarning: invalid value encountered in double_scalars\n",
      "  ret = ret.dtype.type(ret / rcount)\n",
      "c:\\users\\gorka\\github\\andi_datasets_dev\\andi_datasets\\analysis_methods.py:20: RuntimeWarning: Mean of empty slice.\n",
      "  below_mean = Sd < Sd.mean()\n",
      "C:\\Users\\Gorka\\anaconda3\\lib\\site-packages\\numpy\\core\\_methods.py:188: RuntimeWarning: invalid value encountered in double_scalars\n",
      "  ret = ret.dtype.type(ret / rcount)\n",
      "c:\\users\\gorka\\github\\andi_datasets_dev\\andi_datasets\\analysis_methods.py:20: RuntimeWarning: Mean of empty slice.\n",
      "  below_mean = Sd < Sd.mean()\n",
      "C:\\Users\\Gorka\\anaconda3\\lib\\site-packages\\numpy\\core\\_methods.py:188: RuntimeWarning: invalid value encountered in double_scalars\n",
      "  ret = ret.dtype.type(ret / rcount)\n",
      "c:\\users\\gorka\\github\\andi_datasets_dev\\andi_datasets\\analysis_methods.py:20: RuntimeWarning: Mean of empty slice.\n",
      "  below_mean = Sd < Sd.mean()\n",
      "C:\\Users\\Gorka\\anaconda3\\lib\\site-packages\\numpy\\core\\_methods.py:188: RuntimeWarning: invalid value encountered in double_scalars\n",
      "  ret = ret.dtype.type(ret / rcount)\n",
      "c:\\users\\gorka\\github\\andi_datasets_dev\\andi_datasets\\analysis_methods.py:20: RuntimeWarning: Mean of empty slice.\n",
      "  below_mean = Sd < Sd.mean()\n",
      "C:\\Users\\Gorka\\anaconda3\\lib\\site-packages\\numpy\\core\\_methods.py:188: RuntimeWarning: invalid value encountered in double_scalars\n",
      "  ret = ret.dtype.type(ret / rcount)\n",
      "c:\\users\\gorka\\github\\andi_datasets_dev\\andi_datasets\\analysis_methods.py:20: RuntimeWarning: Mean of empty slice.\n",
      "  below_mean = Sd < Sd.mean()\n",
      "C:\\Users\\Gorka\\anaconda3\\lib\\site-packages\\numpy\\core\\_methods.py:188: RuntimeWarning: invalid value encountered in double_scalars\n",
      "  ret = ret.dtype.type(ret / rcount)\n",
      "c:\\users\\gorka\\github\\andi_datasets_dev\\andi_datasets\\analysis_methods.py:20: RuntimeWarning: Mean of empty slice.\n",
      "  below_mean = Sd < Sd.mean()\n",
      "C:\\Users\\Gorka\\anaconda3\\lib\\site-packages\\numpy\\core\\_methods.py:188: RuntimeWarning: invalid value encountered in double_scalars\n",
      "  ret = ret.dtype.type(ret / rcount)\n",
      "c:\\users\\gorka\\github\\andi_datasets_dev\\andi_datasets\\analysis_methods.py:20: RuntimeWarning: Mean of empty slice.\n",
      "  below_mean = Sd < Sd.mean()\n",
      "C:\\Users\\Gorka\\anaconda3\\lib\\site-packages\\numpy\\core\\_methods.py:188: RuntimeWarning: invalid value encountered in double_scalars\n",
      "  ret = ret.dtype.type(ret / rcount)\n"
     ]
    }
   ],
   "source": [
    "df = pd.read_csv('trues/condition_3.csv')\n",
    "indices = df['idx'].unique()\n",
    "\n",
    "CPs_CH3 = []\n",
    "for idx in tqdm(indices):\n",
    "    traj = np.vstack((df.loc[df['idx'] == idx]['x'].values,\n",
    "                      df.loc[df['idx'] == idx]['y'].values)).transpose()\n",
    "    \n",
    "    CPs_CH3.append(get_changepoints_convexhull([traj])[0].flatten())\n",
    "    "
   ]
  },
  {
   "cell_type": "code",
   "execution_count": 111,
   "id": "2e467c58-54ff-4948-9cc2-229138e388a7",
   "metadata": {},
   "outputs": [
    {
     "data": {
      "text/plain": [
       "(6.571732782966045, 0.4514356611130805)"
      ]
     },
     "execution_count": 111,
     "metadata": {},
     "output_type": "execute_result"
    }
   ],
   "source": [
    "ensemble_changepoint_error(df_true3['changepoints'], CPs_CH3, threshold = 10)"
   ]
  },
  {
   "cell_type": "markdown",
   "id": "40d0d4eb-c587-45c7-bf23-048954a832b2",
   "metadata": {
    "tags": []
   },
   "source": [
    "# Condition 4: Trapping\n",
    "\n",
    "- $\\alpha = 0.8$\n",
    "- $D =2*D$ (non-trapped diffusion)\n",
    "- Trap density $= 0.8$.\n",
    "- $P_b = 1$; $P_u=0.05$"
   ]
  },
  {
   "cell_type": "code",
   "execution_count": 90,
   "id": "1a0bfb8f-bf30-4820-9b01-6f93e7a7d4ef",
   "metadata": {},
   "outputs": [
    {
     "data": {
      "application/vnd.jupyter.widget-view+json": {
       "model_id": "81b94c885c1449cbbd5cb2f3bcab9e74",
       "version_major": 2,
       "version_minor": 0
      },
      "text/plain": [
       "  0%|          | 0/1080 [00:00<?, ?it/s]"
      ]
     },
     "metadata": {},
     "output_type": "display_data"
    }
   ],
   "source": [
    "trues_raw_df = pd.read_csv('trues/labels_condition_4.csv')\n",
    "df_true4 = df_to_txt(trues_raw_df)"
   ]
  },
  {
   "cell_type": "markdown",
   "id": "798b0c83-3c06-4447-93c0-a1e3c45a9785",
   "metadata": {
    "tags": []
   },
   "source": [
    "## Carlo"
   ]
  },
  {
   "cell_type": "code",
   "execution_count": 94,
   "id": "ac5cd20c-b864-43b4-9cce-33f693307076",
   "metadata": {},
   "outputs": [],
   "source": [
    "pred_path4 = '../testing/preds/0217_carlo_condition_4.txt'\n",
    "df_pred4 = load_file_to_df(pred_path4)"
   ]
  },
  {
   "cell_type": "code",
   "execution_count": 95,
   "id": "944cb3dd-6295-46ef-9a62-4d7a21e943fe",
   "metadata": {
    "tags": []
   },
   "outputs": [
    {
     "data": {
      "application/vnd.jupyter.widget-view+json": {
       "model_id": "70dade0422e94499a87e19c55df08a9d",
       "version_major": 2,
       "version_minor": 0
      },
      "text/plain": [
       "  0%|          | 0/1080 [00:00<?, ?it/s]"
      ]
     },
     "metadata": {},
     "output_type": "display_data"
    },
    {
     "name": "stdout",
     "output_type": "stream",
     "text": [
      "Summary of the experiment: \n",
      "\n",
      "Number of states: 2 \n",
      "Exponents: [0.  0.8] \n",
      "Diffusion Coeff.: [0.  0.2] \n",
      "\n",
      "Changepoint Metrics \n",
      "RMSE: 5.255 \n",
      "Jaccard Index: 0.524 \n",
      "\n",
      "Diffusion property metrics \n",
      "Error anomalous exponent: 0.38387262411347517 \n",
      "Error diffusion coefficient: 4.058455711672142 \n",
      "Error diffusive state: 0.00047281323877068556\n"
     ]
    }
   ],
   "source": [
    "rmse_CP, JI, error_alpha, error_D, error_s = error_ensemble_prediction(df_pred4, df_true4)\n"
   ]
  },
  {
   "cell_type": "code",
   "execution_count": 44,
   "id": "5d4daea7-9d94-4d9f-b009-d6065fd76518",
   "metadata": {},
   "outputs": [],
   "source": [
    "Ds = np.concatenate(df_pred4['Ds'].values)\n",
    "alphas = np.concatenate(df_pred4['alphas'].values)\n",
    "true_D = [0, 0.2]\n",
    "true_a = [0.8]"
   ]
  },
  {
   "cell_type": "code",
   "execution_count": 45,
   "id": "a6840570-8507-4935-9f51-a3893db7dfa6",
   "metadata": {},
   "outputs": [
    {
     "data": {
      "text/plain": [
       "<matplotlib.legend.Legend at 0x1cce7b00a00>"
      ]
     },
     "execution_count": 45,
     "metadata": {},
     "output_type": "execute_result"
    },
    {
     "data": {
      "image/png": "[encoded data removed]",
      "text/plain": [
       "<Figure size 432x288 with 1 Axes>"
      ]
     },
     "metadata": {
      "needs_background": "light"
     },
     "output_type": "display_data"
    }
   ],
   "source": [
    "plt.hist(Ds[Ds < 0.5], bins = 50)\n",
    "for idx, true in enumerate(true_D):\n",
    "    plt.axvline(true, label = f'D state {idx}', c = 'k')\n",
    "plt.legend()"
   ]
  },
  {
   "cell_type": "code",
   "execution_count": 46,
   "id": "eadf603d-2ec9-427f-a919-b8be63033363",
   "metadata": {},
   "outputs": [
    {
     "data": {
      "text/plain": [
       "<matplotlib.legend.Legend at 0x1cce7689d90>"
      ]
     },
     "execution_count": 46,
     "metadata": {},
     "output_type": "execute_result"
    },
    {
     "data": {
      "image/png": "[encoded data removed]",
      "text/plain": [
       "<Figure size 432x288 with 1 Axes>"
      ]
     },
     "metadata": {
      "needs_background": "light"
     },
     "output_type": "display_data"
    }
   ],
   "source": [
    "plt.hist(alphas, bins = 30)\n",
    "for idx, true in enumerate(true_a):\n",
    "    plt.axvline(true, label = fr'$\\alpha$ state {idx}', c = 'k')\n",
    "plt.legend()"
   ]
  },
  {
   "cell_type": "markdown",
   "id": "1db6fd90-f11c-4fd6-95ae-1b4810e4527c",
   "metadata": {
    "tags": []
   },
   "source": [
    "## HMM"
   ]
  },
  {
   "cell_type": "code",
   "execution_count": 97,
   "id": "94af896d-9fcb-4ac0-a5b2-12903500e91f",
   "metadata": {},
   "outputs": [],
   "source": [
    "df_hmm4 = pd.read_csv('preds/condition_4_StateHMM.csv', names = ['t', 'idx', 'state'])"
   ]
  },
  {
   "cell_type": "code",
   "execution_count": 98,
   "id": "69c1a1cb-971e-4c51-a13f-00a235113c65",
   "metadata": {},
   "outputs": [
    {
     "data": {
      "application/vnd.jupyter.widget-view+json": {
       "model_id": "a68daec022a94d9a8ece71c9f4551459",
       "version_major": 2,
       "version_minor": 0
      },
      "text/plain": [
       "  0%|          | 0/1080 [00:00<?, ?it/s]"
      ]
     },
     "metadata": {},
     "output_type": "display_data"
    }
   ],
   "source": [
    "CPs_hmm4 = []\n",
    "lens = []\n",
    "for idx in tqdm(df_hmm4['idx'].unique()):\n",
    "    pred = df_hmm4.loc[df_hmm4['idx'] == idx]['state'].values\n",
    "    CP = np.argwhere(pred[1:] != pred[:-1])+1\n",
    "    CPs_hmm4.append(CP.flatten())"
   ]
  },
  {
   "cell_type": "code",
   "execution_count": 101,
   "id": "e7e309dc-74c7-45e0-87ee-1722c25d4018",
   "metadata": {},
   "outputs": [
    {
     "data": {
      "text/plain": [
       "(2.1775824920680704, 0.7059724349157733)"
      ]
     },
     "execution_count": 101,
     "metadata": {},
     "output_type": "execute_result"
    }
   ],
   "source": [
    "ensemble_changepoint_error(df_true4['changepoints'].values, CPs_hmm4, threshold = 10)"
   ]
  },
  {
   "cell_type": "markdown",
   "id": "a7b2ca08-a3e6-4759-9d00-9a2d8c66b2a5",
   "metadata": {
    "tags": []
   },
   "source": [
    "## Convex hull"
   ]
  },
  {
   "cell_type": "code",
   "execution_count": 104,
   "id": "645224be-a67e-415b-a260-d7aa90f89092",
   "metadata": {
    "tags": []
   },
   "outputs": [
    {
     "data": {
      "application/vnd.jupyter.widget-view+json": {
       "model_id": "a624a67bf7ab4fcf9f132746732d0295",
       "version_major": 2,
       "version_minor": 0
      },
      "text/plain": [
       "  0%|          | 0/1080 [00:00<?, ?it/s]"
      ]
     },
     "metadata": {},
     "output_type": "display_data"
    },
    {
     "name": "stderr",
     "output_type": "stream",
     "text": [
      "c:\\users\\gorka\\github\\andi_datasets_dev\\andi_datasets\\analysis_methods.py:20: RuntimeWarning: Mean of empty slice.\n",
      "  below_mean = Sd < Sd.mean()\n",
      "C:\\Users\\Gorka\\anaconda3\\lib\\site-packages\\numpy\\core\\_methods.py:188: RuntimeWarning: invalid value encountered in double_scalars\n",
      "  ret = ret.dtype.type(ret / rcount)\n",
      "c:\\users\\gorka\\github\\andi_datasets_dev\\andi_datasets\\analysis_methods.py:20: RuntimeWarning: Mean of empty slice.\n",
      "  below_mean = Sd < Sd.mean()\n",
      "C:\\Users\\Gorka\\anaconda3\\lib\\site-packages\\numpy\\core\\_methods.py:188: RuntimeWarning: invalid value encountered in double_scalars\n",
      "  ret = ret.dtype.type(ret / rcount)\n",
      "c:\\users\\gorka\\github\\andi_datasets_dev\\andi_datasets\\analysis_methods.py:20: RuntimeWarning: Mean of empty slice.\n",
      "  below_mean = Sd < Sd.mean()\n",
      "C:\\Users\\Gorka\\anaconda3\\lib\\site-packages\\numpy\\core\\_methods.py:188: RuntimeWarning: invalid value encountered in double_scalars\n",
      "  ret = ret.dtype.type(ret / rcount)\n",
      "c:\\users\\gorka\\github\\andi_datasets_dev\\andi_datasets\\analysis_methods.py:20: RuntimeWarning: Mean of empty slice.\n",
      "  below_mean = Sd < Sd.mean()\n",
      "C:\\Users\\Gorka\\anaconda3\\lib\\site-packages\\numpy\\core\\_methods.py:188: RuntimeWarning: invalid value encountered in double_scalars\n",
      "  ret = ret.dtype.type(ret / rcount)\n",
      "c:\\users\\gorka\\github\\andi_datasets_dev\\andi_datasets\\analysis_methods.py:20: RuntimeWarning: Mean of empty slice.\n",
      "  below_mean = Sd < Sd.mean()\n",
      "C:\\Users\\Gorka\\anaconda3\\lib\\site-packages\\numpy\\core\\_methods.py:188: RuntimeWarning: invalid value encountered in double_scalars\n",
      "  ret = ret.dtype.type(ret / rcount)\n",
      "c:\\users\\gorka\\github\\andi_datasets_dev\\andi_datasets\\analysis_methods.py:20: RuntimeWarning: Mean of empty slice.\n",
      "  below_mean = Sd < Sd.mean()\n",
      "C:\\Users\\Gorka\\anaconda3\\lib\\site-packages\\numpy\\core\\_methods.py:188: RuntimeWarning: invalid value encountered in double_scalars\n",
      "  ret = ret.dtype.type(ret / rcount)\n",
      "c:\\users\\gorka\\github\\andi_datasets_dev\\andi_datasets\\analysis_methods.py:20: RuntimeWarning: Mean of empty slice.\n",
      "  below_mean = Sd < Sd.mean()\n",
      "C:\\Users\\Gorka\\anaconda3\\lib\\site-packages\\numpy\\core\\_methods.py:188: RuntimeWarning: invalid value encountered in double_scalars\n",
      "  ret = ret.dtype.type(ret / rcount)\n",
      "c:\\users\\gorka\\github\\andi_datasets_dev\\andi_datasets\\analysis_methods.py:20: RuntimeWarning: Mean of empty slice.\n",
      "  below_mean = Sd < Sd.mean()\n",
      "C:\\Users\\Gorka\\anaconda3\\lib\\site-packages\\numpy\\core\\_methods.py:188: RuntimeWarning: invalid value encountered in double_scalars\n",
      "  ret = ret.dtype.type(ret / rcount)\n",
      "c:\\users\\gorka\\github\\andi_datasets_dev\\andi_datasets\\analysis_methods.py:20: RuntimeWarning: Mean of empty slice.\n",
      "  below_mean = Sd < Sd.mean()\n",
      "C:\\Users\\Gorka\\anaconda3\\lib\\site-packages\\numpy\\core\\_methods.py:188: RuntimeWarning: invalid value encountered in double_scalars\n",
      "  ret = ret.dtype.type(ret / rcount)\n",
      "c:\\users\\gorka\\github\\andi_datasets_dev\\andi_datasets\\analysis_methods.py:20: RuntimeWarning: Mean of empty slice.\n",
      "  below_mean = Sd < Sd.mean()\n",
      "C:\\Users\\Gorka\\anaconda3\\lib\\site-packages\\numpy\\core\\_methods.py:188: RuntimeWarning: invalid value encountered in double_scalars\n",
      "  ret = ret.dtype.type(ret / rcount)\n",
      "c:\\users\\gorka\\github\\andi_datasets_dev\\andi_datasets\\analysis_methods.py:20: RuntimeWarning: Mean of empty slice.\n",
      "  below_mean = Sd < Sd.mean()\n",
      "C:\\Users\\Gorka\\anaconda3\\lib\\site-packages\\numpy\\core\\_methods.py:188: RuntimeWarning: invalid value encountered in double_scalars\n",
      "  ret = ret.dtype.type(ret / rcount)\n",
      "c:\\users\\gorka\\github\\andi_datasets_dev\\andi_datasets\\analysis_methods.py:20: RuntimeWarning: Mean of empty slice.\n",
      "  below_mean = Sd < Sd.mean()\n",
      "C:\\Users\\Gorka\\anaconda3\\lib\\site-packages\\numpy\\core\\_methods.py:188: RuntimeWarning: invalid value encountered in double_scalars\n",
      "  ret = ret.dtype.type(ret / rcount)\n",
      "c:\\users\\gorka\\github\\andi_datasets_dev\\andi_datasets\\analysis_methods.py:20: RuntimeWarning: Mean of empty slice.\n",
      "  below_mean = Sd < Sd.mean()\n",
      "C:\\Users\\Gorka\\anaconda3\\lib\\site-packages\\numpy\\core\\_methods.py:188: RuntimeWarning: invalid value encountered in double_scalars\n",
      "  ret = ret.dtype.type(ret / rcount)\n"
     ]
    }
   ],
   "source": [
    "df = pd.read_csv('trues/condition_4.csv')\n",
    "indices = df['idx'].unique()\n",
    "\n",
    "CPs_CH4 = []\n",
    "for idx in tqdm(indices):\n",
    "    traj = np.vstack((df.loc[df['idx'] == idx]['x'].values,\n",
    "                      df.loc[df['idx'] == idx]['y'].values)).transpose()\n",
    "    \n",
    "    CPs_CH4.append(get_changepoints_convexhull([traj])[0].flatten())\n",
    "    "
   ]
  },
  {
   "cell_type": "code",
   "execution_count": 108,
   "id": "a04957ac-f8dd-42fd-967d-fc58334d0e6f",
   "metadata": {},
   "outputs": [
    {
     "data": {
      "text/plain": [
       "(4.861907478541411, 0.3809897879025923)"
      ]
     },
     "execution_count": 108,
     "metadata": {},
     "output_type": "execute_result"
    }
   ],
   "source": [
    "ensemble_changepoint_error(df_true4['changepoints'], CPs_CH4, threshold = 10)"
   ]
  }
 ],
 "metadata": {
  "kernelspec": {
   "display_name": "Python 3",
   "language": "python",
   "name": "python3"
  },
  "language_info": {
   "codemirror_mode": {
    "name": "ipython",
    "version": 3
   },
   "file_extension": ".py",
   "mimetype": "text/x-python",
   "name": "python",
   "nbconvert_exporter": "python",
   "pygments_lexer": "ipython3",
   "version": "3.8.8"
  },
  "toc-autonumbering": true
 },
 "nbformat": 4,
 "nbformat_minor": 5
}
