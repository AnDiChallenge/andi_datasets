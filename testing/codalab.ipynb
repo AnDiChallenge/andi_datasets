{
 "cells": [
  {
   "cell_type": "markdown",
   "id": "9d3535e4-7976-4241-8c82-45afbb66a297",
   "metadata": {},
   "source": [
    "# Codalab scoring program\n",
    "\n",
    "## File organization\n",
    "\n",
    "Names: `Ti_ens_exp_XXX_fov_yyy.txt`  and  `Ti_st_exp_XXX_fov_yyy.txt`, where `i` refers to the track and can be 1 (video track) or 2 (trajectory track)\n"
   ]
  },
  {
   "cell_type": "code",
   "execution_count": 2,
   "id": "4349dda5-259a-4d0e-ae94-affd135f1deb",
   "metadata": {},
   "outputs": [],
   "source": [
    "#| export\n",
    "import pandas as pd\n",
    "import re\n",
    "import numpy as np\n",
    "from sklearn.metrics import f1_score\n",
    "import sys\n",
    "import os"
   ]
  },
  {
   "cell_type": "code",
   "execution_count": 3,
   "id": "1c88990b-17e8-4027-9e17-0541f05ebc81",
   "metadata": {},
   "outputs": [],
   "source": [
    "#| export\n",
    "def listdir_nohidden(path):\n",
    "    for f in os.listdir(path):\n",
    "        if not f.startswith(('.','_')):\n",
    "            yield f"
   ]
  },
  {
   "cell_type": "code",
   "execution_count": 4,
   "id": "e54771e7-2655-4d3d-a569-3cb8028772db",
   "metadata": {
    "tags": []
   },
   "outputs": [],
   "source": [
    "%load_ext autoreload\n",
    "%autoreload 2"
   ]
  },
  {
   "cell_type": "code",
   "execution_count": 5,
   "id": "8be5f4b1-1716-4a59-a7e7-4deec146df5b",
   "metadata": {},
   "outputs": [],
   "source": [
    "from andi_datasets.utils_challenge import error_Ensemble_dataset, _get_error_bounds, load_file_to_df, error_SingleTraj_dataset\n",
    "\n",
    "# Error bounds\n",
    "threshold_error_alpha, threshold_error_D, threshold_error_s, threshold_cp = _get_error_bounds()"
   ]
  },
  {
   "cell_type": "code",
   "execution_count": null,
   "id": "0efde936-2f7d-4e3e-a991-4b26117628e7",
   "metadata": {},
   "outputs": [],
   "source": []
  },
  {
   "cell_type": "code",
   "execution_count": 6,
   "id": "5a52b859-373e-4555-b59d-cb8e944e2fdf",
   "metadata": {},
   "outputs": [],
   "source": [
    "# Saving variables\n",
    "\n",
    "# Videos\n",
    "t1_ens = {'alpha': [],\n",
    "          'D': []}\n",
    "\n",
    "t1_st = {'RMSE': [],\n",
    "         'JI': [],\n",
    "         'alpha': [],\n",
    "         'D': [],\n",
    "         'state': []}\n",
    "\n",
    "# Trajectories\n",
    "t2_ens = {'alpha': [],\n",
    "          'D': []}\n",
    "\n",
    "t2_st = {'RMSE': [],\n",
    "         'JI': [],\n",
    "         'alpha': [],\n",
    "         'D': [],\n",
    "         'state': []}"
   ]
  },
  {
   "cell_type": "code",
   "execution_count": 7,
   "id": "77829eff-a356-46e3-9b62-a579fe6e2446",
   "metadata": {},
   "outputs": [],
   "source": [
    "#input_dir = sys.argv[1]\n",
    "#output_dir = sys.argv[2]\n",
    "\n",
    "input_dir = 'C:/Users/Gorka/github/ANDI_datasets/testing/codalab_data'\n",
    "output_dir = 'C:/Users/Gorka/github/ANDI_datasets/testing/codalab_data'\n",
    "\n",
    "\n",
    "submit_dir = os.path.join(input_dir, 'pred')\n",
    "truth_dir = os.path.join(input_dir, 'true')\n",
    "\n",
    "if not os.path.isdir(submit_dir):\n",
    "    print( \"%s doesn't exist\", truth_dir)"
   ]
  },
  {
   "cell_type": "code",
   "execution_count": 8,
   "id": "ae0ff306-6bd5-46fa-ab2f-14fdfe33a921",
   "metadata": {
    "tags": []
   },
   "outputs": [
    {
     "name": "stdout",
     "output_type": "stream",
     "text": [
      "Track 1, Task ens, Exp 0, FOV 0: OK!\n",
      "Track 1, Task ens, Exp 1, FOV 0: OK!\n",
      "Track 1, Task st, Exp 0, FOV 0: OK!\n",
      "Track 1, Task st, Exp 1, FOV 0: OK!\n",
      "Track 2, Task ens, Exp 0, FOV 0: OK!\n",
      "Track 2, Task ens, Exp 1, FOV 0: OK!\n",
      "Track 2, Task st, Exp 0, FOV 0: OK!\n",
      "Track 2, Task st, Exp 1, FOV 0: OK!\n"
     ]
    }
   ],
   "source": [
    "if os.path.isdir(submit_dir) and os.path.isdir(truth_dir):\n",
    "    if not os.path.exists(output_dir):\n",
    "        os.makedirs(output_dir)\n",
    "    \n",
    "    # Extracts all files in reference directory\n",
    "    true_files_list = sorted(list(listdir_nohidden(truth_dir)))#os.listdir(truth_dir)\n",
    "\n",
    "    \n",
    "    for filename in true_files_list:\n",
    "        track = int(filename[1])\n",
    "        task = re.search('_(.+?)_labs', filename).group(1)\n",
    "        exp = re.search('exp_(.+?)_', filename).group(1)\n",
    "        fov = re.search('fov_(.+?).', filename).group(1)\n",
    "                        \n",
    "        true_file = os.path.join(truth_dir, filename)\n",
    "        corresponding_submission_file = os.path.join(submit_dir, filename)\n",
    "        \n",
    "        if not os.path.isfile(corresponding_submission_file):\n",
    "            raise FileNotFoundError(f'Prediction file for: track {track}, task {task}, experiment {exp} and FOV {fov} not found.')\n",
    "        \n",
    "        # Ensemble\n",
    "        if task == 'ens':\n",
    "            \n",
    "            true = np.loadtxt(true_file, skiprows=1, delimiter = ';')\n",
    "            pred = np.loadtxt(corresponding_submission_file, skiprows=1, delimiter = ';')\n",
    "            \n",
    "            mae_alpha, mae_D, = error_Ensemble_dataset(true_data = true,\n",
    "                                                       pred_data = pred)\n",
    "            \n",
    "            if track == 1:\n",
    "                t1_ens['alpha'].append(mae_alpha)\n",
    "                t1_ens['D'].append(mae_D)\n",
    "            if track == 2:                \n",
    "                t2_ens['alpha'].append(mae_alpha)\n",
    "                t2_ens['D'].append(mae_D)\n",
    "                \n",
    "        # Single trajectory\n",
    "        if task == 'st':    \n",
    "            df_true = load_file_to_df(true_file)\n",
    "            df_pred = load_file_to_df(corresponding_submission_file)\n",
    "\n",
    "            rmse_CP, JI, error_alpha, error_D, error_s = error_SingleTraj_dataset(df_true = df_true, df_pred = df_pred, \n",
    "                                                                                  threshold_error_alpha = threshold_error_alpha,\n",
    "                                                                                  threshold_error_D = threshold_error_D, \n",
    "                                                                                  threshold_error_s = threshold_error_s,\n",
    "                                                                                  threshold_cp = threshold_cp,\n",
    "                                                                                  prints = False, disable_tqdm = True)\n",
    "            \n",
    "            if track == 1:\n",
    "                t1_st['RMSE'].append(rmse_CP)\n",
    "                t1_st['JI'].append(JI)\n",
    "                t1_st['alpha'].append(error_alpha)\n",
    "                t1_st['D'].append(error_D)\n",
    "                t1_st['state'].append(error_s)                \n",
    "            if track == 2:\n",
    "                t2_st['RMSE'].append(rmse_CP)\n",
    "                t2_st['JI'].append(JI)\n",
    "                t2_st['alpha'].append(error_alpha)\n",
    "                t2_st['D'].append(error_D)\n",
    "                t2_st['state'].append(error_s)\n",
    "                \n",
    "        print(f'Track {track}, Task {task}, Exp {exp}, FOV {fov}: OK!')"
   ]
  },
  {
   "cell_type": "code",
   "execution_count": 9,
   "id": "51b84d27-530e-4dae-bca6-7e4a641243a2",
   "metadata": {},
   "outputs": [
    {
     "data": {
      "text/plain": [
       "(65, 5)"
      ]
     },
     "execution_count": 9,
     "metadata": {},
     "output_type": "execute_result"
    }
   ],
   "source": [
    "df_true.shape"
   ]
  },
  {
   "cell_type": "code",
   "execution_count": 46,
   "id": "b77041f0-02d9-4f0e-8f88-20270af37414",
   "metadata": {},
   "outputs": [],
   "source": [
    "# Define output file\n",
    "output_filename = os.path.join(output_dir, 'scores.txt')\n",
    "output_file = open(output_filename, 'w')\n",
    "\n",
    "### Saving single trajectory data\n",
    "\n",
    "# we define a variable that gives the worst values for each metric\n",
    "worst_value_st = {'RMSE': threshold_cp,\n",
    "                  'JI': 0,\n",
    "                  'alpha': threshold_error_alpha,\n",
    "                  'D': threshold_error_D,\n",
    "                  'state': 0}\n",
    "\n",
    "\n",
    "for key in t1_st: \n",
    "    \n",
    "    if key in ['RMSE', 'alpha', 'D']:\n",
    "        save_t1 = np.nanmin([np.mean(t1_st[key]),\n",
    "                          worst_value_st[key]])\n",
    "        save_t2 = np.nanmin([np.mean(t2_st[key]),\n",
    "                          worst_value_st[key]])\n",
    "    elif key in ['JI', 'state']:\n",
    "        save_t1 = np.nanmax([np.mean(t1_st[key]),\n",
    "                          worst_value_st[key]])\n",
    "        save_t2 = np.nanmax([np.mean(t2_st[key]),\n",
    "                          worst_value_st[key]])\n",
    "        \n",
    "    \n",
    "    output_file.write('T1_st_'+ key +f' : {save_t1}\\n')    \n",
    "    output_file.write('T2_st_'+ key +f' : {save_t2}\\n')\n",
    "    \n",
    "### Saving ensemble data\n",
    "\n",
    "'''WHAT ARE THE THRESHOLDS FOR THIS?'''\n",
    "worst_value_ens = {'alpha': 100,\n",
    "                  'D': 100}\n",
    "\n",
    "for key in t1_ens:\n",
    "    save_t1 = np.nanmin([np.mean(t1_ens[key]),\n",
    "                          worst_value_ens[key]])\n",
    "    save_t2 = np.nanmin([np.mean(t2_ens[key]),\n",
    "                         worst_value_ens[key]])    \n",
    "    \n",
    "    \n",
    "    output_file.write('T1_ens_'+ key +f' : {save_t1}\\n')    \n",
    "    output_file.write('T2_ens_'+ key +f' : {save_t2}\\n')\n",
    "    \n",
    "output_file.close()"
   ]
  }
 ],
 "metadata": {
  "kernelspec": {
   "display_name": "Python 3 (ipykernel)",
   "language": "python",
   "name": "python3"
  },
  "language_info": {
   "codemirror_mode": {
    "name": "ipython",
    "version": 3
   },
   "file_extension": ".py",
   "mimetype": "text/x-python",
   "name": "python",
   "nbconvert_exporter": "python",
   "pygments_lexer": "ipython3",
   "version": "3.9.12"
  },
  "toc-autonumbering": false
 },
 "nbformat": 4,
 "nbformat_minor": 5
}
